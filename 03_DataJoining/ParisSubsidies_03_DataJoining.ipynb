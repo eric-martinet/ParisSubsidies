{
 "cells": [
  {
   "cell_type": "markdown",
   "metadata": {},
   "source": [
    "## PARIS SUBSIDIES: DATA JOINING"
   ]
  },
  {
   "cell_type": "markdown",
   "metadata": {},
   "source": [
    "### LIBRAIRIES IMPORT"
   ]
  },
  {
   "cell_type": "code",
   "execution_count": 1,
   "metadata": {},
   "outputs": [],
   "source": [
    "import pandas as pd\n",
    "import numpy as np"
   ]
  },
  {
   "cell_type": "markdown",
   "metadata": {},
   "source": [
    "### DATA IMPORT"
   ]
  },
  {
   "cell_type": "markdown",
   "metadata": {},
   "source": [
    "#### Subsidies"
   ]
  },
  {
   "cell_type": "code",
   "execution_count": 2,
   "metadata": {},
   "outputs": [
    {
     "name": "stdout",
     "output_type": "stream",
     "text": [
      "<class 'pandas.core.frame.DataFrame'>\n",
      "RangeIndex: 79968 entries, 0 to 79967\n",
      "Data columns (total 8 columns):\n",
      " #   Column                                           Non-Null Count  Dtype \n",
      "---  ------                                           --------------  ----- \n",
      " 0   Numéro de dossier                                79968 non-null  object\n",
      " 1   Année budgétaire                                 79968 non-null  object\n",
      " 2   Numéro Siret                                     79968 non-null  object\n",
      " 3   Objet du dossier                                 79968 non-null  object\n",
      " 4   Montant voté                                     79968 non-null  object\n",
      " 5   Direction                                        79968 non-null  object\n",
      " 6   Nature de la subvention                          79968 non-null  object\n",
      " 7   Secteurs d'activités définies par l'association  79968 non-null  object\n",
      "dtypes: object(8)\n",
      "memory usage: 4.9+ MB\n"
     ]
    }
   ],
   "source": [
    "subsidies = pd.read_feather('../00_DataFiles/02_Cleaned/ParisSubsidies_Records.feather')\n",
    "subsidies.info()"
   ]
  },
  {
   "cell_type": "code",
   "execution_count": 6,
   "metadata": {},
   "outputs": [
    {
     "data": {
      "text/plain": [
       "Numéro de dossier                                  0\n",
       "Année budgétaire                                   0\n",
       "Numéro Siret                                       0\n",
       "Objet du dossier                                   0\n",
       "Montant voté                                       0\n",
       "Direction                                          0\n",
       "Nature de la subvention                            0\n",
       "Secteurs d'activités définies par l'association    0\n",
       "dtype: int64"
      ]
     },
     "execution_count": 6,
     "metadata": {},
     "output_type": "execute_result"
    }
   ],
   "source": [
    "subsidies.isna().sum()"
   ]
  },
  {
   "cell_type": "code",
   "execution_count": 5,
   "metadata": {},
   "outputs": [],
   "source": [
    "# Only some datatypes to correct\n",
    "subsidies['Année budgétaire'] = subsidies['Année budgétaire'].astype(int)\n",
    "subsidies['Montant voté'] = subsidies['Montant voté'].astype(int)"
   ]
  },
  {
   "cell_type": "markdown",
   "metadata": {},
   "source": [
    "#### SIRENE"
   ]
  },
  {
   "cell_type": "code",
   "execution_count": 4,
   "metadata": {},
   "outputs": [
    {
     "name": "stdout",
     "output_type": "stream",
     "text": [
      "<class 'pandas.core.frame.DataFrame'>\n",
      "RangeIndex: 11108 entries, 0 to 11107\n",
      "Data columns (total 13 columns):\n",
      " #   Column                              Non-Null Count  Dtype         \n",
      "---  ------                              --------------  -----         \n",
      " 0   categorieentreprise                 11108 non-null  object        \n",
      " 1   geolocetablissement                 11108 non-null  object        \n",
      " 2   trancheeffectifsunitelegale         11108 non-null  category      \n",
      " 3   trancheeffectifsunitelegaletriable  11108 non-null  int64         \n",
      " 4   siretsiegeunitelegale               11108 non-null  object        \n",
      " 5   siret                               11108 non-null  object        \n",
      " 6   etablissementsiege                  11108 non-null  int64         \n",
      " 7   codepostaletablissement             11108 non-null  object        \n",
      " 8   caractereemployeurunitelegale       11108 non-null  int64         \n",
      " 9   datecreationunitelegale             11108 non-null  datetime64[ns]\n",
      " 10  datecreationetablissement           11108 non-null  datetime64[ns]\n",
      " 11  denominationunitelegale             11108 non-null  object        \n",
      " 12  adresseetablissementcomplete        11108 non-null  object        \n",
      "dtypes: category(1), datetime64[ns](2), int64(3), object(7)\n",
      "memory usage: 1.0+ MB\n"
     ]
    }
   ],
   "source": [
    "SIRENE = pd.read_feather('../00_DataFiles/02_Cleaned/ParisSubsidies_SIRENE.feather')\n",
    "SIRENE.info()"
   ]
  },
  {
   "cell_type": "code",
   "execution_count": 7,
   "metadata": {},
   "outputs": [
    {
     "data": {
      "text/plain": [
       "categorieentreprise                   0\n",
       "geolocetablissement                   0\n",
       "trancheeffectifsunitelegale           0\n",
       "trancheeffectifsunitelegaletriable    0\n",
       "siretsiegeunitelegale                 0\n",
       "siret                                 0\n",
       "etablissementsiege                    0\n",
       "codepostaletablissement               0\n",
       "caractereemployeurunitelegale         0\n",
       "datecreationunitelegale               0\n",
       "datecreationetablissement             0\n",
       "denominationunitelegale               0\n",
       "adresseetablissementcomplete          0\n",
       "dtype: int64"
      ]
     },
     "execution_count": 7,
     "metadata": {},
     "output_type": "execute_result"
    }
   ],
   "source": [
    "SIRENE.isna().sum()"
   ]
  },
  {
   "cell_type": "code",
   "execution_count": 29,
   "metadata": {},
   "outputs": [],
   "source": [
    "# We just need to transform categoryentreprise into an ordered category\n",
    "SIRENE.categorieentreprise = pd.Categorical(SIRENE.categorieentreprise, ['Non productif', 'PME', 'ETI', 'GE'], ordered = True)"
   ]
  },
  {
   "cell_type": "markdown",
   "metadata": {},
   "source": [
    "### JOINING"
   ]
  },
  {
   "cell_type": "code",
   "execution_count": 30,
   "metadata": {},
   "outputs": [
    {
     "name": "stdout",
     "output_type": "stream",
     "text": [
      "<class 'pandas.core.frame.DataFrame'>\n",
      "RangeIndex: 79968 entries, 0 to 79967\n",
      "Data columns (total 20 columns):\n",
      " #   Column                                           Non-Null Count  Dtype         \n",
      "---  ------                                           --------------  -----         \n",
      " 0   Numéro de dossier                                79968 non-null  object        \n",
      " 1   Année budgétaire                                 79968 non-null  int64         \n",
      " 2   Numéro Siret                                     79968 non-null  object        \n",
      " 3   Objet du dossier                                 79968 non-null  object        \n",
      " 4   Montant voté                                     79968 non-null  int64         \n",
      " 5   Direction                                        79968 non-null  object        \n",
      " 6   Nature de la subvention                          79968 non-null  object        \n",
      " 7   Secteurs d'activités définies par l'association  79968 non-null  object        \n",
      " 8   categorieentreprise                              79961 non-null  category      \n",
      " 9   geolocetablissement                              79961 non-null  object        \n",
      " 10  trancheeffectifsunitelegale                      79961 non-null  category      \n",
      " 11  trancheeffectifsunitelegaletriable               79961 non-null  float64       \n",
      " 12  siretsiegeunitelegale                            79961 non-null  object        \n",
      " 13  etablissementsiege                               79961 non-null  float64       \n",
      " 14  codepostaletablissement                          79961 non-null  object        \n",
      " 15  caractereemployeurunitelegale                    79961 non-null  float64       \n",
      " 16  datecreationunitelegale                          79961 non-null  datetime64[ns]\n",
      " 17  datecreationetablissement                        79961 non-null  datetime64[ns]\n",
      " 18  denominationunitelegale                          79961 non-null  object        \n",
      " 19  adresseetablissementcomplete                     79961 non-null  object        \n",
      "dtypes: category(2), datetime64[ns](2), float64(3), int64(2), object(11)\n",
      "memory usage: 11.1+ MB\n"
     ]
    }
   ],
   "source": [
    "joined = subsidies.join(SIRENE.set_index('siret'), on='Numéro Siret', how = 'left')\n",
    "joined.info()"
   ]
  },
  {
   "cell_type": "code",
   "execution_count": 11,
   "metadata": {},
   "outputs": [
    {
     "data": {
      "text/plain": [
       "Numéro de dossier                                  0\n",
       "Année budgétaire                                   0\n",
       "Numéro Siret                                       0\n",
       "Objet du dossier                                   0\n",
       "Montant voté                                       0\n",
       "Direction                                          0\n",
       "Nature de la subvention                            0\n",
       "Secteurs d'activités définies par l'association    0\n",
       "categorieentreprise                                7\n",
       "geolocetablissement                                7\n",
       "trancheeffectifsunitelegale                        7\n",
       "trancheeffectifsunitelegaletriable                 7\n",
       "siretsiegeunitelegale                              7\n",
       "etablissementsiege                                 7\n",
       "codepostaletablissement                            7\n",
       "caractereemployeurunitelegale                      7\n",
       "datecreationunitelegale                            7\n",
       "datecreationetablissement                          7\n",
       "denominationunitelegale                            7\n",
       "adresseetablissementcomplete                       7\n",
       "dtype: int64"
      ]
     },
     "execution_count": 11,
     "metadata": {},
     "output_type": "execute_result"
    }
   ],
   "source": [
    "joined.isna().sum()"
   ]
  },
  {
   "cell_type": "code",
   "execution_count": 13,
   "metadata": {},
   "outputs": [
    {
     "data": {
      "text/html": [
       "<div>\n",
       "<style scoped>\n",
       "    .dataframe tbody tr th:only-of-type {\n",
       "        vertical-align: middle;\n",
       "    }\n",
       "\n",
       "    .dataframe tbody tr th {\n",
       "        vertical-align: top;\n",
       "    }\n",
       "\n",
       "    .dataframe thead th {\n",
       "        text-align: right;\n",
       "    }\n",
       "</style>\n",
       "<table border=\"1\" class=\"dataframe\">\n",
       "  <thead>\n",
       "    <tr style=\"text-align: right;\">\n",
       "      <th></th>\n",
       "      <th>Numéro de dossier</th>\n",
       "      <th>Année budgétaire</th>\n",
       "      <th>Numéro Siret</th>\n",
       "      <th>Objet du dossier</th>\n",
       "      <th>Montant voté</th>\n",
       "      <th>Direction</th>\n",
       "      <th>Nature de la subvention</th>\n",
       "      <th>Secteurs d'activités définies par l'association</th>\n",
       "      <th>categorieentreprise</th>\n",
       "      <th>geolocetablissement</th>\n",
       "      <th>trancheeffectifsunitelegale</th>\n",
       "      <th>trancheeffectifsunitelegaletriable</th>\n",
       "      <th>siretsiegeunitelegale</th>\n",
       "      <th>etablissementsiege</th>\n",
       "      <th>codepostaletablissement</th>\n",
       "      <th>caractereemployeurunitelegale</th>\n",
       "      <th>datecreationunitelegale</th>\n",
       "      <th>datecreationetablissement</th>\n",
       "      <th>denominationunitelegale</th>\n",
       "      <th>adresseetablissementcomplete</th>\n",
       "    </tr>\n",
       "  </thead>\n",
       "  <tbody>\n",
       "    <tr>\n",
       "      <th>41308</th>\n",
       "      <td>2019_07630</td>\n",
       "      <td>2019</td>\n",
       "      <td>78426221400017</td>\n",
       "      <td>soutenir la jeune création artistique contempo...</td>\n",
       "      <td>2000</td>\n",
       "      <td>DAC</td>\n",
       "      <td>Projet</td>\n",
       "      <td>[Culture &amp; Arts]</td>\n",
       "      <td>NaN</td>\n",
       "      <td>NaN</td>\n",
       "      <td>NaN</td>\n",
       "      <td>NaN</td>\n",
       "      <td>NaN</td>\n",
       "      <td>NaN</td>\n",
       "      <td>NaN</td>\n",
       "      <td>NaN</td>\n",
       "      <td>NaT</td>\n",
       "      <td>NaT</td>\n",
       "      <td>NaN</td>\n",
       "      <td>NaN</td>\n",
       "    </tr>\n",
       "    <tr>\n",
       "      <th>42392</th>\n",
       "      <td>2019_07196</td>\n",
       "      <td>2019</td>\n",
       "      <td>51348142400036</td>\n",
       "      <td>Volontaires intervenant auprès de victimes d'a...</td>\n",
       "      <td>0</td>\n",
       "      <td>DASES</td>\n",
       "      <td>Non précisée</td>\n",
       "      <td>[Défense des droits et des intérêts, Mémoire]</td>\n",
       "      <td>NaN</td>\n",
       "      <td>NaN</td>\n",
       "      <td>NaN</td>\n",
       "      <td>NaN</td>\n",
       "      <td>NaN</td>\n",
       "      <td>NaN</td>\n",
       "      <td>NaN</td>\n",
       "      <td>NaN</td>\n",
       "      <td>NaT</td>\n",
       "      <td>NaT</td>\n",
       "      <td>NaN</td>\n",
       "      <td>NaN</td>\n",
       "    </tr>\n",
       "    <tr>\n",
       "      <th>57130</th>\n",
       "      <td>2019_05369</td>\n",
       "      <td>2019</td>\n",
       "      <td>51348142400036</td>\n",
       "      <td>Volontaires intervenant auprès de Victimes d'A...</td>\n",
       "      <td>10000</td>\n",
       "      <td>DPSP</td>\n",
       "      <td>Projet</td>\n",
       "      <td>[Défense des droits et des intérêts, Mémoire]</td>\n",
       "      <td>NaN</td>\n",
       "      <td>NaN</td>\n",
       "      <td>NaN</td>\n",
       "      <td>NaN</td>\n",
       "      <td>NaN</td>\n",
       "      <td>NaN</td>\n",
       "      <td>NaN</td>\n",
       "      <td>NaN</td>\n",
       "      <td>NaT</td>\n",
       "      <td>NaT</td>\n",
       "      <td>NaN</td>\n",
       "      <td>NaN</td>\n",
       "    </tr>\n",
       "    <tr>\n",
       "      <th>65774</th>\n",
       "      <td>2020_02265</td>\n",
       "      <td>2020</td>\n",
       "      <td>51348142400036</td>\n",
       "      <td>Volontaires intervenant auprès de victimes d'a...</td>\n",
       "      <td>10000</td>\n",
       "      <td>DPSP</td>\n",
       "      <td>Projet</td>\n",
       "      <td>[Défense des droits et des intérêts, Mémoire]</td>\n",
       "      <td>NaN</td>\n",
       "      <td>NaN</td>\n",
       "      <td>NaN</td>\n",
       "      <td>NaN</td>\n",
       "      <td>NaN</td>\n",
       "      <td>NaN</td>\n",
       "      <td>NaN</td>\n",
       "      <td>NaN</td>\n",
       "      <td>NaT</td>\n",
       "      <td>NaT</td>\n",
       "      <td>NaN</td>\n",
       "      <td>NaN</td>\n",
       "    </tr>\n",
       "    <tr>\n",
       "      <th>66014</th>\n",
       "      <td>2020_07211</td>\n",
       "      <td>2020</td>\n",
       "      <td>78426221400017</td>\n",
       "      <td>Soutenir la jeune création artistique contempo...</td>\n",
       "      <td>1500</td>\n",
       "      <td>DAC</td>\n",
       "      <td>Projet</td>\n",
       "      <td>[Culture &amp; Arts]</td>\n",
       "      <td>NaN</td>\n",
       "      <td>NaN</td>\n",
       "      <td>NaN</td>\n",
       "      <td>NaN</td>\n",
       "      <td>NaN</td>\n",
       "      <td>NaN</td>\n",
       "      <td>NaN</td>\n",
       "      <td>NaN</td>\n",
       "      <td>NaT</td>\n",
       "      <td>NaT</td>\n",
       "      <td>NaN</td>\n",
       "      <td>NaN</td>\n",
       "    </tr>\n",
       "    <tr>\n",
       "      <th>73185</th>\n",
       "      <td>2021_09363</td>\n",
       "      <td>2021</td>\n",
       "      <td>78426221400017</td>\n",
       "      <td>aide à la création et aux jeunes artistes</td>\n",
       "      <td>0</td>\n",
       "      <td>DAC</td>\n",
       "      <td>Non précisée</td>\n",
       "      <td>[Culture &amp; Arts]</td>\n",
       "      <td>NaN</td>\n",
       "      <td>NaN</td>\n",
       "      <td>NaN</td>\n",
       "      <td>NaN</td>\n",
       "      <td>NaN</td>\n",
       "      <td>NaN</td>\n",
       "      <td>NaN</td>\n",
       "      <td>NaN</td>\n",
       "      <td>NaT</td>\n",
       "      <td>NaT</td>\n",
       "      <td>NaN</td>\n",
       "      <td>NaN</td>\n",
       "    </tr>\n",
       "    <tr>\n",
       "      <th>74471</th>\n",
       "      <td>2021_06477</td>\n",
       "      <td>2021</td>\n",
       "      <td>12345677911345</td>\n",
       "      <td>Test-MS-22/12/20</td>\n",
       "      <td>0</td>\n",
       "      <td>DDCT</td>\n",
       "      <td>Non précisée</td>\n",
       "      <td>[Communication &amp; média, Social, Sport]</td>\n",
       "      <td>NaN</td>\n",
       "      <td>NaN</td>\n",
       "      <td>NaN</td>\n",
       "      <td>NaN</td>\n",
       "      <td>NaN</td>\n",
       "      <td>NaN</td>\n",
       "      <td>NaN</td>\n",
       "      <td>NaN</td>\n",
       "      <td>NaT</td>\n",
       "      <td>NaT</td>\n",
       "      <td>NaN</td>\n",
       "      <td>NaN</td>\n",
       "    </tr>\n",
       "  </tbody>\n",
       "</table>\n",
       "</div>"
      ],
      "text/plain": [
       "      Numéro de dossier  Année budgétaire    Numéro Siret  \\\n",
       "41308        2019_07630              2019  78426221400017   \n",
       "42392        2019_07196              2019  51348142400036   \n",
       "57130        2019_05369              2019  51348142400036   \n",
       "65774        2020_02265              2020  51348142400036   \n",
       "66014        2020_07211              2020  78426221400017   \n",
       "73185        2021_09363              2021  78426221400017   \n",
       "74471        2021_06477              2021  12345677911345   \n",
       "\n",
       "                                        Objet du dossier  Montant voté  \\\n",
       "41308  soutenir la jeune création artistique contempo...          2000   \n",
       "42392  Volontaires intervenant auprès de victimes d'a...             0   \n",
       "57130  Volontaires intervenant auprès de Victimes d'A...         10000   \n",
       "65774  Volontaires intervenant auprès de victimes d'a...         10000   \n",
       "66014  Soutenir la jeune création artistique contempo...          1500   \n",
       "73185          aide à la création et aux jeunes artistes             0   \n",
       "74471                                   Test-MS-22/12/20             0   \n",
       "\n",
       "      Direction Nature de la subvention  \\\n",
       "41308       DAC                  Projet   \n",
       "42392     DASES            Non précisée   \n",
       "57130      DPSP                  Projet   \n",
       "65774      DPSP                  Projet   \n",
       "66014       DAC                  Projet   \n",
       "73185       DAC            Non précisée   \n",
       "74471      DDCT            Non précisée   \n",
       "\n",
       "      Secteurs d'activités définies par l'association categorieentreprise  \\\n",
       "41308                                [Culture & Arts]                 NaN   \n",
       "42392   [Défense des droits et des intérêts, Mémoire]                 NaN   \n",
       "57130   [Défense des droits et des intérêts, Mémoire]                 NaN   \n",
       "65774   [Défense des droits et des intérêts, Mémoire]                 NaN   \n",
       "66014                                [Culture & Arts]                 NaN   \n",
       "73185                                [Culture & Arts]                 NaN   \n",
       "74471          [Communication & média, Social, Sport]                 NaN   \n",
       "\n",
       "      geolocetablissement trancheeffectifsunitelegale  \\\n",
       "41308                 NaN                         NaN   \n",
       "42392                 NaN                         NaN   \n",
       "57130                 NaN                         NaN   \n",
       "65774                 NaN                         NaN   \n",
       "66014                 NaN                         NaN   \n",
       "73185                 NaN                         NaN   \n",
       "74471                 NaN                         NaN   \n",
       "\n",
       "       trancheeffectifsunitelegaletriable siretsiegeunitelegale  \\\n",
       "41308                                 NaN                   NaN   \n",
       "42392                                 NaN                   NaN   \n",
       "57130                                 NaN                   NaN   \n",
       "65774                                 NaN                   NaN   \n",
       "66014                                 NaN                   NaN   \n",
       "73185                                 NaN                   NaN   \n",
       "74471                                 NaN                   NaN   \n",
       "\n",
       "       etablissementsiege codepostaletablissement  \\\n",
       "41308                 NaN                     NaN   \n",
       "42392                 NaN                     NaN   \n",
       "57130                 NaN                     NaN   \n",
       "65774                 NaN                     NaN   \n",
       "66014                 NaN                     NaN   \n",
       "73185                 NaN                     NaN   \n",
       "74471                 NaN                     NaN   \n",
       "\n",
       "       caractereemployeurunitelegale datecreationunitelegale  \\\n",
       "41308                            NaN                     NaT   \n",
       "42392                            NaN                     NaT   \n",
       "57130                            NaN                     NaT   \n",
       "65774                            NaN                     NaT   \n",
       "66014                            NaN                     NaT   \n",
       "73185                            NaN                     NaT   \n",
       "74471                            NaN                     NaT   \n",
       "\n",
       "      datecreationetablissement denominationunitelegale  \\\n",
       "41308                       NaT                     NaN   \n",
       "42392                       NaT                     NaN   \n",
       "57130                       NaT                     NaN   \n",
       "65774                       NaT                     NaN   \n",
       "66014                       NaT                     NaN   \n",
       "73185                       NaT                     NaN   \n",
       "74471                       NaT                     NaN   \n",
       "\n",
       "      adresseetablissementcomplete  \n",
       "41308                          NaN  \n",
       "42392                          NaN  \n",
       "57130                          NaN  \n",
       "65774                          NaN  \n",
       "66014                          NaN  \n",
       "73185                          NaN  \n",
       "74471                          NaN  "
      ]
     },
     "execution_count": 13,
     "metadata": {},
     "output_type": "execute_result"
    }
   ],
   "source": [
    "joined.loc[joined['categorieentreprise'].isna()]"
   ]
  },
  {
   "cell_type": "code",
   "execution_count": 14,
   "metadata": {},
   "outputs": [],
   "source": [
    "# Above lines are either tests or 'non diffusible', we can drop them.\n",
    "df_drops = joined.loc[joined['categorieentreprise'].isna()]\n",
    "df_drops.to_csv('../00_DataFiles/99_Dropped/ParisSubsidies_NoJoining.csv', index = False)\n",
    "joined.dropna(inplace = True)"
   ]
  },
  {
   "cell_type": "code",
   "execution_count": 21,
   "metadata": {},
   "outputs": [
    {
     "name": "stdout",
     "output_type": "stream",
     "text": [
      "<class 'pandas.core.frame.DataFrame'>\n",
      "Int64Index: 79961 entries, 0 to 79967\n",
      "Data columns (total 20 columns):\n",
      " #   Column                                           Non-Null Count  Dtype         \n",
      "---  ------                                           --------------  -----         \n",
      " 0   Numéro de dossier                                79961 non-null  object        \n",
      " 1   Année budgétaire                                 79961 non-null  int64         \n",
      " 2   Numéro Siret                                     79961 non-null  object        \n",
      " 3   Objet du dossier                                 79961 non-null  object        \n",
      " 4   Montant voté                                     79961 non-null  int64         \n",
      " 5   Direction                                        79961 non-null  object        \n",
      " 6   Nature de la subvention                          79961 non-null  object        \n",
      " 7   Secteurs d'activités définies par l'association  79961 non-null  object        \n",
      " 8   categorieentreprise                              79961 non-null  object        \n",
      " 9   geolocetablissement                              79961 non-null  object        \n",
      " 10  trancheeffectifsunitelegale                      79961 non-null  category      \n",
      " 11  trancheeffectifsunitelegaletriable               79961 non-null  float64       \n",
      " 12  siretsiegeunitelegale                            79961 non-null  object        \n",
      " 13  etablissementsiege                               79961 non-null  float64       \n",
      " 14  codepostaletablissement                          79961 non-null  object        \n",
      " 15  caractereemployeurunitelegale                    79961 non-null  float64       \n",
      " 16  datecreationunitelegale                          79961 non-null  datetime64[ns]\n",
      " 17  datecreationetablissement                        79961 non-null  datetime64[ns]\n",
      " 18  denominationunitelegale                          79961 non-null  object        \n",
      " 19  adresseetablissementcomplete                     79961 non-null  object        \n",
      "dtypes: category(1), datetime64[ns](2), float64(3), int64(2), object(12)\n",
      "memory usage: 12.3+ MB\n"
     ]
    }
   ],
   "source": [
    "joined.info()"
   ]
  },
  {
   "cell_type": "markdown",
   "metadata": {},
   "source": [
    "### SAVE"
   ]
  },
  {
   "cell_type": "markdown",
   "metadata": {},
   "source": [
    "#### CSV"
   ]
  },
  {
   "cell_type": "code",
   "execution_count": 17,
   "metadata": {},
   "outputs": [],
   "source": [
    "joined.to_csv('../00_DataFiles/03_Joined/ParisSubsidies_Joined.csv', index = False)"
   ]
  },
  {
   "cell_type": "markdown",
   "metadata": {},
   "source": [
    "#### Feather"
   ]
  },
  {
   "cell_type": "code",
   "execution_count": 23,
   "metadata": {},
   "outputs": [],
   "source": [
    "joined.reset_index(drop=True).to_feather('../00_DataFiles/03_Joined/ParisSubsidies_Joined.feather')"
   ]
  },
  {
   "cell_type": "code",
   "execution_count": 28,
   "metadata": {},
   "outputs": [
    {
     "data": {
      "text/plain": [
       "array(['PME', 'ETI', 'Non productif', 'GE'], dtype=object)"
      ]
     },
     "execution_count": 28,
     "metadata": {},
     "output_type": "execute_result"
    }
   ],
   "source": [
    "joined['categorieentreprise'].unique()"
   ]
  }
 ],
 "metadata": {
  "interpreter": {
   "hash": "dc737b1819b76fdff7557c542e578ba008e1e7cda02d9255e3e88f280b2d535f"
  },
  "kernelspec": {
   "display_name": "Python 3.9.10 ('base')",
   "language": "python",
   "name": "python3"
  },
  "language_info": {
   "codemirror_mode": {
    "name": "ipython",
    "version": 3
   },
   "file_extension": ".py",
   "mimetype": "text/x-python",
   "name": "python",
   "nbconvert_exporter": "python",
   "pygments_lexer": "ipython3",
   "version": "3.9.10"
  },
  "orig_nbformat": 4
 },
 "nbformat": 4,
 "nbformat_minor": 2
}
