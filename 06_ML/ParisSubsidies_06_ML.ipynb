{
 "cells": [
  {
   "cell_type": "markdown",
   "metadata": {},
   "source": [
    "## PARIS SUBSIDIES: MACHINE LEARNING"
   ]
  },
  {
   "cell_type": "markdown",
   "metadata": {},
   "source": [
    "### LIBRAIRIES"
   ]
  },
  {
   "cell_type": "code",
   "execution_count": 142,
   "metadata": {},
   "outputs": [],
   "source": [
    "# General data processing\n",
    "import pandas as pd\n",
    "import numpy as np\n",
    "\n",
    "# Visualisation\n",
    "import matplotlib.pyplot as plt\n",
    "%matplotlib inline\n",
    "import seaborn as sns\n",
    "from dtreeviz.trees import dtreeviz\n",
    "\n",
    "# ML\n",
    "# Encoding\n",
    "from sklearn.preprocessing import MultiLabelBinarizer\n",
    "# Selection\n",
    "from sklearn.model_selection import train_test_split\n",
    "# Models\n",
    "from sklearn.tree import DecisionTreeClassifier\n",
    "from sklearn.svm import SVC\n",
    "from sklearn.linear_model import LogisticRegression\n",
    "from sklearn.neighbors import KNeighborsClassifier\n",
    "# Metrics & inspection\n",
    "from sklearn.metrics import confusion_matrix, accuracy_score, f1_score, recall_score, precision_score, ConfusionMatrixDisplay\n",
    "from sklearn.inspection import permutation_importance\n",
    "# Hyperparameter tuning\n",
    "from sklearn.model_selection import GridSearchCV\n",
    "# Imbalance\n",
    "from imblearn.over_sampling import SMOTE\n",
    "\n",
    "# String processing\n",
    "from re import sub\n",
    "from unidecode import unidecode\n",
    "import string\n",
    "\n",
    "# NLP\n",
    "import spacy"
   ]
  },
  {
   "cell_type": "markdown",
   "metadata": {},
   "source": [
    "### CUSTOM FUNCTIONS"
   ]
  },
  {
   "cell_type": "code",
   "execution_count": 2,
   "metadata": {},
   "outputs": [],
   "source": [
    "def snake_case(s):\n",
    "    # Convert a string to snake case\n",
    "    # Adapted from https://www.w3resource.com/python-exercises/string/python-data-type-string-exercise-97.php\n",
    "    return unidecode('_'.join(\n",
    "        sub('([A-Z][a-z]+)', r' \\1',\n",
    "        sub('([A-Z]+)', r' \\1',\n",
    "        s.replace('-', ' ').replace('&', 'et'))).split()).lower())"
   ]
  },
  {
   "cell_type": "code",
   "execution_count": 3,
   "metadata": {},
   "outputs": [],
   "source": [
    "def confusion_matrix_metrics(y_true, y_pred, pos_label):\n",
    "    # Returns main metrics from binary confusion matrix\n",
    "    accuracy = accuracy_score(y_true, y_pred)\n",
    "    f1 = f1_score(y_true, y_pred, pos_label = pos_label)\n",
    "    recall = recall_score(y_true, y_pred, pos_label = pos_label)\n",
    "    precision = precision_score(y_true, y_pred, pos_label = pos_label)\n",
    "    return accuracy, f1, recall, precision "
   ]
  },
  {
   "cell_type": "code",
   "execution_count": 4,
   "metadata": {},
   "outputs": [],
   "source": [
    "def show_metrics(X_train, y_train, X_test, y_test, pos_label, model):\n",
    "    dct_scoring = dict()\n",
    "    y_train_pred = model.predict(X_train)\n",
    "    y_test_pred = model.predict(X_test)\n",
    "    dct_scoring['train'] = confusion_matrix_metrics(y_train, y_train_pred, pos_label)\n",
    "    dct_scoring['test'] = confusion_matrix_metrics(y_test, y_test_pred, pos_label)\n",
    "    return pd.DataFrame.from_dict(dct_scoring, orient = 'index', columns = ['accuracy', 'f1', 'recall', 'precision'])\n"
   ]
  },
  {
   "cell_type": "code",
   "execution_count": 5,
   "metadata": {},
   "outputs": [],
   "source": [
    "def clean_text(text ): \n",
    "    delete_dict = {sp_character: '' for sp_character in string.punctuation} \n",
    "    delete_dict[' '] = ' ' \n",
    "    table = str.maketrans(delete_dict)\n",
    "    text1 = text.translate(table)\n",
    "    textArr= text1.split()\n",
    "    text2 = ' '.join([w for w in textArr if ( not w.isdigit() and  ( not w.isdigit() and len(w)>3))]) \n",
    "    text2 = unidecode(text2)\n",
    "    \n",
    "    return text2.lower()"
   ]
  },
  {
   "cell_type": "markdown",
   "metadata": {},
   "source": [
    "### DATA IMPORT"
   ]
  },
  {
   "cell_type": "code",
   "execution_count": 6,
   "metadata": {},
   "outputs": [],
   "source": [
    "data = pd.read_feather('../00_DataFiles/05_NLPScoring/ParisSubsidies_NLPScoring.feather')"
   ]
  },
  {
   "cell_type": "code",
   "execution_count": 7,
   "metadata": {},
   "outputs": [
    {
     "data": {
      "text/plain": [
       "Index(['numero_dossier', 'annee_budgetaire', 'siret', 'objet_dossier',\n",
       "       'montant_vote', 'direction', 'nature_subvention', 'secteurs_activites',\n",
       "       'categorie_entreprise', 'tranche_effectifs_unite_legale',\n",
       "       'tranche_effectifs_unite_legale_triable', 'siret_siege_unite_legale',\n",
       "       'etablissement_siege', 'code_postal_etablissement',\n",
       "       'caractere_employeur_unite_legale', 'date_creation_unite_legale',\n",
       "       'date_creation_etablissement', 'denomination_unite_legale',\n",
       "       'adresse_etablissement_complete', 'latitude', 'longitude',\n",
       "       'montant_vote_scale', 'montant_vote_cat', 'subsidy_granted_bool',\n",
       "       'subsidy_granted', 'dpt_code', 'geo_cat', 'arrondissement',\n",
       "       'nlp_scoring'],\n",
       "      dtype='object')"
      ]
     },
     "execution_count": 7,
     "metadata": {},
     "output_type": "execute_result"
    }
   ],
   "source": [
    "data.columns"
   ]
  },
  {
   "cell_type": "markdown",
   "metadata": {},
   "source": [
    "### FEATURE PROCESSING"
   ]
  },
  {
   "cell_type": "markdown",
   "metadata": {},
   "source": [
    "#### Feature creation"
   ]
  },
  {
   "cell_type": "markdown",
   "metadata": {},
   "source": [
    "##### Age of association at request time"
   ]
  },
  {
   "cell_type": "code",
   "execution_count": 8,
   "metadata": {},
   "outputs": [
    {
     "data": {
      "text/plain": [
       "<AxesSubplot:xlabel='age_association_temp', ylabel='Count'>"
      ]
     },
     "execution_count": 8,
     "metadata": {},
     "output_type": "execute_result"
    },
    {
     "data": {
      "image/png": "[encoded data removed]",
      "text/plain": [
       "<Figure size 432x288 with 1 Axes>"
      ]
     },
     "metadata": {
      "needs_background": "light"
     },
     "output_type": "display_data"
    }
   ],
   "source": [
    "# Let's look at distribution\n",
    "data['age_association_temp'] = data.annee_budgetaire - data.date_creation_unite_legale.dt.year\n",
    "sns.histplot(data=data, x='age_association_temp', binwidth=1)"
   ]
  },
  {
   "cell_type": "code",
   "execution_count": 9,
   "metadata": {},
   "outputs": [],
   "source": [
    "# We will split the associations into 3 categories\n",
    "\n",
    "age_cats = ['<=1 year','2-5 years', '>5 years']\n",
    "\n",
    "data['age_association'] = np.nan\n",
    "data['age_association'] = np.where(data.age_association_temp <=1,age_cats[0],data['age_association'])\n",
    "data['age_association'] = np.where((data.age_association_temp >1) & (data.age_association_temp <=5),age_cats[1],data['age_association'])\n",
    "data['age_association'] = np.where(data.age_association_temp >5,age_cats[2],data['age_association'])\n"
   ]
  },
  {
   "cell_type": "code",
   "execution_count": 10,
   "metadata": {},
   "outputs": [],
   "source": [
    "# Make it ordered categorical\n",
    "data['age_association'] = pd.Categorical(data['age_association'], categories= age_cats, ordered=True)"
   ]
  },
  {
   "cell_type": "code",
   "execution_count": 11,
   "metadata": {},
   "outputs": [],
   "source": [
    "# Drop temp columns\n",
    "data.drop('age_association_temp', axis = 1, inplace = True)"
   ]
  },
  {
   "cell_type": "code",
   "execution_count": 12,
   "metadata": {},
   "outputs": [
    {
     "data": {
      "text/plain": [
       "<AxesSubplot:xlabel='age_association', ylabel='Count'>"
      ]
     },
     "execution_count": 12,
     "metadata": {},
     "output_type": "execute_result"
    },
    {
     "data": {
      "image/png": "[encoded data removed]",
      "text/plain": [
       "<Figure size 432x288 with 1 Axes>"
      ]
     },
     "metadata": {
      "needs_background": "light"
     },
     "output_type": "display_data"
    }
   ],
   "source": [
    "# Final distribution\n",
    "sns.histplot(data=data, x='age_association', binwidth=1)"
   ]
  },
  {
   "cell_type": "markdown",
   "metadata": {},
   "source": [
    "##### Previous request\n",
    "Did the association previsouly requested a grant? Was it successful?"
   ]
  },
  {
   "cell_type": "code",
   "execution_count": 13,
   "metadata": {},
   "outputs": [],
   "source": [
    "# Get numero_dossier of previous request, if any\n",
    "data_numero_dossier_sorted = data.loc[:,['numero_dossier', 'siret', 'subsidy_granted']].sort_values(by='siret')\n",
    "data_numero_dossier_sorted['numero_dossier_previous'] = np.nan\n",
    "data_numero_dossier_sorted['subsidy_granted_previous'] = np.nan\n",
    "for i in range(1, data_numero_dossier_sorted.index.max()+1):\n",
    "    # Check if same siret\n",
    "    if data_numero_dossier_sorted.iloc[i, 1] == data_numero_dossier_sorted.iloc[i-1, 1]:\n",
    "        # Fill numero_dossier_previous\n",
    "        data_numero_dossier_sorted.iloc[i, 3] = data_numero_dossier_sorted.iloc[i-1, 0]\n",
    "        # Fill subsidy_granted_previous\n",
    "        data_numero_dossier_sorted.iloc[i, 4] = data_numero_dossier_sorted.iloc[i-1, 2]"
   ]
  },
  {
   "cell_type": "code",
   "execution_count": 14,
   "metadata": {},
   "outputs": [
    {
     "data": {
      "text/html": [
       "<div>\n",
       "<style scoped>\n",
       "    .dataframe tbody tr th:only-of-type {\n",
       "        vertical-align: middle;\n",
       "    }\n",
       "\n",
       "    .dataframe tbody tr th {\n",
       "        vertical-align: top;\n",
       "    }\n",
       "\n",
       "    .dataframe thead th {\n",
       "        text-align: right;\n",
       "    }\n",
       "</style>\n",
       "<table border=\"1\" class=\"dataframe\">\n",
       "  <thead>\n",
       "    <tr style=\"text-align: right;\">\n",
       "      <th></th>\n",
       "      <th>numero_dossier</th>\n",
       "      <th>siret</th>\n",
       "      <th>subsidy_granted</th>\n",
       "      <th>numero_dossier_previous</th>\n",
       "      <th>subsidy_granted_previous</th>\n",
       "    </tr>\n",
       "  </thead>\n",
       "  <tbody>\n",
       "    <tr>\n",
       "      <th>22317</th>\n",
       "      <td>2018_05914</td>\n",
       "      <td>03908456100016</td>\n",
       "      <td>yes</td>\n",
       "      <td>NaN</td>\n",
       "      <td>NaN</td>\n",
       "    </tr>\n",
       "    <tr>\n",
       "      <th>57895</th>\n",
       "      <td>2020_06713</td>\n",
       "      <td>03908456100016</td>\n",
       "      <td>yes</td>\n",
       "      <td>2018_05914</td>\n",
       "      <td>yes</td>\n",
       "    </tr>\n",
       "    <tr>\n",
       "      <th>38774</th>\n",
       "      <td>2017_07365</td>\n",
       "      <td>03908456100016</td>\n",
       "      <td>yes</td>\n",
       "      <td>2020_06713</td>\n",
       "      <td>yes</td>\n",
       "    </tr>\n",
       "    <tr>\n",
       "      <th>39459</th>\n",
       "      <td>2016_01585</td>\n",
       "      <td>03908456100016</td>\n",
       "      <td>yes</td>\n",
       "      <td>2017_07365</td>\n",
       "      <td>yes</td>\n",
       "    </tr>\n",
       "    <tr>\n",
       "      <th>45448</th>\n",
       "      <td>2019_02222</td>\n",
       "      <td>03908456100016</td>\n",
       "      <td>yes</td>\n",
       "      <td>2016_01585</td>\n",
       "      <td>yes</td>\n",
       "    </tr>\n",
       "  </tbody>\n",
       "</table>\n",
       "</div>"
      ],
      "text/plain": [
       "      numero_dossier           siret subsidy_granted numero_dossier_previous  \\\n",
       "22317     2018_05914  03908456100016             yes                     NaN   \n",
       "57895     2020_06713  03908456100016             yes              2018_05914   \n",
       "38774     2017_07365  03908456100016             yes              2020_06713   \n",
       "39459     2016_01585  03908456100016             yes              2017_07365   \n",
       "45448     2019_02222  03908456100016             yes              2016_01585   \n",
       "\n",
       "      subsidy_granted_previous  \n",
       "22317                      NaN  \n",
       "57895                      yes  \n",
       "38774                      yes  \n",
       "39459                      yes  \n",
       "45448                      yes  "
      ]
     },
     "execution_count": 14,
     "metadata": {},
     "output_type": "execute_result"
    }
   ],
   "source": [
    "data_numero_dossier_sorted.head()"
   ]
  },
  {
   "cell_type": "code",
   "execution_count": 15,
   "metadata": {},
   "outputs": [
    {
     "data": {
      "text/html": [
       "<div>\n",
       "<style scoped>\n",
       "    .dataframe tbody tr th:only-of-type {\n",
       "        vertical-align: middle;\n",
       "    }\n",
       "\n",
       "    .dataframe tbody tr th {\n",
       "        vertical-align: top;\n",
       "    }\n",
       "\n",
       "    .dataframe thead th {\n",
       "        text-align: right;\n",
       "    }\n",
       "</style>\n",
       "<table border=\"1\" class=\"dataframe\">\n",
       "  <thead>\n",
       "    <tr style=\"text-align: right;\">\n",
       "      <th></th>\n",
       "      <th>numero_dossier</th>\n",
       "      <th>siret</th>\n",
       "      <th>subsidy_granted</th>\n",
       "      <th>numero_dossier_previous</th>\n",
       "      <th>subsidy_granted_previous</th>\n",
       "    </tr>\n",
       "  </thead>\n",
       "  <tbody>\n",
       "    <tr>\n",
       "      <th>68576</th>\n",
       "      <td>2021_11928</td>\n",
       "      <td>90351521100014</td>\n",
       "      <td>yes</td>\n",
       "      <td>2021_11927</td>\n",
       "      <td>yes</td>\n",
       "    </tr>\n",
       "    <tr>\n",
       "      <th>70157</th>\n",
       "      <td>2021_11961</td>\n",
       "      <td>90403473300017</td>\n",
       "      <td>no</td>\n",
       "      <td>NaN</td>\n",
       "      <td>NaN</td>\n",
       "    </tr>\n",
       "    <tr>\n",
       "      <th>73531</th>\n",
       "      <td>2021_11962</td>\n",
       "      <td>90403473300017</td>\n",
       "      <td>no</td>\n",
       "      <td>2021_11961</td>\n",
       "      <td>no</td>\n",
       "    </tr>\n",
       "    <tr>\n",
       "      <th>2044</th>\n",
       "      <td>2021_12073</td>\n",
       "      <td>90437936900013</td>\n",
       "      <td>yes</td>\n",
       "      <td>NaN</td>\n",
       "      <td>NaN</td>\n",
       "    </tr>\n",
       "    <tr>\n",
       "      <th>68916</th>\n",
       "      <td>2021_12166</td>\n",
       "      <td>90490688000011</td>\n",
       "      <td>yes</td>\n",
       "      <td>NaN</td>\n",
       "      <td>NaN</td>\n",
       "    </tr>\n",
       "  </tbody>\n",
       "</table>\n",
       "</div>"
      ],
      "text/plain": [
       "      numero_dossier           siret subsidy_granted numero_dossier_previous  \\\n",
       "68576     2021_11928  90351521100014             yes              2021_11927   \n",
       "70157     2021_11961  90403473300017              no                     NaN   \n",
       "73531     2021_11962  90403473300017              no              2021_11961   \n",
       "2044      2021_12073  90437936900013             yes                     NaN   \n",
       "68916     2021_12166  90490688000011             yes                     NaN   \n",
       "\n",
       "      subsidy_granted_previous  \n",
       "68576                      yes  \n",
       "70157                      NaN  \n",
       "73531                       no  \n",
       "2044                       NaN  \n",
       "68916                      NaN  "
      ]
     },
     "execution_count": 15,
     "metadata": {},
     "output_type": "execute_result"
    }
   ],
   "source": [
    "data_numero_dossier_sorted.tail()"
   ]
  },
  {
   "cell_type": "code",
   "execution_count": 16,
   "metadata": {},
   "outputs": [],
   "source": [
    "# Fill back to data\n",
    "data = data.merge(data_numero_dossier_sorted.drop(['numero_dossier', 'siret', 'subsidy_granted', 'numero_dossier_previous'], axis = 1), how = 'left', left_index=True, right_index=True)"
   ]
  },
  {
   "cell_type": "markdown",
   "metadata": {},
   "source": [
    "#### Feature selection"
   ]
  },
  {
   "cell_type": "code",
   "execution_count": 17,
   "metadata": {},
   "outputs": [
    {
     "data": {
      "text/plain": [
       "Index(['numero_dossier', 'annee_budgetaire', 'siret', 'objet_dossier',\n",
       "       'montant_vote', 'direction', 'nature_subvention', 'secteurs_activites',\n",
       "       'categorie_entreprise', 'tranche_effectifs_unite_legale',\n",
       "       'tranche_effectifs_unite_legale_triable', 'siret_siege_unite_legale',\n",
       "       'etablissement_siege', 'code_postal_etablissement',\n",
       "       'caractere_employeur_unite_legale', 'date_creation_unite_legale',\n",
       "       'date_creation_etablissement', 'denomination_unite_legale',\n",
       "       'adresse_etablissement_complete', 'latitude', 'longitude',\n",
       "       'montant_vote_scale', 'montant_vote_cat', 'subsidy_granted_bool',\n",
       "       'subsidy_granted', 'dpt_code', 'geo_cat', 'arrondissement',\n",
       "       'nlp_scoring', 'age_association', 'subsidy_granted_previous'],\n",
       "      dtype='object')"
      ]
     },
     "execution_count": 17,
     "metadata": {},
     "output_type": "execute_result"
    }
   ],
   "source": [
    "data.columns"
   ]
  },
  {
   "cell_type": "code",
   "execution_count": 18,
   "metadata": {},
   "outputs": [
    {
     "data": {
      "text/plain": [
       "yes    43881\n",
       "no     24979\n",
       "Name: subsidy_granted_previous, dtype: int64"
      ]
     },
     "execution_count": 18,
     "metadata": {},
     "output_type": "execute_result"
    }
   ],
   "source": [
    "data.subsidy_granted_previous.value_counts()"
   ]
  },
  {
   "cell_type": "code",
   "execution_count": 19,
   "metadata": {},
   "outputs": [
    {
     "data": {
      "text/html": [
       "<div>\n",
       "<style scoped>\n",
       "    .dataframe tbody tr th:only-of-type {\n",
       "        vertical-align: middle;\n",
       "    }\n",
       "\n",
       "    .dataframe tbody tr th {\n",
       "        vertical-align: top;\n",
       "    }\n",
       "\n",
       "    .dataframe thead th {\n",
       "        text-align: right;\n",
       "    }\n",
       "</style>\n",
       "<table border=\"1\" class=\"dataframe\">\n",
       "  <thead>\n",
       "    <tr style=\"text-align: right;\">\n",
       "      <th></th>\n",
       "      <th>direction</th>\n",
       "      <th>nature_subvention</th>\n",
       "      <th>secteurs_activites</th>\n",
       "      <th>geo_cat</th>\n",
       "      <th>nlp_scoring</th>\n",
       "      <th>age_association</th>\n",
       "      <th>subsidy_granted_previous</th>\n",
       "    </tr>\n",
       "  </thead>\n",
       "  <tbody>\n",
       "    <tr>\n",
       "      <th>0</th>\n",
       "      <td>DDCT</td>\n",
       "      <td>Fonctionnement</td>\n",
       "      <td>[Loisirs, Social, Vie et animation locale]</td>\n",
       "      <td>Paris</td>\n",
       "      <td>0.782369</td>\n",
       "      <td>&gt;5 years</td>\n",
       "      <td>yes</td>\n",
       "    </tr>\n",
       "    <tr>\n",
       "      <th>1</th>\n",
       "      <td>DASES</td>\n",
       "      <td>Fonctionnement</td>\n",
       "      <td>[Loisirs, Social, Vie et animation locale]</td>\n",
       "      <td>Paris</td>\n",
       "      <td>0.643968</td>\n",
       "      <td>&gt;5 years</td>\n",
       "      <td>yes</td>\n",
       "    </tr>\n",
       "    <tr>\n",
       "      <th>2</th>\n",
       "      <td>DAE</td>\n",
       "      <td>Non précisée</td>\n",
       "      <td>[Environnement &amp; écologie, Sport, Vie et anima...</td>\n",
       "      <td>IdF</td>\n",
       "      <td>0.526232</td>\n",
       "      <td>&gt;5 years</td>\n",
       "      <td>yes</td>\n",
       "    </tr>\n",
       "    <tr>\n",
       "      <th>3</th>\n",
       "      <td>DASCO</td>\n",
       "      <td>Non précisée</td>\n",
       "      <td>[Culture &amp; Arts, Social, Sport]</td>\n",
       "      <td>Paris</td>\n",
       "      <td>0.446584</td>\n",
       "      <td>&gt;5 years</td>\n",
       "      <td>yes</td>\n",
       "    </tr>\n",
       "    <tr>\n",
       "      <th>4</th>\n",
       "      <td>DFPE</td>\n",
       "      <td>Fonctionnement</td>\n",
       "      <td>[Education &amp; formation, Santé, Social]</td>\n",
       "      <td>Paris</td>\n",
       "      <td>0.796361</td>\n",
       "      <td>&gt;5 years</td>\n",
       "      <td>yes</td>\n",
       "    </tr>\n",
       "  </tbody>\n",
       "</table>\n",
       "</div>"
      ],
      "text/plain": [
       "  direction nature_subvention  \\\n",
       "0      DDCT    Fonctionnement   \n",
       "1     DASES    Fonctionnement   \n",
       "2       DAE      Non précisée   \n",
       "3     DASCO      Non précisée   \n",
       "4      DFPE    Fonctionnement   \n",
       "\n",
       "                                  secteurs_activites geo_cat  nlp_scoring  \\\n",
       "0         [Loisirs, Social, Vie et animation locale]   Paris     0.782369   \n",
       "1         [Loisirs, Social, Vie et animation locale]   Paris     0.643968   \n",
       "2  [Environnement & écologie, Sport, Vie et anima...     IdF     0.526232   \n",
       "3                    [Culture & Arts, Social, Sport]   Paris     0.446584   \n",
       "4             [Education & formation, Santé, Social]   Paris     0.796361   \n",
       "\n",
       "  age_association subsidy_granted_previous  \n",
       "0        >5 years                      yes  \n",
       "1        >5 years                      yes  \n",
       "2        >5 years                      yes  \n",
       "3        >5 years                      yes  \n",
       "4        >5 years                      yes  "
      ]
     },
     "execution_count": 19,
     "metadata": {},
     "output_type": "execute_result"
    }
   ],
   "source": [
    "features = ['direction', 'nature_subvention', 'secteurs_activites', 'geo_cat', 'nlp_scoring', 'age_association', 'subsidy_granted_previous']\n",
    "X = data.loc[:, features].copy()\n",
    "X.head()"
   ]
  },
  {
   "cell_type": "code",
   "execution_count": 20,
   "metadata": {},
   "outputs": [
    {
     "data": {
      "text/plain": [
       "yes    43881\n",
       "no     24979\n",
       "Name: subsidy_granted_previous, dtype: int64"
      ]
     },
     "execution_count": 20,
     "metadata": {},
     "output_type": "execute_result"
    }
   ],
   "source": [
    "X.subsidy_granted_previous.value_counts()"
   ]
  },
  {
   "cell_type": "markdown",
   "metadata": {},
   "source": [
    "#### Feature encoding"
   ]
  },
  {
   "cell_type": "markdown",
   "metadata": {},
   "source": [
    "##### direction"
   ]
  },
  {
   "cell_type": "code",
   "execution_count": 21,
   "metadata": {},
   "outputs": [
    {
     "data": {
      "text/plain": [
       "DDCT            0.217043\n",
       "DAC             0.175473\n",
       "DASES           0.124636\n",
       "DJS             0.118895\n",
       "DAE             0.086367\n",
       "DFPE            0.058966\n",
       "DASCO           0.055490\n",
       "DPSP            0.043884\n",
       "DPVI            0.036468\n",
       "DGRI            0.026013\n",
       "DEVE            0.020235\n",
       "DPE             0.007966\n",
       "SG              0.006015\n",
       "DVD             0.005027\n",
       "DPMP            0.004627\n",
       "DUCT            0.003902\n",
       "DGOM            0.003427\n",
       "SG-MI-CINEMA    0.001488\n",
       "DLH             0.001326\n",
       "DU              0.000925\n",
       "DRH             0.000663\n",
       "DFA             0.000563\n",
       "DICOM           0.000288\n",
       "CASVP           0.000075\n",
       "DAJ             0.000075\n",
       "SG-DPMC         0.000063\n",
       "SGCP            0.000050\n",
       "DILT            0.000050\n",
       "Name: direction, dtype: float64"
      ]
     },
     "execution_count": 21,
     "metadata": {},
     "output_type": "execute_result"
    }
   ],
   "source": [
    "# Distribution\n",
    "X.direction.value_counts(normalize = True)"
   ]
  },
  {
   "cell_type": "code",
   "execution_count": 22,
   "metadata": {},
   "outputs": [
    {
     "data": {
      "text/plain": [
       "DDCT            0.217043\n",
       "DAC             0.392516\n",
       "DASES           0.517152\n",
       "DJS             0.636048\n",
       "DAE             0.722415\n",
       "DFPE            0.781381\n",
       "DASCO           0.836870\n",
       "DPSP            0.880754\n",
       "DPVI            0.917222\n",
       "DGRI            0.943235\n",
       "DEVE            0.963470\n",
       "DPE             0.971436\n",
       "SG              0.977452\n",
       "DVD             0.982479\n",
       "DPMP            0.987106\n",
       "DUCT            0.991008\n",
       "DGOM            0.994435\n",
       "SG-MI-CINEMA    0.995923\n",
       "DLH             0.997249\n",
       "DU              0.998174\n",
       "DRH             0.998837\n",
       "DFA             0.999400\n",
       "DICOM           0.999687\n",
       "CASVP           0.999762\n",
       "DAJ             0.999837\n",
       "SG-DPMC         0.999900\n",
       "SGCP            0.999950\n",
       "DILT            1.000000\n",
       "Name: direction, dtype: float64"
      ]
     },
     "execution_count": 22,
     "metadata": {},
     "output_type": "execute_result"
    }
   ],
   "source": [
    "# Cumulative distribution\n",
    "X.direction.value_counts(normalize = True).cumsum()"
   ]
  },
  {
   "cell_type": "code",
   "execution_count": 23,
   "metadata": {},
   "outputs": [],
   "source": [
    "# We will identify the top 7 directions (min 5% of data, cumul more than 80%) and group the others\n",
    "# Manual dummy encoding\n",
    "directions_top = ['DDCT','DAC','DASES','DJS','DAE','DFPE','DASCO']\n",
    "for dir in directions_top:\n",
    "    X[dir] = np.where(X.direction == dir, 1, 0)"
   ]
  },
  {
   "cell_type": "markdown",
   "metadata": {},
   "source": [
    "##### nature_subvention"
   ]
  },
  {
   "cell_type": "code",
   "execution_count": 24,
   "metadata": {},
   "outputs": [
    {
     "data": {
      "text/plain": [
       "Non précisée      29549\n",
       "Projet            24490\n",
       "Fonctionnement    24044\n",
       "Investissement     1878\n",
       "Name: nature_subvention, dtype: int64"
      ]
     },
     "execution_count": 24,
     "metadata": {},
     "output_type": "execute_result"
    }
   ],
   "source": [
    "X.nature_subvention.value_counts()"
   ]
  },
  {
   "cell_type": "code",
   "execution_count": 25,
   "metadata": {},
   "outputs": [],
   "source": [
    "# Manual dummy encoding\n",
    "X['projet'] = np.where(X.nature_subvention == 'Projet', 1, 0)\n",
    "X['fonctionnement'] = np.where(X.nature_subvention == 'Fonctionnement', 1, 0)\n",
    "X['investissement'] = np.where(X.nature_subvention == 'Investissement', 1, 0)"
   ]
  },
  {
   "cell_type": "markdown",
   "metadata": {},
   "source": [
    "##### secteurs_activites"
   ]
  },
  {
   "cell_type": "code",
   "execution_count": 26,
   "metadata": {},
   "outputs": [
    {
     "data": {
      "text/plain": [
       "MultiLabelBinarizer()"
      ]
     },
     "execution_count": 26,
     "metadata": {},
     "output_type": "execute_result"
    }
   ],
   "source": [
    "# Init and fit encoder\n",
    "mlb = MultiLabelBinarizer()\n",
    "mlb.fit(X.secteurs_activites)"
   ]
  },
  {
   "cell_type": "code",
   "execution_count": 27,
   "metadata": {},
   "outputs": [
    {
     "data": {
      "text/plain": [
       "Culture & Arts                        31832\n",
       "Social                                31377\n",
       "Education & formation                 28797\n",
       "Vie et animation locale               28056\n",
       "Précarité & Exclusion                 11752\n",
       "Sport                                 11632\n",
       "Loisirs                               10479\n",
       "Santé                                  7592\n",
       "Emploi                                 7479\n",
       "Défense des droits et des intérêts     5766\n",
       "Environnement & écologie               5549\n",
       "Mémoire                                3694\n",
       "Humanitaire                            3354\n",
       "Aides aux associations                 2903\n",
       "Communication & média                  2656\n",
       "Relations internationales              2308\n",
       "Economie                               2104\n",
       "Technique & Recherche                  1446\n",
       "Idée & opinion                         1262\n",
       "Architecture & urbanisme               1250\n",
       "Tourisme                                833\n",
       "Déplacements et transports              614\n",
       "dtype: int64"
      ]
     },
     "execution_count": 27,
     "metadata": {},
     "output_type": "execute_result"
    }
   ],
   "source": [
    "# Store in a dataframe\n",
    "df_secteurs_activities = pd.DataFrame(mlb.transform(X.secteurs_activites), index=X.index, columns=mlb.classes_)\n",
    "\n",
    "# Display distribution\n",
    "df_secteurs_activities.sum(axis = 0).sort_values(ascending=False)"
   ]
  },
  {
   "cell_type": "code",
   "execution_count": 28,
   "metadata": {},
   "outputs": [
    {
     "data": {
      "text/plain": [
       "<AxesSubplot:>"
      ]
     },
     "execution_count": 28,
     "metadata": {},
     "output_type": "execute_result"
    },
    {
     "data": {
      "image/png": "[encoded data removed]",
      "text/plain": [
       "<Figure size 792x648 with 2 Axes>"
      ]
     },
     "metadata": {},
     "output_type": "display_data"
    }
   ],
   "source": [
    "# Too many categories, let's reduce the number\n",
    "# Display correlation matrix\n",
    "\n",
    "sns.set_theme(style=\"white\")\n",
    "\n",
    "# Compute the correlation matrix\n",
    "corr = df_secteurs_activities.corr()\n",
    "\n",
    "# Generate a mask for the upper triangle\n",
    "mask = np.triu(np.ones_like(corr, dtype=bool))\n",
    "\n",
    "# Set up the matplotlib figure\n",
    "f, ax = plt.subplots(figsize=(11, 9))\n",
    "\n",
    "# Generate a custom diverging colormap\n",
    "cmap = sns.diverging_palette(230, 20, as_cmap=True)\n",
    "\n",
    "# Draw the heatmap with the mask and correct aspect ratio\n",
    "sns.heatmap(corr, mask=mask, cmap=cmap, vmax=.3, center=0,\n",
    "            square=True, linewidths=.5, cbar_kws={\"shrink\": .5})"
   ]
  },
  {
   "cell_type": "code",
   "execution_count": 29,
   "metadata": {},
   "outputs": [
    {
     "data": {
      "text/plain": [
       "Culture & Arts                        5912\n",
       "Sport                                 2221\n",
       "Social                                1642\n",
       "Education & formation                  744\n",
       "Vie et animation locale                521\n",
       "Santé                                  398\n",
       "Mémoire                                366\n",
       "Défense des droits et des intérêts     239\n",
       "Précarité & Exclusion                  188\n",
       "Humanitaire                            164\n",
       "Environnement & écologie               130\n",
       "Emploi                                 124\n",
       "Loisirs                                 52\n",
       "Economie                                49\n",
       "Relations internationales               44\n",
       "Architecture & urbanisme                37\n",
       "Tourisme                                35\n",
       "Communication & média                   33\n",
       "Aides aux associations                  22\n",
       "Idée & opinion                          16\n",
       "Technique & Recherche                    5\n",
       "Déplacements et transports               3\n",
       "dtype: int64"
      ]
     },
     "execution_count": 29,
     "metadata": {},
     "output_type": "execute_result"
    }
   ],
   "source": [
    "# No strong correlation\n",
    "# Let's look at the number of rows with a single 'secteurs_activites'\n",
    "df_secteurs_activities.loc[df_secteurs_activities.sum(axis=1) == 1].sum(axis = 0).sort_values(ascending=False)"
   ]
  },
  {
   "cell_type": "code",
   "execution_count": 30,
   "metadata": {},
   "outputs": [
    {
     "data": {
      "text/plain": [
       "['Culture & Arts',\n",
       " 'Social',\n",
       " 'Education & formation',\n",
       " 'Vie et animation locale',\n",
       " 'Précarité & Exclusion',\n",
       " 'Sport',\n",
       " 'Loisirs']"
      ]
     },
     "execution_count": 30,
     "metadata": {},
     "output_type": "execute_result"
    }
   ],
   "source": [
    "# We will keep only the secteurs_activites with more than 10,000 occurrences (i.e. top 7)\n",
    "secteurs_activites_selected = df_secteurs_activities.sum(axis = 0).sort_values(ascending=False).index[0:7].to_list()\n",
    "secteurs_activites_selected"
   ]
  },
  {
   "cell_type": "code",
   "execution_count": 31,
   "metadata": {},
   "outputs": [],
   "source": [
    "# Drop the columns of other secteurs_activities\n",
    "for col in df_secteurs_activities.columns:\n",
    "    if col not in secteurs_activites_selected:\n",
    "        df_secteurs_activities.drop(col, axis = 1, inplace = True)"
   ]
  },
  {
   "cell_type": "code",
   "execution_count": 32,
   "metadata": {},
   "outputs": [],
   "source": [
    "# Rename columns\n",
    "df_secteurs_activities.rename(snake_case, axis = 1, inplace = True)"
   ]
  },
  {
   "cell_type": "code",
   "execution_count": 33,
   "metadata": {},
   "outputs": [],
   "source": [
    "# Fill results back to X\n",
    "X = X.merge(df_secteurs_activities, how = 'left', left_index=True, right_index=True)"
   ]
  },
  {
   "cell_type": "markdown",
   "metadata": {},
   "source": [
    "#### geo_cat"
   ]
  },
  {
   "cell_type": "code",
   "execution_count": 34,
   "metadata": {},
   "outputs": [],
   "source": [
    "# Manual dummy encoding\n",
    "X['paris'] = np.where(X.geo_cat == 'Paris', 1, 0)\n",
    "X['idf'] = np.where(X.geo_cat == 'IdF', 1, 0)"
   ]
  },
  {
   "cell_type": "markdown",
   "metadata": {},
   "source": [
    "##### age_association\n"
   ]
  },
  {
   "cell_type": "code",
   "execution_count": 35,
   "metadata": {},
   "outputs": [],
   "source": [
    "# Manual ordinal encoder\n",
    "X.age_association = np.where(X.age_association=='<=1 year', 0, X.age_association)\n",
    "X.age_association = np.where(X.age_association=='2-5 years', 1, X.age_association)\n",
    "X.age_association = np.where(X.age_association=='>5 years', 2, X.age_association)"
   ]
  },
  {
   "cell_type": "markdown",
   "metadata": {},
   "source": [
    "##### subsidy_granted_previous"
   ]
  },
  {
   "cell_type": "code",
   "execution_count": 36,
   "metadata": {},
   "outputs": [],
   "source": [
    "# Column to store whether there was a previous request\n",
    "X['previous_request'] = np.where(X.subsidy_granted_previous.isna(), 0, 1)\n",
    "\n",
    "# Column to store success\n",
    "X['previous_request_success'] = np.nan\n",
    "X['previous_request_success'] = np.where(X.subsidy_granted_previous.isna(), -1, X['previous_request_success'])\n",
    "X['previous_request_success'] = np.where(X.subsidy_granted_previous == 'no', 0, X['previous_request_success'])\n",
    "X['previous_request_success'] = np.where(X.subsidy_granted_previous == 'yes', 1, X['previous_request_success'])"
   ]
  },
  {
   "cell_type": "markdown",
   "metadata": {},
   "source": [
    "##### Final cleaning & checks"
   ]
  },
  {
   "cell_type": "code",
   "execution_count": 37,
   "metadata": {},
   "outputs": [],
   "source": [
    "# Drop non encoded features\n",
    "X.drop([f for f in features if f != 'nlp_scoring'], axis = 1, inplace = True)"
   ]
  },
  {
   "cell_type": "code",
   "execution_count": 38,
   "metadata": {},
   "outputs": [
    {
     "data": {
      "text/plain": [
       "<AxesSubplot:>"
      ]
     },
     "execution_count": 38,
     "metadata": {},
     "output_type": "execute_result"
    },
    {
     "data": {
      "image/png": "[encoded data removed]",
      "text/plain": [
       "<Figure size 792x648 with 2 Axes>"
      ]
     },
     "metadata": {},
     "output_type": "display_data"
    }
   ],
   "source": [
    "# Collinearity\n",
    "# Compute the correlation matrix\n",
    "corr = X.corr()\n",
    "\n",
    "# Generate a mask for the upper triangle\n",
    "mask = np.triu(np.ones_like(corr, dtype=bool))\n",
    "\n",
    "# Set up the matplotlib figure\n",
    "f, ax = plt.subplots(figsize=(11, 9))\n",
    "\n",
    "# Generate a custom diverging colormap\n",
    "cmap = sns.diverging_palette(230, 20, as_cmap=True)\n",
    "\n",
    "# Draw the heatmap with the mask and correct aspect ratio\n",
    "sns.heatmap(corr, mask=mask, cmap=cmap, vmax=.3, center=0,\n",
    "            square=True, linewidths=.5, cbar_kws={\"shrink\": .5})"
   ]
  },
  {
   "cell_type": "code",
   "execution_count": 39,
   "metadata": {},
   "outputs": [],
   "source": [
    "# paris and idf are very (negatively) correlated\n",
    "# It is not surprising as most of the associations are either in Paris or in IdF, not so much beyond\n",
    "# Also we saw in the EDA that the reject rate is quite similar between IdF and Beyond\n",
    "# We can remove idf\n",
    "X.drop('idf', axis = 1, inplace = True)"
   ]
  },
  {
   "cell_type": "code",
   "execution_count": 40,
   "metadata": {},
   "outputs": [
    {
     "data": {
      "text/html": [
       "<div>\n",
       "<style scoped>\n",
       "    .dataframe tbody tr th:only-of-type {\n",
       "        vertical-align: middle;\n",
       "    }\n",
       "\n",
       "    .dataframe tbody tr th {\n",
       "        vertical-align: top;\n",
       "    }\n",
       "\n",
       "    .dataframe thead th {\n",
       "        text-align: right;\n",
       "    }\n",
       "</style>\n",
       "<table border=\"1\" class=\"dataframe\">\n",
       "  <thead>\n",
       "    <tr style=\"text-align: right;\">\n",
       "      <th></th>\n",
       "      <th>count</th>\n",
       "      <th>mean</th>\n",
       "      <th>std</th>\n",
       "      <th>min</th>\n",
       "      <th>25%</th>\n",
       "      <th>50%</th>\n",
       "      <th>75%</th>\n",
       "      <th>max</th>\n",
       "    </tr>\n",
       "  </thead>\n",
       "  <tbody>\n",
       "    <tr>\n",
       "      <th>nlp_scoring</th>\n",
       "      <td>79961.0</td>\n",
       "      <td>0.585309</td>\n",
       "      <td>0.112239</td>\n",
       "      <td>0.0</td>\n",
       "      <td>0.515604</td>\n",
       "      <td>0.567923</td>\n",
       "      <td>0.659362</td>\n",
       "      <td>0.953058</td>\n",
       "    </tr>\n",
       "    <tr>\n",
       "      <th>DDCT</th>\n",
       "      <td>79961.0</td>\n",
       "      <td>0.217043</td>\n",
       "      <td>0.412235</td>\n",
       "      <td>0.0</td>\n",
       "      <td>0.000000</td>\n",
       "      <td>0.000000</td>\n",
       "      <td>0.000000</td>\n",
       "      <td>1.000000</td>\n",
       "    </tr>\n",
       "    <tr>\n",
       "      <th>DAC</th>\n",
       "      <td>79961.0</td>\n",
       "      <td>0.175473</td>\n",
       "      <td>0.380374</td>\n",
       "      <td>0.0</td>\n",
       "      <td>0.000000</td>\n",
       "      <td>0.000000</td>\n",
       "      <td>0.000000</td>\n",
       "      <td>1.000000</td>\n",
       "    </tr>\n",
       "    <tr>\n",
       "      <th>DASES</th>\n",
       "      <td>79961.0</td>\n",
       "      <td>0.124636</td>\n",
       "      <td>0.330308</td>\n",
       "      <td>0.0</td>\n",
       "      <td>0.000000</td>\n",
       "      <td>0.000000</td>\n",
       "      <td>0.000000</td>\n",
       "      <td>1.000000</td>\n",
       "    </tr>\n",
       "    <tr>\n",
       "      <th>DJS</th>\n",
       "      <td>79961.0</td>\n",
       "      <td>0.118895</td>\n",
       "      <td>0.323667</td>\n",
       "      <td>0.0</td>\n",
       "      <td>0.000000</td>\n",
       "      <td>0.000000</td>\n",
       "      <td>0.000000</td>\n",
       "      <td>1.000000</td>\n",
       "    </tr>\n",
       "    <tr>\n",
       "      <th>DAE</th>\n",
       "      <td>79961.0</td>\n",
       "      <td>0.086367</td>\n",
       "      <td>0.280907</td>\n",
       "      <td>0.0</td>\n",
       "      <td>0.000000</td>\n",
       "      <td>0.000000</td>\n",
       "      <td>0.000000</td>\n",
       "      <td>1.000000</td>\n",
       "    </tr>\n",
       "    <tr>\n",
       "      <th>DFPE</th>\n",
       "      <td>79961.0</td>\n",
       "      <td>0.058966</td>\n",
       "      <td>0.235563</td>\n",
       "      <td>0.0</td>\n",
       "      <td>0.000000</td>\n",
       "      <td>0.000000</td>\n",
       "      <td>0.000000</td>\n",
       "      <td>1.000000</td>\n",
       "    </tr>\n",
       "    <tr>\n",
       "      <th>DASCO</th>\n",
       "      <td>79961.0</td>\n",
       "      <td>0.055490</td>\n",
       "      <td>0.228935</td>\n",
       "      <td>0.0</td>\n",
       "      <td>0.000000</td>\n",
       "      <td>0.000000</td>\n",
       "      <td>0.000000</td>\n",
       "      <td>1.000000</td>\n",
       "    </tr>\n",
       "    <tr>\n",
       "      <th>projet</th>\n",
       "      <td>79961.0</td>\n",
       "      <td>0.306274</td>\n",
       "      <td>0.460948</td>\n",
       "      <td>0.0</td>\n",
       "      <td>0.000000</td>\n",
       "      <td>0.000000</td>\n",
       "      <td>1.000000</td>\n",
       "      <td>1.000000</td>\n",
       "    </tr>\n",
       "    <tr>\n",
       "      <th>fonctionnement</th>\n",
       "      <td>79961.0</td>\n",
       "      <td>0.300697</td>\n",
       "      <td>0.458564</td>\n",
       "      <td>0.0</td>\n",
       "      <td>0.000000</td>\n",
       "      <td>0.000000</td>\n",
       "      <td>1.000000</td>\n",
       "      <td>1.000000</td>\n",
       "    </tr>\n",
       "    <tr>\n",
       "      <th>investissement</th>\n",
       "      <td>79961.0</td>\n",
       "      <td>0.023486</td>\n",
       "      <td>0.151443</td>\n",
       "      <td>0.0</td>\n",
       "      <td>0.000000</td>\n",
       "      <td>0.000000</td>\n",
       "      <td>0.000000</td>\n",
       "      <td>1.000000</td>\n",
       "    </tr>\n",
       "    <tr>\n",
       "      <th>culture_et_arts</th>\n",
       "      <td>79961.0</td>\n",
       "      <td>0.398094</td>\n",
       "      <td>0.489508</td>\n",
       "      <td>0.0</td>\n",
       "      <td>0.000000</td>\n",
       "      <td>0.000000</td>\n",
       "      <td>1.000000</td>\n",
       "      <td>1.000000</td>\n",
       "    </tr>\n",
       "    <tr>\n",
       "      <th>education_et_formation</th>\n",
       "      <td>79961.0</td>\n",
       "      <td>0.360138</td>\n",
       "      <td>0.480043</td>\n",
       "      <td>0.0</td>\n",
       "      <td>0.000000</td>\n",
       "      <td>0.000000</td>\n",
       "      <td>1.000000</td>\n",
       "      <td>1.000000</td>\n",
       "    </tr>\n",
       "    <tr>\n",
       "      <th>loisirs</th>\n",
       "      <td>79961.0</td>\n",
       "      <td>0.131051</td>\n",
       "      <td>0.337459</td>\n",
       "      <td>0.0</td>\n",
       "      <td>0.000000</td>\n",
       "      <td>0.000000</td>\n",
       "      <td>0.000000</td>\n",
       "      <td>1.000000</td>\n",
       "    </tr>\n",
       "    <tr>\n",
       "      <th>precarite_et_exclusion</th>\n",
       "      <td>79961.0</td>\n",
       "      <td>0.146972</td>\n",
       "      <td>0.354080</td>\n",
       "      <td>0.0</td>\n",
       "      <td>0.000000</td>\n",
       "      <td>0.000000</td>\n",
       "      <td>0.000000</td>\n",
       "      <td>1.000000</td>\n",
       "    </tr>\n",
       "    <tr>\n",
       "      <th>social</th>\n",
       "      <td>79961.0</td>\n",
       "      <td>0.392404</td>\n",
       "      <td>0.488289</td>\n",
       "      <td>0.0</td>\n",
       "      <td>0.000000</td>\n",
       "      <td>0.000000</td>\n",
       "      <td>1.000000</td>\n",
       "      <td>1.000000</td>\n",
       "    </tr>\n",
       "    <tr>\n",
       "      <th>sport</th>\n",
       "      <td>79961.0</td>\n",
       "      <td>0.145471</td>\n",
       "      <td>0.352577</td>\n",
       "      <td>0.0</td>\n",
       "      <td>0.000000</td>\n",
       "      <td>0.000000</td>\n",
       "      <td>0.000000</td>\n",
       "      <td>1.000000</td>\n",
       "    </tr>\n",
       "    <tr>\n",
       "      <th>vie_et_animation_locale</th>\n",
       "      <td>79961.0</td>\n",
       "      <td>0.350871</td>\n",
       "      <td>0.477246</td>\n",
       "      <td>0.0</td>\n",
       "      <td>0.000000</td>\n",
       "      <td>0.000000</td>\n",
       "      <td>1.000000</td>\n",
       "      <td>1.000000</td>\n",
       "    </tr>\n",
       "    <tr>\n",
       "      <th>paris</th>\n",
       "      <td>79961.0</td>\n",
       "      <td>0.894511</td>\n",
       "      <td>0.307184</td>\n",
       "      <td>0.0</td>\n",
       "      <td>1.000000</td>\n",
       "      <td>1.000000</td>\n",
       "      <td>1.000000</td>\n",
       "      <td>1.000000</td>\n",
       "    </tr>\n",
       "    <tr>\n",
       "      <th>previous_request</th>\n",
       "      <td>79961.0</td>\n",
       "      <td>0.861170</td>\n",
       "      <td>0.345771</td>\n",
       "      <td>0.0</td>\n",
       "      <td>1.000000</td>\n",
       "      <td>1.000000</td>\n",
       "      <td>1.000000</td>\n",
       "      <td>1.000000</td>\n",
       "    </tr>\n",
       "    <tr>\n",
       "      <th>previous_request_success</th>\n",
       "      <td>79961.0</td>\n",
       "      <td>0.409950</td>\n",
       "      <td>0.720804</td>\n",
       "      <td>-1.0</td>\n",
       "      <td>0.000000</td>\n",
       "      <td>1.000000</td>\n",
       "      <td>1.000000</td>\n",
       "      <td>1.000000</td>\n",
       "    </tr>\n",
       "  </tbody>\n",
       "</table>\n",
       "</div>"
      ],
      "text/plain": [
       "                            count      mean       std  min       25%  \\\n",
       "nlp_scoring               79961.0  0.585309  0.112239  0.0  0.515604   \n",
       "DDCT                      79961.0  0.217043  0.412235  0.0  0.000000   \n",
       "DAC                       79961.0  0.175473  0.380374  0.0  0.000000   \n",
       "DASES                     79961.0  0.124636  0.330308  0.0  0.000000   \n",
       "DJS                       79961.0  0.118895  0.323667  0.0  0.000000   \n",
       "DAE                       79961.0  0.086367  0.280907  0.0  0.000000   \n",
       "DFPE                      79961.0  0.058966  0.235563  0.0  0.000000   \n",
       "DASCO                     79961.0  0.055490  0.228935  0.0  0.000000   \n",
       "projet                    79961.0  0.306274  0.460948  0.0  0.000000   \n",
       "fonctionnement            79961.0  0.300697  0.458564  0.0  0.000000   \n",
       "investissement            79961.0  0.023486  0.151443  0.0  0.000000   \n",
       "culture_et_arts           79961.0  0.398094  0.489508  0.0  0.000000   \n",
       "education_et_formation    79961.0  0.360138  0.480043  0.0  0.000000   \n",
       "loisirs                   79961.0  0.131051  0.337459  0.0  0.000000   \n",
       "precarite_et_exclusion    79961.0  0.146972  0.354080  0.0  0.000000   \n",
       "social                    79961.0  0.392404  0.488289  0.0  0.000000   \n",
       "sport                     79961.0  0.145471  0.352577  0.0  0.000000   \n",
       "vie_et_animation_locale   79961.0  0.350871  0.477246  0.0  0.000000   \n",
       "paris                     79961.0  0.894511  0.307184  0.0  1.000000   \n",
       "previous_request          79961.0  0.861170  0.345771  0.0  1.000000   \n",
       "previous_request_success  79961.0  0.409950  0.720804 -1.0  0.000000   \n",
       "\n",
       "                               50%       75%       max  \n",
       "nlp_scoring               0.567923  0.659362  0.953058  \n",
       "DDCT                      0.000000  0.000000  1.000000  \n",
       "DAC                       0.000000  0.000000  1.000000  \n",
       "DASES                     0.000000  0.000000  1.000000  \n",
       "DJS                       0.000000  0.000000  1.000000  \n",
       "DAE                       0.000000  0.000000  1.000000  \n",
       "DFPE                      0.000000  0.000000  1.000000  \n",
       "DASCO                     0.000000  0.000000  1.000000  \n",
       "projet                    0.000000  1.000000  1.000000  \n",
       "fonctionnement            0.000000  1.000000  1.000000  \n",
       "investissement            0.000000  0.000000  1.000000  \n",
       "culture_et_arts           0.000000  1.000000  1.000000  \n",
       "education_et_formation    0.000000  1.000000  1.000000  \n",
       "loisirs                   0.000000  0.000000  1.000000  \n",
       "precarite_et_exclusion    0.000000  0.000000  1.000000  \n",
       "social                    0.000000  1.000000  1.000000  \n",
       "sport                     0.000000  0.000000  1.000000  \n",
       "vie_et_animation_locale   0.000000  1.000000  1.000000  \n",
       "paris                     1.000000  1.000000  1.000000  \n",
       "previous_request          1.000000  1.000000  1.000000  \n",
       "previous_request_success  1.000000  1.000000  1.000000  "
      ]
     },
     "execution_count": 40,
     "metadata": {},
     "output_type": "execute_result"
    }
   ],
   "source": [
    "# Final check\n",
    "X.describe().T"
   ]
  },
  {
   "cell_type": "code",
   "execution_count": 41,
   "metadata": {},
   "outputs": [],
   "source": [
    "# Seems all in order\n",
    "features = X.columns"
   ]
  },
  {
   "cell_type": "markdown",
   "metadata": {},
   "source": [
    "### MACHINE LEARNING: TRY 1"
   ]
  },
  {
   "cell_type": "markdown",
   "metadata": {},
   "source": [
    "#### Train vs. test data"
   ]
  },
  {
   "cell_type": "code",
   "execution_count": 42,
   "metadata": {},
   "outputs": [
    {
     "name": "stdout",
     "output_type": "stream",
     "text": [
      "(79961, 21)\n",
      "(79961,)\n"
     ]
    }
   ],
   "source": [
    "y = data.subsidy_granted_bool\n",
    "print(X.shape)\n",
    "print(y.shape)"
   ]
  },
  {
   "cell_type": "code",
   "execution_count": 43,
   "metadata": {},
   "outputs": [],
   "source": [
    "# random_state = 42 so we get the same split as in NLP\n",
    "X_train, X_test, y_train, y_test = train_test_split(X, y, test_size=0.2, random_state=42)"
   ]
  },
  {
   "cell_type": "markdown",
   "metadata": {},
   "source": [
    "#### Decision Tree Classifier"
   ]
  },
  {
   "cell_type": "code",
   "execution_count": 44,
   "metadata": {},
   "outputs": [],
   "source": [
    "dtc = DecisionTreeClassifier(random_state=42)\n",
    "dtc = dtc.fit(X_train, y_train)"
   ]
  },
  {
   "cell_type": "code",
   "execution_count": 45,
   "metadata": {},
   "outputs": [
    {
     "data": {
      "text/plain": [
       "array([[24814,   136],\n",
       "       [  212, 38806]])"
      ]
     },
     "execution_count": 45,
     "metadata": {},
     "output_type": "execute_result"
    }
   ],
   "source": [
    "confusion_matrix(y_train, dtc.predict(X_train))"
   ]
  },
  {
   "cell_type": "code",
   "execution_count": 46,
   "metadata": {},
   "outputs": [
    {
     "data": {
      "text/plain": [
       "array([[5660,  580],\n",
       "       [ 604, 9149]])"
      ]
     },
     "execution_count": 46,
     "metadata": {},
     "output_type": "execute_result"
    }
   ],
   "source": [
    "confusion_matrix(y_test, dtc.predict(X_test))"
   ]
  },
  {
   "cell_type": "code",
   "execution_count": 47,
   "metadata": {},
   "outputs": [
    {
     "data": {
      "text/html": [
       "<div>\n",
       "<style scoped>\n",
       "    .dataframe tbody tr th:only-of-type {\n",
       "        vertical-align: middle;\n",
       "    }\n",
       "\n",
       "    .dataframe tbody tr th {\n",
       "        vertical-align: top;\n",
       "    }\n",
       "\n",
       "    .dataframe thead th {\n",
       "        text-align: right;\n",
       "    }\n",
       "</style>\n",
       "<table border=\"1\" class=\"dataframe\">\n",
       "  <thead>\n",
       "    <tr style=\"text-align: right;\">\n",
       "      <th></th>\n",
       "      <th>accuracy</th>\n",
       "      <th>f1</th>\n",
       "      <th>recall</th>\n",
       "      <th>precision</th>\n",
       "    </tr>\n",
       "  </thead>\n",
       "  <tbody>\n",
       "    <tr>\n",
       "      <th>train</th>\n",
       "      <td>0.994560</td>\n",
       "      <td>0.995536</td>\n",
       "      <td>0.994567</td>\n",
       "      <td>0.996508</td>\n",
       "    </tr>\n",
       "    <tr>\n",
       "      <th>test</th>\n",
       "      <td>0.925968</td>\n",
       "      <td>0.939226</td>\n",
       "      <td>0.938070</td>\n",
       "      <td>0.940384</td>\n",
       "    </tr>\n",
       "  </tbody>\n",
       "</table>\n",
       "</div>"
      ],
      "text/plain": [
       "       accuracy        f1    recall  precision\n",
       "train  0.994560  0.995536  0.994567   0.996508\n",
       "test   0.925968  0.939226  0.938070   0.940384"
      ]
     },
     "execution_count": 47,
     "metadata": {},
     "output_type": "execute_result"
    }
   ],
   "source": [
    "show_metrics(X_train, y_train, X_test, y_test, pos_label=True, model = dtc)"
   ]
  },
  {
   "cell_type": "markdown",
   "metadata": {},
   "source": [
    "Very high scores! Let's examine if some features have an overwhelming importance."
   ]
  },
  {
   "cell_type": "code",
   "execution_count": 48,
   "metadata": {},
   "outputs": [
    {
     "data": {
      "text/html": [
       "<div>\n",
       "<style scoped>\n",
       "    .dataframe tbody tr th:only-of-type {\n",
       "        vertical-align: middle;\n",
       "    }\n",
       "\n",
       "    .dataframe tbody tr th {\n",
       "        vertical-align: top;\n",
       "    }\n",
       "\n",
       "    .dataframe thead th {\n",
       "        text-align: right;\n",
       "    }\n",
       "</style>\n",
       "<table border=\"1\" class=\"dataframe\">\n",
       "  <thead>\n",
       "    <tr style=\"text-align: right;\">\n",
       "      <th></th>\n",
       "      <th>importance</th>\n",
       "    </tr>\n",
       "  </thead>\n",
       "  <tbody>\n",
       "    <tr>\n",
       "      <th>projet</th>\n",
       "      <td>0.546772</td>\n",
       "    </tr>\n",
       "    <tr>\n",
       "      <th>fonctionnement</th>\n",
       "      <td>0.221601</td>\n",
       "    </tr>\n",
       "    <tr>\n",
       "      <th>nlp_scoring</th>\n",
       "      <td>0.097422</td>\n",
       "    </tr>\n",
       "    <tr>\n",
       "      <th>investissement</th>\n",
       "      <td>0.083140</td>\n",
       "    </tr>\n",
       "    <tr>\n",
       "      <th>previous_request_success</th>\n",
       "      <td>0.007966</td>\n",
       "    </tr>\n",
       "    <tr>\n",
       "      <th>culture_et_arts</th>\n",
       "      <td>0.005151</td>\n",
       "    </tr>\n",
       "    <tr>\n",
       "      <th>vie_et_animation_locale</th>\n",
       "      <td>0.004875</td>\n",
       "    </tr>\n",
       "    <tr>\n",
       "      <th>education_et_formation</th>\n",
       "      <td>0.004815</td>\n",
       "    </tr>\n",
       "    <tr>\n",
       "      <th>social</th>\n",
       "      <td>0.003931</td>\n",
       "    </tr>\n",
       "    <tr>\n",
       "      <th>DDCT</th>\n",
       "      <td>0.003717</td>\n",
       "    </tr>\n",
       "    <tr>\n",
       "      <th>paris</th>\n",
       "      <td>0.003012</td>\n",
       "    </tr>\n",
       "    <tr>\n",
       "      <th>loisirs</th>\n",
       "      <td>0.002932</td>\n",
       "    </tr>\n",
       "    <tr>\n",
       "      <th>DASCO</th>\n",
       "      <td>0.002896</td>\n",
       "    </tr>\n",
       "    <tr>\n",
       "      <th>sport</th>\n",
       "      <td>0.002624</td>\n",
       "    </tr>\n",
       "    <tr>\n",
       "      <th>precarite_et_exclusion</th>\n",
       "      <td>0.002613</td>\n",
       "    </tr>\n",
       "    <tr>\n",
       "      <th>previous_request</th>\n",
       "      <td>0.002485</td>\n",
       "    </tr>\n",
       "    <tr>\n",
       "      <th>DAE</th>\n",
       "      <td>0.001193</td>\n",
       "    </tr>\n",
       "    <tr>\n",
       "      <th>DJS</th>\n",
       "      <td>0.001126</td>\n",
       "    </tr>\n",
       "    <tr>\n",
       "      <th>DASES</th>\n",
       "      <td>0.000978</td>\n",
       "    </tr>\n",
       "    <tr>\n",
       "      <th>DAC</th>\n",
       "      <td>0.000504</td>\n",
       "    </tr>\n",
       "    <tr>\n",
       "      <th>DFPE</th>\n",
       "      <td>0.000247</td>\n",
       "    </tr>\n",
       "  </tbody>\n",
       "</table>\n",
       "</div>"
      ],
      "text/plain": [
       "                          importance\n",
       "projet                      0.546772\n",
       "fonctionnement              0.221601\n",
       "nlp_scoring                 0.097422\n",
       "investissement              0.083140\n",
       "previous_request_success    0.007966\n",
       "culture_et_arts             0.005151\n",
       "vie_et_animation_locale     0.004875\n",
       "education_et_formation      0.004815\n",
       "social                      0.003931\n",
       "DDCT                        0.003717\n",
       "paris                       0.003012\n",
       "loisirs                     0.002932\n",
       "DASCO                       0.002896\n",
       "sport                       0.002624\n",
       "precarite_et_exclusion      0.002613\n",
       "previous_request            0.002485\n",
       "DAE                         0.001193\n",
       "DJS                         0.001126\n",
       "DASES                       0.000978\n",
       "DAC                         0.000504\n",
       "DFPE                        0.000247"
      ]
     },
     "execution_count": 48,
     "metadata": {},
     "output_type": "execute_result"
    }
   ],
   "source": [
    "# Get weights\n",
    "importance = dtc.feature_importances_\n",
    "\n",
    "# Put in dictionary\n",
    "dct_features_importance = {f:i for (f,i) in zip(X_train.columns, importance)}\n",
    "\n",
    "# Sort by importance\n",
    "dct_features_importance = dict(sorted(dct_features_importance.items(), key=lambda item: item[1], reverse = True))\n",
    "\n",
    "# Summarize feature importance\n",
    "pd.DataFrame.from_dict(dct_features_importance, orient = 'index', columns = ['importance'])"
   ]
  },
  {
   "cell_type": "markdown",
   "metadata": {},
   "source": [
    "project, fonctionnement, and investissement are of the same nature (nature_subvention) and are standing out.\n",
    "\n",
    "Let's check with other models."
   ]
  },
  {
   "cell_type": "markdown",
   "metadata": {},
   "source": [
    "#### Support Vector Classification"
   ]
  },
  {
   "cell_type": "code",
   "execution_count": 49,
   "metadata": {},
   "outputs": [],
   "source": [
    "#svc = SVC(verbose=True)\n",
    "#svc.fit(X_train, y_train)"
   ]
  },
  {
   "cell_type": "code",
   "execution_count": 50,
   "metadata": {},
   "outputs": [],
   "source": [
    "#show_metrics(X_train, y_train, X_test, y_test, pos_label=True, model = svc)"
   ]
  },
  {
   "cell_type": "markdown",
   "metadata": {},
   "source": [
    "Very high scores again."
   ]
  },
  {
   "cell_type": "markdown",
   "metadata": {},
   "source": [
    "#### Logistic Regression"
   ]
  },
  {
   "cell_type": "code",
   "execution_count": 51,
   "metadata": {},
   "outputs": [
    {
     "data": {
      "text/plain": [
       "LogisticRegression()"
      ]
     },
     "execution_count": 51,
     "metadata": {},
     "output_type": "execute_result"
    }
   ],
   "source": [
    "lr = LogisticRegression()\n",
    "lr.fit(X_train, y_train)"
   ]
  },
  {
   "cell_type": "code",
   "execution_count": 52,
   "metadata": {},
   "outputs": [
    {
     "data": {
      "text/html": [
       "<div>\n",
       "<style scoped>\n",
       "    .dataframe tbody tr th:only-of-type {\n",
       "        vertical-align: middle;\n",
       "    }\n",
       "\n",
       "    .dataframe tbody tr th {\n",
       "        vertical-align: top;\n",
       "    }\n",
       "\n",
       "    .dataframe thead th {\n",
       "        text-align: right;\n",
       "    }\n",
       "</style>\n",
       "<table border=\"1\" class=\"dataframe\">\n",
       "  <thead>\n",
       "    <tr style=\"text-align: right;\">\n",
       "      <th></th>\n",
       "      <th>accuracy</th>\n",
       "      <th>f1</th>\n",
       "      <th>recall</th>\n",
       "      <th>precision</th>\n",
       "    </tr>\n",
       "  </thead>\n",
       "  <tbody>\n",
       "    <tr>\n",
       "      <th>train</th>\n",
       "      <td>0.959417</td>\n",
       "      <td>0.967263</td>\n",
       "      <td>0.982905</td>\n",
       "      <td>0.952110</td>\n",
       "    </tr>\n",
       "    <tr>\n",
       "      <th>test</th>\n",
       "      <td>0.959107</td>\n",
       "      <td>0.967020</td>\n",
       "      <td>0.983082</td>\n",
       "      <td>0.951474</td>\n",
       "    </tr>\n",
       "  </tbody>\n",
       "</table>\n",
       "</div>"
      ],
      "text/plain": [
       "       accuracy        f1    recall  precision\n",
       "train  0.959417  0.967263  0.982905   0.952110\n",
       "test   0.959107  0.967020  0.983082   0.951474"
      ]
     },
     "execution_count": 52,
     "metadata": {},
     "output_type": "execute_result"
    }
   ],
   "source": [
    "show_metrics(X_train, y_train, X_test, y_test, pos_label=True, model = lr)"
   ]
  },
  {
   "cell_type": "markdown",
   "metadata": {},
   "source": [
    "Let's look at coefficients."
   ]
  },
  {
   "cell_type": "code",
   "execution_count": 53,
   "metadata": {},
   "outputs": [
    {
     "data": {
      "text/html": [
       "<div>\n",
       "<style scoped>\n",
       "    .dataframe tbody tr th:only-of-type {\n",
       "        vertical-align: middle;\n",
       "    }\n",
       "\n",
       "    .dataframe tbody tr th {\n",
       "        vertical-align: top;\n",
       "    }\n",
       "\n",
       "    .dataframe thead th {\n",
       "        text-align: right;\n",
       "    }\n",
       "</style>\n",
       "<table border=\"1\" class=\"dataframe\">\n",
       "  <thead>\n",
       "    <tr style=\"text-align: right;\">\n",
       "      <th></th>\n",
       "      <th>coef</th>\n",
       "    </tr>\n",
       "  </thead>\n",
       "  <tbody>\n",
       "    <tr>\n",
       "      <th>projet</th>\n",
       "      <td>7.047560</td>\n",
       "    </tr>\n",
       "    <tr>\n",
       "      <th>investissement</th>\n",
       "      <td>6.721273</td>\n",
       "    </tr>\n",
       "    <tr>\n",
       "      <th>fonctionnement</th>\n",
       "      <td>6.432211</td>\n",
       "    </tr>\n",
       "    <tr>\n",
       "      <th>nlp_scoring</th>\n",
       "      <td>5.132977</td>\n",
       "    </tr>\n",
       "    <tr>\n",
       "      <th>previous_request_success</th>\n",
       "      <td>0.446061</td>\n",
       "    </tr>\n",
       "    <tr>\n",
       "      <th>DASES</th>\n",
       "      <td>0.117563</td>\n",
       "    </tr>\n",
       "    <tr>\n",
       "      <th>paris</th>\n",
       "      <td>0.104367</td>\n",
       "    </tr>\n",
       "    <tr>\n",
       "      <th>culture_et_arts</th>\n",
       "      <td>0.077581</td>\n",
       "    </tr>\n",
       "    <tr>\n",
       "      <th>social</th>\n",
       "      <td>0.051258</td>\n",
       "    </tr>\n",
       "    <tr>\n",
       "      <th>education_et_formation</th>\n",
       "      <td>-0.017287</td>\n",
       "    </tr>\n",
       "    <tr>\n",
       "      <th>precarite_et_exclusion</th>\n",
       "      <td>-0.023842</td>\n",
       "    </tr>\n",
       "    <tr>\n",
       "      <th>DFPE</th>\n",
       "      <td>-0.086828</td>\n",
       "    </tr>\n",
       "    <tr>\n",
       "      <th>loisirs</th>\n",
       "      <td>-0.112404</td>\n",
       "    </tr>\n",
       "    <tr>\n",
       "      <th>vie_et_animation_locale</th>\n",
       "      <td>-0.119910</td>\n",
       "    </tr>\n",
       "    <tr>\n",
       "      <th>DAE</th>\n",
       "      <td>-0.180010</td>\n",
       "    </tr>\n",
       "    <tr>\n",
       "      <th>sport</th>\n",
       "      <td>-0.194061</td>\n",
       "    </tr>\n",
       "    <tr>\n",
       "      <th>DAC</th>\n",
       "      <td>-0.251800</td>\n",
       "    </tr>\n",
       "    <tr>\n",
       "      <th>previous_request</th>\n",
       "      <td>-0.333952</td>\n",
       "    </tr>\n",
       "    <tr>\n",
       "      <th>DJS</th>\n",
       "      <td>-0.688415</td>\n",
       "    </tr>\n",
       "    <tr>\n",
       "      <th>DASCO</th>\n",
       "      <td>-1.205130</td>\n",
       "    </tr>\n",
       "    <tr>\n",
       "      <th>DDCT</th>\n",
       "      <td>-1.674811</td>\n",
       "    </tr>\n",
       "  </tbody>\n",
       "</table>\n",
       "</div>"
      ],
      "text/plain": [
       "                              coef\n",
       "projet                    7.047560\n",
       "investissement            6.721273\n",
       "fonctionnement            6.432211\n",
       "nlp_scoring               5.132977\n",
       "previous_request_success  0.446061\n",
       "DASES                     0.117563\n",
       "paris                     0.104367\n",
       "culture_et_arts           0.077581\n",
       "social                    0.051258\n",
       "education_et_formation   -0.017287\n",
       "precarite_et_exclusion   -0.023842\n",
       "DFPE                     -0.086828\n",
       "loisirs                  -0.112404\n",
       "vie_et_animation_locale  -0.119910\n",
       "DAE                      -0.180010\n",
       "sport                    -0.194061\n",
       "DAC                      -0.251800\n",
       "previous_request         -0.333952\n",
       "DJS                      -0.688415\n",
       "DASCO                    -1.205130\n",
       "DDCT                     -1.674811"
      ]
     },
     "execution_count": 53,
     "metadata": {},
     "output_type": "execute_result"
    }
   ],
   "source": [
    "# Get weights\n",
    "importance = lr.coef_[0]\n",
    "\n",
    "# Put in dictionary\n",
    "dct_features_importance = {f:i for (f,i) in zip(X_train.columns, importance)}\n",
    "\n",
    "# Sort by importance\n",
    "dct_features_importance = dict(sorted(dct_features_importance.items(), key=lambda item: item[1], reverse = True))\n",
    "\n",
    "# Summarize feature importance\n",
    "pd.DataFrame.from_dict(dct_features_importance, orient = 'index', columns = ['coef'])"
   ]
  },
  {
   "cell_type": "markdown",
   "metadata": {},
   "source": [
    "Again, projet, investissement and fonctionnement are standing out.\n",
    "\n",
    "Updated EDA view shows that the reject rate for the requests tagged as project, investissement or fonctionnement is very low (<4%) while it is very high (>97%) if the request is taggued as 'Non précisée'.\n",
    "\n",
    "Maybe this is not a piece of information provided by the association, but a field filled a posteriori by the public servants... and they do not bother filling it if the request was rejected.\n",
    "\n",
    "In this case, we should take these features out."
   ]
  },
  {
   "cell_type": "markdown",
   "metadata": {},
   "source": [
    "### MACHINE LEARNING: TRY 2"
   ]
  },
  {
   "cell_type": "markdown",
   "metadata": {},
   "source": [
    "#### Feature reduction"
   ]
  },
  {
   "cell_type": "code",
   "execution_count": 54,
   "metadata": {},
   "outputs": [],
   "source": [
    "X_train_red = X_train.drop(['fonctionnement', 'investissement', 'projet'], axis = 1)\n",
    "X_test_red = X_test.drop(['fonctionnement', 'investissement', 'projet'], axis = 1)"
   ]
  },
  {
   "cell_type": "markdown",
   "metadata": {},
   "source": [
    "#### Decision Tree Classifier"
   ]
  },
  {
   "cell_type": "code",
   "execution_count": 55,
   "metadata": {},
   "outputs": [
    {
     "data": {
      "text/html": [
       "<div>\n",
       "<style scoped>\n",
       "    .dataframe tbody tr th:only-of-type {\n",
       "        vertical-align: middle;\n",
       "    }\n",
       "\n",
       "    .dataframe tbody tr th {\n",
       "        vertical-align: top;\n",
       "    }\n",
       "\n",
       "    .dataframe thead th {\n",
       "        text-align: right;\n",
       "    }\n",
       "</style>\n",
       "<table border=\"1\" class=\"dataframe\">\n",
       "  <thead>\n",
       "    <tr style=\"text-align: right;\">\n",
       "      <th></th>\n",
       "      <th>accuracy</th>\n",
       "      <th>f1</th>\n",
       "      <th>recall</th>\n",
       "      <th>precision</th>\n",
       "    </tr>\n",
       "  </thead>\n",
       "  <tbody>\n",
       "    <tr>\n",
       "      <th>train</th>\n",
       "      <td>0.965045</td>\n",
       "      <td>0.971168</td>\n",
       "      <td>0.965144</td>\n",
       "      <td>0.977267</td>\n",
       "    </tr>\n",
       "    <tr>\n",
       "      <th>test</th>\n",
       "      <td>0.646033</td>\n",
       "      <td>0.710805</td>\n",
       "      <td>0.713319</td>\n",
       "      <td>0.708308</td>\n",
       "    </tr>\n",
       "  </tbody>\n",
       "</table>\n",
       "</div>"
      ],
      "text/plain": [
       "       accuracy        f1    recall  precision\n",
       "train  0.965045  0.971168  0.965144   0.977267\n",
       "test   0.646033  0.710805  0.713319   0.708308"
      ]
     },
     "execution_count": 55,
     "metadata": {},
     "output_type": "execute_result"
    }
   ],
   "source": [
    "dtc.fit(X_train_red, y_train)\n",
    "show_metrics(X_train_red, y_train, X_test_red, y_test, pos_label=True, model = dtc)"
   ]
  },
  {
   "cell_type": "markdown",
   "metadata": {},
   "source": [
    "Clear overfit, we should hypertune it."
   ]
  },
  {
   "cell_type": "code",
   "execution_count": 56,
   "metadata": {},
   "outputs": [],
   "source": [
    "# Create the parameter grid based on the results of random search \n",
    "params = {\n",
    "    'max_depth': [2, 3, 5],\n",
    "    'min_samples_leaf': [50, 100],\n",
    "    'criterion': [\"gini\", \"entropy\"]\n",
    "}"
   ]
  },
  {
   "cell_type": "code",
   "execution_count": 57,
   "metadata": {},
   "outputs": [],
   "source": [
    "grid_search = GridSearchCV(estimator=dtc, \n",
    "                           param_grid=params, \n",
    "                           cv=4, n_jobs=-1, verbose=1, scoring = \"f1\")"
   ]
  },
  {
   "cell_type": "code",
   "execution_count": 58,
   "metadata": {},
   "outputs": [
    {
     "name": "stdout",
     "output_type": "stream",
     "text": [
      "Fitting 4 folds for each of 12 candidates, totalling 48 fits\n",
      "CPU times: user 168 ms, sys: 193 ms, total: 361 ms\n",
      "Wall time: 2.56 s\n"
     ]
    },
    {
     "data": {
      "text/plain": [
       "GridSearchCV(cv=4, estimator=DecisionTreeClassifier(random_state=42), n_jobs=-1,\n",
       "             param_grid={'criterion': ['gini', 'entropy'],\n",
       "                         'max_depth': [2, 3, 5],\n",
       "                         'min_samples_leaf': [50, 100]},\n",
       "             scoring='f1', verbose=1)"
      ]
     },
     "execution_count": 58,
     "metadata": {},
     "output_type": "execute_result"
    }
   ],
   "source": [
    "%%time\n",
    "grid_search.fit(X_train_red, y_train)"
   ]
  },
  {
   "cell_type": "code",
   "execution_count": 59,
   "metadata": {},
   "outputs": [
    {
     "data": {
      "text/html": [
       "<div>\n",
       "<style scoped>\n",
       "    .dataframe tbody tr th:only-of-type {\n",
       "        vertical-align: middle;\n",
       "    }\n",
       "\n",
       "    .dataframe tbody tr th {\n",
       "        vertical-align: top;\n",
       "    }\n",
       "\n",
       "    .dataframe thead th {\n",
       "        text-align: right;\n",
       "    }\n",
       "</style>\n",
       "<table border=\"1\" class=\"dataframe\">\n",
       "  <thead>\n",
       "    <tr style=\"text-align: right;\">\n",
       "      <th></th>\n",
       "      <th>mean_fit_time</th>\n",
       "      <th>std_fit_time</th>\n",
       "      <th>mean_score_time</th>\n",
       "      <th>std_score_time</th>\n",
       "      <th>param_criterion</th>\n",
       "      <th>param_max_depth</th>\n",
       "      <th>param_min_samples_leaf</th>\n",
       "      <th>params</th>\n",
       "      <th>split0_test_score</th>\n",
       "      <th>split1_test_score</th>\n",
       "      <th>split2_test_score</th>\n",
       "      <th>split3_test_score</th>\n",
       "      <th>mean_test_score</th>\n",
       "      <th>std_test_score</th>\n",
       "      <th>rank_test_score</th>\n",
       "    </tr>\n",
       "  </thead>\n",
       "  <tbody>\n",
       "    <tr>\n",
       "      <th>2</th>\n",
       "      <td>0.052819</td>\n",
       "      <td>0.006826</td>\n",
       "      <td>0.008564</td>\n",
       "      <td>0.002323</td>\n",
       "      <td>gini</td>\n",
       "      <td>3</td>\n",
       "      <td>50</td>\n",
       "      <td>{'criterion': 'gini', 'max_depth': 3, 'min_sam...</td>\n",
       "      <td>0.787415</td>\n",
       "      <td>0.787407</td>\n",
       "      <td>0.784070</td>\n",
       "      <td>0.790025</td>\n",
       "      <td>0.787229</td>\n",
       "      <td>0.002113</td>\n",
       "      <td>1</td>\n",
       "    </tr>\n",
       "    <tr>\n",
       "      <th>3</th>\n",
       "      <td>0.044993</td>\n",
       "      <td>0.001447</td>\n",
       "      <td>0.008281</td>\n",
       "      <td>0.001625</td>\n",
       "      <td>gini</td>\n",
       "      <td>3</td>\n",
       "      <td>100</td>\n",
       "      <td>{'criterion': 'gini', 'max_depth': 3, 'min_sam...</td>\n",
       "      <td>0.787415</td>\n",
       "      <td>0.787407</td>\n",
       "      <td>0.784070</td>\n",
       "      <td>0.790025</td>\n",
       "      <td>0.787229</td>\n",
       "      <td>0.002113</td>\n",
       "      <td>1</td>\n",
       "    </tr>\n",
       "    <tr>\n",
       "      <th>8</th>\n",
       "      <td>0.042144</td>\n",
       "      <td>0.002133</td>\n",
       "      <td>0.007358</td>\n",
       "      <td>0.002607</td>\n",
       "      <td>entropy</td>\n",
       "      <td>3</td>\n",
       "      <td>50</td>\n",
       "      <td>{'criterion': 'entropy', 'max_depth': 3, 'min_...</td>\n",
       "      <td>0.785588</td>\n",
       "      <td>0.787375</td>\n",
       "      <td>0.784070</td>\n",
       "      <td>0.769383</td>\n",
       "      <td>0.781604</td>\n",
       "      <td>0.007152</td>\n",
       "      <td>3</td>\n",
       "    </tr>\n",
       "    <tr>\n",
       "      <th>9</th>\n",
       "      <td>0.039854</td>\n",
       "      <td>0.001531</td>\n",
       "      <td>0.007155</td>\n",
       "      <td>0.002514</td>\n",
       "      <td>entropy</td>\n",
       "      <td>3</td>\n",
       "      <td>100</td>\n",
       "      <td>{'criterion': 'entropy', 'max_depth': 3, 'min_...</td>\n",
       "      <td>0.785588</td>\n",
       "      <td>0.787375</td>\n",
       "      <td>0.784070</td>\n",
       "      <td>0.769383</td>\n",
       "      <td>0.781604</td>\n",
       "      <td>0.007152</td>\n",
       "      <td>3</td>\n",
       "    </tr>\n",
       "    <tr>\n",
       "      <th>4</th>\n",
       "      <td>0.070926</td>\n",
       "      <td>0.009380</td>\n",
       "      <td>0.009812</td>\n",
       "      <td>0.003642</td>\n",
       "      <td>gini</td>\n",
       "      <td>5</td>\n",
       "      <td>50</td>\n",
       "      <td>{'criterion': 'gini', 'max_depth': 5, 'min_sam...</td>\n",
       "      <td>0.784649</td>\n",
       "      <td>0.780639</td>\n",
       "      <td>0.779112</td>\n",
       "      <td>0.781500</td>\n",
       "      <td>0.781475</td>\n",
       "      <td>0.002022</td>\n",
       "      <td>5</td>\n",
       "    </tr>\n",
       "  </tbody>\n",
       "</table>\n",
       "</div>"
      ],
      "text/plain": [
       "   mean_fit_time  std_fit_time  mean_score_time  std_score_time  \\\n",
       "2       0.052819      0.006826         0.008564        0.002323   \n",
       "3       0.044993      0.001447         0.008281        0.001625   \n",
       "8       0.042144      0.002133         0.007358        0.002607   \n",
       "9       0.039854      0.001531         0.007155        0.002514   \n",
       "4       0.070926      0.009380         0.009812        0.003642   \n",
       "\n",
       "  param_criterion param_max_depth param_min_samples_leaf  \\\n",
       "2            gini               3                     50   \n",
       "3            gini               3                    100   \n",
       "8         entropy               3                     50   \n",
       "9         entropy               3                    100   \n",
       "4            gini               5                     50   \n",
       "\n",
       "                                              params  split0_test_score  \\\n",
       "2  {'criterion': 'gini', 'max_depth': 3, 'min_sam...           0.787415   \n",
       "3  {'criterion': 'gini', 'max_depth': 3, 'min_sam...           0.787415   \n",
       "8  {'criterion': 'entropy', 'max_depth': 3, 'min_...           0.785588   \n",
       "9  {'criterion': 'entropy', 'max_depth': 3, 'min_...           0.785588   \n",
       "4  {'criterion': 'gini', 'max_depth': 5, 'min_sam...           0.784649   \n",
       "\n",
       "   split1_test_score  split2_test_score  split3_test_score  mean_test_score  \\\n",
       "2           0.787407           0.784070           0.790025         0.787229   \n",
       "3           0.787407           0.784070           0.790025         0.787229   \n",
       "8           0.787375           0.784070           0.769383         0.781604   \n",
       "9           0.787375           0.784070           0.769383         0.781604   \n",
       "4           0.780639           0.779112           0.781500         0.781475   \n",
       "\n",
       "   std_test_score  rank_test_score  \n",
       "2        0.002113                1  \n",
       "3        0.002113                1  \n",
       "8        0.007152                3  \n",
       "9        0.007152                3  \n",
       "4        0.002022                5  "
      ]
     },
     "execution_count": 59,
     "metadata": {},
     "output_type": "execute_result"
    }
   ],
   "source": [
    "score_df = pd.DataFrame(grid_search.cv_results_)\n",
    "score_df.nlargest(5,\"mean_test_score\")"
   ]
  },
  {
   "cell_type": "code",
   "execution_count": 60,
   "metadata": {},
   "outputs": [
    {
     "data": {
      "text/plain": [
       "DecisionTreeClassifier(max_depth=3, min_samples_leaf=50, random_state=42)"
      ]
     },
     "execution_count": 60,
     "metadata": {},
     "output_type": "execute_result"
    }
   ],
   "source": [
    "dtc_best = grid_search.best_estimator_\n",
    "dtc_best"
   ]
  },
  {
   "cell_type": "code",
   "execution_count": 61,
   "metadata": {},
   "outputs": [
    {
     "data": {
      "text/html": [
       "<div>\n",
       "<style scoped>\n",
       "    .dataframe tbody tr th:only-of-type {\n",
       "        vertical-align: middle;\n",
       "    }\n",
       "\n",
       "    .dataframe tbody tr th {\n",
       "        vertical-align: top;\n",
       "    }\n",
       "\n",
       "    .dataframe thead th {\n",
       "        text-align: right;\n",
       "    }\n",
       "</style>\n",
       "<table border=\"1\" class=\"dataframe\">\n",
       "  <thead>\n",
       "    <tr style=\"text-align: right;\">\n",
       "      <th></th>\n",
       "      <th>accuracy</th>\n",
       "      <th>f1</th>\n",
       "      <th>recall</th>\n",
       "      <th>precision</th>\n",
       "    </tr>\n",
       "  </thead>\n",
       "  <tbody>\n",
       "    <tr>\n",
       "      <th>train</th>\n",
       "      <td>0.712403</td>\n",
       "      <td>0.787266</td>\n",
       "      <td>0.872443</td>\n",
       "      <td>0.717242</td>\n",
       "    </tr>\n",
       "    <tr>\n",
       "      <th>test</th>\n",
       "      <td>0.674420</td>\n",
       "      <td>0.759636</td>\n",
       "      <td>0.843638</td>\n",
       "      <td>0.690848</td>\n",
       "    </tr>\n",
       "  </tbody>\n",
       "</table>\n",
       "</div>"
      ],
      "text/plain": [
       "       accuracy        f1    recall  precision\n",
       "train  0.712403  0.787266  0.872443   0.717242\n",
       "test   0.674420  0.759636  0.843638   0.690848"
      ]
     },
     "execution_count": 61,
     "metadata": {},
     "output_type": "execute_result"
    }
   ],
   "source": [
    "show_metrics(X_train_red, y_train, X_test_red, y_test, pos_label=True, model = dtc_best)"
   ]
  },
  {
   "cell_type": "markdown",
   "metadata": {},
   "source": [
    "Best model for DTC, let's look at features importance."
   ]
  },
  {
   "cell_type": "code",
   "execution_count": 62,
   "metadata": {},
   "outputs": [
    {
     "data": {
      "text/html": [
       "<div>\n",
       "<style scoped>\n",
       "    .dataframe tbody tr th:only-of-type {\n",
       "        vertical-align: middle;\n",
       "    }\n",
       "\n",
       "    .dataframe tbody tr th {\n",
       "        vertical-align: top;\n",
       "    }\n",
       "\n",
       "    .dataframe thead th {\n",
       "        text-align: right;\n",
       "    }\n",
       "</style>\n",
       "<table border=\"1\" class=\"dataframe\">\n",
       "  <thead>\n",
       "    <tr style=\"text-align: right;\">\n",
       "      <th></th>\n",
       "      <th>importance</th>\n",
       "    </tr>\n",
       "  </thead>\n",
       "  <tbody>\n",
       "    <tr>\n",
       "      <th>nlp_scoring</th>\n",
       "      <td>0.896026</td>\n",
       "    </tr>\n",
       "    <tr>\n",
       "      <th>previous_request_success</th>\n",
       "      <td>0.103974</td>\n",
       "    </tr>\n",
       "    <tr>\n",
       "      <th>DDCT</th>\n",
       "      <td>0.000000</td>\n",
       "    </tr>\n",
       "    <tr>\n",
       "      <th>DAC</th>\n",
       "      <td>0.000000</td>\n",
       "    </tr>\n",
       "    <tr>\n",
       "      <th>DASES</th>\n",
       "      <td>0.000000</td>\n",
       "    </tr>\n",
       "    <tr>\n",
       "      <th>DJS</th>\n",
       "      <td>0.000000</td>\n",
       "    </tr>\n",
       "    <tr>\n",
       "      <th>DAE</th>\n",
       "      <td>0.000000</td>\n",
       "    </tr>\n",
       "    <tr>\n",
       "      <th>DFPE</th>\n",
       "      <td>0.000000</td>\n",
       "    </tr>\n",
       "    <tr>\n",
       "      <th>DASCO</th>\n",
       "      <td>0.000000</td>\n",
       "    </tr>\n",
       "    <tr>\n",
       "      <th>culture_et_arts</th>\n",
       "      <td>0.000000</td>\n",
       "    </tr>\n",
       "    <tr>\n",
       "      <th>education_et_formation</th>\n",
       "      <td>0.000000</td>\n",
       "    </tr>\n",
       "    <tr>\n",
       "      <th>loisirs</th>\n",
       "      <td>0.000000</td>\n",
       "    </tr>\n",
       "    <tr>\n",
       "      <th>precarite_et_exclusion</th>\n",
       "      <td>0.000000</td>\n",
       "    </tr>\n",
       "    <tr>\n",
       "      <th>social</th>\n",
       "      <td>0.000000</td>\n",
       "    </tr>\n",
       "    <tr>\n",
       "      <th>sport</th>\n",
       "      <td>0.000000</td>\n",
       "    </tr>\n",
       "    <tr>\n",
       "      <th>vie_et_animation_locale</th>\n",
       "      <td>0.000000</td>\n",
       "    </tr>\n",
       "    <tr>\n",
       "      <th>paris</th>\n",
       "      <td>0.000000</td>\n",
       "    </tr>\n",
       "    <tr>\n",
       "      <th>previous_request</th>\n",
       "      <td>0.000000</td>\n",
       "    </tr>\n",
       "  </tbody>\n",
       "</table>\n",
       "</div>"
      ],
      "text/plain": [
       "                          importance\n",
       "nlp_scoring                 0.896026\n",
       "previous_request_success    0.103974\n",
       "DDCT                        0.000000\n",
       "DAC                         0.000000\n",
       "DASES                       0.000000\n",
       "DJS                         0.000000\n",
       "DAE                         0.000000\n",
       "DFPE                        0.000000\n",
       "DASCO                       0.000000\n",
       "culture_et_arts             0.000000\n",
       "education_et_formation      0.000000\n",
       "loisirs                     0.000000\n",
       "precarite_et_exclusion      0.000000\n",
       "social                      0.000000\n",
       "sport                       0.000000\n",
       "vie_et_animation_locale     0.000000\n",
       "paris                       0.000000\n",
       "previous_request            0.000000"
      ]
     },
     "execution_count": 62,
     "metadata": {},
     "output_type": "execute_result"
    }
   ],
   "source": [
    "# Get weights\n",
    "importance = dtc_best.feature_importances_\n",
    "\n",
    "# Put in dictionary\n",
    "dct_features_importance = {f:i for (f,i) in zip(X_train_red.columns, importance)}\n",
    "\n",
    "# Sort by importance\n",
    "dct_features_importance = dict(sorted(dct_features_importance.items(), key=lambda item: item[1], reverse = True))\n",
    "\n",
    "# Summarize feature importance\n",
    "pd.DataFrame.from_dict(dct_features_importance, orient = 'index', columns = ['importance'])"
   ]
  },
  {
   "cell_type": "markdown",
   "metadata": {},
   "source": [
    "It is now essentially depending on the description and the success of a previous request.\n",
    "\n",
    "Let's reduce again the features by taking out the direction (likely the association cannot choose the direction to which it refers its request). We can also drop the 'previous_request' feature as the information is also contained with 'previous_request_success' (-1 if no previous request)."
   ]
  },
  {
   "cell_type": "code",
   "execution_count": 63,
   "metadata": {},
   "outputs": [],
   "source": [
    "X_train_red_red = X_train_red.drop(['DDCT', 'DAC', 'DFPE', 'DASES', 'DJS', 'DAE', 'DASCO', 'previous_request'], axis = 1)\n",
    "X_test_red_red = X_test_red.drop(['DDCT', 'DAC', 'DFPE', 'DASES', 'DJS', 'DAE', 'DASCO', 'previous_request'], axis = 1)"
   ]
  },
  {
   "cell_type": "code",
   "execution_count": 64,
   "metadata": {},
   "outputs": [
    {
     "name": "stdout",
     "output_type": "stream",
     "text": [
      "Fitting 4 folds for each of 12 candidates, totalling 48 fits\n",
      "CPU times: user 105 ms, sys: 65.2 ms, total: 170 ms\n",
      "Wall time: 681 ms\n"
     ]
    },
    {
     "data": {
      "text/plain": [
       "GridSearchCV(cv=4, estimator=DecisionTreeClassifier(random_state=42), n_jobs=-1,\n",
       "             param_grid={'criterion': ['gini', 'entropy'],\n",
       "                         'max_depth': [2, 3, 5],\n",
       "                         'min_samples_leaf': [50, 100]},\n",
       "             scoring='f1', verbose=1)"
      ]
     },
     "execution_count": 64,
     "metadata": {},
     "output_type": "execute_result"
    }
   ],
   "source": [
    "%%time\n",
    "grid_search.fit(X_train_red_red, y_train)"
   ]
  },
  {
   "cell_type": "code",
   "execution_count": 65,
   "metadata": {},
   "outputs": [
    {
     "data": {
      "text/plain": [
       "DecisionTreeClassifier(max_depth=3, min_samples_leaf=50, random_state=42)"
      ]
     },
     "execution_count": 65,
     "metadata": {},
     "output_type": "execute_result"
    }
   ],
   "source": [
    "dtc_best = grid_search.best_estimator_\n",
    "dtc_best"
   ]
  },
  {
   "cell_type": "code",
   "execution_count": 66,
   "metadata": {},
   "outputs": [
    {
     "data": {
      "text/html": [
       "<div>\n",
       "<style scoped>\n",
       "    .dataframe tbody tr th:only-of-type {\n",
       "        vertical-align: middle;\n",
       "    }\n",
       "\n",
       "    .dataframe tbody tr th {\n",
       "        vertical-align: top;\n",
       "    }\n",
       "\n",
       "    .dataframe thead th {\n",
       "        text-align: right;\n",
       "    }\n",
       "</style>\n",
       "<table border=\"1\" class=\"dataframe\">\n",
       "  <thead>\n",
       "    <tr style=\"text-align: right;\">\n",
       "      <th></th>\n",
       "      <th>accuracy</th>\n",
       "      <th>f1</th>\n",
       "      <th>recall</th>\n",
       "      <th>precision</th>\n",
       "    </tr>\n",
       "  </thead>\n",
       "  <tbody>\n",
       "    <tr>\n",
       "      <th>train</th>\n",
       "      <td>0.712403</td>\n",
       "      <td>0.787266</td>\n",
       "      <td>0.872443</td>\n",
       "      <td>0.717242</td>\n",
       "    </tr>\n",
       "    <tr>\n",
       "      <th>test</th>\n",
       "      <td>0.674420</td>\n",
       "      <td>0.759636</td>\n",
       "      <td>0.843638</td>\n",
       "      <td>0.690848</td>\n",
       "    </tr>\n",
       "  </tbody>\n",
       "</table>\n",
       "</div>"
      ],
      "text/plain": [
       "       accuracy        f1    recall  precision\n",
       "train  0.712403  0.787266  0.872443   0.717242\n",
       "test   0.674420  0.759636  0.843638   0.690848"
      ]
     },
     "execution_count": 66,
     "metadata": {},
     "output_type": "execute_result"
    }
   ],
   "source": [
    "show_metrics(X_train_red_red, y_train, X_test_red_red, y_test, pos_label=True, model = dtc_best)"
   ]
  },
  {
   "cell_type": "code",
   "execution_count": 67,
   "metadata": {},
   "outputs": [
    {
     "name": "stderr",
     "output_type": "stream",
     "text": [
      "/Library/Frameworks/Python.framework/Versions/3.10/lib/python3.10/site-packages/sklearn/base.py:450: UserWarning: X does not have valid feature names, but DecisionTreeClassifier was fitted with feature names\n",
      "  warnings.warn(\n"
     ]
    },
    {
     "data": {
      "image/svg+xml": "<svg xmlns=\"http://www.w3.org/2000/svg\" xmlns:dc=\"http://purl.org/dc/elements/1.1/\" xmlns:ns2=\"http://creativecommons.org/ns#\" xmlns:rdf=\"http://www.w3.org/1999/02/22-rdf-syntax-ns#\" xmlns:xlink=\"http://www.w3.org/1999/xlink\" width=\"728.0\" height=\"416.0\" viewBox=\"0.0 0.0 727.5 416.0\">\n<g id=\"graph0\" class=\"graph\" transform=\"scale(1.0 1.0) rotate(0) translate(4 412)\">\n<title>G</title>\n<polygon fill=\"white\" stroke=\"transparent\" points=\"-4,4 -4,-412 723.5,-412 723.5,4 -4,4\" />\n<g id=\"clust8\" class=\"cluster\">\n<title>cluster_legend</title>\n</g>\n\n<g id=\"node1\" class=\"node\">\n<title>node2</title>\n<svg width=\"158px\" height=\"45px\" viewBox=\"0 0 211.435 60.539464\" version=\"1.1\" preserveAspectRatio=\"xMinYMin meet\" x=\"14.5\" y=\"-168\">\n <metadata>\n  <rdf:RDF>\n   <ns2:Work>\n    <dc:type rdf:resource=\"http://purl.org/dc/dcmitype/StillImage\" />\n    <dc:date>2022-04-20T20:42:04.303883</dc:date>\n    <dc:format>image/svg+xml</dc:format>\n    <dc:creator>\n     <ns2:Agent>\n      <dc:title>Matplotlib v3.5.1, https://matplotlib.org/</dc:title>\n     </ns2:Agent>\n    </dc:creator>\n   </ns2:Work>\n  </rdf:RDF>\n </metadata>\n <defs>\n  <style type=\"text/css\">*{stroke-linejoin: round; stroke-linecap: butt}</style>\n </defs>\n <g id=\"figure_1\">\n  <g id=\"patch_1\">\n   <path d=\"M 0 60.539464  L 211.435 60.539464  L 211.435 0  L 0 0  z \" style=\"fill: #ffffff\" />\n  </g>\n  <g id=\"axes_1\">\n   <g id=\"patch_2\">\n    <path d=\"M 27.295 28.748839  L 211.435 28.748839  L 211.435 1.568839  L 27.295 1.568839  z \" style=\"fill: #ffffff\" />\n   </g>\n   <g id=\"matplotlib.axis_1\">\n    <g id=\"xtick_1\">\n     <g id=\"text_1\">\n      \n      <g style=\"fill: #444443\" transform=\"translate(22.734375 43.975089)scale(0.08 -0.08)\">\n       <defs>\n        <path id=\"ArialMT-2212\" d=\"M 3381 1997  L 356 1997  L 356 2522  L 3381 2522  L 3381 1997  z \" transform=\"scale(0.015625)\" />\n        <path id=\"ArialMT-31\" d=\"M 2384 0  L 1822 0  L 1822 3584  Q 1619 3391 1289 3197  Q 959 3003 697 2906  L 697 3450  Q 1169 3672 1522 3987  Q 1875 4303 2022 4600  L 2384 4600  L 2384 0  z \" transform=\"scale(0.015625)\" />\n       </defs>\n       <use xlink:href=\"#ArialMT-2212\" />\n       <use xlink:href=\"#ArialMT-31\" x=\"58.398438\" />\n      </g>\n     </g>\n    </g>\n    <g id=\"xtick_2\">\n     <g id=\"text_2\">\n      \n      <g style=\"fill: #444443\" transform=\"translate(204.719405 43.975089)scale(0.08 -0.08)\">\n       <use xlink:href=\"#ArialMT-31\" />\n      </g>\n     </g>\n    </g>\n    <g id=\"text_3\">\n     \n     <g style=\"fill: #444443\" transform=\"translate(48.330625 58.154464)scale(0.12 -0.12)\">\n      <defs>\n       <path id=\"ArialMT-70\" d=\"M 422 -1272  L 422 3319  L 934 3319  L 934 2888  Q 1116 3141 1344 3267  Q 1572 3394 1897 3394  Q 2322 3394 2647 3175  Q 2972 2956 3137 2557  Q 3303 2159 3303 1684  Q 3303 1175 3120 767  Q 2938 359 2589 142  Q 2241 -75 1856 -75  Q 1575 -75 1351 44  Q 1128 163 984 344  L 984 -1272  L 422 -1272  z M 931 1641  Q 931 1000 1190 694  Q 1450 388 1819 388  Q 2194 388 2461 705  Q 2728 1022 2728 1688  Q 2728 2322 2467 2637  Q 2206 2953 1844 2953  Q 1484 2953 1207 2617  Q 931 2281 931 1641  z \" transform=\"scale(0.015625)\" />\n       <path id=\"ArialMT-72\" d=\"M 416 0  L 416 3319  L 922 3319  L 922 2816  Q 1116 3169 1280 3281  Q 1444 3394 1641 3394  Q 1925 3394 2219 3213  L 2025 2691  Q 1819 2813 1613 2813  Q 1428 2813 1281 2702  Q 1134 2591 1072 2394  Q 978 2094 978 1738  L 978 0  L 416 0  z \" transform=\"scale(0.015625)\" />\n       <path id=\"ArialMT-65\" d=\"M 2694 1069  L 3275 997  Q 3138 488 2766 206  Q 2394 -75 1816 -75  Q 1088 -75 661 373  Q 234 822 234 1631  Q 234 2469 665 2931  Q 1097 3394 1784 3394  Q 2450 3394 2872 2941  Q 3294 2488 3294 1666  Q 3294 1616 3291 1516  L 816 1516  Q 847 969 1125 678  Q 1403 388 1819 388  Q 2128 388 2347 550  Q 2566 713 2694 1069  z M 847 1978  L 2700 1978  Q 2663 2397 2488 2606  Q 2219 2931 1791 2931  Q 1403 2931 1139 2672  Q 875 2413 847 1978  z \" transform=\"scale(0.015625)\" />\n       <path id=\"ArialMT-76\" d=\"M 1344 0  L 81 3319  L 675 3319  L 1388 1331  Q 1503 1009 1600 663  Q 1675 925 1809 1294  L 2547 3319  L 3125 3319  L 1869 0  L 1344 0  z \" transform=\"scale(0.015625)\" />\n       <path id=\"ArialMT-69\" d=\"M 425 3934  L 425 4581  L 988 4581  L 988 3934  L 425 3934  z M 425 0  L 425 3319  L 988 3319  L 988 0  L 425 0  z \" transform=\"scale(0.015625)\" />\n       <path id=\"ArialMT-6f\" d=\"M 213 1659  Q 213 2581 725 3025  Q 1153 3394 1769 3394  Q 2453 3394 2887 2945  Q 3322 2497 3322 1706  Q 3322 1066 3130 698  Q 2938 331 2570 128  Q 2203 -75 1769 -75  Q 1072 -75 642 372  Q 213 819 213 1659  z M 791 1659  Q 791 1022 1069 705  Q 1347 388 1769 388  Q 2188 388 2466 706  Q 2744 1025 2744 1678  Q 2744 2294 2464 2611  Q 2184 2928 1769 2928  Q 1347 2928 1069 2612  Q 791 2297 791 1659  z \" transform=\"scale(0.015625)\" />\n       <path id=\"ArialMT-75\" d=\"M 2597 0  L 2597 488  Q 2209 -75 1544 -75  Q 1250 -75 995 37  Q 741 150 617 320  Q 494 491 444 738  Q 409 903 409 1263  L 409 3319  L 972 3319  L 972 1478  Q 972 1038 1006 884  Q 1059 663 1231 536  Q 1403 409 1656 409  Q 1909 409 2131 539  Q 2353 669 2445 892  Q 2538 1116 2538 1541  L 2538 3319  L 3100 3319  L 3100 0  L 2597 0  z \" transform=\"scale(0.015625)\" />\n       <path id=\"ArialMT-73\" d=\"M 197 991  L 753 1078  Q 800 744 1014 566  Q 1228 388 1613 388  Q 2000 388 2187 545  Q 2375 703 2375 916  Q 2375 1106 2209 1216  Q 2094 1291 1634 1406  Q 1016 1563 777 1677  Q 538 1791 414 1992  Q 291 2194 291 2438  Q 291 2659 392 2848  Q 494 3038 669 3163  Q 800 3259 1026 3326  Q 1253 3394 1513 3394  Q 1903 3394 2198 3281  Q 2494 3169 2634 2976  Q 2775 2784 2828 2463  L 2278 2388  Q 2241 2644 2061 2787  Q 1881 2931 1553 2931  Q 1166 2931 1000 2803  Q 834 2675 834 2503  Q 834 2394 903 2306  Q 972 2216 1119 2156  Q 1203 2125 1616 2013  Q 2213 1853 2448 1751  Q 2684 1650 2818 1456  Q 2953 1263 2953 975  Q 2953 694 2789 445  Q 2625 197 2315 61  Q 2006 -75 1616 -75  Q 969 -75 630 194  Q 291 463 197 991  z \" transform=\"scale(0.015625)\" />\n       <path id=\"ArialMT-5f\" d=\"M -97 -1272  L -97 -866  L 3631 -866  L 3631 -1272  L -97 -1272  z \" transform=\"scale(0.015625)\" />\n       <path id=\"ArialMT-71\" d=\"M 2538 -1272  L 2538 353  Q 2406 169 2170 47  Q 1934 -75 1669 -75  Q 1078 -75 651 397  Q 225 869 225 1691  Q 225 2191 398 2587  Q 572 2984 901 3189  Q 1231 3394 1625 3394  Q 2241 3394 2594 2875  L 2594 3319  L 3100 3319  L 3100 -1272  L 2538 -1272  z M 803 1669  Q 803 1028 1072 708  Q 1341 388 1716 388  Q 2075 388 2334 692  Q 2594 997 2594 1619  Q 2594 2281 2320 2615  Q 2047 2950 1678 2950  Q 1313 2950 1058 2639  Q 803 2328 803 1669  z \" transform=\"scale(0.015625)\" />\n       <path id=\"ArialMT-74\" d=\"M 1650 503  L 1731 6  Q 1494 -44 1306 -44  Q 1000 -44 831 53  Q 663 150 594 308  Q 525 466 525 972  L 525 2881  L 113 2881  L 113 3319  L 525 3319  L 525 4141  L 1084 4478  L 1084 3319  L 1650 3319  L 1650 2881  L 1084 2881  L 1084 941  Q 1084 700 1114 631  Q 1144 563 1211 522  Q 1278 481 1403 481  Q 1497 481 1650 503  z \" transform=\"scale(0.015625)\" />\n       <path id=\"ArialMT-63\" d=\"M 2588 1216  L 3141 1144  Q 3050 572 2676 248  Q 2303 -75 1759 -75  Q 1078 -75 664 370  Q 250 816 250 1647  Q 250 2184 428 2587  Q 606 2991 970 3192  Q 1334 3394 1763 3394  Q 2303 3394 2647 3120  Q 2991 2847 3088 2344  L 2541 2259  Q 2463 2594 2264 2762  Q 2066 2931 1784 2931  Q 1359 2931 1093 2626  Q 828 2322 828 1663  Q 828 994 1084 691  Q 1341 388 1753 388  Q 2084 388 2306 591  Q 2528 794 2588 1216  z \" transform=\"scale(0.015625)\" />\n      </defs>\n      <use xlink:href=\"#ArialMT-70\" />\n      <use xlink:href=\"#ArialMT-72\" x=\"55.615234\" />\n      <use xlink:href=\"#ArialMT-65\" x=\"88.916016\" />\n      <use xlink:href=\"#ArialMT-76\" x=\"144.53125\" />\n      <use xlink:href=\"#ArialMT-69\" x=\"194.53125\" />\n      <use xlink:href=\"#ArialMT-6f\" x=\"216.748047\" />\n      <use xlink:href=\"#ArialMT-75\" x=\"272.363281\" />\n      <use xlink:href=\"#ArialMT-73\" x=\"327.978516\" />\n      <use xlink:href=\"#ArialMT-5f\" x=\"377.978516\" />\n      <use xlink:href=\"#ArialMT-72\" x=\"433.59375\" />\n      <use xlink:href=\"#ArialMT-65\" x=\"466.894531\" />\n      <use xlink:href=\"#ArialMT-71\" x=\"522.509766\" />\n      <use xlink:href=\"#ArialMT-75\" x=\"578.125\" />\n      <use xlink:href=\"#ArialMT-65\" x=\"633.740234\" />\n      <use xlink:href=\"#ArialMT-73\" x=\"689.355469\" />\n      <use xlink:href=\"#ArialMT-74\" x=\"739.355469\" />\n      <use xlink:href=\"#ArialMT-5f\" x=\"767.138672\" />\n      <use xlink:href=\"#ArialMT-73\" x=\"822.753906\" />\n      <use xlink:href=\"#ArialMT-75\" x=\"872.753906\" />\n      <use xlink:href=\"#ArialMT-63\" x=\"928.369141\" />\n      <use xlink:href=\"#ArialMT-63\" x=\"978.369141\" />\n      <use xlink:href=\"#ArialMT-65\" x=\"1028.369141\" />\n      <use xlink:href=\"#ArialMT-73\" x=\"1083.984375\" />\n      <use xlink:href=\"#ArialMT-73\" x=\"1133.984375\" />\n     </g>\n    </g>\n   </g>\n   <g id=\"matplotlib.axis_2\">\n    <g id=\"ytick_1\">\n     <g id=\"text_4\">\n      \n      <g style=\"fill: #444443\" transform=\"translate(13.34625 31.611964)scale(0.08 -0.08)\">\n       <defs>\n        <path id=\"ArialMT-30\" d=\"M 266 2259  Q 266 3072 433 3567  Q 600 4063 929 4331  Q 1259 4600 1759 4600  Q 2128 4600 2406 4451  Q 2684 4303 2865 4023  Q 3047 3744 3150 3342  Q 3253 2941 3253 2259  Q 3253 1453 3087 958  Q 2922 463 2592 192  Q 2263 -78 1759 -78  Q 1097 -78 719 397  Q 266 969 266 2259  z M 844 2259  Q 844 1131 1108 757  Q 1372 384 1759 384  Q 2147 384 2411 759  Q 2675 1134 2675 2259  Q 2675 3391 2411 3762  Q 2147 4134 1753 4134  Q 1366 4134 1134 3806  Q 844 3388 844 2259  z \" transform=\"scale(0.015625)\" />\n       </defs>\n       <use xlink:href=\"#ArialMT-30\" />\n      </g>\n     </g>\n    </g>\n    <g id=\"ytick_2\">\n     <g id=\"text_5\">\n      \n      <g style=\"fill: #444443\" transform=\"translate(0 5.72625)scale(0.08 -0.08)\">\n       <defs>\n        <path id=\"ArialMT-33\" d=\"M 269 1209  L 831 1284  Q 928 806 1161 595  Q 1394 384 1728 384  Q 2125 384 2398 659  Q 2672 934 2672 1341  Q 2672 1728 2419 1979  Q 2166 2231 1775 2231  Q 1616 2231 1378 2169  L 1441 2663  Q 1497 2656 1531 2656  Q 1891 2656 2178 2843  Q 2466 3031 2466 3422  Q 2466 3731 2256 3934  Q 2047 4138 1716 4138  Q 1388 4138 1169 3931  Q 950 3725 888 3313  L 325 3413  Q 428 3978 793 4289  Q 1159 4600 1703 4600  Q 2078 4600 2393 4439  Q 2709 4278 2876 4000  Q 3044 3722 3044 3409  Q 3044 3113 2884 2869  Q 2725 2625 2413 2481  Q 2819 2388 3044 2092  Q 3269 1797 3269 1353  Q 3269 753 2831 336  Q 2394 -81 1725 -81  Q 1122 -81 723 278  Q 325 638 269 1209  z \" transform=\"scale(0.015625)\" />\n        <path id=\"ArialMT-38\" d=\"M 1131 2484  Q 781 2613 612 2850  Q 444 3088 444 3419  Q 444 3919 803 4259  Q 1163 4600 1759 4600  Q 2359 4600 2725 4251  Q 3091 3903 3091 3403  Q 3091 3084 2923 2848  Q 2756 2613 2416 2484  Q 2838 2347 3058 2040  Q 3278 1734 3278 1309  Q 3278 722 2862 322  Q 2447 -78 1769 -78  Q 1091 -78 675 323  Q 259 725 259 1325  Q 259 1772 486 2073  Q 713 2375 1131 2484  z M 1019 3438  Q 1019 3113 1228 2906  Q 1438 2700 1772 2700  Q 2097 2700 2305 2904  Q 2513 3109 2513 3406  Q 2513 3716 2298 3927  Q 2084 4138 1766 4138  Q 1444 4138 1231 3931  Q 1019 3725 1019 3438  z M 838 1322  Q 838 1081 952 856  Q 1066 631 1291 507  Q 1516 384 1775 384  Q 2178 384 2440 643  Q 2703 903 2703 1303  Q 2703 1709 2433 1975  Q 2163 2241 1756 2241  Q 1359 2241 1098 1978  Q 838 1716 838 1322  z \" transform=\"scale(0.015625)\" />\n        <path id=\"ArialMT-32\" d=\"M 3222 541  L 3222 0  L 194 0  Q 188 203 259 391  Q 375 700 629 1000  Q 884 1300 1366 1694  Q 2113 2306 2375 2664  Q 2638 3022 2638 3341  Q 2638 3675 2398 3904  Q 2159 4134 1775 4134  Q 1369 4134 1125 3890  Q 881 3647 878 3216  L 300 3275  Q 359 3922 746 4261  Q 1134 4600 1788 4600  Q 2447 4600 2831 4234  Q 3216 3869 3216 3328  Q 3216 3053 3103 2787  Q 2991 2522 2730 2228  Q 2469 1934 1863 1422  Q 1356 997 1212 845  Q 1069 694 975 541  L 3222 541  z \" transform=\"scale(0.015625)\" />\n        <path id=\"ArialMT-34\" d=\"M 2069 0  L 2069 1097  L 81 1097  L 81 1613  L 2172 4581  L 2631 4581  L 2631 1613  L 3250 1613  L 3250 1097  L 2631 1097  L 2631 0  L 2069 0  z M 2069 1613  L 2069 3678  L 634 1613  L 2069 1613  z \" transform=\"scale(0.015625)\" />\n       </defs>\n       <use xlink:href=\"#ArialMT-33\" />\n       <use xlink:href=\"#ArialMT-38\" x=\"55.615234\" />\n       <use xlink:href=\"#ArialMT-32\" x=\"111.230469\" />\n       <use xlink:href=\"#ArialMT-34\" x=\"166.845703\" />\n      </g>\n     </g>\n    </g>\n   </g>\n   <g id=\"patch_3\">\n    <path d=\"M 27.295 28.748839  L 36.750199 28.748839  L 36.750199 15.481057  L 27.295 15.481057  z \" clip-path=\"url(#pb0dc573d32)\" style=\"fill: #fefebb; stroke: #444443; stroke-width: 0.5; stroke-linejoin: miter\" />\n   </g>\n   <g id=\"patch_4\">\n    <path d=\"M 36.750199 28.748839  L 46.205398 28.748839  L 46.205398 28.748839  L 36.750199 28.748839  z \" clip-path=\"url(#pb0dc573d32)\" style=\"fill: #fefebb; stroke: #444443; stroke-width: 0.5; stroke-linejoin: miter\" />\n   </g>\n   <g id=\"patch_5\">\n    <path d=\"M 46.205398 28.748839  L 55.660597 28.748839  L 55.660597 28.748839  L 46.205398 28.748839  z \" clip-path=\"url(#pb0dc573d32)\" style=\"fill: #fefebb; stroke: #444443; stroke-width: 0.5; stroke-linejoin: miter\" />\n   </g>\n   <g id=\"patch_6\">\n    <path d=\"M 55.660597 28.748839  L 65.115796 28.748839  L 65.115796 28.748839  L 55.660597 28.748839  z \" clip-path=\"url(#pb0dc573d32)\" style=\"fill: #fefebb; stroke: #444443; stroke-width: 0.5; stroke-linejoin: miter\" />\n   </g>\n   <g id=\"patch_7\">\n    <path d=\"M 65.115796 28.748839  L 74.570995 28.748839  L 74.570995 28.748839  L 65.115796 28.748839  z \" clip-path=\"url(#pb0dc573d32)\" style=\"fill: #fefebb; stroke: #444443; stroke-width: 0.5; stroke-linejoin: miter\" />\n   </g>\n   <g id=\"patch_8\">\n    <path d=\"M 74.570995 28.748839  L 84.026194 28.748839  L 84.026194 28.748839  L 74.570995 28.748839  z \" clip-path=\"url(#pb0dc573d32)\" style=\"fill: #fefebb; stroke: #444443; stroke-width: 0.5; stroke-linejoin: miter\" />\n   </g>\n   <g id=\"patch_9\">\n    <path d=\"M 84.026194 28.748839  L 93.481393 28.748839  L 93.481393 28.748839  L 84.026194 28.748839  z \" clip-path=\"url(#pb0dc573d32)\" style=\"fill: #fefebb; stroke: #444443; stroke-width: 0.5; stroke-linejoin: miter\" />\n   </g>\n   <g id=\"patch_10\">\n    <path d=\"M 93.481393 28.748839  L 102.936592 28.748839  L 102.936592 28.748839  L 93.481393 28.748839  z \" clip-path=\"url(#pb0dc573d32)\" style=\"fill: #fefebb; stroke: #444443; stroke-width: 0.5; stroke-linejoin: miter\" />\n   </g>\n   <g id=\"patch_11\">\n    <path d=\"M 102.936592 28.748839  L 112.391791 28.748839  L 112.391791 28.748839  L 102.936592 28.748839  z \" clip-path=\"url(#pb0dc573d32)\" style=\"fill: #fefebb; stroke: #444443; stroke-width: 0.5; stroke-linejoin: miter\" />\n   </g>\n   <g id=\"patch_12\">\n    <path d=\"M 112.391791 28.748839  L 121.84699 28.748839  L 121.84699 8.562856  L 112.391791 8.562856  z \" clip-path=\"url(#pb0dc573d32)\" style=\"fill: #fefebb; stroke: #444443; stroke-width: 0.5; stroke-linejoin: miter\" />\n   </g>\n   <g id=\"patch_13\">\n    <path d=\"M 121.84699 28.748839  L 131.302189 28.748839  L 131.302189 28.748839  L 121.84699 28.748839  z \" clip-path=\"url(#pb0dc573d32)\" style=\"fill: #fefebb; stroke: #444443; stroke-width: 0.5; stroke-linejoin: miter\" />\n   </g>\n   <g id=\"patch_14\">\n    <path d=\"M 131.302189 28.748839  L 140.757388 28.748839  L 140.757388 28.748839  L 131.302189 28.748839  z \" clip-path=\"url(#pb0dc573d32)\" style=\"fill: #fefebb; stroke: #444443; stroke-width: 0.5; stroke-linejoin: miter\" />\n   </g>\n   <g id=\"patch_15\">\n    <path d=\"M 140.757388 28.748839  L 150.212587 28.748839  L 150.212587 28.748839  L 140.757388 28.748839  z \" clip-path=\"url(#pb0dc573d32)\" style=\"fill: #fefebb; stroke: #444443; stroke-width: 0.5; stroke-linejoin: miter\" />\n   </g>\n   <g id=\"patch_16\">\n    <path d=\"M 150.212587 28.748839  L 159.667786 28.748839  L 159.667786 28.748839  L 150.212587 28.748839  z \" clip-path=\"url(#pb0dc573d32)\" style=\"fill: #fefebb; stroke: #444443; stroke-width: 0.5; stroke-linejoin: miter\" />\n   </g>\n   <g id=\"patch_17\">\n    <path d=\"M 159.667786 28.748839  L 169.122985 28.748839  L 169.122985 28.748839  L 159.667786 28.748839  z \" clip-path=\"url(#pb0dc573d32)\" style=\"fill: #fefebb; stroke: #444443; stroke-width: 0.5; stroke-linejoin: miter\" />\n   </g>\n   <g id=\"patch_18\">\n    <path d=\"M 169.122985 28.748839  L 178.578184 28.748839  L 178.578184 28.748839  L 169.122985 28.748839  z \" clip-path=\"url(#pb0dc573d32)\" style=\"fill: #fefebb; stroke: #444443; stroke-width: 0.5; stroke-linejoin: miter\" />\n   </g>\n   <g id=\"patch_19\">\n    <path d=\"M 178.578184 28.748839  L 188.033383 28.748839  L 188.033383 28.748839  L 178.578184 28.748839  z \" clip-path=\"url(#pb0dc573d32)\" style=\"fill: #fefebb; stroke: #444443; stroke-width: 0.5; stroke-linejoin: miter\" />\n   </g>\n   <g id=\"patch_20\">\n    <path d=\"M 188.033383 28.748839  L 197.488582 28.748839  L 197.488582 28.748839  L 188.033383 28.748839  z \" clip-path=\"url(#pb0dc573d32)\" style=\"fill: #fefebb; stroke: #444443; stroke-width: 0.5; stroke-linejoin: miter\" />\n   </g>\n   <g id=\"patch_21\">\n    <path d=\"M 197.488582 28.748839  L 206.94378 28.748839  L 206.94378 13.423197  L 197.488582 13.423197  z \" clip-path=\"url(#pb0dc573d32)\" style=\"fill: #fefebb; stroke: #444443; stroke-width: 0.5; stroke-linejoin: miter\" />\n   </g>\n   <g id=\"patch_22\">\n    <path d=\"M 27.295 15.481057  L 36.750199 15.481057  L 36.750199 12.942578  L 27.295 12.942578  z \" clip-path=\"url(#pb0dc573d32)\" style=\"fill: #a1dab4; stroke: #444443; stroke-width: 0.5; stroke-linejoin: miter\" />\n   </g>\n   <g id=\"patch_23\">\n    <path d=\"M 36.750199 28.748839  L 46.205398 28.748839  L 46.205398 28.748839  L 36.750199 28.748839  z \" clip-path=\"url(#pb0dc573d32)\" style=\"fill: #a1dab4; stroke: #444443; stroke-width: 0.5; stroke-linejoin: miter\" />\n   </g>\n   <g id=\"patch_24\">\n    <path d=\"M 46.205398 28.748839  L 55.660597 28.748839  L 55.660597 28.748839  L 46.205398 28.748839  z \" clip-path=\"url(#pb0dc573d32)\" style=\"fill: #a1dab4; stroke: #444443; stroke-width: 0.5; stroke-linejoin: miter\" />\n   </g>\n   <g id=\"patch_25\">\n    <path d=\"M 55.660597 28.748839  L 65.115796 28.748839  L 65.115796 28.748839  L 55.660597 28.748839  z \" clip-path=\"url(#pb0dc573d32)\" style=\"fill: #a1dab4; stroke: #444443; stroke-width: 0.5; stroke-linejoin: miter\" />\n   </g>\n   <g id=\"patch_26\">\n    <path d=\"M 65.115796 28.748839  L 74.570995 28.748839  L 74.570995 28.748839  L 65.115796 28.748839  z \" clip-path=\"url(#pb0dc573d32)\" style=\"fill: #a1dab4; stroke: #444443; stroke-width: 0.5; stroke-linejoin: miter\" />\n   </g>\n   <g id=\"patch_27\">\n    <path d=\"M 74.570995 28.748839  L 84.026194 28.748839  L 84.026194 28.748839  L 74.570995 28.748839  z \" clip-path=\"url(#pb0dc573d32)\" style=\"fill: #a1dab4; stroke: #444443; stroke-width: 0.5; stroke-linejoin: miter\" />\n   </g>\n   <g id=\"patch_28\">\n    <path d=\"M 84.026194 28.748839  L 93.481393 28.748839  L 93.481393 28.748839  L 84.026194 28.748839  z \" clip-path=\"url(#pb0dc573d32)\" style=\"fill: #a1dab4; stroke: #444443; stroke-width: 0.5; stroke-linejoin: miter\" />\n   </g>\n   <g id=\"patch_29\">\n    <path d=\"M 93.481393 28.748839  L 102.936592 28.748839  L 102.936592 28.748839  L 93.481393 28.748839  z \" clip-path=\"url(#pb0dc573d32)\" style=\"fill: #a1dab4; stroke: #444443; stroke-width: 0.5; stroke-linejoin: miter\" />\n   </g>\n   <g id=\"patch_30\">\n    <path d=\"M 102.936592 28.748839  L 112.391791 28.748839  L 112.391791 28.748839  L 102.936592 28.748839  z \" clip-path=\"url(#pb0dc573d32)\" style=\"fill: #a1dab4; stroke: #444443; stroke-width: 0.5; stroke-linejoin: miter\" />\n   </g>\n   <g id=\"patch_31\">\n    <path d=\"M 112.391791 8.562856  L 121.84699 8.562856  L 121.84699 2.863125  L 112.391791 2.863125  z \" clip-path=\"url(#pb0dc573d32)\" style=\"fill: #a1dab4; stroke: #444443; stroke-width: 0.5; stroke-linejoin: miter\" />\n   </g>\n   <g id=\"patch_32\">\n    <path d=\"M 121.84699 28.748839  L 131.302189 28.748839  L 131.302189 28.748839  L 121.84699 28.748839  z \" clip-path=\"url(#pb0dc573d32)\" style=\"fill: #a1dab4; stroke: #444443; stroke-width: 0.5; stroke-linejoin: miter\" />\n   </g>\n   <g id=\"patch_33\">\n    <path d=\"M 131.302189 28.748839  L 140.757388 28.748839  L 140.757388 28.748839  L 131.302189 28.748839  z \" clip-path=\"url(#pb0dc573d32)\" style=\"fill: #a1dab4; stroke: #444443; stroke-width: 0.5; stroke-linejoin: miter\" />\n   </g>\n   <g id=\"patch_34\">\n    <path d=\"M 140.757388 28.748839  L 150.212587 28.748839  L 150.212587 28.748839  L 140.757388 28.748839  z \" clip-path=\"url(#pb0dc573d32)\" style=\"fill: #a1dab4; stroke: #444443; stroke-width: 0.5; stroke-linejoin: miter\" />\n   </g>\n   <g id=\"patch_35\">\n    <path d=\"M 150.212587 28.748839  L 159.667786 28.748839  L 159.667786 28.748839  L 150.212587 28.748839  z \" clip-path=\"url(#pb0dc573d32)\" style=\"fill: #a1dab4; stroke: #444443; stroke-width: 0.5; stroke-linejoin: miter\" />\n   </g>\n   <g id=\"patch_36\">\n    <path d=\"M 159.667786 28.748839  L 169.122985 28.748839  L 169.122985 28.748839  L 159.667786 28.748839  z \" clip-path=\"url(#pb0dc573d32)\" style=\"fill: #a1dab4; stroke: #444443; stroke-width: 0.5; stroke-linejoin: miter\" />\n   </g>\n   <g id=\"patch_37\">\n    <path d=\"M 169.122985 28.748839  L 178.578184 28.748839  L 178.578184 28.748839  L 169.122985 28.748839  z \" clip-path=\"url(#pb0dc573d32)\" style=\"fill: #a1dab4; stroke: #444443; stroke-width: 0.5; stroke-linejoin: miter\" />\n   </g>\n   <g id=\"patch_38\">\n    <path d=\"M 178.578184 28.748839  L 188.033383 28.748839  L 188.033383 28.748839  L 178.578184 28.748839  z \" clip-path=\"url(#pb0dc573d32)\" style=\"fill: #a1dab4; stroke: #444443; stroke-width: 0.5; stroke-linejoin: miter\" />\n   </g>\n   <g id=\"patch_39\">\n    <path d=\"M 188.033383 28.748839  L 197.488582 28.748839  L 197.488582 28.748839  L 188.033383 28.748839  z \" clip-path=\"url(#pb0dc573d32)\" style=\"fill: #a1dab4; stroke: #444443; stroke-width: 0.5; stroke-linejoin: miter\" />\n   </g>\n   <g id=\"patch_40\">\n    <path d=\"M 197.488582 13.423197  L 206.94378 13.423197  L 206.94378 5.760375  L 197.488582 5.760375  z \" clip-path=\"url(#pb0dc573d32)\" style=\"fill: #a1dab4; stroke: #444443; stroke-width: 0.5; stroke-linejoin: miter\" />\n   </g>\n   <g id=\"patch_41\">\n    <path d=\"M 162.031585 29.564239  L 158.717065 36.902839  L 165.346105 36.902839  z \" style=\"fill: #444443; stroke: #ffffff; stroke-linejoin: miter\" />\n   </g>\n   <g id=\"patch_42\">\n    <path d=\"M 27.295 28.748839  L 27.295 1.568839  \" style=\"fill: none; stroke: #262626; stroke-width: 0.3; stroke-linejoin: miter; stroke-linecap: square\" />\n   </g>\n   <g id=\"patch_43\">\n    <path d=\"M 27.295 28.748839  L 211.435 28.748839  \" style=\"fill: none; stroke: #262626; stroke-width: 0.3; stroke-linejoin: miter; stroke-linecap: square\" />\n   </g>\n   <g id=\"text_6\">\n    \n    <g style=\"fill: #444443\" transform=\"translate(154.24721 45.056839)scale(0.08 -0.08)\">\n     <defs>\n      <path id=\"ArialMT-2e\" d=\"M 581 0  L 581 641  L 1222 641  L 1222 0  L 581 0  z \" transform=\"scale(0.015625)\" />\n      <path id=\"ArialMT-35\" d=\"M 266 1200  L 856 1250  Q 922 819 1161 601  Q 1400 384 1738 384  Q 2144 384 2425 690  Q 2706 997 2706 1503  Q 2706 1984 2436 2262  Q 2166 2541 1728 2541  Q 1456 2541 1237 2417  Q 1019 2294 894 2097  L 366 2166  L 809 4519  L 3088 4519  L 3088 3981  L 1259 3981  L 1013 2750  Q 1425 3038 1878 3038  Q 2478 3038 2890 2622  Q 3303 2206 3303 1553  Q 3303 931 2941 478  Q 2500 -78 1738 -78  Q 1113 -78 717 272  Q 322 622 266 1200  z \" transform=\"scale(0.015625)\" />\n     </defs>\n     <use xlink:href=\"#ArialMT-30\" />\n     <use xlink:href=\"#ArialMT-2e\" x=\"55.615234\" />\n     <use xlink:href=\"#ArialMT-35\" x=\"83.398438\" />\n     <use xlink:href=\"#ArialMT-30\" x=\"139.013672\" />\n    </g>\n   </g>\n  </g>\n </g>\n <defs>\n  <clipPath id=\"pb0dc573d32\">\n   <rect x=\"27.295\" y=\"1.568839\" width=\"184.14\" height=\"27.18\" />\n  </clipPath>\n </defs>\n</svg></g>\n\n<g id=\"node2\" class=\"node\">\n<title>node5</title>\n<svg width=\"158px\" height=\"54px\" viewBox=\"0 0 211.435 71.709091\" version=\"1.1\" preserveAspectRatio=\"xMinYMin meet\" x=\"194.5\" y=\"-173\">\n <metadata>\n  <rdf:RDF>\n   <ns2:Work>\n    <dc:type rdf:resource=\"http://purl.org/dc/dcmitype/StillImage\" />\n    <dc:date>2022-04-20T20:42:04.345916</dc:date>\n    <dc:format>image/svg+xml</dc:format>\n    <dc:creator>\n     <ns2:Agent>\n      <dc:title>Matplotlib v3.5.1, https://matplotlib.org/</dc:title>\n     </ns2:Agent>\n    </dc:creator>\n   </ns2:Work>\n  </rdf:RDF>\n </metadata>\n <defs>\n  <style type=\"text/css\">*{stroke-linejoin: round; stroke-linecap: butt}</style>\n </defs>\n <g id=\"figure_1\">\n  <g id=\"patch_1\">\n   <path d=\"M 0 71.709091  L 211.435 71.709091  L 211.435 0  L 0 0  z \" style=\"fill: #ffffff\" />\n  </g>\n  <g id=\"axes_1\">\n   <g id=\"patch_2\">\n    <path d=\"M 27.295 39.918466  L 211.435 39.918466  L 211.435 1.010358  L 27.295 1.010358  z \" style=\"fill: #ffffff\" />\n   </g>\n   <g id=\"matplotlib.axis_1\">\n    <g id=\"xtick_1\">\n     <g id=\"text_1\">\n      \n      <g style=\"fill: #444443\" transform=\"translate(22.734375 55.144716)scale(0.08 -0.08)\">\n       <defs>\n        <path id=\"ArialMT-2212\" d=\"M 3381 1997  L 356 1997  L 356 2522  L 3381 2522  L 3381 1997  z \" transform=\"scale(0.015625)\" />\n        <path id=\"ArialMT-31\" d=\"M 2384 0  L 1822 0  L 1822 3584  Q 1619 3391 1289 3197  Q 959 3003 697 2906  L 697 3450  Q 1169 3672 1522 3987  Q 1875 4303 2022 4600  L 2384 4600  L 2384 0  z \" transform=\"scale(0.015625)\" />\n       </defs>\n       <use xlink:href=\"#ArialMT-2212\" />\n       <use xlink:href=\"#ArialMT-31\" x=\"58.398438\" />\n      </g>\n     </g>\n    </g>\n    <g id=\"xtick_2\">\n     <g id=\"text_2\">\n      \n      <g style=\"fill: #444443\" transform=\"translate(204.719405 55.144716)scale(0.08 -0.08)\">\n       <use xlink:href=\"#ArialMT-31\" />\n      </g>\n     </g>\n    </g>\n    <g id=\"text_3\">\n     \n     <g style=\"fill: #444443\" transform=\"translate(48.330625 69.324091)scale(0.12 -0.12)\">\n      <defs>\n       <path id=\"ArialMT-70\" d=\"M 422 -1272  L 422 3319  L 934 3319  L 934 2888  Q 1116 3141 1344 3267  Q 1572 3394 1897 3394  Q 2322 3394 2647 3175  Q 2972 2956 3137 2557  Q 3303 2159 3303 1684  Q 3303 1175 3120 767  Q 2938 359 2589 142  Q 2241 -75 1856 -75  Q 1575 -75 1351 44  Q 1128 163 984 344  L 984 -1272  L 422 -1272  z M 931 1641  Q 931 1000 1190 694  Q 1450 388 1819 388  Q 2194 388 2461 705  Q 2728 1022 2728 1688  Q 2728 2322 2467 2637  Q 2206 2953 1844 2953  Q 1484 2953 1207 2617  Q 931 2281 931 1641  z \" transform=\"scale(0.015625)\" />\n       <path id=\"ArialMT-72\" d=\"M 416 0  L 416 3319  L 922 3319  L 922 2816  Q 1116 3169 1280 3281  Q 1444 3394 1641 3394  Q 1925 3394 2219 3213  L 2025 2691  Q 1819 2813 1613 2813  Q 1428 2813 1281 2702  Q 1134 2591 1072 2394  Q 978 2094 978 1738  L 978 0  L 416 0  z \" transform=\"scale(0.015625)\" />\n       <path id=\"ArialMT-65\" d=\"M 2694 1069  L 3275 997  Q 3138 488 2766 206  Q 2394 -75 1816 -75  Q 1088 -75 661 373  Q 234 822 234 1631  Q 234 2469 665 2931  Q 1097 3394 1784 3394  Q 2450 3394 2872 2941  Q 3294 2488 3294 1666  Q 3294 1616 3291 1516  L 816 1516  Q 847 969 1125 678  Q 1403 388 1819 388  Q 2128 388 2347 550  Q 2566 713 2694 1069  z M 847 1978  L 2700 1978  Q 2663 2397 2488 2606  Q 2219 2931 1791 2931  Q 1403 2931 1139 2672  Q 875 2413 847 1978  z \" transform=\"scale(0.015625)\" />\n       <path id=\"ArialMT-76\" d=\"M 1344 0  L 81 3319  L 675 3319  L 1388 1331  Q 1503 1009 1600 663  Q 1675 925 1809 1294  L 2547 3319  L 3125 3319  L 1869 0  L 1344 0  z \" transform=\"scale(0.015625)\" />\n       <path id=\"ArialMT-69\" d=\"M 425 3934  L 425 4581  L 988 4581  L 988 3934  L 425 3934  z M 425 0  L 425 3319  L 988 3319  L 988 0  L 425 0  z \" transform=\"scale(0.015625)\" />\n       <path id=\"ArialMT-6f\" d=\"M 213 1659  Q 213 2581 725 3025  Q 1153 3394 1769 3394  Q 2453 3394 2887 2945  Q 3322 2497 3322 1706  Q 3322 1066 3130 698  Q 2938 331 2570 128  Q 2203 -75 1769 -75  Q 1072 -75 642 372  Q 213 819 213 1659  z M 791 1659  Q 791 1022 1069 705  Q 1347 388 1769 388  Q 2188 388 2466 706  Q 2744 1025 2744 1678  Q 2744 2294 2464 2611  Q 2184 2928 1769 2928  Q 1347 2928 1069 2612  Q 791 2297 791 1659  z \" transform=\"scale(0.015625)\" />\n       <path id=\"ArialMT-75\" d=\"M 2597 0  L 2597 488  Q 2209 -75 1544 -75  Q 1250 -75 995 37  Q 741 150 617 320  Q 494 491 444 738  Q 409 903 409 1263  L 409 3319  L 972 3319  L 972 1478  Q 972 1038 1006 884  Q 1059 663 1231 536  Q 1403 409 1656 409  Q 1909 409 2131 539  Q 2353 669 2445 892  Q 2538 1116 2538 1541  L 2538 3319  L 3100 3319  L 3100 0  L 2597 0  z \" transform=\"scale(0.015625)\" />\n       <path id=\"ArialMT-73\" d=\"M 197 991  L 753 1078  Q 800 744 1014 566  Q 1228 388 1613 388  Q 2000 388 2187 545  Q 2375 703 2375 916  Q 2375 1106 2209 1216  Q 2094 1291 1634 1406  Q 1016 1563 777 1677  Q 538 1791 414 1992  Q 291 2194 291 2438  Q 291 2659 392 2848  Q 494 3038 669 3163  Q 800 3259 1026 3326  Q 1253 3394 1513 3394  Q 1903 3394 2198 3281  Q 2494 3169 2634 2976  Q 2775 2784 2828 2463  L 2278 2388  Q 2241 2644 2061 2787  Q 1881 2931 1553 2931  Q 1166 2931 1000 2803  Q 834 2675 834 2503  Q 834 2394 903 2306  Q 972 2216 1119 2156  Q 1203 2125 1616 2013  Q 2213 1853 2448 1751  Q 2684 1650 2818 1456  Q 2953 1263 2953 975  Q 2953 694 2789 445  Q 2625 197 2315 61  Q 2006 -75 1616 -75  Q 969 -75 630 194  Q 291 463 197 991  z \" transform=\"scale(0.015625)\" />\n       <path id=\"ArialMT-5f\" d=\"M -97 -1272  L -97 -866  L 3631 -866  L 3631 -1272  L -97 -1272  z \" transform=\"scale(0.015625)\" />\n       <path id=\"ArialMT-71\" d=\"M 2538 -1272  L 2538 353  Q 2406 169 2170 47  Q 1934 -75 1669 -75  Q 1078 -75 651 397  Q 225 869 225 1691  Q 225 2191 398 2587  Q 572 2984 901 3189  Q 1231 3394 1625 3394  Q 2241 3394 2594 2875  L 2594 3319  L 3100 3319  L 3100 -1272  L 2538 -1272  z M 803 1669  Q 803 1028 1072 708  Q 1341 388 1716 388  Q 2075 388 2334 692  Q 2594 997 2594 1619  Q 2594 2281 2320 2615  Q 2047 2950 1678 2950  Q 1313 2950 1058 2639  Q 803 2328 803 1669  z \" transform=\"scale(0.015625)\" />\n       <path id=\"ArialMT-74\" d=\"M 1650 503  L 1731 6  Q 1494 -44 1306 -44  Q 1000 -44 831 53  Q 663 150 594 308  Q 525 466 525 972  L 525 2881  L 113 2881  L 113 3319  L 525 3319  L 525 4141  L 1084 4478  L 1084 3319  L 1650 3319  L 1650 2881  L 1084 2881  L 1084 941  Q 1084 700 1114 631  Q 1144 563 1211 522  Q 1278 481 1403 481  Q 1497 481 1650 503  z \" transform=\"scale(0.015625)\" />\n       <path id=\"ArialMT-63\" d=\"M 2588 1216  L 3141 1144  Q 3050 572 2676 248  Q 2303 -75 1759 -75  Q 1078 -75 664 370  Q 250 816 250 1647  Q 250 2184 428 2587  Q 606 2991 970 3192  Q 1334 3394 1763 3394  Q 2303 3394 2647 3120  Q 2991 2847 3088 2344  L 2541 2259  Q 2463 2594 2264 2762  Q 2066 2931 1784 2931  Q 1359 2931 1093 2626  Q 828 2322 828 1663  Q 828 994 1084 691  Q 1341 388 1753 388  Q 2084 388 2306 591  Q 2528 794 2588 1216  z \" transform=\"scale(0.015625)\" />\n      </defs>\n      <use xlink:href=\"#ArialMT-70\" />\n      <use xlink:href=\"#ArialMT-72\" x=\"55.615234\" />\n      <use xlink:href=\"#ArialMT-65\" x=\"88.916016\" />\n      <use xlink:href=\"#ArialMT-76\" x=\"144.53125\" />\n      <use xlink:href=\"#ArialMT-69\" x=\"194.53125\" />\n      <use xlink:href=\"#ArialMT-6f\" x=\"216.748047\" />\n      <use xlink:href=\"#ArialMT-75\" x=\"272.363281\" />\n      <use xlink:href=\"#ArialMT-73\" x=\"327.978516\" />\n      <use xlink:href=\"#ArialMT-5f\" x=\"377.978516\" />\n      <use xlink:href=\"#ArialMT-72\" x=\"433.59375\" />\n      <use xlink:href=\"#ArialMT-65\" x=\"466.894531\" />\n      <use xlink:href=\"#ArialMT-71\" x=\"522.509766\" />\n      <use xlink:href=\"#ArialMT-75\" x=\"578.125\" />\n      <use xlink:href=\"#ArialMT-65\" x=\"633.740234\" />\n      <use xlink:href=\"#ArialMT-73\" x=\"689.355469\" />\n      <use xlink:href=\"#ArialMT-74\" x=\"739.355469\" />\n      <use xlink:href=\"#ArialMT-5f\" x=\"767.138672\" />\n      <use xlink:href=\"#ArialMT-73\" x=\"822.753906\" />\n      <use xlink:href=\"#ArialMT-75\" x=\"872.753906\" />\n      <use xlink:href=\"#ArialMT-63\" x=\"928.369141\" />\n      <use xlink:href=\"#ArialMT-63\" x=\"978.369141\" />\n      <use xlink:href=\"#ArialMT-65\" x=\"1028.369141\" />\n      <use xlink:href=\"#ArialMT-73\" x=\"1083.984375\" />\n      <use xlink:href=\"#ArialMT-73\" x=\"1133.984375\" />\n     </g>\n    </g>\n   </g>\n   <g id=\"matplotlib.axis_2\">\n    <g id=\"ytick_1\">\n     <g id=\"text_4\">\n      \n      <g style=\"fill: #444443\" transform=\"translate(13.34625 42.781591)scale(0.08 -0.08)\">\n       <defs>\n        <path id=\"ArialMT-30\" d=\"M 266 2259  Q 266 3072 433 3567  Q 600 4063 929 4331  Q 1259 4600 1759 4600  Q 2128 4600 2406 4451  Q 2684 4303 2865 4023  Q 3047 3744 3150 3342  Q 3253 2941 3253 2259  Q 3253 1453 3087 958  Q 2922 463 2592 192  Q 2263 -78 1759 -78  Q 1097 -78 719 397  Q 266 969 266 2259  z M 844 2259  Q 844 1131 1108 757  Q 1372 384 1759 384  Q 2147 384 2411 759  Q 2675 1134 2675 2259  Q 2675 3391 2411 3762  Q 2147 4134 1753 4134  Q 1366 4134 1134 3806  Q 844 3388 844 2259  z \" transform=\"scale(0.015625)\" />\n       </defs>\n       <use xlink:href=\"#ArialMT-30\" />\n      </g>\n     </g>\n    </g>\n    <g id=\"ytick_2\">\n     <g id=\"text_5\">\n      \n      <g style=\"fill: #444443\" transform=\"translate(0 5.72625)scale(0.08 -0.08)\">\n       <defs>\n        <path id=\"ArialMT-36\" d=\"M 3184 3459  L 2625 3416  Q 2550 3747 2413 3897  Q 2184 4138 1850 4138  Q 1581 4138 1378 3988  Q 1113 3794 959 3422  Q 806 3050 800 2363  Q 1003 2672 1297 2822  Q 1591 2972 1913 2972  Q 2475 2972 2870 2558  Q 3266 2144 3266 1488  Q 3266 1056 3080 686  Q 2894 316 2569 119  Q 2244 -78 1831 -78  Q 1128 -78 684 439  Q 241 956 241 2144  Q 241 3472 731 4075  Q 1159 4600 1884 4600  Q 2425 4600 2770 4297  Q 3116 3994 3184 3459  z M 888 1484  Q 888 1194 1011 928  Q 1134 663 1356 523  Q 1578 384 1822 384  Q 2178 384 2434 671  Q 2691 959 2691 1453  Q 2691 1928 2437 2201  Q 2184 2475 1800 2475  Q 1419 2475 1153 2201  Q 888 1928 888 1484  z \" transform=\"scale(0.015625)\" />\n        <path id=\"ArialMT-32\" d=\"M 3222 541  L 3222 0  L 194 0  Q 188 203 259 391  Q 375 700 629 1000  Q 884 1300 1366 1694  Q 2113 2306 2375 2664  Q 2638 3022 2638 3341  Q 2638 3675 2398 3904  Q 2159 4134 1775 4134  Q 1369 4134 1125 3890  Q 881 3647 878 3216  L 300 3275  Q 359 3922 746 4261  Q 1134 4600 1788 4600  Q 2447 4600 2831 4234  Q 3216 3869 3216 3328  Q 3216 3053 3103 2787  Q 2991 2522 2730 2228  Q 2469 1934 1863 1422  Q 1356 997 1212 845  Q 1069 694 975 541  L 3222 541  z \" transform=\"scale(0.015625)\" />\n        <path id=\"ArialMT-35\" d=\"M 266 1200  L 856 1250  Q 922 819 1161 601  Q 1400 384 1738 384  Q 2144 384 2425 690  Q 2706 997 2706 1503  Q 2706 1984 2436 2262  Q 2166 2541 1728 2541  Q 1456 2541 1237 2417  Q 1019 2294 894 2097  L 366 2166  L 809 4519  L 3088 4519  L 3088 3981  L 1259 3981  L 1013 2750  Q 1425 3038 1878 3038  Q 2478 3038 2890 2622  Q 3303 2206 3303 1553  Q 3303 931 2941 478  Q 2500 -78 1738 -78  Q 1113 -78 717 272  Q 322 622 266 1200  z \" transform=\"scale(0.015625)\" />\n        <path id=\"ArialMT-37\" d=\"M 303 3981  L 303 4522  L 3269 4522  L 3269 4084  Q 2831 3619 2401 2847  Q 1972 2075 1738 1259  Q 1569 684 1522 0  L 944 0  Q 953 541 1156 1306  Q 1359 2072 1739 2783  Q 2119 3494 2547 3981  L 303 3981  z \" transform=\"scale(0.015625)\" />\n       </defs>\n       <use xlink:href=\"#ArialMT-36\" />\n       <use xlink:href=\"#ArialMT-32\" x=\"55.615234\" />\n       <use xlink:href=\"#ArialMT-35\" x=\"111.230469\" />\n       <use xlink:href=\"#ArialMT-37\" x=\"166.845703\" />\n      </g>\n     </g>\n    </g>\n   </g>\n   <g id=\"patch_3\">\n    <path d=\"M 27.295 39.918466  L 36.750199 39.918466  L 36.750199 32.509767  L 27.295 32.509767  z \" clip-path=\"url(#p2b92987799)\" style=\"fill: #fefebb; stroke: #444443; stroke-width: 0.5; stroke-linejoin: miter\" />\n   </g>\n   <g id=\"patch_4\">\n    <path d=\"M 36.750199 39.918466  L 46.205398 39.918466  L 46.205398 39.918466  L 36.750199 39.918466  z \" clip-path=\"url(#p2b92987799)\" style=\"fill: #fefebb; stroke: #444443; stroke-width: 0.5; stroke-linejoin: miter\" />\n   </g>\n   <g id=\"patch_5\">\n    <path d=\"M 46.205398 39.918466  L 55.660597 39.918466  L 55.660597 39.918466  L 46.205398 39.918466  z \" clip-path=\"url(#p2b92987799)\" style=\"fill: #fefebb; stroke: #444443; stroke-width: 0.5; stroke-linejoin: miter\" />\n   </g>\n   <g id=\"patch_6\">\n    <path d=\"M 55.660597 39.918466  L 65.115796 39.918466  L 65.115796 39.918466  L 55.660597 39.918466  z \" clip-path=\"url(#p2b92987799)\" style=\"fill: #fefebb; stroke: #444443; stroke-width: 0.5; stroke-linejoin: miter\" />\n   </g>\n   <g id=\"patch_7\">\n    <path d=\"M 65.115796 39.918466  L 74.570995 39.918466  L 74.570995 39.918466  L 65.115796 39.918466  z \" clip-path=\"url(#p2b92987799)\" style=\"fill: #fefebb; stroke: #444443; stroke-width: 0.5; stroke-linejoin: miter\" />\n   </g>\n   <g id=\"patch_8\">\n    <path d=\"M 74.570995 39.918466  L 84.026194 39.918466  L 84.026194 39.918466  L 74.570995 39.918466  z \" clip-path=\"url(#p2b92987799)\" style=\"fill: #fefebb; stroke: #444443; stroke-width: 0.5; stroke-linejoin: miter\" />\n   </g>\n   <g id=\"patch_9\">\n    <path d=\"M 84.026194 39.918466  L 93.481393 39.918466  L 93.481393 39.918466  L 84.026194 39.918466  z \" clip-path=\"url(#p2b92987799)\" style=\"fill: #fefebb; stroke: #444443; stroke-width: 0.5; stroke-linejoin: miter\" />\n   </g>\n   <g id=\"patch_10\">\n    <path d=\"M 93.481393 39.918466  L 102.936592 39.918466  L 102.936592 39.918466  L 93.481393 39.918466  z \" clip-path=\"url(#p2b92987799)\" style=\"fill: #fefebb; stroke: #444443; stroke-width: 0.5; stroke-linejoin: miter\" />\n   </g>\n   <g id=\"patch_11\">\n    <path d=\"M 102.936592 39.918466  L 112.391791 39.918466  L 112.391791 39.918466  L 102.936592 39.918466  z \" clip-path=\"url(#p2b92987799)\" style=\"fill: #fefebb; stroke: #444443; stroke-width: 0.5; stroke-linejoin: miter\" />\n   </g>\n   <g id=\"patch_12\">\n    <path d=\"M 112.391791 39.918466  L 121.84699 39.918466  L 121.84699 21.719479  L 112.391791 21.719479  z \" clip-path=\"url(#p2b92987799)\" style=\"fill: #fefebb; stroke: #444443; stroke-width: 0.5; stroke-linejoin: miter\" />\n   </g>\n   <g id=\"patch_13\">\n    <path d=\"M 121.84699 39.918466  L 131.302189 39.918466  L 131.302189 39.918466  L 121.84699 39.918466  z \" clip-path=\"url(#p2b92987799)\" style=\"fill: #fefebb; stroke: #444443; stroke-width: 0.5; stroke-linejoin: miter\" />\n   </g>\n   <g id=\"patch_14\">\n    <path d=\"M 131.302189 39.918466  L 140.757388 39.918466  L 140.757388 39.918466  L 131.302189 39.918466  z \" clip-path=\"url(#p2b92987799)\" style=\"fill: #fefebb; stroke: #444443; stroke-width: 0.5; stroke-linejoin: miter\" />\n   </g>\n   <g id=\"patch_15\">\n    <path d=\"M 140.757388 39.918466  L 150.212587 39.918466  L 150.212587 39.918466  L 140.757388 39.918466  z \" clip-path=\"url(#p2b92987799)\" style=\"fill: #fefebb; stroke: #444443; stroke-width: 0.5; stroke-linejoin: miter\" />\n   </g>\n   <g id=\"patch_16\">\n    <path d=\"M 150.212587 39.918466  L 159.667786 39.918466  L 159.667786 39.918466  L 150.212587 39.918466  z \" clip-path=\"url(#p2b92987799)\" style=\"fill: #fefebb; stroke: #444443; stroke-width: 0.5; stroke-linejoin: miter\" />\n   </g>\n   <g id=\"patch_17\">\n    <path d=\"M 159.667786 39.918466  L 169.122985 39.918466  L 169.122985 39.918466  L 159.667786 39.918466  z \" clip-path=\"url(#p2b92987799)\" style=\"fill: #fefebb; stroke: #444443; stroke-width: 0.5; stroke-linejoin: miter\" />\n   </g>\n   <g id=\"patch_18\">\n    <path d=\"M 169.122985 39.918466  L 178.578184 39.918466  L 178.578184 39.918466  L 169.122985 39.918466  z \" clip-path=\"url(#p2b92987799)\" style=\"fill: #fefebb; stroke: #444443; stroke-width: 0.5; stroke-linejoin: miter\" />\n   </g>\n   <g id=\"patch_19\">\n    <path d=\"M 178.578184 39.918466  L 188.033383 39.918466  L 188.033383 39.918466  L 178.578184 39.918466  z \" clip-path=\"url(#p2b92987799)\" style=\"fill: #fefebb; stroke: #444443; stroke-width: 0.5; stroke-linejoin: miter\" />\n   </g>\n   <g id=\"patch_20\">\n    <path d=\"M 188.033383 39.918466  L 197.488582 39.918466  L 197.488582 39.918466  L 188.033383 39.918466  z \" clip-path=\"url(#p2b92987799)\" style=\"fill: #fefebb; stroke: #444443; stroke-width: 0.5; stroke-linejoin: miter\" />\n   </g>\n   <g id=\"patch_21\">\n    <path d=\"M 197.488582 39.918466  L 206.94378 39.918466  L 206.94378 22.347235  L 197.488582 22.347235  z \" clip-path=\"url(#p2b92987799)\" style=\"fill: #fefebb; stroke: #444443; stroke-width: 0.5; stroke-linejoin: miter\" />\n   </g>\n   <g id=\"patch_22\">\n    <path d=\"M 27.295 32.509767  L 36.750199 32.509767  L 36.750199 28.684012  L 27.295 28.684012  z \" clip-path=\"url(#p2b92987799)\" style=\"fill: #a1dab4; stroke: #444443; stroke-width: 0.5; stroke-linejoin: miter\" />\n   </g>\n   <g id=\"patch_23\">\n    <path d=\"M 36.750199 39.918466  L 46.205398 39.918466  L 46.205398 39.918466  L 36.750199 39.918466  z \" clip-path=\"url(#p2b92987799)\" style=\"fill: #a1dab4; stroke: #444443; stroke-width: 0.5; stroke-linejoin: miter\" />\n   </g>\n   <g id=\"patch_24\">\n    <path d=\"M 46.205398 39.918466  L 55.660597 39.918466  L 55.660597 39.918466  L 46.205398 39.918466  z \" clip-path=\"url(#p2b92987799)\" style=\"fill: #a1dab4; stroke: #444443; stroke-width: 0.5; stroke-linejoin: miter\" />\n   </g>\n   <g id=\"patch_25\">\n    <path d=\"M 55.660597 39.918466  L 65.115796 39.918466  L 65.115796 39.918466  L 55.660597 39.918466  z \" clip-path=\"url(#p2b92987799)\" style=\"fill: #a1dab4; stroke: #444443; stroke-width: 0.5; stroke-linejoin: miter\" />\n   </g>\n   <g id=\"patch_26\">\n    <path d=\"M 65.115796 39.918466  L 74.570995 39.918466  L 74.570995 39.918466  L 65.115796 39.918466  z \" clip-path=\"url(#p2b92987799)\" style=\"fill: #a1dab4; stroke: #444443; stroke-width: 0.5; stroke-linejoin: miter\" />\n   </g>\n   <g id=\"patch_27\">\n    <path d=\"M 74.570995 39.918466  L 84.026194 39.918466  L 84.026194 39.918466  L 74.570995 39.918466  z \" clip-path=\"url(#p2b92987799)\" style=\"fill: #a1dab4; stroke: #444443; stroke-width: 0.5; stroke-linejoin: miter\" />\n   </g>\n   <g id=\"patch_28\">\n    <path d=\"M 84.026194 39.918466  L 93.481393 39.918466  L 93.481393 39.918466  L 84.026194 39.918466  z \" clip-path=\"url(#p2b92987799)\" style=\"fill: #a1dab4; stroke: #444443; stroke-width: 0.5; stroke-linejoin: miter\" />\n   </g>\n   <g id=\"patch_29\">\n    <path d=\"M 93.481393 39.918466  L 102.936592 39.918466  L 102.936592 39.918466  L 93.481393 39.918466  z \" clip-path=\"url(#p2b92987799)\" style=\"fill: #a1dab4; stroke: #444443; stroke-width: 0.5; stroke-linejoin: miter\" />\n   </g>\n   <g id=\"patch_30\">\n    <path d=\"M 102.936592 39.918466  L 112.391791 39.918466  L 112.391791 39.918466  L 102.936592 39.918466  z \" clip-path=\"url(#p2b92987799)\" style=\"fill: #a1dab4; stroke: #444443; stroke-width: 0.5; stroke-linejoin: miter\" />\n   </g>\n   <g id=\"patch_31\">\n    <path d=\"M 112.391791 21.719479  L 121.84699 21.719479  L 121.84699 9.981636  L 112.391791 9.981636  z \" clip-path=\"url(#p2b92987799)\" style=\"fill: #a1dab4; stroke: #444443; stroke-width: 0.5; stroke-linejoin: miter\" />\n   </g>\n   <g id=\"patch_32\">\n    <path d=\"M 121.84699 39.918466  L 131.302189 39.918466  L 131.302189 39.918466  L 121.84699 39.918466  z \" clip-path=\"url(#p2b92987799)\" style=\"fill: #a1dab4; stroke: #444443; stroke-width: 0.5; stroke-linejoin: miter\" />\n   </g>\n   <g id=\"patch_33\">\n    <path d=\"M 131.302189 39.918466  L 140.757388 39.918466  L 140.757388 39.918466  L 131.302189 39.918466  z \" clip-path=\"url(#p2b92987799)\" style=\"fill: #a1dab4; stroke: #444443; stroke-width: 0.5; stroke-linejoin: miter\" />\n   </g>\n   <g id=\"patch_34\">\n    <path d=\"M 140.757388 39.918466  L 150.212587 39.918466  L 150.212587 39.918466  L 140.757388 39.918466  z \" clip-path=\"url(#p2b92987799)\" style=\"fill: #a1dab4; stroke: #444443; stroke-width: 0.5; stroke-linejoin: miter\" />\n   </g>\n   <g id=\"patch_35\">\n    <path d=\"M 150.212587 39.918466  L 159.667786 39.918466  L 159.667786 39.918466  L 150.212587 39.918466  z \" clip-path=\"url(#p2b92987799)\" style=\"fill: #a1dab4; stroke: #444443; stroke-width: 0.5; stroke-linejoin: miter\" />\n   </g>\n   <g id=\"patch_36\">\n    <path d=\"M 159.667786 39.918466  L 169.122985 39.918466  L 169.122985 39.918466  L 159.667786 39.918466  z \" clip-path=\"url(#p2b92987799)\" style=\"fill: #a1dab4; stroke: #444443; stroke-width: 0.5; stroke-linejoin: miter\" />\n   </g>\n   <g id=\"patch_37\">\n    <path d=\"M 169.122985 39.918466  L 178.578184 39.918466  L 178.578184 39.918466  L 169.122985 39.918466  z \" clip-path=\"url(#p2b92987799)\" style=\"fill: #a1dab4; stroke: #444443; stroke-width: 0.5; stroke-linejoin: miter\" />\n   </g>\n   <g id=\"patch_38\">\n    <path d=\"M 178.578184 39.918466  L 188.033383 39.918466  L 188.033383 39.918466  L 178.578184 39.918466  z \" clip-path=\"url(#p2b92987799)\" style=\"fill: #a1dab4; stroke: #444443; stroke-width: 0.5; stroke-linejoin: miter\" />\n   </g>\n   <g id=\"patch_39\">\n    <path d=\"M 188.033383 39.918466  L 197.488582 39.918466  L 197.488582 39.918466  L 188.033383 39.918466  z \" clip-path=\"url(#p2b92987799)\" style=\"fill: #a1dab4; stroke: #444443; stroke-width: 0.5; stroke-linejoin: miter\" />\n   </g>\n   <g id=\"patch_40\">\n    <path d=\"M 197.488582 22.347235  L 206.94378 22.347235  L 206.94378 2.863125  L 197.488582 2.863125  z \" clip-path=\"url(#p2b92987799)\" style=\"fill: #a1dab4; stroke: #444443; stroke-width: 0.5; stroke-linejoin: miter\" />\n   </g>\n   <g id=\"patch_41\">\n    <path d=\"M 162.031585 40.733866  L 158.717065 48.072466  L 165.346105 48.072466  z \" style=\"fill: #444443; stroke: #ffffff; stroke-linejoin: miter\" />\n   </g>\n   <g id=\"patch_42\">\n    <path d=\"M 27.295 39.918466  L 27.295 1.010358  \" style=\"fill: none; stroke: #262626; stroke-width: 0.3; stroke-linejoin: miter; stroke-linecap: square\" />\n   </g>\n   <g id=\"patch_43\">\n    <path d=\"M 27.295 39.918466  L 211.435 39.918466  \" style=\"fill: none; stroke: #262626; stroke-width: 0.3; stroke-linejoin: miter; stroke-linecap: square\" />\n   </g>\n   <g id=\"text_6\">\n    \n    <g style=\"fill: #444443\" transform=\"translate(154.24721 56.226466)scale(0.08 -0.08)\">\n     <defs>\n      <path id=\"ArialMT-2e\" d=\"M 581 0  L 581 641  L 1222 641  L 1222 0  L 581 0  z \" transform=\"scale(0.015625)\" />\n     </defs>\n     <use xlink:href=\"#ArialMT-30\" />\n     <use xlink:href=\"#ArialMT-2e\" x=\"55.615234\" />\n     <use xlink:href=\"#ArialMT-35\" x=\"83.398438\" />\n     <use xlink:href=\"#ArialMT-30\" x=\"139.013672\" />\n    </g>\n   </g>\n  </g>\n </g>\n <defs>\n  <clipPath id=\"p2b92987799\">\n   <rect x=\"27.295\" y=\"1.010358\" width=\"184.14\" height=\"38.908109\" />\n  </clipPath>\n </defs>\n</svg></g>\n\n\n<g id=\"node8\" class=\"node\">\n<title>leaf3</title>\n<polygon fill=\"none\" stroke=\"#444443\" stroke-width=\"0\" points=\"67,-82.5 0,-82.5 0,-0.5 67,-0.5 67,-82.5\" />\n<svg width=\"59px\" height=\"74px\" viewBox=\"0 0 78.52 99.410769\" version=\"1.1\" preserveAspectRatio=\"xMinYMin meet\" x=\"4.5\" y=\"-78.5\">\n <metadata>\n  <rdf:RDF>\n   <ns2:Work>\n    <dc:type rdf:resource=\"http://purl.org/dc/dcmitype/StillImage\" />\n    <dc:date>2022-04-20T20:42:04.617467</dc:date>\n    <dc:format>image/svg+xml</dc:format>\n    <dc:creator>\n     <ns2:Agent>\n      <dc:title>Matplotlib v3.5.1, https://matplotlib.org/</dc:title>\n     </ns2:Agent>\n    </dc:creator>\n   </ns2:Work>\n  </rdf:RDF>\n </metadata>\n <defs>\n  <style type=\"text/css\">*{stroke-linejoin: round; stroke-linecap: butt}</style>\n </defs>\n <g id=\"figure_1\">\n  <g id=\"patch_1\">\n   <path d=\"M 0 99.410769  L 78.52 99.410769  L 78.52 0  L 0 0  z \" style=\"fill: #ffffff\" />\n  </g>\n  <g id=\"axes_1\">\n   <g id=\"patch_2\">\n    <path d=\"M 78.52 39.26  C 78.52 35.127842 77.867629 31.021473 76.587014 27.092764  C 75.306399 23.164055 73.413525 19.462044 70.978399 16.123648  C 68.543272 12.785252 65.596289 9.85214 62.24644 7.432792  C 58.896592 5.013444 55.185691 3.138058 51.250984 1.875994  C 47.316276 0.61393 43.206875 -0.019059 39.074763 0.000437  C 34.942651 0.019933 30.839406 0.691672 26.916783 1.990809  C 22.99416 3.289946 19.301121 5.200266 15.974251 7.651117  C 12.647382 10.101967 9.728207 13.062757 7.324692 16.423983  C 4.921176 19.785209 3.06332 23.504917 1.819834 27.445535  C 0.576349 31.386153 -0.037244 35.498496 0.001748 39.63047  C 0.04074 43.762444 0.731831 47.862474 2.049462 51.778924  C 3.367092 55.695374 5.294815 59.379358 7.761335 62.694627  C 10.227855 66.009896 13.202385 68.915068 16.574914 71.302698  C 19.947443 73.690328 23.675876 75.530613 27.622317 76.755492  C 31.568759 77.980371 35.68395 78.574555 39.815694 78.516067  C 43.947438 78.45758 48.044162 77.747151 51.954352 76.411057  L 39.26 39.26  L 78.52 39.26  z \" style=\"fill: #fefebb; stroke: #444443; stroke-width: 0.5; stroke-linejoin: miter\" />\n   </g>\n   <g id=\"patch_3\">\n    <path d=\"M 51.954352 76.411057  C 59.702934 73.763401 66.432407 68.756754 71.195307 62.096019  C 75.958207 55.435283 78.519999 47.448448 78.52 39.260004  L 39.26 39.26  L 51.954352 76.411057  z \" style=\"fill: #a1dab4; stroke: #444443; stroke-width: 0.5; stroke-linejoin: miter\" />\n   </g>\n   <g id=\"text_1\">\n    \n    <g style=\"fill: #444443\" transform=\"translate(24.119609 88.102831)scale(0.09 -0.09)\">\n     <defs>\n      <path id=\"ArialMT-6e\" d=\"M 422 0  L 422 3319  L 928 3319  L 928 2847  Q 1294 3394 1984 3394  Q 2284 3394 2536 3286  Q 2788 3178 2913 3003  Q 3038 2828 3088 2588  Q 3119 2431 3119 2041  L 3119 0  L 2556 0  L 2556 2019  Q 2556 2363 2490 2533  Q 2425 2703 2258 2804  Q 2091 2906 1866 2906  Q 1506 2906 1245 2678  Q 984 2450 984 1813  L 984 0  L 422 0  z \" transform=\"scale(0.015625)\" />\n      <path id=\"ArialMT-3d\" d=\"M 3381 2694  L 356 2694  L 356 3219  L 3381 3219  L 3381 2694  z M 3381 1303  L 356 1303  L 356 1828  L 3381 1828  L 3381 1303  z \" transform=\"scale(0.015625)\" />\n      <path id=\"ArialMT-36\" d=\"M 3184 3459  L 2625 3416  Q 2550 3747 2413 3897  Q 2184 4138 1850 4138  Q 1581 4138 1378 3988  Q 1113 3794 959 3422  Q 806 3050 800 2363  Q 1003 2672 1297 2822  Q 1591 2972 1913 2972  Q 2475 2972 2870 2558  Q 3266 2144 3266 1488  Q 3266 1056 3080 686  Q 2894 316 2569 119  Q 2244 -78 1831 -78  Q 1128 -78 684 439  Q 241 956 241 2144  Q 241 3472 731 4075  Q 1159 4600 1884 4600  Q 2425 4600 2770 4297  Q 3116 3994 3184 3459  z M 888 1484  Q 888 1194 1011 928  Q 1134 663 1356 523  Q 1578 384 1822 384  Q 2178 384 2434 671  Q 2691 959 2691 1453  Q 2691 1928 2437 2201  Q 2184 2475 1800 2475  Q 1419 2475 1153 2201  Q 888 1928 888 1484  z \" transform=\"scale(0.015625)\" />\n      <path id=\"ArialMT-31\" d=\"M 2384 0  L 1822 0  L 1822 3584  Q 1619 3391 1289 3197  Q 959 3003 697 2906  L 697 3450  Q 1169 3672 1522 3987  Q 1875 4303 2022 4600  L 2384 4600  L 2384 0  z \" transform=\"scale(0.015625)\" />\n      <path id=\"ArialMT-35\" d=\"M 266 1200  L 856 1250  Q 922 819 1161 601  Q 1400 384 1738 384  Q 2144 384 2425 690  Q 2706 997 2706 1503  Q 2706 1984 2436 2262  Q 2166 2541 1728 2541  Q 1456 2541 1237 2417  Q 1019 2294 894 2097  L 366 2166  L 809 4519  L 3088 4519  L 3088 3981  L 1259 3981  L 1013 2750  Q 1425 3038 1878 3038  Q 2478 3038 2890 2622  Q 3303 2206 3303 1553  Q 3303 931 2941 478  Q 2500 -78 1738 -78  Q 1113 -78 717 272  Q 322 622 266 1200  z \" transform=\"scale(0.015625)\" />\n      <path id=\"ArialMT-39\" d=\"M 350 1059  L 891 1109  Q 959 728 1153 556  Q 1347 384 1650 384  Q 1909 384 2104 503  Q 2300 622 2425 820  Q 2550 1019 2634 1356  Q 2719 1694 2719 2044  Q 2719 2081 2716 2156  Q 2547 1888 2255 1720  Q 1963 1553 1622 1553  Q 1053 1553 659 1965  Q 266 2378 266 3053  Q 266 3750 677 4175  Q 1088 4600 1706 4600  Q 2153 4600 2523 4359  Q 2894 4119 3086 3673  Q 3278 3228 3278 2384  Q 3278 1506 3087 986  Q 2897 466 2520 194  Q 2144 -78 1638 -78  Q 1100 -78 759 220  Q 419 519 350 1059  z M 2653 3081  Q 2653 3566 2395 3850  Q 2138 4134 1775 4134  Q 1400 4134 1122 3828  Q 844 3522 844 3034  Q 844 2597 1108 2323  Q 1372 2050 1759 2050  Q 2150 2050 2401 2323  Q 2653 2597 2653 3081  z \" transform=\"scale(0.015625)\" />\n     </defs>\n     <use xlink:href=\"#ArialMT-6e\" />\n     <use xlink:href=\"#ArialMT-3d\" x=\"55.615234\" />\n     <use xlink:href=\"#ArialMT-36\" x=\"114.013672\" />\n     <use xlink:href=\"#ArialMT-31\" x=\"169.628906\" />\n     <use xlink:href=\"#ArialMT-35\" x=\"225.244141\" />\n     <use xlink:href=\"#ArialMT-39\" x=\"280.859375\" />\n    </g>\n    \n    <g style=\"fill: #444443\" transform=\"translate(34.255156 97.622019)scale(0.09 -0.09)\">\n     <defs>\n      <path id=\"ArialMT-6f\" d=\"M 213 1659  Q 213 2581 725 3025  Q 1153 3394 1769 3394  Q 2453 3394 2887 2945  Q 3322 2497 3322 1706  Q 3322 1066 3130 698  Q 2938 331 2570 128  Q 2203 -75 1769 -75  Q 1072 -75 642 372  Q 213 819 213 1659  z M 791 1659  Q 791 1022 1069 705  Q 1347 388 1769 388  Q 2188 388 2466 706  Q 2744 1025 2744 1678  Q 2744 2294 2464 2611  Q 2184 2928 1769 2928  Q 1347 2928 1069 2612  Q 791 2297 791 1659  z \" transform=\"scale(0.015625)\" />\n     </defs>\n     <use xlink:href=\"#ArialMT-6e\" />\n     <use xlink:href=\"#ArialMT-6f\" x=\"55.615234\" />\n    </g>\n   </g>\n  </g>\n </g>\n</svg></g>\n\n<g id=\"edge1\" class=\"edge\">\n<title>node2-&gt;leaf3</title>\n<path fill=\"none\" stroke=\"#444443\" stroke-width=\"0.3\" d=\"M78.51,-119.4C72.6,-109.3 65.64,-97.4 58.98,-86.03\" />\n<polygon fill=\"#444443\" stroke=\"#444443\" stroke-width=\"0.3\" points=\"60.15,-85.26 56.92,-82.52 57.74,-86.68 60.15,-85.26\" />\n</g>\n\n<g id=\"node9\" class=\"node\">\n<title>leaf4</title>\n<polygon fill=\"none\" stroke=\"#444443\" stroke-width=\"0\" points=\"148,-82.5 81,-82.5 81,-0.5 148,-0.5 148,-82.5\" />\n<svg width=\"59px\" height=\"74px\" viewBox=\"0 0 78.52 99.410769\" version=\"1.1\" preserveAspectRatio=\"xMinYMin meet\" x=\"85.5\" y=\"-78.5\">\n <metadata>\n  <rdf:RDF>\n   <ns2:Work>\n    <dc:type rdf:resource=\"http://purl.org/dc/dcmitype/StillImage\" />\n    <dc:date>2022-04-20T20:42:04.629804</dc:date>\n    <dc:format>image/svg+xml</dc:format>\n    <dc:creator>\n     <ns2:Agent>\n      <dc:title>Matplotlib v3.5.1, https://matplotlib.org/</dc:title>\n     </ns2:Agent>\n    </dc:creator>\n   </ns2:Work>\n  </rdf:RDF>\n </metadata>\n <defs>\n  <style type=\"text/css\">*{stroke-linejoin: round; stroke-linecap: butt}</style>\n </defs>\n <g id=\"figure_1\">\n  <g id=\"patch_1\">\n   <path d=\"M 0 99.410769  L 78.52 99.410769  L 78.52 0  L 0 0  z \" style=\"fill: #ffffff\" />\n  </g>\n  <g id=\"axes_1\">\n   <g id=\"patch_2\">\n    <path d=\"M 78.52 39.26  C 78.52 32.368943 76.705685 25.597829 73.260157 19.629999  C 69.814629 13.662169 64.857829 8.70537 58.889999 5.259842  C 52.922169 1.814314 46.151055 -0 39.259998 0  C 32.368942 0 25.597828 1.814315 19.629998 5.259844  C 13.662168 8.705373 8.705369 13.662172 5.259841 19.630003  C 1.814313 25.597833 -0.000001 32.368947 0 39.260004  C 0.000001 46.15106 1.814316 52.922174 5.259845 58.890004  C 8.705374 64.857833 13.662174 69.814632 19.630004 73.26016  L 39.26 39.26  L 78.52 39.26  z \" style=\"fill: #fefebb; stroke: #444443; stroke-width: 0.5; stroke-linejoin: miter\" />\n   </g>\n   <g id=\"patch_3\">\n    <path d=\"M 19.630004 73.26016  C 25.597835 76.705687 32.368949 78.520001 39.260006 78.52  C 46.151062 78.519999 52.922176 76.705683 58.890005 73.260154  C 64.857835 69.814625 69.814633 64.857825 73.260161 58.889994  C 76.705688 52.922164 78.520001 46.151049 78.52 39.259993  L 39.26 39.26  L 19.630004 73.26016  z \" style=\"fill: #a1dab4; stroke: #444443; stroke-width: 0.5; stroke-linejoin: miter\" />\n   </g>\n   <g id=\"text_1\">\n    \n    <g style=\"fill: #444443\" transform=\"translate(24.119609 88.102831)scale(0.09 -0.09)\">\n     <defs>\n      <path id=\"ArialMT-6e\" d=\"M 422 0  L 422 3319  L 928 3319  L 928 2847  Q 1294 3394 1984 3394  Q 2284 3394 2536 3286  Q 2788 3178 2913 3003  Q 3038 2828 3088 2588  Q 3119 2431 3119 2041  L 3119 0  L 2556 0  L 2556 2019  Q 2556 2363 2490 2533  Q 2425 2703 2258 2804  Q 2091 2906 1866 2906  Q 1506 2906 1245 2678  Q 984 2450 984 1813  L 984 0  L 422 0  z \" transform=\"scale(0.015625)\" />\n      <path id=\"ArialMT-3d\" d=\"M 3381 2694  L 356 2694  L 356 3219  L 3381 3219  L 3381 2694  z M 3381 1303  L 356 1303  L 356 1828  L 3381 1828  L 3381 1303  z \" transform=\"scale(0.015625)\" />\n      <path id=\"ArialMT-33\" d=\"M 269 1209  L 831 1284  Q 928 806 1161 595  Q 1394 384 1728 384  Q 2125 384 2398 659  Q 2672 934 2672 1341  Q 2672 1728 2419 1979  Q 2166 2231 1775 2231  Q 1616 2231 1378 2169  L 1441 2663  Q 1497 2656 1531 2656  Q 1891 2656 2178 2843  Q 2466 3031 2466 3422  Q 2466 3731 2256 3934  Q 2047 4138 1716 4138  Q 1388 4138 1169 3931  Q 950 3725 888 3313  L 325 3413  Q 428 3978 793 4289  Q 1159 4600 1703 4600  Q 2078 4600 2393 4439  Q 2709 4278 2876 4000  Q 3044 3722 3044 3409  Q 3044 3113 2884 2869  Q 2725 2625 2413 2481  Q 2819 2388 3044 2092  Q 3269 1797 3269 1353  Q 3269 753 2831 336  Q 2394 -81 1725 -81  Q 1122 -81 723 278  Q 325 638 269 1209  z \" transform=\"scale(0.015625)\" />\n      <path id=\"ArialMT-39\" d=\"M 350 1059  L 891 1109  Q 959 728 1153 556  Q 1347 384 1650 384  Q 1909 384 2104 503  Q 2300 622 2425 820  Q 2550 1019 2634 1356  Q 2719 1694 2719 2044  Q 2719 2081 2716 2156  Q 2547 1888 2255 1720  Q 1963 1553 1622 1553  Q 1053 1553 659 1965  Q 266 2378 266 3053  Q 266 3750 677 4175  Q 1088 4600 1706 4600  Q 2153 4600 2523 4359  Q 2894 4119 3086 3673  Q 3278 3228 3278 2384  Q 3278 1506 3087 986  Q 2897 466 2520 194  Q 2144 -78 1638 -78  Q 1100 -78 759 220  Q 419 519 350 1059  z M 2653 3081  Q 2653 3566 2395 3850  Q 2138 4134 1775 4134  Q 1400 4134 1122 3828  Q 844 3522 844 3034  Q 844 2597 1108 2323  Q 1372 2050 1759 2050  Q 2150 2050 2401 2323  Q 2653 2597 2653 3081  z \" transform=\"scale(0.015625)\" />\n      <path id=\"ArialMT-36\" d=\"M 3184 3459  L 2625 3416  Q 2550 3747 2413 3897  Q 2184 4138 1850 4138  Q 1581 4138 1378 3988  Q 1113 3794 959 3422  Q 806 3050 800 2363  Q 1003 2672 1297 2822  Q 1591 2972 1913 2972  Q 2475 2972 2870 2558  Q 3266 2144 3266 1488  Q 3266 1056 3080 686  Q 2894 316 2569 119  Q 2244 -78 1831 -78  Q 1128 -78 684 439  Q 241 956 241 2144  Q 241 3472 731 4075  Q 1159 4600 1884 4600  Q 2425 4600 2770 4297  Q 3116 3994 3184 3459  z M 888 1484  Q 888 1194 1011 928  Q 1134 663 1356 523  Q 1578 384 1822 384  Q 2178 384 2434 671  Q 2691 959 2691 1453  Q 2691 1928 2437 2201  Q 2184 2475 1800 2475  Q 1419 2475 1153 2201  Q 888 1928 888 1484  z \" transform=\"scale(0.015625)\" />\n     </defs>\n     <use xlink:href=\"#ArialMT-6e\" />\n     <use xlink:href=\"#ArialMT-3d\" x=\"55.615234\" />\n     <use xlink:href=\"#ArialMT-33\" x=\"114.013672\" />\n     <use xlink:href=\"#ArialMT-33\" x=\"169.628906\" />\n     <use xlink:href=\"#ArialMT-39\" x=\"225.244141\" />\n     <use xlink:href=\"#ArialMT-36\" x=\"280.859375\" />\n    </g>\n    \n    <g style=\"fill: #444443\" transform=\"translate(34.255156 97.622019)scale(0.09 -0.09)\">\n     <defs>\n      <path id=\"ArialMT-6f\" d=\"M 213 1659  Q 213 2581 725 3025  Q 1153 3394 1769 3394  Q 2453 3394 2887 2945  Q 3322 2497 3322 1706  Q 3322 1066 3130 698  Q 2938 331 2570 128  Q 2203 -75 1769 -75  Q 1072 -75 642 372  Q 213 819 213 1659  z M 791 1659  Q 791 1022 1069 705  Q 1347 388 1769 388  Q 2188 388 2466 706  Q 2744 1025 2744 1678  Q 2744 2294 2464 2611  Q 2184 2928 1769 2928  Q 1347 2928 1069 2612  Q 791 2297 791 1659  z \" transform=\"scale(0.015625)\" />\n     </defs>\n     <use xlink:href=\"#ArialMT-6e\" />\n     <use xlink:href=\"#ArialMT-6f\" x=\"55.615234\" />\n    </g>\n   </g>\n  </g>\n </g>\n</svg></g>\n\n<g id=\"edge2\" class=\"edge\">\n<title>node2-&gt;leaf4</title>\n<path fill=\"none\" stroke=\"#444443\" stroke-width=\"0.3\" d=\"M98.75,-119.4C100.78,-109.47 103.17,-97.81 105.46,-86.62\" />\n<polygon fill=\"#444443\" stroke=\"#444443\" stroke-width=\"0.3\" points=\"106.87,-86.72 106.3,-82.52 104.13,-86.15 106.87,-86.72\" />\n</g>\n\n<g id=\"node10\" class=\"node\">\n<title>leaf6</title>\n<polygon fill=\"none\" stroke=\"#444443\" stroke-width=\"0\" points=\"257,-82.5 190,-82.5 190,-0.5 257,-0.5 257,-82.5\" />\n<svg width=\"59px\" height=\"74px\" viewBox=\"0 0 78.519938 99.410749\" version=\"1.1\" preserveAspectRatio=\"xMinYMin meet\" x=\"194.5\" y=\"-78.5\">\n <metadata>\n  <rdf:RDF>\n   <ns2:Work>\n    <dc:type rdf:resource=\"http://purl.org/dc/dcmitype/StillImage\" />\n    <dc:date>2022-04-20T20:42:04.642126</dc:date>\n    <dc:format>image/svg+xml</dc:format>\n    <dc:creator>\n     <ns2:Agent>\n      <dc:title>Matplotlib v3.5.1, https://matplotlib.org/</dc:title>\n     </ns2:Agent>\n    </dc:creator>\n   </ns2:Work>\n  </rdf:RDF>\n </metadata>\n <defs>\n  <style type=\"text/css\">*{stroke-linejoin: round; stroke-linecap: butt}</style>\n </defs>\n <g id=\"figure_1\">\n  <g id=\"patch_1\">\n   <path d=\"M 0 99.410749  L 78.519938 99.410749  L 78.519938 0  L 0 0  z \" style=\"fill: #ffffff\" />\n  </g>\n  <g id=\"axes_1\">\n   <g id=\"patch_2\">\n    <path d=\"M 78.519938 39.25998  C 78.519938 32.835514 76.942998 26.508183 73.927977 20.83514  C 70.912955 15.162098 66.551022 10.314892 61.22627 6.720344  C 55.901517 3.125796 49.77496 0.892602 43.386073 0.217406  C 36.997187 -0.457791 30.539164 0.445427 24.580668 2.847528  C 18.622172 5.249629 13.343381 9.077974 9.209121 13.995459  C 5.074861 18.912944 2.210147 24.770868 0.867233 31.053411  C -0.475682 37.335954 -0.256189 43.853137 1.506385 50.03109  C 3.268958 56.209043 6.521313 61.860949 10.977063 66.48913  L 39.259938 39.25998  L 78.519938 39.25998  z \" style=\"fill: #fefebb; stroke: #444443; stroke-width: 0.5; stroke-linejoin: miter\" />\n   </g>\n   <g id=\"patch_3\">\n    <path d=\"M 10.977063 66.48913  C 16.405831 72.127982 23.398885 76.016514 31.053369 77.652685  C 38.707853 79.288857 46.679534 78.599087 53.939208 75.672431  C 61.198882 72.745776 67.420072 67.713849 71.799573 61.226312  C 76.179075 54.738774 78.519938 47.087379 78.519938 39.25998  L 39.259938 39.25998  L 10.977063 66.48913  z \" style=\"fill: #a1dab4; stroke: #444443; stroke-width: 0.5; stroke-linejoin: miter\" />\n   </g>\n   <g id=\"text_1\">\n    \n    <g style=\"fill: #444443\" transform=\"translate(24.119547 88.102811)scale(0.09 -0.09)\">\n     <defs>\n      <path id=\"ArialMT-6e\" d=\"M 422 0  L 422 3319  L 928 3319  L 928 2847  Q 1294 3394 1984 3394  Q 2284 3394 2536 3286  Q 2788 3178 2913 3003  Q 3038 2828 3088 2588  Q 3119 2431 3119 2041  L 3119 0  L 2556 0  L 2556 2019  Q 2556 2363 2490 2533  Q 2425 2703 2258 2804  Q 2091 2906 1866 2906  Q 1506 2906 1245 2678  Q 984 2450 984 1813  L 984 0  L 422 0  z \" transform=\"scale(0.015625)\" />\n      <path id=\"ArialMT-3d\" d=\"M 3381 2694  L 356 2694  L 356 3219  L 3381 3219  L 3381 2694  z M 3381 1303  L 356 1303  L 356 1828  L 3381 1828  L 3381 1303  z \" transform=\"scale(0.015625)\" />\n      <path id=\"ArialMT-36\" d=\"M 3184 3459  L 2625 3416  Q 2550 3747 2413 3897  Q 2184 4138 1850 4138  Q 1581 4138 1378 3988  Q 1113 3794 959 3422  Q 806 3050 800 2363  Q 1003 2672 1297 2822  Q 1591 2972 1913 2972  Q 2475 2972 2870 2558  Q 3266 2144 3266 1488  Q 3266 1056 3080 686  Q 2894 316 2569 119  Q 2244 -78 1831 -78  Q 1128 -78 684 439  Q 241 956 241 2144  Q 241 3472 731 4075  Q 1159 4600 1884 4600  Q 2425 4600 2770 4297  Q 3116 3994 3184 3459  z M 888 1484  Q 888 1194 1011 928  Q 1134 663 1356 523  Q 1578 384 1822 384  Q 2178 384 2434 671  Q 2691 959 2691 1453  Q 2691 1928 2437 2201  Q 2184 2475 1800 2475  Q 1419 2475 1153 2201  Q 888 1928 888 1484  z \" transform=\"scale(0.015625)\" />\n      <path id=\"ArialMT-39\" d=\"M 350 1059  L 891 1109  Q 959 728 1153 556  Q 1347 384 1650 384  Q 1909 384 2104 503  Q 2300 622 2425 820  Q 2550 1019 2634 1356  Q 2719 1694 2719 2044  Q 2719 2081 2716 2156  Q 2547 1888 2255 1720  Q 1963 1553 1622 1553  Q 1053 1553 659 1965  Q 266 2378 266 3053  Q 266 3750 677 4175  Q 1088 4600 1706 4600  Q 2153 4600 2523 4359  Q 2894 4119 3086 3673  Q 3278 3228 3278 2384  Q 3278 1506 3087 986  Q 2897 466 2520 194  Q 2144 -78 1638 -78  Q 1100 -78 759 220  Q 419 519 350 1059  z M 2653 3081  Q 2653 3566 2395 3850  Q 2138 4134 1775 4134  Q 1400 4134 1122 3828  Q 844 3522 844 3034  Q 844 2597 1108 2323  Q 1372 2050 1759 2050  Q 2150 2050 2401 2323  Q 2653 2597 2653 3081  z \" transform=\"scale(0.015625)\" />\n      <path id=\"ArialMT-35\" d=\"M 266 1200  L 856 1250  Q 922 819 1161 601  Q 1400 384 1738 384  Q 2144 384 2425 690  Q 2706 997 2706 1503  Q 2706 1984 2436 2262  Q 2166 2541 1728 2541  Q 1456 2541 1237 2417  Q 1019 2294 894 2097  L 366 2166  L 809 4519  L 3088 4519  L 3088 3981  L 1259 3981  L 1013 2750  Q 1425 3038 1878 3038  Q 2478 3038 2890 2622  Q 3303 2206 3303 1553  Q 3303 931 2941 478  Q 2500 -78 1738 -78  Q 1113 -78 717 272  Q 322 622 266 1200  z \" transform=\"scale(0.015625)\" />\n      <path id=\"ArialMT-32\" d=\"M 3222 541  L 3222 0  L 194 0  Q 188 203 259 391  Q 375 700 629 1000  Q 884 1300 1366 1694  Q 2113 2306 2375 2664  Q 2638 3022 2638 3341  Q 2638 3675 2398 3904  Q 2159 4134 1775 4134  Q 1369 4134 1125 3890  Q 881 3647 878 3216  L 300 3275  Q 359 3922 746 4261  Q 1134 4600 1788 4600  Q 2447 4600 2831 4234  Q 3216 3869 3216 3328  Q 3216 3053 3103 2787  Q 2991 2522 2730 2228  Q 2469 1934 1863 1422  Q 1356 997 1212 845  Q 1069 694 975 541  L 3222 541  z \" transform=\"scale(0.015625)\" />\n     </defs>\n     <use xlink:href=\"#ArialMT-6e\" />\n     <use xlink:href=\"#ArialMT-3d\" x=\"55.615234\" />\n     <use xlink:href=\"#ArialMT-36\" x=\"114.013672\" />\n     <use xlink:href=\"#ArialMT-39\" x=\"169.628906\" />\n     <use xlink:href=\"#ArialMT-35\" x=\"225.244141\" />\n     <use xlink:href=\"#ArialMT-32\" x=\"280.859375\" />\n    </g>\n    \n    <g style=\"fill: #444443\" transform=\"translate(34.255094 97.621999)scale(0.09 -0.09)\">\n     <defs>\n      <path id=\"ArialMT-6f\" d=\"M 213 1659  Q 213 2581 725 3025  Q 1153 3394 1769 3394  Q 2453 3394 2887 2945  Q 3322 2497 3322 1706  Q 3322 1066 3130 698  Q 2938 331 2570 128  Q 2203 -75 1769 -75  Q 1072 -75 642 372  Q 213 819 213 1659  z M 791 1659  Q 791 1022 1069 705  Q 1347 388 1769 388  Q 2188 388 2466 706  Q 2744 1025 2744 1678  Q 2744 2294 2464 2611  Q 2184 2928 1769 2928  Q 1347 2928 1069 2612  Q 791 2297 791 1659  z \" transform=\"scale(0.015625)\" />\n     </defs>\n     <use xlink:href=\"#ArialMT-6e\" />\n     <use xlink:href=\"#ArialMT-6f\" x=\"55.615234\" />\n    </g>\n   </g>\n  </g>\n </g>\n</svg></g>\n\n<g id=\"edge4\" class=\"edge\">\n<title>node5-&gt;leaf6</title>\n<path fill=\"none\" stroke=\"#444443\" stroke-width=\"0.3\" d=\"M258.77,-114.8C254.45,-105.94 249.63,-96.06 244.97,-86.52\" />\n<polygon fill=\"#444443\" stroke=\"#444443\" stroke-width=\"0.3\" points=\"246.14,-85.73 243.13,-82.74 243.63,-86.95 246.14,-85.73\" />\n</g>\n\n<g id=\"node11\" class=\"node\">\n<title>leaf7</title>\n<polygon fill=\"none\" stroke=\"#444443\" stroke-width=\"0\" points=\"338,-83 271,-83 271,0 338,0 338,-83\" />\n<svg width=\"59px\" height=\"75px\" viewBox=\"0 0 78.519979 99.51619\" version=\"1.1\" preserveAspectRatio=\"xMinYMin meet\" x=\"275.5\" y=\"-78.5\">\n <metadata>\n  <rdf:RDF>\n   <ns2:Work>\n    <dc:type rdf:resource=\"http://purl.org/dc/dcmitype/StillImage\" />\n    <dc:date>2022-04-20T20:42:04.654459</dc:date>\n    <dc:format>image/svg+xml</dc:format>\n    <dc:creator>\n     <ns2:Agent>\n      <dc:title>Matplotlib v3.5.1, https://matplotlib.org/</dc:title>\n     </ns2:Agent>\n    </dc:creator>\n   </ns2:Work>\n  </rdf:RDF>\n </metadata>\n <defs>\n  <style type=\"text/css\">*{stroke-linejoin: round; stroke-linecap: butt}</style>\n </defs>\n <g id=\"figure_1\">\n  <g id=\"patch_1\">\n   <path d=\"M 0 99.51619  L 78.519979 99.51619  L 78.519979 0  L 0 0  z \" style=\"fill: #ffffff\" />\n  </g>\n  <g id=\"axes_1\">\n   <g id=\"patch_2\">\n    <path d=\"M 78.519979 39.259952  C 78.519979 29.401091 74.806385 19.895092 68.123412 12.646988  C 61.440438 5.398884 52.266473 0.927513 42.440006 0.128954  C 32.613539 -0.669605 22.837977 2.261809 15.072374 8.335733  C 7.30677 14.409657 2.107009 23.191301 0.515138 32.920797  L 39.259979 39.259952  L 78.519979 39.259952  z \" style=\"fill: #fefebb; stroke: #444443; stroke-width: 0.5; stroke-linejoin: miter\" />\n   </g>\n   <g id=\"patch_3\">\n    <path d=\"M 0.515138 32.920797  C -0.36058 38.273174 -0.117771 43.749404 1.228212 49.003274  C 2.574196 54.257144 4.99438 59.175553 8.335759 63.447556  C 11.677137 67.71956 15.867779 71.253192 20.64275 73.825056  C 25.41772 76.396919 30.674227 77.951648 36.079949 78.39095  C 41.485672 78.830253 46.92424 78.144673 52.051823 76.377554  C 57.179406 74.610434 61.885622 71.799816 65.87294 68.123388  C 69.860257 64.446961 73.042841 59.983867 75.219486 55.016268  C 77.39613 50.048669 78.519978 44.683503 78.519979 39.25996  L 39.259979 39.259952  L 0.515138 32.920797  z \" style=\"fill: #a1dab4; stroke: #444443; stroke-width: 0.5; stroke-linejoin: miter\" />\n   </g>\n   <g id=\"text_1\">\n    \n    <g style=\"fill: #444443\" transform=\"translate(24.119589 88.102784)scale(0.09 -0.09)\">\n     <defs>\n      <path id=\"ArialMT-6e\" d=\"M 422 0  L 422 3319  L 928 3319  L 928 2847  Q 1294 3394 1984 3394  Q 2284 3394 2536 3286  Q 2788 3178 2913 3003  Q 3038 2828 3088 2588  Q 3119 2431 3119 2041  L 3119 0  L 2556 0  L 2556 2019  Q 2556 2363 2490 2533  Q 2425 2703 2258 2804  Q 2091 2906 1866 2906  Q 1506 2906 1245 2678  Q 984 2450 984 1813  L 984 0  L 422 0  z \" transform=\"scale(0.015625)\" />\n      <path id=\"ArialMT-3d\" d=\"M 3381 2694  L 356 2694  L 356 3219  L 3381 3219  L 3381 2694  z M 3381 1303  L 356 1303  L 356 1828  L 3381 1828  L 3381 1303  z \" transform=\"scale(0.015625)\" />\n      <path id=\"ArialMT-36\" d=\"M 3184 3459  L 2625 3416  Q 2550 3747 2413 3897  Q 2184 4138 1850 4138  Q 1581 4138 1378 3988  Q 1113 3794 959 3422  Q 806 3050 800 2363  Q 1003 2672 1297 2822  Q 1591 2972 1913 2972  Q 2475 2972 2870 2558  Q 3266 2144 3266 1488  Q 3266 1056 3080 686  Q 2894 316 2569 119  Q 2244 -78 1831 -78  Q 1128 -78 684 439  Q 241 956 241 2144  Q 241 3472 731 4075  Q 1159 4600 1884 4600  Q 2425 4600 2770 4297  Q 3116 3994 3184 3459  z M 888 1484  Q 888 1194 1011 928  Q 1134 663 1356 523  Q 1578 384 1822 384  Q 2178 384 2434 671  Q 2691 959 2691 1453  Q 2691 1928 2437 2201  Q 2184 2475 1800 2475  Q 1419 2475 1153 2201  Q 888 1928 888 1484  z \" transform=\"scale(0.015625)\" />\n      <path id=\"ArialMT-32\" d=\"M 3222 541  L 3222 0  L 194 0  Q 188 203 259 391  Q 375 700 629 1000  Q 884 1300 1366 1694  Q 2113 2306 2375 2664  Q 2638 3022 2638 3341  Q 2638 3675 2398 3904  Q 2159 4134 1775 4134  Q 1369 4134 1125 3890  Q 881 3647 878 3216  L 300 3275  Q 359 3922 746 4261  Q 1134 4600 1788 4600  Q 2447 4600 2831 4234  Q 3216 3869 3216 3328  Q 3216 3053 3103 2787  Q 2991 2522 2730 2228  Q 2469 1934 1863 1422  Q 1356 997 1212 845  Q 1069 694 975 541  L 3222 541  z \" transform=\"scale(0.015625)\" />\n      <path id=\"ArialMT-35\" d=\"M 266 1200  L 856 1250  Q 922 819 1161 601  Q 1400 384 1738 384  Q 2144 384 2425 690  Q 2706 997 2706 1503  Q 2706 1984 2436 2262  Q 2166 2541 1728 2541  Q 1456 2541 1237 2417  Q 1019 2294 894 2097  L 366 2166  L 809 4519  L 3088 4519  L 3088 3981  L 1259 3981  L 1013 2750  Q 1425 3038 1878 3038  Q 2478 3038 2890 2622  Q 3303 2206 3303 1553  Q 3303 931 2941 478  Q 2500 -78 1738 -78  Q 1113 -78 717 272  Q 322 622 266 1200  z \" transform=\"scale(0.015625)\" />\n      <path id=\"ArialMT-37\" d=\"M 303 3981  L 303 4522  L 3269 4522  L 3269 4084  Q 2831 3619 2401 2847  Q 1972 2075 1738 1259  Q 1569 684 1522 0  L 944 0  Q 953 541 1156 1306  Q 1359 2072 1739 2783  Q 2119 3494 2547 3981  L 303 3981  z \" transform=\"scale(0.015625)\" />\n     </defs>\n     <use xlink:href=\"#ArialMT-6e\" />\n     <use xlink:href=\"#ArialMT-3d\" x=\"55.615234\" />\n     <use xlink:href=\"#ArialMT-36\" x=\"114.013672\" />\n     <use xlink:href=\"#ArialMT-32\" x=\"169.628906\" />\n     <use xlink:href=\"#ArialMT-35\" x=\"225.244141\" />\n     <use xlink:href=\"#ArialMT-37\" x=\"280.859375\" />\n    </g>\n    \n    <g style=\"fill: #444443\" transform=\"translate(32.257557 97.621971)scale(0.09 -0.09)\">\n     <defs>\n      <path id=\"ArialMT-79\" d=\"M 397 -1278  L 334 -750  Q 519 -800 656 -800  Q 844 -800 956 -737  Q 1069 -675 1141 -563  Q 1194 -478 1313 -144  Q 1328 -97 1363 -6  L 103 3319  L 709 3319  L 1400 1397  Q 1534 1031 1641 628  Q 1738 1016 1872 1384  L 2581 3319  L 3144 3319  L 1881 -56  Q 1678 -603 1566 -809  Q 1416 -1088 1222 -1217  Q 1028 -1347 759 -1347  Q 597 -1347 397 -1278  z \" transform=\"scale(0.015625)\" />\n      <path id=\"ArialMT-65\" d=\"M 2694 1069  L 3275 997  Q 3138 488 2766 206  Q 2394 -75 1816 -75  Q 1088 -75 661 373  Q 234 822 234 1631  Q 234 2469 665 2931  Q 1097 3394 1784 3394  Q 2450 3394 2872 2941  Q 3294 2488 3294 1666  Q 3294 1616 3291 1516  L 816 1516  Q 847 969 1125 678  Q 1403 388 1819 388  Q 2128 388 2347 550  Q 2566 713 2694 1069  z M 847 1978  L 2700 1978  Q 2663 2397 2488 2606  Q 2219 2931 1791 2931  Q 1403 2931 1139 2672  Q 875 2413 847 1978  z \" transform=\"scale(0.015625)\" />\n      <path id=\"ArialMT-73\" d=\"M 197 991  L 753 1078  Q 800 744 1014 566  Q 1228 388 1613 388  Q 2000 388 2187 545  Q 2375 703 2375 916  Q 2375 1106 2209 1216  Q 2094 1291 1634 1406  Q 1016 1563 777 1677  Q 538 1791 414 1992  Q 291 2194 291 2438  Q 291 2659 392 2848  Q 494 3038 669 3163  Q 800 3259 1026 3326  Q 1253 3394 1513 3394  Q 1903 3394 2198 3281  Q 2494 3169 2634 2976  Q 2775 2784 2828 2463  L 2278 2388  Q 2241 2644 2061 2787  Q 1881 2931 1553 2931  Q 1166 2931 1000 2803  Q 834 2675 834 2503  Q 834 2394 903 2306  Q 972 2216 1119 2156  Q 1203 2125 1616 2013  Q 2213 1853 2448 1751  Q 2684 1650 2818 1456  Q 2953 1263 2953 975  Q 2953 694 2789 445  Q 2625 197 2315 61  Q 2006 -75 1616 -75  Q 969 -75 630 194  Q 291 463 197 991  z \" transform=\"scale(0.015625)\" />\n     </defs>\n     <use xlink:href=\"#ArialMT-79\" />\n     <use xlink:href=\"#ArialMT-65\" x=\"50\" />\n     <use xlink:href=\"#ArialMT-73\" x=\"105.615234\" />\n    </g>\n   </g>\n  </g>\n </g>\n</svg></g>\n\n<g id=\"edge5\" class=\"edge\">\n<title>node5-&gt;leaf7</title>\n<path fill=\"none\" stroke=\"#444443\" stroke-width=\"0.3\" d=\"M282.63,-114.8C285.26,-106.12 288.18,-96.46 291.01,-87.11\" />\n<polygon fill=\"#444443\" stroke=\"#444443\" stroke-width=\"0.3\" points=\"292.4,-87.36 292.21,-83.12 289.72,-86.54 292.4,-87.36\" />\n</g>\n\n<g id=\"node3\" class=\"node\">\n<title>node1</title>\n<svg width=\"162px\" height=\"69px\" viewBox=\"0 0 217.123929 92.724115\" version=\"1.1\" preserveAspectRatio=\"xMinYMin meet\" x=\"187.5\" y=\"-281.5\">\n <metadata>\n  <rdf:RDF>\n   <ns2:Work>\n    <dc:type rdf:resource=\"http://purl.org/dc/dcmitype/StillImage\" />\n    <dc:date>2022-04-20T20:42:04.392316</dc:date>\n    <dc:format>image/svg+xml</dc:format>\n    <dc:creator>\n     <ns2:Agent>\n      <dc:title>Matplotlib v3.5.1, https://matplotlib.org/</dc:title>\n     </ns2:Agent>\n    </dc:creator>\n   </ns2:Work>\n  </rdf:RDF>\n </metadata>\n <defs>\n  <style type=\"text/css\">*{stroke-linejoin: round; stroke-linecap: butt}</style>\n </defs>\n <g id=\"figure_1\">\n  <g id=\"patch_1\">\n   <path d=\"M 0 92.724115  L 217.123929 92.724115  L 217.123929 0  L 0 0  z \" style=\"fill: #ffffff\" />\n  </g>\n  <g id=\"axes_1\">\n   <g id=\"patch_2\">\n    <path d=\"M 31.74375 60.792865  L 215.88375 60.792865  L 215.88375 0  L 31.74375 0  z \" style=\"fill: #ffffff\" />\n   </g>\n   <g id=\"matplotlib.axis_1\">\n    <g id=\"xtick_1\">\n     <g id=\"text_1\">\n      \n      <g style=\"fill: #444443\" transform=\"translate(21.735 76.019115)scale(0.08 -0.08)\">\n       <defs>\n        <path id=\"ArialMT-30\" d=\"M 266 2259  Q 266 3072 433 3567  Q 600 4063 929 4331  Q 1259 4600 1759 4600  Q 2128 4600 2406 4451  Q 2684 4303 2865 4023  Q 3047 3744 3150 3342  Q 3253 2941 3253 2259  Q 3253 1453 3087 958  Q 2922 463 2592 192  Q 2263 -78 1759 -78  Q 1097 -78 719 397  Q 266 969 266 2259  z M 844 2259  Q 844 1131 1108 757  Q 1372 384 1759 384  Q 2147 384 2411 759  Q 2675 1134 2675 2259  Q 2675 3391 2411 3762  Q 2147 4134 1753 4134  Q 1366 4134 1134 3806  Q 844 3388 844 2259  z \" transform=\"scale(0.015625)\" />\n        <path id=\"ArialMT-2e\" d=\"M 581 0  L 581 641  L 1222 641  L 1222 0  L 581 0  z \" transform=\"scale(0.015625)\" />\n       </defs>\n       <use xlink:href=\"#ArialMT-30\" />\n       <use xlink:href=\"#ArialMT-2e\" x=\"55.615234\" />\n       <use xlink:href=\"#ArialMT-30\" x=\"83.398438\" />\n       <use xlink:href=\"#ArialMT-30\" x=\"139.013672\" />\n       <use xlink:href=\"#ArialMT-30\" x=\"194.628906\" />\n      </g>\n     </g>\n    </g>\n    <g id=\"xtick_2\">\n     <g id=\"text_2\">\n      \n      <g style=\"fill: #444443\" transform=\"translate(197.106429 76.019115)scale(0.08 -0.08)\">\n       <defs>\n        <path id=\"ArialMT-39\" d=\"M 350 1059  L 891 1109  Q 959 728 1153 556  Q 1347 384 1650 384  Q 1909 384 2104 503  Q 2300 622 2425 820  Q 2550 1019 2634 1356  Q 2719 1694 2719 2044  Q 2719 2081 2716 2156  Q 2547 1888 2255 1720  Q 1963 1553 1622 1553  Q 1053 1553 659 1965  Q 266 2378 266 3053  Q 266 3750 677 4175  Q 1088 4600 1706 4600  Q 2153 4600 2523 4359  Q 2894 4119 3086 3673  Q 3278 3228 3278 2384  Q 3278 1506 3087 986  Q 2897 466 2520 194  Q 2144 -78 1638 -78  Q 1100 -78 759 220  Q 419 519 350 1059  z M 2653 3081  Q 2653 3566 2395 3850  Q 2138 4134 1775 4134  Q 1400 4134 1122 3828  Q 844 3522 844 3034  Q 844 2597 1108 2323  Q 1372 2050 1759 2050  Q 2150 2050 2401 2323  Q 2653 2597 2653 3081  z \" transform=\"scale(0.015625)\" />\n        <path id=\"ArialMT-35\" d=\"M 266 1200  L 856 1250  Q 922 819 1161 601  Q 1400 384 1738 384  Q 2144 384 2425 690  Q 2706 997 2706 1503  Q 2706 1984 2436 2262  Q 2166 2541 1728 2541  Q 1456 2541 1237 2417  Q 1019 2294 894 2097  L 366 2166  L 809 4519  L 3088 4519  L 3088 3981  L 1259 3981  L 1013 2750  Q 1425 3038 1878 3038  Q 2478 3038 2890 2622  Q 3303 2206 3303 1553  Q 3303 931 2941 478  Q 2500 -78 1738 -78  Q 1113 -78 717 272  Q 322 622 266 1200  z \" transform=\"scale(0.015625)\" />\n        <path id=\"ArialMT-33\" d=\"M 269 1209  L 831 1284  Q 928 806 1161 595  Q 1394 384 1728 384  Q 2125 384 2398 659  Q 2672 934 2672 1341  Q 2672 1728 2419 1979  Q 2166 2231 1775 2231  Q 1616 2231 1378 2169  L 1441 2663  Q 1497 2656 1531 2656  Q 1891 2656 2178 2843  Q 2466 3031 2466 3422  Q 2466 3731 2256 3934  Q 2047 4138 1716 4138  Q 1388 4138 1169 3931  Q 950 3725 888 3313  L 325 3413  Q 428 3978 793 4289  Q 1159 4600 1703 4600  Q 2078 4600 2393 4439  Q 2709 4278 2876 4000  Q 3044 3722 3044 3409  Q 3044 3113 2884 2869  Q 2725 2625 2413 2481  Q 2819 2388 3044 2092  Q 3269 1797 3269 1353  Q 3269 753 2831 336  Q 2394 -81 1725 -81  Q 1122 -81 723 278  Q 325 638 269 1209  z \" transform=\"scale(0.015625)\" />\n       </defs>\n       <use xlink:href=\"#ArialMT-30\" />\n       <use xlink:href=\"#ArialMT-2e\" x=\"55.615234\" />\n       <use xlink:href=\"#ArialMT-39\" x=\"83.398438\" />\n       <use xlink:href=\"#ArialMT-35\" x=\"139.013672\" />\n       <use xlink:href=\"#ArialMT-33\" x=\"194.628906\" />\n      </g>\n     </g>\n    </g>\n    <g id=\"text_3\">\n     \n     <g style=\"fill: #444443\" transform=\"translate(93.130313 90.19849)scale(0.12 -0.12)\">\n      <defs>\n       <path id=\"ArialMT-6e\" d=\"M 422 0  L 422 3319  L 928 3319  L 928 2847  Q 1294 3394 1984 3394  Q 2284 3394 2536 3286  Q 2788 3178 2913 3003  Q 3038 2828 3088 2588  Q 3119 2431 3119 2041  L 3119 0  L 2556 0  L 2556 2019  Q 2556 2363 2490 2533  Q 2425 2703 2258 2804  Q 2091 2906 1866 2906  Q 1506 2906 1245 2678  Q 984 2450 984 1813  L 984 0  L 422 0  z \" transform=\"scale(0.015625)\" />\n       <path id=\"ArialMT-6c\" d=\"M 409 0  L 409 4581  L 972 4581  L 972 0  L 409 0  z \" transform=\"scale(0.015625)\" />\n       <path id=\"ArialMT-70\" d=\"M 422 -1272  L 422 3319  L 934 3319  L 934 2888  Q 1116 3141 1344 3267  Q 1572 3394 1897 3394  Q 2322 3394 2647 3175  Q 2972 2956 3137 2557  Q 3303 2159 3303 1684  Q 3303 1175 3120 767  Q 2938 359 2589 142  Q 2241 -75 1856 -75  Q 1575 -75 1351 44  Q 1128 163 984 344  L 984 -1272  L 422 -1272  z M 931 1641  Q 931 1000 1190 694  Q 1450 388 1819 388  Q 2194 388 2461 705  Q 2728 1022 2728 1688  Q 2728 2322 2467 2637  Q 2206 2953 1844 2953  Q 1484 2953 1207 2617  Q 931 2281 931 1641  z \" transform=\"scale(0.015625)\" />\n       <path id=\"ArialMT-5f\" d=\"M -97 -1272  L -97 -866  L 3631 -866  L 3631 -1272  L -97 -1272  z \" transform=\"scale(0.015625)\" />\n       <path id=\"ArialMT-73\" d=\"M 197 991  L 753 1078  Q 800 744 1014 566  Q 1228 388 1613 388  Q 2000 388 2187 545  Q 2375 703 2375 916  Q 2375 1106 2209 1216  Q 2094 1291 1634 1406  Q 1016 1563 777 1677  Q 538 1791 414 1992  Q 291 2194 291 2438  Q 291 2659 392 2848  Q 494 3038 669 3163  Q 800 3259 1026 3326  Q 1253 3394 1513 3394  Q 1903 3394 2198 3281  Q 2494 3169 2634 2976  Q 2775 2784 2828 2463  L 2278 2388  Q 2241 2644 2061 2787  Q 1881 2931 1553 2931  Q 1166 2931 1000 2803  Q 834 2675 834 2503  Q 834 2394 903 2306  Q 972 2216 1119 2156  Q 1203 2125 1616 2013  Q 2213 1853 2448 1751  Q 2684 1650 2818 1456  Q 2953 1263 2953 975  Q 2953 694 2789 445  Q 2625 197 2315 61  Q 2006 -75 1616 -75  Q 969 -75 630 194  Q 291 463 197 991  z \" transform=\"scale(0.015625)\" />\n       <path id=\"ArialMT-63\" d=\"M 2588 1216  L 3141 1144  Q 3050 572 2676 248  Q 2303 -75 1759 -75  Q 1078 -75 664 370  Q 250 816 250 1647  Q 250 2184 428 2587  Q 606 2991 970 3192  Q 1334 3394 1763 3394  Q 2303 3394 2647 3120  Q 2991 2847 3088 2344  L 2541 2259  Q 2463 2594 2264 2762  Q 2066 2931 1784 2931  Q 1359 2931 1093 2626  Q 828 2322 828 1663  Q 828 994 1084 691  Q 1341 388 1753 388  Q 2084 388 2306 591  Q 2528 794 2588 1216  z \" transform=\"scale(0.015625)\" />\n       <path id=\"ArialMT-6f\" d=\"M 213 1659  Q 213 2581 725 3025  Q 1153 3394 1769 3394  Q 2453 3394 2887 2945  Q 3322 2497 3322 1706  Q 3322 1066 3130 698  Q 2938 331 2570 128  Q 2203 -75 1769 -75  Q 1072 -75 642 372  Q 213 819 213 1659  z M 791 1659  Q 791 1022 1069 705  Q 1347 388 1769 388  Q 2188 388 2466 706  Q 2744 1025 2744 1678  Q 2744 2294 2464 2611  Q 2184 2928 1769 2928  Q 1347 2928 1069 2612  Q 791 2297 791 1659  z \" transform=\"scale(0.015625)\" />\n       <path id=\"ArialMT-72\" d=\"M 416 0  L 416 3319  L 922 3319  L 922 2816  Q 1116 3169 1280 3281  Q 1444 3394 1641 3394  Q 1925 3394 2219 3213  L 2025 2691  Q 1819 2813 1613 2813  Q 1428 2813 1281 2702  Q 1134 2591 1072 2394  Q 978 2094 978 1738  L 978 0  L 416 0  z \" transform=\"scale(0.015625)\" />\n       <path id=\"ArialMT-69\" d=\"M 425 3934  L 425 4581  L 988 4581  L 988 3934  L 425 3934  z M 425 0  L 425 3319  L 988 3319  L 988 0  L 425 0  z \" transform=\"scale(0.015625)\" />\n       <path id=\"ArialMT-67\" d=\"M 319 -275  L 866 -356  Q 900 -609 1056 -725  Q 1266 -881 1628 -881  Q 2019 -881 2231 -725  Q 2444 -569 2519 -288  Q 2563 -116 2559 434  Q 2191 0 1641 0  Q 956 0 581 494  Q 206 988 206 1678  Q 206 2153 378 2554  Q 550 2956 876 3175  Q 1203 3394 1644 3394  Q 2231 3394 2613 2919  L 2613 3319  L 3131 3319  L 3131 450  Q 3131 -325 2973 -648  Q 2816 -972 2473 -1159  Q 2131 -1347 1631 -1347  Q 1038 -1347 672 -1080  Q 306 -813 319 -275  z M 784 1719  Q 784 1066 1043 766  Q 1303 466 1694 466  Q 2081 466 2343 764  Q 2606 1063 2606 1700  Q 2606 2309 2336 2618  Q 2066 2928 1684 2928  Q 1309 2928 1046 2623  Q 784 2319 784 1719  z \" transform=\"scale(0.015625)\" />\n      </defs>\n      <use xlink:href=\"#ArialMT-6e\" />\n      <use xlink:href=\"#ArialMT-6c\" x=\"55.615234\" />\n      <use xlink:href=\"#ArialMT-70\" x=\"77.832031\" />\n      <use xlink:href=\"#ArialMT-5f\" x=\"133.447266\" />\n      <use xlink:href=\"#ArialMT-73\" x=\"189.0625\" />\n      <use xlink:href=\"#ArialMT-63\" x=\"239.0625\" />\n      <use xlink:href=\"#ArialMT-6f\" x=\"289.0625\" />\n      <use xlink:href=\"#ArialMT-72\" x=\"344.677734\" />\n      <use xlink:href=\"#ArialMT-69\" x=\"377.978516\" />\n      <use xlink:href=\"#ArialMT-6e\" x=\"400.195312\" />\n      <use xlink:href=\"#ArialMT-67\" x=\"455.810547\" />\n     </g>\n    </g>\n   </g>\n   <g id=\"matplotlib.axis_2\">\n    <g id=\"ytick_1\">\n     <g id=\"text_4\">\n      \n      <g style=\"fill: #444443\" transform=\"translate(17.795 63.65599)scale(0.08 -0.08)\">\n       <use xlink:href=\"#ArialMT-30\" />\n      </g>\n     </g>\n    </g>\n    <g id=\"ytick_2\">\n     <g id=\"text_5\">\n      \n      <g style=\"fill: #444443\" transform=\"translate(0 5.758023)scale(0.08 -0.08)\">\n       <defs>\n        <path id=\"ArialMT-31\" d=\"M 2384 0  L 1822 0  L 1822 3584  Q 1619 3391 1289 3197  Q 959 3003 697 2906  L 697 3450  Q 1169 3672 1522 3987  Q 1875 4303 2022 4600  L 2384 4600  L 2384 0  z \" transform=\"scale(0.015625)\" />\n        <path id=\"ArialMT-32\" d=\"M 3222 541  L 3222 0  L 194 0  Q 188 203 259 391  Q 375 700 629 1000  Q 884 1300 1366 1694  Q 2113 2306 2375 2664  Q 2638 3022 2638 3341  Q 2638 3675 2398 3904  Q 2159 4134 1775 4134  Q 1369 4134 1125 3890  Q 881 3647 878 3216  L 300 3275  Q 359 3922 746 4261  Q 1134 4600 1788 4600  Q 2447 4600 2831 4234  Q 3216 3869 3216 3328  Q 3216 3053 3103 2787  Q 2991 2522 2730 2228  Q 2469 1934 1863 1422  Q 1356 997 1212 845  Q 1069 694 975 541  L 3222 541  z \" transform=\"scale(0.015625)\" />\n        <path id=\"ArialMT-36\" d=\"M 3184 3459  L 2625 3416  Q 2550 3747 2413 3897  Q 2184 4138 1850 4138  Q 1581 4138 1378 3988  Q 1113 3794 959 3422  Q 806 3050 800 2363  Q 1003 2672 1297 2822  Q 1591 2972 1913 2972  Q 2475 2972 2870 2558  Q 3266 2144 3266 1488  Q 3266 1056 3080 686  Q 2894 316 2569 119  Q 2244 -78 1831 -78  Q 1128 -78 684 439  Q 241 956 241 2144  Q 241 3472 731 4075  Q 1159 4600 1884 4600  Q 2425 4600 2770 4297  Q 3116 3994 3184 3459  z M 888 1484  Q 888 1194 1011 928  Q 1134 663 1356 523  Q 1578 384 1822 384  Q 2178 384 2434 671  Q 2691 959 2691 1453  Q 2691 1928 2437 2201  Q 2184 2475 1800 2475  Q 1419 2475 1153 2201  Q 888 1928 888 1484  z \" transform=\"scale(0.015625)\" />\n       </defs>\n       <use xlink:href=\"#ArialMT-31\" />\n       <use xlink:href=\"#ArialMT-30\" x=\"55.615234\" />\n       <use xlink:href=\"#ArialMT-32\" x=\"111.230469\" />\n       <use xlink:href=\"#ArialMT-36\" x=\"166.845703\" />\n       <use xlink:href=\"#ArialMT-33\" x=\"222.460938\" />\n      </g>\n     </g>\n    </g>\n   </g>\n   <g id=\"patch_3\">\n    <path d=\"M 31.74375 60.792865  L 40.973825 60.792865  L 40.973825 60.448738  L 31.74375 60.448738  z \" clip-path=\"url(#p3e670aee4e)\" style=\"fill: #fefebb; stroke: #444443; stroke-width: 0.5; stroke-linejoin: miter\" />\n   </g>\n   <g id=\"patch_4\">\n    <path d=\"M 40.973825 60.792865  L 50.2039 60.792865  L 50.2039 60.792865  L 40.973825 60.792865  z \" clip-path=\"url(#p3e670aee4e)\" style=\"fill: #fefebb; stroke: #444443; stroke-width: 0.5; stroke-linejoin: miter\" />\n   </g>\n   <g id=\"patch_5\">\n    <path d=\"M 50.2039 60.792865  L 59.433976 60.792865  L 59.433976 60.787224  L 50.2039 60.787224  z \" clip-path=\"url(#p3e670aee4e)\" style=\"fill: #fefebb; stroke: #444443; stroke-width: 0.5; stroke-linejoin: miter\" />\n   </g>\n   <g id=\"patch_6\">\n    <path d=\"M 59.433976 60.792865  L 68.664051 60.792865  L 68.664051 60.747734  L 59.433976 60.747734  z \" clip-path=\"url(#p3e670aee4e)\" style=\"fill: #fefebb; stroke: #444443; stroke-width: 0.5; stroke-linejoin: miter\" />\n   </g>\n   <g id=\"patch_7\">\n    <path d=\"M 68.664051 60.792865  L 77.894126 60.792865  L 77.894126 60.279495  L 68.664051 60.279495  z \" clip-path=\"url(#p3e670aee4e)\" style=\"fill: #fefebb; stroke: #444443; stroke-width: 0.5; stroke-linejoin: miter\" />\n   </g>\n   <g id=\"patch_8\">\n    <path d=\"M 77.894126 60.792865  L 87.124201 60.792865  L 87.124201 59.207624  L 77.894126 59.207624  z \" clip-path=\"url(#p3e670aee4e)\" style=\"fill: #fefebb; stroke: #444443; stroke-width: 0.5; stroke-linejoin: miter\" />\n   </g>\n   <g id=\"patch_9\">\n    <path d=\"M 87.124201 60.792865  L 96.354276 60.792865  L 96.354276 58.254223  L 87.124201 58.254223  z \" clip-path=\"url(#p3e670aee4e)\" style=\"fill: #fefebb; stroke: #444443; stroke-width: 0.5; stroke-linejoin: miter\" />\n   </g>\n   <g id=\"patch_10\">\n    <path d=\"M 96.354276 60.792865  L 105.584352 60.792865  L 105.584352 55.078099  L 96.354276 55.078099  z \" clip-path=\"url(#p3e670aee4e)\" style=\"fill: #fefebb; stroke: #444443; stroke-width: 0.5; stroke-linejoin: miter\" />\n   </g>\n   <g id=\"patch_11\">\n    <path d=\"M 105.584352 60.792865  L 114.814427 60.792865  L 114.814427 49.436672  L 105.584352 49.436672  z \" clip-path=\"url(#p3e670aee4e)\" style=\"fill: #fefebb; stroke: #444443; stroke-width: 0.5; stroke-linejoin: miter\" />\n   </g>\n   <g id=\"patch_12\">\n    <path d=\"M 114.814427 60.792865  L 124.044502 60.792865  L 124.044502 32.083642  L 114.814427 32.083642  z \" clip-path=\"url(#p3e670aee4e)\" style=\"fill: #fefebb; stroke: #444443; stroke-width: 0.5; stroke-linejoin: miter\" />\n   </g>\n   <g id=\"patch_13\">\n    <path d=\"M 124.044502 60.792865  L 133.274577 60.792865  L 133.274577 29.82143  L 124.044502 29.82143  z \" clip-path=\"url(#p3e670aee4e)\" style=\"fill: #fefebb; stroke: #444443; stroke-width: 0.5; stroke-linejoin: miter\" />\n   </g>\n   <g id=\"patch_14\">\n    <path d=\"M 133.274577 60.792865  L 142.504652 60.792865  L 142.504652 60.792865  L 133.274577 60.792865  z \" clip-path=\"url(#p3e670aee4e)\" style=\"fill: #fefebb; stroke: #444443; stroke-width: 0.5; stroke-linejoin: miter\" />\n   </g>\n   <g id=\"patch_15\">\n    <path d=\"M 142.504652 60.792865  L 151.734727 60.792865  L 151.734727 60.792865  L 142.504652 60.792865  z \" clip-path=\"url(#p3e670aee4e)\" style=\"fill: #fefebb; stroke: #444443; stroke-width: 0.5; stroke-linejoin: miter\" />\n   </g>\n   <g id=\"patch_16\">\n    <path d=\"M 151.734727 60.792865  L 160.964803 60.792865  L 160.964803 60.792865  L 151.734727 60.792865  z \" clip-path=\"url(#p3e670aee4e)\" style=\"fill: #fefebb; stroke: #444443; stroke-width: 0.5; stroke-linejoin: miter\" />\n   </g>\n   <g id=\"patch_17\">\n    <path d=\"M 160.964803 60.792865  L 170.194878 60.792865  L 170.194878 60.792865  L 160.964803 60.792865  z \" clip-path=\"url(#p3e670aee4e)\" style=\"fill: #fefebb; stroke: #444443; stroke-width: 0.5; stroke-linejoin: miter\" />\n   </g>\n   <g id=\"patch_18\">\n    <path d=\"M 170.194878 60.792865  L 179.424953 60.792865  L 179.424953 60.792865  L 170.194878 60.792865  z \" clip-path=\"url(#p3e670aee4e)\" style=\"fill: #fefebb; stroke: #444443; stroke-width: 0.5; stroke-linejoin: miter\" />\n   </g>\n   <g id=\"patch_19\">\n    <path d=\"M 179.424953 60.792865  L 188.655028 60.792865  L 188.655028 60.792865  L 179.424953 60.792865  z \" clip-path=\"url(#p3e670aee4e)\" style=\"fill: #fefebb; stroke: #444443; stroke-width: 0.5; stroke-linejoin: miter\" />\n   </g>\n   <g id=\"patch_20\">\n    <path d=\"M 188.655028 60.792865  L 197.885103 60.792865  L 197.885103 60.792865  L 188.655028 60.792865  z \" clip-path=\"url(#p3e670aee4e)\" style=\"fill: #fefebb; stroke: #444443; stroke-width: 0.5; stroke-linejoin: miter\" />\n   </g>\n   <g id=\"patch_21\">\n    <path d=\"M 197.885103 60.792865  L 207.115179 60.792865  L 207.115179 60.792865  L 197.885103 60.792865  z \" clip-path=\"url(#p3e670aee4e)\" style=\"fill: #fefebb; stroke: #444443; stroke-width: 0.5; stroke-linejoin: miter\" />\n   </g>\n   <g id=\"patch_22\">\n    <path d=\"M 31.74375 60.448738  L 40.973825 60.448738  L 40.973825 59.918444  L 31.74375 59.918444  z \" clip-path=\"url(#p3e670aee4e)\" style=\"fill: #a1dab4; stroke: #444443; stroke-width: 0.5; stroke-linejoin: miter\" />\n   </g>\n   <g id=\"patch_23\">\n    <path d=\"M 40.973825 60.792865  L 50.2039 60.792865  L 50.2039 60.792865  L 40.973825 60.792865  z \" clip-path=\"url(#p3e670aee4e)\" style=\"fill: #a1dab4; stroke: #444443; stroke-width: 0.5; stroke-linejoin: miter\" />\n   </g>\n   <g id=\"patch_24\">\n    <path d=\"M 50.2039 60.787224  L 59.433976 60.787224  L 59.433976 60.787224  L 50.2039 60.787224  z \" clip-path=\"url(#p3e670aee4e)\" style=\"fill: #a1dab4; stroke: #444443; stroke-width: 0.5; stroke-linejoin: miter\" />\n   </g>\n   <g id=\"patch_25\">\n    <path d=\"M 59.433976 60.747734  L 68.664051 60.747734  L 68.664051 60.747734  L 59.433976 60.747734  z \" clip-path=\"url(#p3e670aee4e)\" style=\"fill: #a1dab4; stroke: #444443; stroke-width: 0.5; stroke-linejoin: miter\" />\n   </g>\n   <g id=\"patch_26\">\n    <path d=\"M 68.664051 60.279495  L 77.894126 60.279495  L 77.894126 60.206157  L 68.664051 60.206157  z \" clip-path=\"url(#p3e670aee4e)\" style=\"fill: #a1dab4; stroke: #444443; stroke-width: 0.5; stroke-linejoin: miter\" />\n   </g>\n   <g id=\"patch_27\">\n    <path d=\"M 77.894126 59.207624  L 87.124201 59.207624  L 87.124201 59.156851  L 77.894126 59.156851  z \" clip-path=\"url(#p3e670aee4e)\" style=\"fill: #a1dab4; stroke: #444443; stroke-width: 0.5; stroke-linejoin: miter\" />\n   </g>\n   <g id=\"patch_28\">\n    <path d=\"M 87.124201 58.254223  L 96.354276 58.254223  L 96.354276 57.983434  L 87.124201 57.983434  z \" clip-path=\"url(#p3e670aee4e)\" style=\"fill: #a1dab4; stroke: #444443; stroke-width: 0.5; stroke-linejoin: miter\" />\n   </g>\n   <g id=\"patch_29\">\n    <path d=\"M 96.354276 55.078099  L 105.584352 55.078099  L 105.584352 53.994945  L 96.354276 53.994945  z \" clip-path=\"url(#p3e670aee4e)\" style=\"fill: #a1dab4; stroke: #444443; stroke-width: 0.5; stroke-linejoin: miter\" />\n   </g>\n   <g id=\"patch_30\">\n    <path d=\"M 105.584352 49.436672  L 114.814427 49.436672  L 114.814427 46.040533  L 105.584352 46.040533  z \" clip-path=\"url(#p3e670aee4e)\" style=\"fill: #a1dab4; stroke: #444443; stroke-width: 0.5; stroke-linejoin: miter\" />\n   </g>\n   <g id=\"patch_31\">\n    <path d=\"M 114.814427 32.083642  L 124.044502 32.083642  L 124.044502 17.776983  L 114.814427 17.776983  z \" clip-path=\"url(#p3e670aee4e)\" style=\"fill: #a1dab4; stroke: #444443; stroke-width: 0.5; stroke-linejoin: miter\" />\n   </g>\n   <g id=\"patch_32\">\n    <path d=\"M 124.044502 29.82143  L 133.274577 29.82143  L 133.274577 2.894898  L 124.044502 2.894898  z \" clip-path=\"url(#p3e670aee4e)\" style=\"fill: #a1dab4; stroke: #444443; stroke-width: 0.5; stroke-linejoin: miter\" />\n   </g>\n   <g id=\"patch_33\">\n    <path d=\"M 133.274577 60.792865  L 142.504652 60.792865  L 142.504652 60.792865  L 133.274577 60.792865  z \" clip-path=\"url(#p3e670aee4e)\" style=\"fill: #a1dab4; stroke: #444443; stroke-width: 0.5; stroke-linejoin: miter\" />\n   </g>\n   <g id=\"patch_34\">\n    <path d=\"M 142.504652 60.792865  L 151.734727 60.792865  L 151.734727 60.792865  L 142.504652 60.792865  z \" clip-path=\"url(#p3e670aee4e)\" style=\"fill: #a1dab4; stroke: #444443; stroke-width: 0.5; stroke-linejoin: miter\" />\n   </g>\n   <g id=\"patch_35\">\n    <path d=\"M 151.734727 60.792865  L 160.964803 60.792865  L 160.964803 60.792865  L 151.734727 60.792865  z \" clip-path=\"url(#p3e670aee4e)\" style=\"fill: #a1dab4; stroke: #444443; stroke-width: 0.5; stroke-linejoin: miter\" />\n   </g>\n   <g id=\"patch_36\">\n    <path d=\"M 160.964803 60.792865  L 170.194878 60.792865  L 170.194878 60.792865  L 160.964803 60.792865  z \" clip-path=\"url(#p3e670aee4e)\" style=\"fill: #a1dab4; stroke: #444443; stroke-width: 0.5; stroke-linejoin: miter\" />\n   </g>\n   <g id=\"patch_37\">\n    <path d=\"M 170.194878 60.792865  L 179.424953 60.792865  L 179.424953 60.792865  L 170.194878 60.792865  z \" clip-path=\"url(#p3e670aee4e)\" style=\"fill: #a1dab4; stroke: #444443; stroke-width: 0.5; stroke-linejoin: miter\" />\n   </g>\n   <g id=\"patch_38\">\n    <path d=\"M 179.424953 60.792865  L 188.655028 60.792865  L 188.655028 60.792865  L 179.424953 60.792865  z \" clip-path=\"url(#p3e670aee4e)\" style=\"fill: #a1dab4; stroke: #444443; stroke-width: 0.5; stroke-linejoin: miter\" />\n   </g>\n   <g id=\"patch_39\">\n    <path d=\"M 188.655028 60.792865  L 197.885103 60.792865  L 197.885103 60.792865  L 188.655028 60.792865  z \" clip-path=\"url(#p3e670aee4e)\" style=\"fill: #a1dab4; stroke: #444443; stroke-width: 0.5; stroke-linejoin: miter\" />\n   </g>\n   <g id=\"patch_40\">\n    <path d=\"M 197.885103 60.792865  L 207.115179 60.792865  L 207.115179 60.792865  L 197.885103 60.792865  z \" clip-path=\"url(#p3e670aee4e)\" style=\"fill: #a1dab4; stroke: #444443; stroke-width: 0.5; stroke-linejoin: miter\" />\n   </g>\n   <g id=\"patch_41\">\n    <path d=\"M 121.531489 61.608265  L 118.216969 68.946865  L 124.846009 68.946865  z \" style=\"fill: #444443; stroke: #ffffff; stroke-linejoin: miter\" />\n   </g>\n   <g id=\"patch_42\">\n    <path d=\"M 31.74375 60.792865  L 31.74375 0  \" style=\"fill: none; stroke: #262626; stroke-width: 0.3; stroke-linejoin: miter; stroke-linecap: square\" />\n   </g>\n   <g id=\"patch_43\">\n    <path d=\"M 31.74375 60.792865  L 215.88375 60.792865  \" style=\"fill: none; stroke: #262626; stroke-width: 0.3; stroke-linejoin: miter; stroke-linecap: square\" />\n   </g>\n   <g id=\"text_6\">\n    \n    <g style=\"fill: #444443\" transform=\"translate(113.747114 77.100865)scale(0.08 -0.08)\">\n     <defs>\n      <path id=\"ArialMT-34\" d=\"M 2069 0  L 2069 1097  L 81 1097  L 81 1613  L 2172 4581  L 2631 4581  L 2631 1613  L 3250 1613  L 3250 1097  L 2631 1097  L 2631 0  L 2069 0  z M 2069 1613  L 2069 3678  L 634 1613  L 2069 1613  z \" transform=\"scale(0.015625)\" />\n     </defs>\n     <use xlink:href=\"#ArialMT-30\" />\n     <use xlink:href=\"#ArialMT-2e\" x=\"55.615234\" />\n     <use xlink:href=\"#ArialMT-34\" x=\"83.398438\" />\n     <use xlink:href=\"#ArialMT-39\" x=\"139.013672\" />\n    </g>\n   </g>\n  </g>\n </g>\n <defs>\n  <clipPath id=\"p3e670aee4e\">\n   <rect x=\"31.74375\" y=\"0\" width=\"184.14\" height=\"60.792865\" />\n  </clipPath>\n </defs>\n</svg></g>\n\n<g id=\"edge7\" class=\"edge\">\n<title>node1-&gt;node2</title>\n<path fill=\"none\" stroke=\"#444443\" stroke-width=\"0.3\" d=\"M202.34,-208.88C182.38,-197.53 160.84,-185.29 142.23,-174.7\" />\n<polygon fill=\"#444443\" stroke=\"#444443\" stroke-width=\"0.3\" points=\"142.71,-173.37 138.55,-172.61 141.33,-175.81 142.71,-173.37\" />\n</g>\n\n<g id=\"edge8\" class=\"edge\">\n<title>node1-&gt;node5</title>\n<path fill=\"none\" stroke=\"#444443\" stroke-width=\"0.3\" d=\"M270.39,-208.88C270.84,-199.9 271.32,-190.35 271.77,-181.51\" />\n<polygon fill=\"#444443\" stroke=\"#444443\" stroke-width=\"0.3\" points=\"273.18,-181.3 271.98,-177.24 270.38,-181.16 273.18,-181.3\" />\n</g>\n\n<g id=\"node6\" class=\"node\">\n<title>node8</title>\n<svg width=\"162px\" height=\"68px\" viewBox=\"0 0 217.123929 90.966168\" version=\"1.1\" preserveAspectRatio=\"xMinYMin meet\" x=\"371.5\" y=\"-281.5\">\n <metadata>\n  <rdf:RDF>\n   <ns2:Work>\n    <dc:type rdf:resource=\"http://purl.org/dc/dcmitype/StillImage\" />\n    <dc:date>2022-04-20T20:42:04.534496</dc:date>\n    <dc:format>image/svg+xml</dc:format>\n    <dc:creator>\n     <ns2:Agent>\n      <dc:title>Matplotlib v3.5.1, https://matplotlib.org/</dc:title>\n     </ns2:Agent>\n    </dc:creator>\n   </ns2:Work>\n  </rdf:RDF>\n </metadata>\n <defs>\n  <style type=\"text/css\">*{stroke-linejoin: round; stroke-linecap: butt}</style>\n </defs>\n <g id=\"figure_1\">\n  <g id=\"patch_1\">\n   <path d=\"M 0 90.966168  L 217.123929 90.966168  L 217.123929 0  L 0 0  z \" style=\"fill: #ffffff\" />\n  </g>\n  <g id=\"axes_1\">\n   <g id=\"patch_2\">\n    <path d=\"M 31.74375 59.034918  L 215.88375 59.034918  L 215.88375 0.054535  L 31.74375 0.054535  z \" style=\"fill: #ffffff\" />\n   </g>\n   <g id=\"matplotlib.axis_1\">\n    <g id=\"xtick_1\">\n     <g id=\"text_1\">\n      \n      <g style=\"fill: #444443\" transform=\"translate(21.735 74.261168)scale(0.08 -0.08)\">\n       <defs>\n        <path id=\"ArialMT-30\" d=\"M 266 2259  Q 266 3072 433 3567  Q 600 4063 929 4331  Q 1259 4600 1759 4600  Q 2128 4600 2406 4451  Q 2684 4303 2865 4023  Q 3047 3744 3150 3342  Q 3253 2941 3253 2259  Q 3253 1453 3087 958  Q 2922 463 2592 192  Q 2263 -78 1759 -78  Q 1097 -78 719 397  Q 266 969 266 2259  z M 844 2259  Q 844 1131 1108 757  Q 1372 384 1759 384  Q 2147 384 2411 759  Q 2675 1134 2675 2259  Q 2675 3391 2411 3762  Q 2147 4134 1753 4134  Q 1366 4134 1134 3806  Q 844 3388 844 2259  z \" transform=\"scale(0.015625)\" />\n        <path id=\"ArialMT-2e\" d=\"M 581 0  L 581 641  L 1222 641  L 1222 0  L 581 0  z \" transform=\"scale(0.015625)\" />\n       </defs>\n       <use xlink:href=\"#ArialMT-30\" />\n       <use xlink:href=\"#ArialMT-2e\" x=\"55.615234\" />\n       <use xlink:href=\"#ArialMT-30\" x=\"83.398438\" />\n       <use xlink:href=\"#ArialMT-30\" x=\"139.013672\" />\n       <use xlink:href=\"#ArialMT-30\" x=\"194.628906\" />\n      </g>\n     </g>\n    </g>\n    <g id=\"xtick_2\">\n     <g id=\"text_2\">\n      \n      <g style=\"fill: #444443\" transform=\"translate(197.106429 74.261168)scale(0.08 -0.08)\">\n       <defs>\n        <path id=\"ArialMT-39\" d=\"M 350 1059  L 891 1109  Q 959 728 1153 556  Q 1347 384 1650 384  Q 1909 384 2104 503  Q 2300 622 2425 820  Q 2550 1019 2634 1356  Q 2719 1694 2719 2044  Q 2719 2081 2716 2156  Q 2547 1888 2255 1720  Q 1963 1553 1622 1553  Q 1053 1553 659 1965  Q 266 2378 266 3053  Q 266 3750 677 4175  Q 1088 4600 1706 4600  Q 2153 4600 2523 4359  Q 2894 4119 3086 3673  Q 3278 3228 3278 2384  Q 3278 1506 3087 986  Q 2897 466 2520 194  Q 2144 -78 1638 -78  Q 1100 -78 759 220  Q 419 519 350 1059  z M 2653 3081  Q 2653 3566 2395 3850  Q 2138 4134 1775 4134  Q 1400 4134 1122 3828  Q 844 3522 844 3034  Q 844 2597 1108 2323  Q 1372 2050 1759 2050  Q 2150 2050 2401 2323  Q 2653 2597 2653 3081  z \" transform=\"scale(0.015625)\" />\n        <path id=\"ArialMT-35\" d=\"M 266 1200  L 856 1250  Q 922 819 1161 601  Q 1400 384 1738 384  Q 2144 384 2425 690  Q 2706 997 2706 1503  Q 2706 1984 2436 2262  Q 2166 2541 1728 2541  Q 1456 2541 1237 2417  Q 1019 2294 894 2097  L 366 2166  L 809 4519  L 3088 4519  L 3088 3981  L 1259 3981  L 1013 2750  Q 1425 3038 1878 3038  Q 2478 3038 2890 2622  Q 3303 2206 3303 1553  Q 3303 931 2941 478  Q 2500 -78 1738 -78  Q 1113 -78 717 272  Q 322 622 266 1200  z \" transform=\"scale(0.015625)\" />\n        <path id=\"ArialMT-33\" d=\"M 269 1209  L 831 1284  Q 928 806 1161 595  Q 1394 384 1728 384  Q 2125 384 2398 659  Q 2672 934 2672 1341  Q 2672 1728 2419 1979  Q 2166 2231 1775 2231  Q 1616 2231 1378 2169  L 1441 2663  Q 1497 2656 1531 2656  Q 1891 2656 2178 2843  Q 2466 3031 2466 3422  Q 2466 3731 2256 3934  Q 2047 4138 1716 4138  Q 1388 4138 1169 3931  Q 950 3725 888 3313  L 325 3413  Q 428 3978 793 4289  Q 1159 4600 1703 4600  Q 2078 4600 2393 4439  Q 2709 4278 2876 4000  Q 3044 3722 3044 3409  Q 3044 3113 2884 2869  Q 2725 2625 2413 2481  Q 2819 2388 3044 2092  Q 3269 1797 3269 1353  Q 3269 753 2831 336  Q 2394 -81 1725 -81  Q 1122 -81 723 278  Q 325 638 269 1209  z \" transform=\"scale(0.015625)\" />\n       </defs>\n       <use xlink:href=\"#ArialMT-30\" />\n       <use xlink:href=\"#ArialMT-2e\" x=\"55.615234\" />\n       <use xlink:href=\"#ArialMT-39\" x=\"83.398438\" />\n       <use xlink:href=\"#ArialMT-35\" x=\"139.013672\" />\n       <use xlink:href=\"#ArialMT-33\" x=\"194.628906\" />\n      </g>\n     </g>\n    </g>\n    <g id=\"text_3\">\n     \n     <g style=\"fill: #444443\" transform=\"translate(93.130313 88.440543)scale(0.12 -0.12)\">\n      <defs>\n       <path id=\"ArialMT-6e\" d=\"M 422 0  L 422 3319  L 928 3319  L 928 2847  Q 1294 3394 1984 3394  Q 2284 3394 2536 3286  Q 2788 3178 2913 3003  Q 3038 2828 3088 2588  Q 3119 2431 3119 2041  L 3119 0  L 2556 0  L 2556 2019  Q 2556 2363 2490 2533  Q 2425 2703 2258 2804  Q 2091 2906 1866 2906  Q 1506 2906 1245 2678  Q 984 2450 984 1813  L 984 0  L 422 0  z \" transform=\"scale(0.015625)\" />\n       <path id=\"ArialMT-6c\" d=\"M 409 0  L 409 4581  L 972 4581  L 972 0  L 409 0  z \" transform=\"scale(0.015625)\" />\n       <path id=\"ArialMT-70\" d=\"M 422 -1272  L 422 3319  L 934 3319  L 934 2888  Q 1116 3141 1344 3267  Q 1572 3394 1897 3394  Q 2322 3394 2647 3175  Q 2972 2956 3137 2557  Q 3303 2159 3303 1684  Q 3303 1175 3120 767  Q 2938 359 2589 142  Q 2241 -75 1856 -75  Q 1575 -75 1351 44  Q 1128 163 984 344  L 984 -1272  L 422 -1272  z M 931 1641  Q 931 1000 1190 694  Q 1450 388 1819 388  Q 2194 388 2461 705  Q 2728 1022 2728 1688  Q 2728 2322 2467 2637  Q 2206 2953 1844 2953  Q 1484 2953 1207 2617  Q 931 2281 931 1641  z \" transform=\"scale(0.015625)\" />\n       <path id=\"ArialMT-5f\" d=\"M -97 -1272  L -97 -866  L 3631 -866  L 3631 -1272  L -97 -1272  z \" transform=\"scale(0.015625)\" />\n       <path id=\"ArialMT-73\" d=\"M 197 991  L 753 1078  Q 800 744 1014 566  Q 1228 388 1613 388  Q 2000 388 2187 545  Q 2375 703 2375 916  Q 2375 1106 2209 1216  Q 2094 1291 1634 1406  Q 1016 1563 777 1677  Q 538 1791 414 1992  Q 291 2194 291 2438  Q 291 2659 392 2848  Q 494 3038 669 3163  Q 800 3259 1026 3326  Q 1253 3394 1513 3394  Q 1903 3394 2198 3281  Q 2494 3169 2634 2976  Q 2775 2784 2828 2463  L 2278 2388  Q 2241 2644 2061 2787  Q 1881 2931 1553 2931  Q 1166 2931 1000 2803  Q 834 2675 834 2503  Q 834 2394 903 2306  Q 972 2216 1119 2156  Q 1203 2125 1616 2013  Q 2213 1853 2448 1751  Q 2684 1650 2818 1456  Q 2953 1263 2953 975  Q 2953 694 2789 445  Q 2625 197 2315 61  Q 2006 -75 1616 -75  Q 969 -75 630 194  Q 291 463 197 991  z \" transform=\"scale(0.015625)\" />\n       <path id=\"ArialMT-63\" d=\"M 2588 1216  L 3141 1144  Q 3050 572 2676 248  Q 2303 -75 1759 -75  Q 1078 -75 664 370  Q 250 816 250 1647  Q 250 2184 428 2587  Q 606 2991 970 3192  Q 1334 3394 1763 3394  Q 2303 3394 2647 3120  Q 2991 2847 3088 2344  L 2541 2259  Q 2463 2594 2264 2762  Q 2066 2931 1784 2931  Q 1359 2931 1093 2626  Q 828 2322 828 1663  Q 828 994 1084 691  Q 1341 388 1753 388  Q 2084 388 2306 591  Q 2528 794 2588 1216  z \" transform=\"scale(0.015625)\" />\n       <path id=\"ArialMT-6f\" d=\"M 213 1659  Q 213 2581 725 3025  Q 1153 3394 1769 3394  Q 2453 3394 2887 2945  Q 3322 2497 3322 1706  Q 3322 1066 3130 698  Q 2938 331 2570 128  Q 2203 -75 1769 -75  Q 1072 -75 642 372  Q 213 819 213 1659  z M 791 1659  Q 791 1022 1069 705  Q 1347 388 1769 388  Q 2188 388 2466 706  Q 2744 1025 2744 1678  Q 2744 2294 2464 2611  Q 2184 2928 1769 2928  Q 1347 2928 1069 2612  Q 791 2297 791 1659  z \" transform=\"scale(0.015625)\" />\n       <path id=\"ArialMT-72\" d=\"M 416 0  L 416 3319  L 922 3319  L 922 2816  Q 1116 3169 1280 3281  Q 1444 3394 1641 3394  Q 1925 3394 2219 3213  L 2025 2691  Q 1819 2813 1613 2813  Q 1428 2813 1281 2702  Q 1134 2591 1072 2394  Q 978 2094 978 1738  L 978 0  L 416 0  z \" transform=\"scale(0.015625)\" />\n       <path id=\"ArialMT-69\" d=\"M 425 3934  L 425 4581  L 988 4581  L 988 3934  L 425 3934  z M 425 0  L 425 3319  L 988 3319  L 988 0  L 425 0  z \" transform=\"scale(0.015625)\" />\n       <path id=\"ArialMT-67\" d=\"M 319 -275  L 866 -356  Q 900 -609 1056 -725  Q 1266 -881 1628 -881  Q 2019 -881 2231 -725  Q 2444 -569 2519 -288  Q 2563 -116 2559 434  Q 2191 0 1641 0  Q 956 0 581 494  Q 206 988 206 1678  Q 206 2153 378 2554  Q 550 2956 876 3175  Q 1203 3394 1644 3394  Q 2231 3394 2613 2919  L 2613 3319  L 3131 3319  L 3131 450  Q 3131 -325 2973 -648  Q 2816 -972 2473 -1159  Q 2131 -1347 1631 -1347  Q 1038 -1347 672 -1080  Q 306 -813 319 -275  z M 784 1719  Q 784 1066 1043 766  Q 1303 466 1694 466  Q 2081 466 2343 764  Q 2606 1063 2606 1700  Q 2606 2309 2336 2618  Q 2066 2928 1684 2928  Q 1309 2928 1046 2623  Q 784 2319 784 1719  z \" transform=\"scale(0.015625)\" />\n      </defs>\n      <use xlink:href=\"#ArialMT-6e\" />\n      <use xlink:href=\"#ArialMT-6c\" x=\"55.615234\" />\n      <use xlink:href=\"#ArialMT-70\" x=\"77.832031\" />\n      <use xlink:href=\"#ArialMT-5f\" x=\"133.447266\" />\n      <use xlink:href=\"#ArialMT-73\" x=\"189.0625\" />\n      <use xlink:href=\"#ArialMT-63\" x=\"239.0625\" />\n      <use xlink:href=\"#ArialMT-6f\" x=\"289.0625\" />\n      <use xlink:href=\"#ArialMT-72\" x=\"344.677734\" />\n      <use xlink:href=\"#ArialMT-69\" x=\"377.978516\" />\n      <use xlink:href=\"#ArialMT-6e\" x=\"400.195312\" />\n      <use xlink:href=\"#ArialMT-67\" x=\"455.810547\" />\n     </g>\n    </g>\n   </g>\n   <g id=\"matplotlib.axis_2\">\n    <g id=\"ytick_1\">\n     <g id=\"text_4\">\n      \n      <g style=\"fill: #444443\" transform=\"translate(17.795 61.898043)scale(0.08 -0.08)\">\n       <use xlink:href=\"#ArialMT-30\" />\n      </g>\n     </g>\n    </g>\n    <g id=\"ytick_2\">\n     <g id=\"text_5\">\n      \n      <g style=\"fill: #444443\" transform=\"translate(0 5.72625)scale(0.08 -0.08)\">\n       <defs>\n        <path id=\"ArialMT-31\" d=\"M 2384 0  L 1822 0  L 1822 3584  Q 1619 3391 1289 3197  Q 959 3003 697 2906  L 697 3450  Q 1169 3672 1522 3987  Q 1875 4303 2022 4600  L 2384 4600  L 2384 0  z \" transform=\"scale(0.015625)\" />\n        <path id=\"ArialMT-32\" d=\"M 3222 541  L 3222 0  L 194 0  Q 188 203 259 391  Q 375 700 629 1000  Q 884 1300 1366 1694  Q 2113 2306 2375 2664  Q 2638 3022 2638 3341  Q 2638 3675 2398 3904  Q 2159 4134 1775 4134  Q 1369 4134 1125 3890  Q 881 3647 878 3216  L 300 3275  Q 359 3922 746 4261  Q 1134 4600 1788 4600  Q 2447 4600 2831 4234  Q 3216 3869 3216 3328  Q 3216 3053 3103 2787  Q 2991 2522 2730 2228  Q 2469 1934 1863 1422  Q 1356 997 1212 845  Q 1069 694 975 541  L 3222 541  z \" transform=\"scale(0.015625)\" />\n        <path id=\"ArialMT-38\" d=\"M 1131 2484  Q 781 2613 612 2850  Q 444 3088 444 3419  Q 444 3919 803 4259  Q 1163 4600 1759 4600  Q 2359 4600 2725 4251  Q 3091 3903 3091 3403  Q 3091 3084 2923 2848  Q 2756 2613 2416 2484  Q 2838 2347 3058 2040  Q 3278 1734 3278 1309  Q 3278 722 2862 322  Q 2447 -78 1769 -78  Q 1091 -78 675 323  Q 259 725 259 1325  Q 259 1772 486 2073  Q 713 2375 1131 2484  z M 1019 3438  Q 1019 3113 1228 2906  Q 1438 2700 1772 2700  Q 2097 2700 2305 2904  Q 2513 3109 2513 3406  Q 2513 3716 2298 3927  Q 2084 4138 1766 4138  Q 1444 4138 1231 3931  Q 1019 3725 1019 3438  z M 838 1322  Q 838 1081 952 856  Q 1066 631 1291 507  Q 1516 384 1775 384  Q 2178 384 2440 643  Q 2703 903 2703 1303  Q 2703 1709 2433 1975  Q 2163 2241 1756 2241  Q 1359 2241 1098 1978  Q 838 1716 838 1322  z \" transform=\"scale(0.015625)\" />\n       </defs>\n       <use xlink:href=\"#ArialMT-31\" />\n       <use xlink:href=\"#ArialMT-32\" x=\"55.615234\" />\n       <use xlink:href=\"#ArialMT-39\" x=\"111.230469\" />\n       <use xlink:href=\"#ArialMT-31\" x=\"166.845703\" />\n       <use xlink:href=\"#ArialMT-38\" x=\"222.460938\" />\n      </g>\n     </g>\n    </g>\n   </g>\n   <g id=\"patch_3\">\n    <path d=\"M 31.74375 59.034918  L 40.973825 59.034918  L 40.973825 59.034918  L 31.74375 59.034918  z \" clip-path=\"url(#p07ebd03ad2)\" style=\"fill: #fefebb; stroke: #444443; stroke-width: 0.5; stroke-linejoin: miter\" />\n   </g>\n   <g id=\"patch_4\">\n    <path d=\"M 40.973825 59.034918  L 50.2039 59.034918  L 50.2039 59.034918  L 40.973825 59.034918  z \" clip-path=\"url(#p07ebd03ad2)\" style=\"fill: #fefebb; stroke: #444443; stroke-width: 0.5; stroke-linejoin: miter\" />\n   </g>\n   <g id=\"patch_5\">\n    <path d=\"M 50.2039 59.034918  L 59.433976 59.034918  L 59.433976 59.034918  L 50.2039 59.034918  z \" clip-path=\"url(#p07ebd03ad2)\" style=\"fill: #fefebb; stroke: #444443; stroke-width: 0.5; stroke-linejoin: miter\" />\n   </g>\n   <g id=\"patch_6\">\n    <path d=\"M 59.433976 59.034918  L 68.664051 59.034918  L 68.664051 59.034918  L 59.433976 59.034918  z \" clip-path=\"url(#p07ebd03ad2)\" style=\"fill: #fefebb; stroke: #444443; stroke-width: 0.5; stroke-linejoin: miter\" />\n   </g>\n   <g id=\"patch_7\">\n    <path d=\"M 68.664051 59.034918  L 77.894126 59.034918  L 77.894126 59.034918  L 68.664051 59.034918  z \" clip-path=\"url(#p07ebd03ad2)\" style=\"fill: #fefebb; stroke: #444443; stroke-width: 0.5; stroke-linejoin: miter\" />\n   </g>\n   <g id=\"patch_8\">\n    <path d=\"M 77.894126 59.034918  L 87.124201 59.034918  L 87.124201 59.034918  L 77.894126 59.034918  z \" clip-path=\"url(#p07ebd03ad2)\" style=\"fill: #fefebb; stroke: #444443; stroke-width: 0.5; stroke-linejoin: miter\" />\n   </g>\n   <g id=\"patch_9\">\n    <path d=\"M 87.124201 59.034918  L 96.354276 59.034918  L 96.354276 59.034918  L 87.124201 59.034918  z \" clip-path=\"url(#p07ebd03ad2)\" style=\"fill: #fefebb; stroke: #444443; stroke-width: 0.5; stroke-linejoin: miter\" />\n   </g>\n   <g id=\"patch_10\">\n    <path d=\"M 96.354276 59.034918  L 105.584352 59.034918  L 105.584352 59.034918  L 96.354276 59.034918  z \" clip-path=\"url(#p07ebd03ad2)\" style=\"fill: #fefebb; stroke: #444443; stroke-width: 0.5; stroke-linejoin: miter\" />\n   </g>\n   <g id=\"patch_11\">\n    <path d=\"M 105.584352 59.034918  L 114.814427 59.034918  L 114.814427 59.034918  L 105.584352 59.034918  z \" clip-path=\"url(#p07ebd03ad2)\" style=\"fill: #fefebb; stroke: #444443; stroke-width: 0.5; stroke-linejoin: miter\" />\n   </g>\n   <g id=\"patch_12\">\n    <path d=\"M 114.814427 59.034918  L 124.044502 59.034918  L 124.044502 59.034918  L 114.814427 59.034918  z \" clip-path=\"url(#p07ebd03ad2)\" style=\"fill: #fefebb; stroke: #444443; stroke-width: 0.5; stroke-linejoin: miter\" />\n   </g>\n   <g id=\"patch_13\">\n    <path d=\"M 124.044502 59.034918  L 133.274577 59.034918  L 133.274577 51.503602  L 124.044502 51.503602  z \" clip-path=\"url(#p07ebd03ad2)\" style=\"fill: #fefebb; stroke: #444443; stroke-width: 0.5; stroke-linejoin: miter\" />\n   </g>\n   <g id=\"patch_14\">\n    <path d=\"M 133.274577 59.034918  L 142.504652 59.034918  L 142.504652 39.263039  L 133.274577 39.263039  z \" clip-path=\"url(#p07ebd03ad2)\" style=\"fill: #fefebb; stroke: #444443; stroke-width: 0.5; stroke-linejoin: miter\" />\n   </g>\n   <g id=\"patch_15\">\n    <path d=\"M 142.504652 59.034918  L 151.734727 59.034918  L 151.734727 51.529692  L 142.504652 51.529692  z \" clip-path=\"url(#p07ebd03ad2)\" style=\"fill: #fefebb; stroke: #444443; stroke-width: 0.5; stroke-linejoin: miter\" />\n   </g>\n   <g id=\"patch_16\">\n    <path d=\"M 151.734727 59.034918  L 160.964803 59.034918  L 160.964803 56.008477  L 151.734727 56.008477  z \" clip-path=\"url(#p07ebd03ad2)\" style=\"fill: #fefebb; stroke: #444443; stroke-width: 0.5; stroke-linejoin: miter\" />\n   </g>\n   <g id=\"patch_17\">\n    <path d=\"M 160.964803 59.034918  L 170.194878 59.034918  L 170.194878 53.725601  L 160.964803 53.725601  z \" clip-path=\"url(#p07ebd03ad2)\" style=\"fill: #fefebb; stroke: #444443; stroke-width: 0.5; stroke-linejoin: miter\" />\n   </g>\n   <g id=\"patch_18\">\n    <path d=\"M 170.194878 59.034918  L 179.424953 59.034918  L 179.424953 57.365158  L 170.194878 57.365158  z \" clip-path=\"url(#p07ebd03ad2)\" style=\"fill: #fefebb; stroke: #444443; stroke-width: 0.5; stroke-linejoin: miter\" />\n   </g>\n   <g id=\"patch_19\">\n    <path d=\"M 179.424953 59.034918  L 188.655028 59.034918  L 188.655028 58.465287  L 179.424953 58.465287  z \" clip-path=\"url(#p07ebd03ad2)\" style=\"fill: #fefebb; stroke: #444443; stroke-width: 0.5; stroke-linejoin: miter\" />\n   </g>\n   <g id=\"patch_20\">\n    <path d=\"M 188.655028 59.034918  L 197.885103 59.034918  L 197.885103 58.97839  L 188.655028 58.97839  z \" clip-path=\"url(#p07ebd03ad2)\" style=\"fill: #fefebb; stroke: #444443; stroke-width: 0.5; stroke-linejoin: miter\" />\n   </g>\n   <g id=\"patch_21\">\n    <path d=\"M 197.885103 59.034918  L 207.115179 59.034918  L 207.115179 59.021873  L 197.885103 59.021873  z \" clip-path=\"url(#p07ebd03ad2)\" style=\"fill: #fefebb; stroke: #444443; stroke-width: 0.5; stroke-linejoin: miter\" />\n   </g>\n   <g id=\"patch_22\">\n    <path d=\"M 31.74375 59.034918  L 40.973825 59.034918  L 40.973825 59.034918  L 31.74375 59.034918  z \" clip-path=\"url(#p07ebd03ad2)\" style=\"fill: #a1dab4; stroke: #444443; stroke-width: 0.5; stroke-linejoin: miter\" />\n   </g>\n   <g id=\"patch_23\">\n    <path d=\"M 40.973825 59.034918  L 50.2039 59.034918  L 50.2039 59.034918  L 40.973825 59.034918  z \" clip-path=\"url(#p07ebd03ad2)\" style=\"fill: #a1dab4; stroke: #444443; stroke-width: 0.5; stroke-linejoin: miter\" />\n   </g>\n   <g id=\"patch_24\">\n    <path d=\"M 50.2039 59.034918  L 59.433976 59.034918  L 59.433976 59.034918  L 50.2039 59.034918  z \" clip-path=\"url(#p07ebd03ad2)\" style=\"fill: #a1dab4; stroke: #444443; stroke-width: 0.5; stroke-linejoin: miter\" />\n   </g>\n   <g id=\"patch_25\">\n    <path d=\"M 59.433976 59.034918  L 68.664051 59.034918  L 68.664051 59.034918  L 59.433976 59.034918  z \" clip-path=\"url(#p07ebd03ad2)\" style=\"fill: #a1dab4; stroke: #444443; stroke-width: 0.5; stroke-linejoin: miter\" />\n   </g>\n   <g id=\"patch_26\">\n    <path d=\"M 68.664051 59.034918  L 77.894126 59.034918  L 77.894126 59.034918  L 68.664051 59.034918  z \" clip-path=\"url(#p07ebd03ad2)\" style=\"fill: #a1dab4; stroke: #444443; stroke-width: 0.5; stroke-linejoin: miter\" />\n   </g>\n   <g id=\"patch_27\">\n    <path d=\"M 77.894126 59.034918  L 87.124201 59.034918  L 87.124201 59.034918  L 77.894126 59.034918  z \" clip-path=\"url(#p07ebd03ad2)\" style=\"fill: #a1dab4; stroke: #444443; stroke-width: 0.5; stroke-linejoin: miter\" />\n   </g>\n   <g id=\"patch_28\">\n    <path d=\"M 87.124201 59.034918  L 96.354276 59.034918  L 96.354276 59.034918  L 87.124201 59.034918  z \" clip-path=\"url(#p07ebd03ad2)\" style=\"fill: #a1dab4; stroke: #444443; stroke-width: 0.5; stroke-linejoin: miter\" />\n   </g>\n   <g id=\"patch_29\">\n    <path d=\"M 96.354276 59.034918  L 105.584352 59.034918  L 105.584352 59.034918  L 96.354276 59.034918  z \" clip-path=\"url(#p07ebd03ad2)\" style=\"fill: #a1dab4; stroke: #444443; stroke-width: 0.5; stroke-linejoin: miter\" />\n   </g>\n   <g id=\"patch_30\">\n    <path d=\"M 105.584352 59.034918  L 114.814427 59.034918  L 114.814427 59.034918  L 105.584352 59.034918  z \" clip-path=\"url(#p07ebd03ad2)\" style=\"fill: #a1dab4; stroke: #444443; stroke-width: 0.5; stroke-linejoin: miter\" />\n   </g>\n   <g id=\"patch_31\">\n    <path d=\"M 114.814427 59.034918  L 124.044502 59.034918  L 124.044502 59.034918  L 114.814427 59.034918  z \" clip-path=\"url(#p07ebd03ad2)\" style=\"fill: #a1dab4; stroke: #444443; stroke-width: 0.5; stroke-linejoin: miter\" />\n   </g>\n   <g id=\"patch_32\">\n    <path d=\"M 124.044502 51.503602  L 133.274577 51.503602  L 133.274577 40.702337  L 124.044502 40.702337  z \" clip-path=\"url(#p07ebd03ad2)\" style=\"fill: #a1dab4; stroke: #444443; stroke-width: 0.5; stroke-linejoin: miter\" />\n   </g>\n   <g id=\"patch_33\">\n    <path d=\"M 133.274577 39.263039  L 142.504652 39.263039  L 142.504652 2.863125  L 133.274577 2.863125  z \" clip-path=\"url(#p07ebd03ad2)\" style=\"fill: #a1dab4; stroke: #444443; stroke-width: 0.5; stroke-linejoin: miter\" />\n   </g>\n   <g id=\"patch_34\">\n    <path d=\"M 142.504652 51.529692  L 151.734727 51.529692  L 151.734727 26.561552  L 142.504652 26.561552  z \" clip-path=\"url(#p07ebd03ad2)\" style=\"fill: #a1dab4; stroke: #444443; stroke-width: 0.5; stroke-linejoin: miter\" />\n   </g>\n   <g id=\"patch_35\">\n    <path d=\"M 151.734727 56.008477  L 160.964803 56.008477  L 160.964803 41.028463  L 151.734727 41.028463  z \" clip-path=\"url(#p07ebd03ad2)\" style=\"fill: #a1dab4; stroke: #444443; stroke-width: 0.5; stroke-linejoin: miter\" />\n   </g>\n   <g id=\"patch_36\">\n    <path d=\"M 160.964803 53.725601  L 170.194878 53.725601  L 170.194878 26.052796  L 160.964803 26.052796  z \" clip-path=\"url(#p07ebd03ad2)\" style=\"fill: #a1dab4; stroke: #444443; stroke-width: 0.5; stroke-linejoin: miter\" />\n   </g>\n   <g id=\"patch_37\">\n    <path d=\"M 170.194878 57.365158  L 179.424953 57.365158  L 179.424953 45.73771  L 170.194878 45.73771  z \" clip-path=\"url(#p07ebd03ad2)\" style=\"fill: #a1dab4; stroke: #444443; stroke-width: 0.5; stroke-linejoin: miter\" />\n   </g>\n   <g id=\"patch_38\">\n    <path d=\"M 179.424953 58.465287  L 188.655028 58.465287  L 188.655028 53.051609  L 179.424953 53.051609  z \" clip-path=\"url(#p07ebd03ad2)\" style=\"fill: #a1dab4; stroke: #444443; stroke-width: 0.5; stroke-linejoin: miter\" />\n   </g>\n   <g id=\"patch_39\">\n    <path d=\"M 188.655028 58.97839  L 197.885103 58.97839  L 197.885103 57.391248  L 188.655028 57.391248  z \" clip-path=\"url(#p07ebd03ad2)\" style=\"fill: #a1dab4; stroke: #444443; stroke-width: 0.5; stroke-linejoin: miter\" />\n   </g>\n   <g id=\"patch_40\">\n    <path d=\"M 197.885103 59.021873  L 207.115179 59.021873  L 207.115179 58.756625  L 197.885103 58.756625  z \" clip-path=\"url(#p07ebd03ad2)\" style=\"fill: #a1dab4; stroke: #444443; stroke-width: 0.5; stroke-linejoin: miter\" />\n   </g>\n   <g id=\"patch_41\">\n    <path d=\"M 143.903829 59.850318  L 140.589309 67.188918  L 147.218349 67.188918  z \" style=\"fill: #444443; stroke: #ffffff; stroke-linejoin: miter\" />\n   </g>\n   <g id=\"patch_42\">\n    <path d=\"M 31.74375 59.034918  L 31.74375 0.054535  \" style=\"fill: none; stroke: #262626; stroke-width: 0.3; stroke-linejoin: miter; stroke-linecap: square\" />\n   </g>\n   <g id=\"patch_43\">\n    <path d=\"M 31.74375 59.034918  L 215.88375 59.034918  \" style=\"fill: none; stroke: #262626; stroke-width: 0.3; stroke-linejoin: miter; stroke-linecap: square\" />\n   </g>\n   <g id=\"text_6\">\n    \n    <g style=\"fill: #444443\" transform=\"translate(136.119454 75.342918)scale(0.08 -0.08)\">\n     <defs>\n      <path id=\"ArialMT-36\" d=\"M 3184 3459  L 2625 3416  Q 2550 3747 2413 3897  Q 2184 4138 1850 4138  Q 1581 4138 1378 3988  Q 1113 3794 959 3422  Q 806 3050 800 2363  Q 1003 2672 1297 2822  Q 1591 2972 1913 2972  Q 2475 2972 2870 2558  Q 3266 2144 3266 1488  Q 3266 1056 3080 686  Q 2894 316 2569 119  Q 2244 -78 1831 -78  Q 1128 -78 684 439  Q 241 956 241 2144  Q 241 3472 731 4075  Q 1159 4600 1884 4600  Q 2425 4600 2770 4297  Q 3116 3994 3184 3459  z M 888 1484  Q 888 1194 1011 928  Q 1134 663 1356 523  Q 1578 384 1822 384  Q 2178 384 2434 671  Q 2691 959 2691 1453  Q 2691 1928 2437 2201  Q 2184 2475 1800 2475  Q 1419 2475 1153 2201  Q 888 1928 888 1484  z \" transform=\"scale(0.015625)\" />\n     </defs>\n     <use xlink:href=\"#ArialMT-30\" />\n     <use xlink:href=\"#ArialMT-2e\" x=\"55.615234\" />\n     <use xlink:href=\"#ArialMT-36\" x=\"83.398438\" />\n     <use xlink:href=\"#ArialMT-31\" x=\"139.013672\" />\n    </g>\n   </g>\n  </g>\n </g>\n <defs>\n  <clipPath id=\"p07ebd03ad2\">\n   <rect x=\"31.74375\" y=\"0.054535\" width=\"184.14\" height=\"58.980383\" />\n  </clipPath>\n </defs>\n</svg></g>\n\n\n<g id=\"node4\" class=\"node\">\n<title>node9</title>\n<svg width=\"162px\" height=\"68px\" viewBox=\"0 0 215.88375 90.70618\" version=\"1.1\" preserveAspectRatio=\"xMinYMin meet\" x=\"369.5\" y=\"-180\">\n <metadata>\n  <rdf:RDF>\n   <ns2:Work>\n    <dc:type rdf:resource=\"http://purl.org/dc/dcmitype/StillImage\" />\n    <dc:date>2022-04-20T20:42:04.438159</dc:date>\n    <dc:format>image/svg+xml</dc:format>\n    <dc:creator>\n     <ns2:Agent>\n      <dc:title>Matplotlib v3.5.1, https://matplotlib.org/</dc:title>\n     </ns2:Agent>\n    </dc:creator>\n   </ns2:Work>\n  </rdf:RDF>\n </metadata>\n <defs>\n  <style type=\"text/css\">*{stroke-linejoin: round; stroke-linecap: butt}</style>\n </defs>\n <g id=\"figure_1\">\n  <g id=\"patch_1\">\n   <path d=\"M 0 90.70618  L 215.88375 90.70618  L 215.88375 0  L 0 0  z \" style=\"fill: #ffffff\" />\n  </g>\n  <g id=\"axes_1\">\n   <g id=\"patch_2\">\n    <path d=\"M 31.74375 58.915555  L 215.88375 58.915555  L 215.88375 0.060503  L 31.74375 0.060503  z \" style=\"fill: #ffffff\" />\n   </g>\n   <g id=\"matplotlib.axis_1\">\n    <g id=\"xtick_1\">\n     <g id=\"text_1\">\n      \n      <g style=\"fill: #444443\" transform=\"translate(27.183125 74.141805)scale(0.08 -0.08)\">\n       <defs>\n        <path id=\"ArialMT-2212\" d=\"M 3381 1997  L 356 1997  L 356 2522  L 3381 2522  L 3381 1997  z \" transform=\"scale(0.015625)\" />\n        <path id=\"ArialMT-31\" d=\"M 2384 0  L 1822 0  L 1822 3584  Q 1619 3391 1289 3197  Q 959 3003 697 2906  L 697 3450  Q 1169 3672 1522 3987  Q 1875 4303 2022 4600  L 2384 4600  L 2384 0  z \" transform=\"scale(0.015625)\" />\n       </defs>\n       <use xlink:href=\"#ArialMT-2212\" />\n       <use xlink:href=\"#ArialMT-31\" x=\"58.398438\" />\n      </g>\n     </g>\n    </g>\n    <g id=\"xtick_2\">\n     <g id=\"text_2\">\n      \n      <g style=\"fill: #444443\" transform=\"translate(209.168155 74.141805)scale(0.08 -0.08)\">\n       <use xlink:href=\"#ArialMT-31\" />\n      </g>\n     </g>\n    </g>\n    <g id=\"text_3\">\n     \n     <g style=\"fill: #444443\" transform=\"translate(52.779375 88.32118)scale(0.12 -0.12)\">\n      <defs>\n       <path id=\"ArialMT-70\" d=\"M 422 -1272  L 422 3319  L 934 3319  L 934 2888  Q 1116 3141 1344 3267  Q 1572 3394 1897 3394  Q 2322 3394 2647 3175  Q 2972 2956 3137 2557  Q 3303 2159 3303 1684  Q 3303 1175 3120 767  Q 2938 359 2589 142  Q 2241 -75 1856 -75  Q 1575 -75 1351 44  Q 1128 163 984 344  L 984 -1272  L 422 -1272  z M 931 1641  Q 931 1000 1190 694  Q 1450 388 1819 388  Q 2194 388 2461 705  Q 2728 1022 2728 1688  Q 2728 2322 2467 2637  Q 2206 2953 1844 2953  Q 1484 2953 1207 2617  Q 931 2281 931 1641  z \" transform=\"scale(0.015625)\" />\n       <path id=\"ArialMT-72\" d=\"M 416 0  L 416 3319  L 922 3319  L 922 2816  Q 1116 3169 1280 3281  Q 1444 3394 1641 3394  Q 1925 3394 2219 3213  L 2025 2691  Q 1819 2813 1613 2813  Q 1428 2813 1281 2702  Q 1134 2591 1072 2394  Q 978 2094 978 1738  L 978 0  L 416 0  z \" transform=\"scale(0.015625)\" />\n       <path id=\"ArialMT-65\" d=\"M 2694 1069  L 3275 997  Q 3138 488 2766 206  Q 2394 -75 1816 -75  Q 1088 -75 661 373  Q 234 822 234 1631  Q 234 2469 665 2931  Q 1097 3394 1784 3394  Q 2450 3394 2872 2941  Q 3294 2488 3294 1666  Q 3294 1616 3291 1516  L 816 1516  Q 847 969 1125 678  Q 1403 388 1819 388  Q 2128 388 2347 550  Q 2566 713 2694 1069  z M 847 1978  L 2700 1978  Q 2663 2397 2488 2606  Q 2219 2931 1791 2931  Q 1403 2931 1139 2672  Q 875 2413 847 1978  z \" transform=\"scale(0.015625)\" />\n       <path id=\"ArialMT-76\" d=\"M 1344 0  L 81 3319  L 675 3319  L 1388 1331  Q 1503 1009 1600 663  Q 1675 925 1809 1294  L 2547 3319  L 3125 3319  L 1869 0  L 1344 0  z \" transform=\"scale(0.015625)\" />\n       <path id=\"ArialMT-69\" d=\"M 425 3934  L 425 4581  L 988 4581  L 988 3934  L 425 3934  z M 425 0  L 425 3319  L 988 3319  L 988 0  L 425 0  z \" transform=\"scale(0.015625)\" />\n       <path id=\"ArialMT-6f\" d=\"M 213 1659  Q 213 2581 725 3025  Q 1153 3394 1769 3394  Q 2453 3394 2887 2945  Q 3322 2497 3322 1706  Q 3322 1066 3130 698  Q 2938 331 2570 128  Q 2203 -75 1769 -75  Q 1072 -75 642 372  Q 213 819 213 1659  z M 791 1659  Q 791 1022 1069 705  Q 1347 388 1769 388  Q 2188 388 2466 706  Q 2744 1025 2744 1678  Q 2744 2294 2464 2611  Q 2184 2928 1769 2928  Q 1347 2928 1069 2612  Q 791 2297 791 1659  z \" transform=\"scale(0.015625)\" />\n       <path id=\"ArialMT-75\" d=\"M 2597 0  L 2597 488  Q 2209 -75 1544 -75  Q 1250 -75 995 37  Q 741 150 617 320  Q 494 491 444 738  Q 409 903 409 1263  L 409 3319  L 972 3319  L 972 1478  Q 972 1038 1006 884  Q 1059 663 1231 536  Q 1403 409 1656 409  Q 1909 409 2131 539  Q 2353 669 2445 892  Q 2538 1116 2538 1541  L 2538 3319  L 3100 3319  L 3100 0  L 2597 0  z \" transform=\"scale(0.015625)\" />\n       <path id=\"ArialMT-73\" d=\"M 197 991  L 753 1078  Q 800 744 1014 566  Q 1228 388 1613 388  Q 2000 388 2187 545  Q 2375 703 2375 916  Q 2375 1106 2209 1216  Q 2094 1291 1634 1406  Q 1016 1563 777 1677  Q 538 1791 414 1992  Q 291 2194 291 2438  Q 291 2659 392 2848  Q 494 3038 669 3163  Q 800 3259 1026 3326  Q 1253 3394 1513 3394  Q 1903 3394 2198 3281  Q 2494 3169 2634 2976  Q 2775 2784 2828 2463  L 2278 2388  Q 2241 2644 2061 2787  Q 1881 2931 1553 2931  Q 1166 2931 1000 2803  Q 834 2675 834 2503  Q 834 2394 903 2306  Q 972 2216 1119 2156  Q 1203 2125 1616 2013  Q 2213 1853 2448 1751  Q 2684 1650 2818 1456  Q 2953 1263 2953 975  Q 2953 694 2789 445  Q 2625 197 2315 61  Q 2006 -75 1616 -75  Q 969 -75 630 194  Q 291 463 197 991  z \" transform=\"scale(0.015625)\" />\n       <path id=\"ArialMT-5f\" d=\"M -97 -1272  L -97 -866  L 3631 -866  L 3631 -1272  L -97 -1272  z \" transform=\"scale(0.015625)\" />\n       <path id=\"ArialMT-71\" d=\"M 2538 -1272  L 2538 353  Q 2406 169 2170 47  Q 1934 -75 1669 -75  Q 1078 -75 651 397  Q 225 869 225 1691  Q 225 2191 398 2587  Q 572 2984 901 3189  Q 1231 3394 1625 3394  Q 2241 3394 2594 2875  L 2594 3319  L 3100 3319  L 3100 -1272  L 2538 -1272  z M 803 1669  Q 803 1028 1072 708  Q 1341 388 1716 388  Q 2075 388 2334 692  Q 2594 997 2594 1619  Q 2594 2281 2320 2615  Q 2047 2950 1678 2950  Q 1313 2950 1058 2639  Q 803 2328 803 1669  z \" transform=\"scale(0.015625)\" />\n       <path id=\"ArialMT-74\" d=\"M 1650 503  L 1731 6  Q 1494 -44 1306 -44  Q 1000 -44 831 53  Q 663 150 594 308  Q 525 466 525 972  L 525 2881  L 113 2881  L 113 3319  L 525 3319  L 525 4141  L 1084 4478  L 1084 3319  L 1650 3319  L 1650 2881  L 1084 2881  L 1084 941  Q 1084 700 1114 631  Q 1144 563 1211 522  Q 1278 481 1403 481  Q 1497 481 1650 503  z \" transform=\"scale(0.015625)\" />\n       <path id=\"ArialMT-63\" d=\"M 2588 1216  L 3141 1144  Q 3050 572 2676 248  Q 2303 -75 1759 -75  Q 1078 -75 664 370  Q 250 816 250 1647  Q 250 2184 428 2587  Q 606 2991 970 3192  Q 1334 3394 1763 3394  Q 2303 3394 2647 3120  Q 2991 2847 3088 2344  L 2541 2259  Q 2463 2594 2264 2762  Q 2066 2931 1784 2931  Q 1359 2931 1093 2626  Q 828 2322 828 1663  Q 828 994 1084 691  Q 1341 388 1753 388  Q 2084 388 2306 591  Q 2528 794 2588 1216  z \" transform=\"scale(0.015625)\" />\n      </defs>\n      <use xlink:href=\"#ArialMT-70\" />\n      <use xlink:href=\"#ArialMT-72\" x=\"55.615234\" />\n      <use xlink:href=\"#ArialMT-65\" x=\"88.916016\" />\n      <use xlink:href=\"#ArialMT-76\" x=\"144.53125\" />\n      <use xlink:href=\"#ArialMT-69\" x=\"194.53125\" />\n      <use xlink:href=\"#ArialMT-6f\" x=\"216.748047\" />\n      <use xlink:href=\"#ArialMT-75\" x=\"272.363281\" />\n      <use xlink:href=\"#ArialMT-73\" x=\"327.978516\" />\n      <use xlink:href=\"#ArialMT-5f\" x=\"377.978516\" />\n      <use xlink:href=\"#ArialMT-72\" x=\"433.59375\" />\n      <use xlink:href=\"#ArialMT-65\" x=\"466.894531\" />\n      <use xlink:href=\"#ArialMT-71\" x=\"522.509766\" />\n      <use xlink:href=\"#ArialMT-75\" x=\"578.125\" />\n      <use xlink:href=\"#ArialMT-65\" x=\"633.740234\" />\n      <use xlink:href=\"#ArialMT-73\" x=\"689.355469\" />\n      <use xlink:href=\"#ArialMT-74\" x=\"739.355469\" />\n      <use xlink:href=\"#ArialMT-5f\" x=\"767.138672\" />\n      <use xlink:href=\"#ArialMT-73\" x=\"822.753906\" />\n      <use xlink:href=\"#ArialMT-75\" x=\"872.753906\" />\n      <use xlink:href=\"#ArialMT-63\" x=\"928.369141\" />\n      <use xlink:href=\"#ArialMT-63\" x=\"978.369141\" />\n      <use xlink:href=\"#ArialMT-65\" x=\"1028.369141\" />\n      <use xlink:href=\"#ArialMT-73\" x=\"1083.984375\" />\n      <use xlink:href=\"#ArialMT-73\" x=\"1133.984375\" />\n     </g>\n    </g>\n   </g>\n   <g id=\"matplotlib.axis_2\">\n    <g id=\"ytick_1\">\n     <g id=\"text_4\">\n      \n      <g style=\"fill: #444443\" transform=\"translate(17.795 61.77868)scale(0.08 -0.08)\">\n       <defs>\n        <path id=\"ArialMT-30\" d=\"M 266 2259  Q 266 3072 433 3567  Q 600 4063 929 4331  Q 1259 4600 1759 4600  Q 2128 4600 2406 4451  Q 2684 4303 2865 4023  Q 3047 3744 3150 3342  Q 3253 2941 3253 2259  Q 3253 1453 3087 958  Q 2922 463 2592 192  Q 2263 -78 1759 -78  Q 1097 -78 719 397  Q 266 969 266 2259  z M 844 2259  Q 844 1131 1108 757  Q 1372 384 1759 384  Q 2147 384 2411 759  Q 2675 1134 2675 2259  Q 2675 3391 2411 3762  Q 2147 4134 1753 4134  Q 1366 4134 1134 3806  Q 844 3388 844 2259  z \" transform=\"scale(0.015625)\" />\n       </defs>\n       <use xlink:href=\"#ArialMT-30\" />\n      </g>\n     </g>\n    </g>\n    <g id=\"ytick_2\">\n     <g id=\"text_5\">\n      \n      <g style=\"fill: #444443\" transform=\"translate(0 5.72625)scale(0.08 -0.08)\">\n       <defs>\n        <path id=\"ArialMT-33\" d=\"M 269 1209  L 831 1284  Q 928 806 1161 595  Q 1394 384 1728 384  Q 2125 384 2398 659  Q 2672 934 2672 1341  Q 2672 1728 2419 1979  Q 2166 2231 1775 2231  Q 1616 2231 1378 2169  L 1441 2663  Q 1497 2656 1531 2656  Q 1891 2656 2178 2843  Q 2466 3031 2466 3422  Q 2466 3731 2256 3934  Q 2047 4138 1716 4138  Q 1388 4138 1169 3931  Q 950 3725 888 3313  L 325 3413  Q 428 3978 793 4289  Q 1159 4600 1703 4600  Q 2078 4600 2393 4439  Q 2709 4278 2876 4000  Q 3044 3722 3044 3409  Q 3044 3113 2884 2869  Q 2725 2625 2413 2481  Q 2819 2388 3044 2092  Q 3269 1797 3269 1353  Q 3269 753 2831 336  Q 2394 -81 1725 -81  Q 1122 -81 723 278  Q 325 638 269 1209  z \" transform=\"scale(0.015625)\" />\n        <path id=\"ArialMT-39\" d=\"M 350 1059  L 891 1109  Q 959 728 1153 556  Q 1347 384 1650 384  Q 1909 384 2104 503  Q 2300 622 2425 820  Q 2550 1019 2634 1356  Q 2719 1694 2719 2044  Q 2719 2081 2716 2156  Q 2547 1888 2255 1720  Q 1963 1553 1622 1553  Q 1053 1553 659 1965  Q 266 2378 266 3053  Q 266 3750 677 4175  Q 1088 4600 1706 4600  Q 2153 4600 2523 4359  Q 2894 4119 3086 3673  Q 3278 3228 3278 2384  Q 3278 1506 3087 986  Q 2897 466 2520 194  Q 2144 -78 1638 -78  Q 1100 -78 759 220  Q 419 519 350 1059  z M 2653 3081  Q 2653 3566 2395 3850  Q 2138 4134 1775 4134  Q 1400 4134 1122 3828  Q 844 3522 844 3034  Q 844 2597 1108 2323  Q 1372 2050 1759 2050  Q 2150 2050 2401 2323  Q 2653 2597 2653 3081  z \" transform=\"scale(0.015625)\" />\n        <path id=\"ArialMT-35\" d=\"M 266 1200  L 856 1250  Q 922 819 1161 601  Q 1400 384 1738 384  Q 2144 384 2425 690  Q 2706 997 2706 1503  Q 2706 1984 2436 2262  Q 2166 2541 1728 2541  Q 1456 2541 1237 2417  Q 1019 2294 894 2097  L 366 2166  L 809 4519  L 3088 4519  L 3088 3981  L 1259 3981  L 1013 2750  Q 1425 3038 1878 3038  Q 2478 3038 2890 2622  Q 3303 2206 3303 1553  Q 3303 931 2941 478  Q 2500 -78 1738 -78  Q 1113 -78 717 272  Q 322 622 266 1200  z \" transform=\"scale(0.015625)\" />\n       </defs>\n       <use xlink:href=\"#ArialMT-31\" />\n       <use xlink:href=\"#ArialMT-30\" x=\"55.615234\" />\n       <use xlink:href=\"#ArialMT-33\" x=\"111.230469\" />\n       <use xlink:href=\"#ArialMT-39\" x=\"166.845703\" />\n       <use xlink:href=\"#ArialMT-35\" x=\"222.460938\" />\n      </g>\n     </g>\n    </g>\n   </g>\n   <g id=\"patch_3\">\n    <path d=\"M 31.74375 58.915555  L 41.198949 58.915555  L 41.198949 53.933117  L 31.74375 53.933117  z \" clip-path=\"url(#p3e7f4e15f1)\" style=\"fill: #fefebb; stroke: #444443; stroke-width: 0.5; stroke-linejoin: miter\" />\n   </g>\n   <g id=\"patch_4\">\n    <path d=\"M 41.198949 58.915555  L 50.654148 58.915555  L 50.654148 58.915555  L 41.198949 58.915555  z \" clip-path=\"url(#p3e7f4e15f1)\" style=\"fill: #fefebb; stroke: #444443; stroke-width: 0.5; stroke-linejoin: miter\" />\n   </g>\n   <g id=\"patch_5\">\n    <path d=\"M 50.654148 58.915555  L 60.109347 58.915555  L 60.109347 58.915555  L 50.654148 58.915555  z \" clip-path=\"url(#p3e7f4e15f1)\" style=\"fill: #fefebb; stroke: #444443; stroke-width: 0.5; stroke-linejoin: miter\" />\n   </g>\n   <g id=\"patch_6\">\n    <path d=\"M 60.109347 58.915555  L 69.564546 58.915555  L 69.564546 58.915555  L 60.109347 58.915555  z \" clip-path=\"url(#p3e7f4e15f1)\" style=\"fill: #fefebb; stroke: #444443; stroke-width: 0.5; stroke-linejoin: miter\" />\n   </g>\n   <g id=\"patch_7\">\n    <path d=\"M 69.564546 58.915555  L 79.019745 58.915555  L 79.019745 58.915555  L 69.564546 58.915555  z \" clip-path=\"url(#p3e7f4e15f1)\" style=\"fill: #fefebb; stroke: #444443; stroke-width: 0.5; stroke-linejoin: miter\" />\n   </g>\n   <g id=\"patch_8\">\n    <path d=\"M 79.019745 58.915555  L 88.474944 58.915555  L 88.474944 58.915555  L 79.019745 58.915555  z \" clip-path=\"url(#p3e7f4e15f1)\" style=\"fill: #fefebb; stroke: #444443; stroke-width: 0.5; stroke-linejoin: miter\" />\n   </g>\n   <g id=\"patch_9\">\n    <path d=\"M 88.474944 58.915555  L 97.930143 58.915555  L 97.930143 58.915555  L 88.474944 58.915555  z \" clip-path=\"url(#p3e7f4e15f1)\" style=\"fill: #fefebb; stroke: #444443; stroke-width: 0.5; stroke-linejoin: miter\" />\n   </g>\n   <g id=\"patch_10\">\n    <path d=\"M 97.930143 58.915555  L 107.385342 58.915555  L 107.385342 58.915555  L 97.930143 58.915555  z \" clip-path=\"url(#p3e7f4e15f1)\" style=\"fill: #fefebb; stroke: #444443; stroke-width: 0.5; stroke-linejoin: miter\" />\n   </g>\n   <g id=\"patch_11\">\n    <path d=\"M 107.385342 58.915555  L 116.840541 58.915555  L 116.840541 58.915555  L 107.385342 58.915555  z \" clip-path=\"url(#p3e7f4e15f1)\" style=\"fill: #fefebb; stroke: #444443; stroke-width: 0.5; stroke-linejoin: miter\" />\n   </g>\n   <g id=\"patch_12\">\n    <path d=\"M 116.840541 58.915555  L 126.29574 58.915555  L 126.29574 44.706979  L 116.840541 44.706979  z \" clip-path=\"url(#p3e7f4e15f1)\" style=\"fill: #fefebb; stroke: #444443; stroke-width: 0.5; stroke-linejoin: miter\" />\n   </g>\n   <g id=\"patch_13\">\n    <path d=\"M 126.29574 58.915555  L 135.750939 58.915555  L 135.750939 58.915555  L 126.29574 58.915555  z \" clip-path=\"url(#p3e7f4e15f1)\" style=\"fill: #fefebb; stroke: #444443; stroke-width: 0.5; stroke-linejoin: miter\" />\n   </g>\n   <g id=\"patch_14\">\n    <path d=\"M 135.750939 58.915555  L 145.206138 58.915555  L 145.206138 58.915555  L 135.750939 58.915555  z \" clip-path=\"url(#p3e7f4e15f1)\" style=\"fill: #fefebb; stroke: #444443; stroke-width: 0.5; stroke-linejoin: miter\" />\n   </g>\n   <g id=\"patch_15\">\n    <path d=\"M 145.206138 58.915555  L 154.661337 58.915555  L 154.661337 58.915555  L 145.206138 58.915555  z \" clip-path=\"url(#p3e7f4e15f1)\" style=\"fill: #fefebb; stroke: #444443; stroke-width: 0.5; stroke-linejoin: miter\" />\n   </g>\n   <g id=\"patch_16\">\n    <path d=\"M 154.661337 58.915555  L 164.116536 58.915555  L 164.116536 58.915555  L 154.661337 58.915555  z \" clip-path=\"url(#p3e7f4e15f1)\" style=\"fill: #fefebb; stroke: #444443; stroke-width: 0.5; stroke-linejoin: miter\" />\n   </g>\n   <g id=\"patch_17\">\n    <path d=\"M 164.116536 58.915555  L 173.571735 58.915555  L 173.571735 58.915555  L 164.116536 58.915555  z \" clip-path=\"url(#p3e7f4e15f1)\" style=\"fill: #fefebb; stroke: #444443; stroke-width: 0.5; stroke-linejoin: miter\" />\n   </g>\n   <g id=\"patch_18\">\n    <path d=\"M 173.571735 58.915555  L 183.026934 58.915555  L 183.026934 58.915555  L 173.571735 58.915555  z \" clip-path=\"url(#p3e7f4e15f1)\" style=\"fill: #fefebb; stroke: #444443; stroke-width: 0.5; stroke-linejoin: miter\" />\n   </g>\n   <g id=\"patch_19\">\n    <path d=\"M 183.026934 58.915555  L 192.482133 58.915555  L 192.482133 58.915555  L 183.026934 58.915555  z \" clip-path=\"url(#p3e7f4e15f1)\" style=\"fill: #fefebb; stroke: #444443; stroke-width: 0.5; stroke-linejoin: miter\" />\n   </g>\n   <g id=\"patch_20\">\n    <path d=\"M 192.482133 58.915555  L 201.937332 58.915555  L 201.937332 58.915555  L 192.482133 58.915555  z \" clip-path=\"url(#p3e7f4e15f1)\" style=\"fill: #fefebb; stroke: #444443; stroke-width: 0.5; stroke-linejoin: miter\" />\n   </g>\n   <g id=\"patch_21\">\n    <path d=\"M 201.937332 58.915555  L 211.39253 58.915555  L 211.39253 42.010854  L 201.937332 42.010854  z \" clip-path=\"url(#p3e7f4e15f1)\" style=\"fill: #fefebb; stroke: #444443; stroke-width: 0.5; stroke-linejoin: miter\" />\n   </g>\n   <g id=\"patch_22\">\n    <path d=\"M 31.74375 53.933117  L 41.198949 53.933117  L 41.198949 48.168803  L 31.74375 48.168803  z \" clip-path=\"url(#p3e7f4e15f1)\" style=\"fill: #a1dab4; stroke: #444443; stroke-width: 0.5; stroke-linejoin: miter\" />\n   </g>\n   <g id=\"patch_23\">\n    <path d=\"M 41.198949 58.915555  L 50.654148 58.915555  L 50.654148 58.915555  L 41.198949 58.915555  z \" clip-path=\"url(#p3e7f4e15f1)\" style=\"fill: #a1dab4; stroke: #444443; stroke-width: 0.5; stroke-linejoin: miter\" />\n   </g>\n   <g id=\"patch_24\">\n    <path d=\"M 50.654148 58.915555  L 60.109347 58.915555  L 60.109347 58.915555  L 50.654148 58.915555  z \" clip-path=\"url(#p3e7f4e15f1)\" style=\"fill: #a1dab4; stroke: #444443; stroke-width: 0.5; stroke-linejoin: miter\" />\n   </g>\n   <g id=\"patch_25\">\n    <path d=\"M 60.109347 58.915555  L 69.564546 58.915555  L 69.564546 58.915555  L 60.109347 58.915555  z \" clip-path=\"url(#p3e7f4e15f1)\" style=\"fill: #a1dab4; stroke: #444443; stroke-width: 0.5; stroke-linejoin: miter\" />\n   </g>\n   <g id=\"patch_26\">\n    <path d=\"M 69.564546 58.915555  L 79.019745 58.915555  L 79.019745 58.915555  L 69.564546 58.915555  z \" clip-path=\"url(#p3e7f4e15f1)\" style=\"fill: #a1dab4; stroke: #444443; stroke-width: 0.5; stroke-linejoin: miter\" />\n   </g>\n   <g id=\"patch_27\">\n    <path d=\"M 79.019745 58.915555  L 88.474944 58.915555  L 88.474944 58.915555  L 79.019745 58.915555  z \" clip-path=\"url(#p3e7f4e15f1)\" style=\"fill: #a1dab4; stroke: #444443; stroke-width: 0.5; stroke-linejoin: miter\" />\n   </g>\n   <g id=\"patch_28\">\n    <path d=\"M 88.474944 58.915555  L 97.930143 58.915555  L 97.930143 58.915555  L 88.474944 58.915555  z \" clip-path=\"url(#p3e7f4e15f1)\" style=\"fill: #a1dab4; stroke: #444443; stroke-width: 0.5; stroke-linejoin: miter\" />\n   </g>\n   <g id=\"patch_29\">\n    <path d=\"M 97.930143 58.915555  L 107.385342 58.915555  L 107.385342 58.915555  L 97.930143 58.915555  z \" clip-path=\"url(#p3e7f4e15f1)\" style=\"fill: #a1dab4; stroke: #444443; stroke-width: 0.5; stroke-linejoin: miter\" />\n   </g>\n   <g id=\"patch_30\">\n    <path d=\"M 107.385342 58.915555  L 116.840541 58.915555  L 116.840541 58.915555  L 107.385342 58.915555  z \" clip-path=\"url(#p3e7f4e15f1)\" style=\"fill: #a1dab4; stroke: #444443; stroke-width: 0.5; stroke-linejoin: miter\" />\n   </g>\n   <g id=\"patch_31\">\n    <path d=\"M 116.840541 44.706979  L 126.29574 44.706979  L 126.29574 25.537533  L 116.840541 25.537533  z \" clip-path=\"url(#p3e7f4e15f1)\" style=\"fill: #a1dab4; stroke: #444443; stroke-width: 0.5; stroke-linejoin: miter\" />\n   </g>\n   <g id=\"patch_32\">\n    <path d=\"M 126.29574 58.915555  L 135.750939 58.915555  L 135.750939 58.915555  L 126.29574 58.915555  z \" clip-path=\"url(#p3e7f4e15f1)\" style=\"fill: #a1dab4; stroke: #444443; stroke-width: 0.5; stroke-linejoin: miter\" />\n   </g>\n   <g id=\"patch_33\">\n    <path d=\"M 135.750939 58.915555  L 145.206138 58.915555  L 145.206138 58.915555  L 135.750939 58.915555  z \" clip-path=\"url(#p3e7f4e15f1)\" style=\"fill: #a1dab4; stroke: #444443; stroke-width: 0.5; stroke-linejoin: miter\" />\n   </g>\n   <g id=\"patch_34\">\n    <path d=\"M 145.206138 58.915555  L 154.661337 58.915555  L 154.661337 58.915555  L 145.206138 58.915555  z \" clip-path=\"url(#p3e7f4e15f1)\" style=\"fill: #a1dab4; stroke: #444443; stroke-width: 0.5; stroke-linejoin: miter\" />\n   </g>\n   <g id=\"patch_35\">\n    <path d=\"M 154.661337 58.915555  L 164.116536 58.915555  L 164.116536 58.915555  L 154.661337 58.915555  z \" clip-path=\"url(#p3e7f4e15f1)\" style=\"fill: #a1dab4; stroke: #444443; stroke-width: 0.5; stroke-linejoin: miter\" />\n   </g>\n   <g id=\"patch_36\">\n    <path d=\"M 164.116536 58.915555  L 173.571735 58.915555  L 173.571735 58.915555  L 164.116536 58.915555  z \" clip-path=\"url(#p3e7f4e15f1)\" style=\"fill: #a1dab4; stroke: #444443; stroke-width: 0.5; stroke-linejoin: miter\" />\n   </g>\n   <g id=\"patch_37\">\n    <path d=\"M 173.571735 58.915555  L 183.026934 58.915555  L 183.026934 58.915555  L 173.571735 58.915555  z \" clip-path=\"url(#p3e7f4e15f1)\" style=\"fill: #a1dab4; stroke: #444443; stroke-width: 0.5; stroke-linejoin: miter\" />\n   </g>\n   <g id=\"patch_38\">\n    <path d=\"M 183.026934 58.915555  L 192.482133 58.915555  L 192.482133 58.915555  L 183.026934 58.915555  z \" clip-path=\"url(#p3e7f4e15f1)\" style=\"fill: #a1dab4; stroke: #444443; stroke-width: 0.5; stroke-linejoin: miter\" />\n   </g>\n   <g id=\"patch_39\">\n    <path d=\"M 192.482133 58.915555  L 201.937332 58.915555  L 201.937332 58.915555  L 192.482133 58.915555  z \" clip-path=\"url(#p3e7f4e15f1)\" style=\"fill: #a1dab4; stroke: #444443; stroke-width: 0.5; stroke-linejoin: miter\" />\n   </g>\n   <g id=\"patch_40\">\n    <path d=\"M 201.937332 42.010854  L 211.39253 42.010854  L 211.39253 2.863125  L 201.937332 2.863125  z \" clip-path=\"url(#p3e7f4e15f1)\" style=\"fill: #a1dab4; stroke: #444443; stroke-width: 0.5; stroke-linejoin: miter\" />\n   </g>\n   <g id=\"patch_41\">\n    <path d=\"M 166.480335 59.730955  L 163.165815 67.069555  L 169.794855 67.069555  z \" style=\"fill: #444443; stroke: #ffffff; stroke-linejoin: miter\" />\n   </g>\n   <g id=\"patch_42\">\n    <path d=\"M 31.74375 58.915555  L 31.74375 0.060503  \" style=\"fill: none; stroke: #262626; stroke-width: 0.3; stroke-linejoin: miter; stroke-linecap: square\" />\n   </g>\n   <g id=\"patch_43\">\n    <path d=\"M 31.74375 58.915555  L 215.88375 58.915555  \" style=\"fill: none; stroke: #262626; stroke-width: 0.3; stroke-linejoin: miter; stroke-linecap: square\" />\n   </g>\n   <g id=\"text_6\">\n    \n    <g style=\"fill: #444443\" transform=\"translate(158.69596 75.223555)scale(0.08 -0.08)\">\n     <defs>\n      <path id=\"ArialMT-2e\" d=\"M 581 0  L 581 641  L 1222 641  L 1222 0  L 581 0  z \" transform=\"scale(0.015625)\" />\n     </defs>\n     <use xlink:href=\"#ArialMT-30\" />\n     <use xlink:href=\"#ArialMT-2e\" x=\"55.615234\" />\n     <use xlink:href=\"#ArialMT-35\" x=\"83.398438\" />\n     <use xlink:href=\"#ArialMT-30\" x=\"139.013672\" />\n    </g>\n   </g>\n  </g>\n </g>\n <defs>\n  <clipPath id=\"p3e7f4e15f1\">\n   <rect x=\"31.74375\" y=\"0.060503\" width=\"184.14\" height=\"58.855052\" />\n  </clipPath>\n </defs>\n</svg></g>\n\n<g id=\"node5\" class=\"node\">\n<title>node12</title>\n<svg width=\"162px\" height=\"84px\" viewBox=\"0 0 215.88375 113.330625\" version=\"1.1\" preserveAspectRatio=\"xMinYMin meet\" x=\"553.5\" y=\"-188\">\n <metadata>\n  <rdf:RDF>\n   <ns2:Work>\n    <dc:type rdf:resource=\"http://purl.org/dc/dcmitype/StillImage\" />\n    <dc:date>2022-04-20T20:42:04.484436</dc:date>\n    <dc:format>image/svg+xml</dc:format>\n    <dc:creator>\n     <ns2:Agent>\n      <dc:title>Matplotlib v3.5.1, https://matplotlib.org/</dc:title>\n     </ns2:Agent>\n    </dc:creator>\n   </ns2:Work>\n  </rdf:RDF>\n </metadata>\n <defs>\n  <style type=\"text/css\">*{stroke-linejoin: round; stroke-linecap: butt}</style>\n </defs>\n <g id=\"figure_1\">\n  <g id=\"patch_1\">\n   <path d=\"M 0 113.330625  L 215.88375 113.330625  L 215.88375 0  L 0 0  z \" style=\"fill: #ffffff\" />\n  </g>\n  <g id=\"axes_1\">\n   <g id=\"patch_2\">\n    <path d=\"M 31.74375 81.54  L 215.88375 81.54  L 215.88375 0  L 31.74375 0  z \" style=\"fill: #ffffff\" />\n   </g>\n   <g id=\"matplotlib.axis_1\">\n    <g id=\"xtick_1\">\n     <g id=\"text_1\">\n      \n      <g style=\"fill: #444443\" transform=\"translate(27.183125 96.76625)scale(0.08 -0.08)\">\n       <defs>\n        <path id=\"ArialMT-2212\" d=\"M 3381 1997  L 356 1997  L 356 2522  L 3381 2522  L 3381 1997  z \" transform=\"scale(0.015625)\" />\n        <path id=\"ArialMT-31\" d=\"M 2384 0  L 1822 0  L 1822 3584  Q 1619 3391 1289 3197  Q 959 3003 697 2906  L 697 3450  Q 1169 3672 1522 3987  Q 1875 4303 2022 4600  L 2384 4600  L 2384 0  z \" transform=\"scale(0.015625)\" />\n       </defs>\n       <use xlink:href=\"#ArialMT-2212\" />\n       <use xlink:href=\"#ArialMT-31\" x=\"58.398438\" />\n      </g>\n     </g>\n    </g>\n    <g id=\"xtick_2\">\n     <g id=\"text_2\">\n      \n      <g style=\"fill: #444443\" transform=\"translate(209.168155 96.76625)scale(0.08 -0.08)\">\n       <use xlink:href=\"#ArialMT-31\" />\n      </g>\n     </g>\n    </g>\n    <g id=\"text_3\">\n     \n     <g style=\"fill: #444443\" transform=\"translate(52.779375 110.945625)scale(0.12 -0.12)\">\n      <defs>\n       <path id=\"ArialMT-70\" d=\"M 422 -1272  L 422 3319  L 934 3319  L 934 2888  Q 1116 3141 1344 3267  Q 1572 3394 1897 3394  Q 2322 3394 2647 3175  Q 2972 2956 3137 2557  Q 3303 2159 3303 1684  Q 3303 1175 3120 767  Q 2938 359 2589 142  Q 2241 -75 1856 -75  Q 1575 -75 1351 44  Q 1128 163 984 344  L 984 -1272  L 422 -1272  z M 931 1641  Q 931 1000 1190 694  Q 1450 388 1819 388  Q 2194 388 2461 705  Q 2728 1022 2728 1688  Q 2728 2322 2467 2637  Q 2206 2953 1844 2953  Q 1484 2953 1207 2617  Q 931 2281 931 1641  z \" transform=\"scale(0.015625)\" />\n       <path id=\"ArialMT-72\" d=\"M 416 0  L 416 3319  L 922 3319  L 922 2816  Q 1116 3169 1280 3281  Q 1444 3394 1641 3394  Q 1925 3394 2219 3213  L 2025 2691  Q 1819 2813 1613 2813  Q 1428 2813 1281 2702  Q 1134 2591 1072 2394  Q 978 2094 978 1738  L 978 0  L 416 0  z \" transform=\"scale(0.015625)\" />\n       <path id=\"ArialMT-65\" d=\"M 2694 1069  L 3275 997  Q 3138 488 2766 206  Q 2394 -75 1816 -75  Q 1088 -75 661 373  Q 234 822 234 1631  Q 234 2469 665 2931  Q 1097 3394 1784 3394  Q 2450 3394 2872 2941  Q 3294 2488 3294 1666  Q 3294 1616 3291 1516  L 816 1516  Q 847 969 1125 678  Q 1403 388 1819 388  Q 2128 388 2347 550  Q 2566 713 2694 1069  z M 847 1978  L 2700 1978  Q 2663 2397 2488 2606  Q 2219 2931 1791 2931  Q 1403 2931 1139 2672  Q 875 2413 847 1978  z \" transform=\"scale(0.015625)\" />\n       <path id=\"ArialMT-76\" d=\"M 1344 0  L 81 3319  L 675 3319  L 1388 1331  Q 1503 1009 1600 663  Q 1675 925 1809 1294  L 2547 3319  L 3125 3319  L 1869 0  L 1344 0  z \" transform=\"scale(0.015625)\" />\n       <path id=\"ArialMT-69\" d=\"M 425 3934  L 425 4581  L 988 4581  L 988 3934  L 425 3934  z M 425 0  L 425 3319  L 988 3319  L 988 0  L 425 0  z \" transform=\"scale(0.015625)\" />\n       <path id=\"ArialMT-6f\" d=\"M 213 1659  Q 213 2581 725 3025  Q 1153 3394 1769 3394  Q 2453 3394 2887 2945  Q 3322 2497 3322 1706  Q 3322 1066 3130 698  Q 2938 331 2570 128  Q 2203 -75 1769 -75  Q 1072 -75 642 372  Q 213 819 213 1659  z M 791 1659  Q 791 1022 1069 705  Q 1347 388 1769 388  Q 2188 388 2466 706  Q 2744 1025 2744 1678  Q 2744 2294 2464 2611  Q 2184 2928 1769 2928  Q 1347 2928 1069 2612  Q 791 2297 791 1659  z \" transform=\"scale(0.015625)\" />\n       <path id=\"ArialMT-75\" d=\"M 2597 0  L 2597 488  Q 2209 -75 1544 -75  Q 1250 -75 995 37  Q 741 150 617 320  Q 494 491 444 738  Q 409 903 409 1263  L 409 3319  L 972 3319  L 972 1478  Q 972 1038 1006 884  Q 1059 663 1231 536  Q 1403 409 1656 409  Q 1909 409 2131 539  Q 2353 669 2445 892  Q 2538 1116 2538 1541  L 2538 3319  L 3100 3319  L 3100 0  L 2597 0  z \" transform=\"scale(0.015625)\" />\n       <path id=\"ArialMT-73\" d=\"M 197 991  L 753 1078  Q 800 744 1014 566  Q 1228 388 1613 388  Q 2000 388 2187 545  Q 2375 703 2375 916  Q 2375 1106 2209 1216  Q 2094 1291 1634 1406  Q 1016 1563 777 1677  Q 538 1791 414 1992  Q 291 2194 291 2438  Q 291 2659 392 2848  Q 494 3038 669 3163  Q 800 3259 1026 3326  Q 1253 3394 1513 3394  Q 1903 3394 2198 3281  Q 2494 3169 2634 2976  Q 2775 2784 2828 2463  L 2278 2388  Q 2241 2644 2061 2787  Q 1881 2931 1553 2931  Q 1166 2931 1000 2803  Q 834 2675 834 2503  Q 834 2394 903 2306  Q 972 2216 1119 2156  Q 1203 2125 1616 2013  Q 2213 1853 2448 1751  Q 2684 1650 2818 1456  Q 2953 1263 2953 975  Q 2953 694 2789 445  Q 2625 197 2315 61  Q 2006 -75 1616 -75  Q 969 -75 630 194  Q 291 463 197 991  z \" transform=\"scale(0.015625)\" />\n       <path id=\"ArialMT-5f\" d=\"M -97 -1272  L -97 -866  L 3631 -866  L 3631 -1272  L -97 -1272  z \" transform=\"scale(0.015625)\" />\n       <path id=\"ArialMT-71\" d=\"M 2538 -1272  L 2538 353  Q 2406 169 2170 47  Q 1934 -75 1669 -75  Q 1078 -75 651 397  Q 225 869 225 1691  Q 225 2191 398 2587  Q 572 2984 901 3189  Q 1231 3394 1625 3394  Q 2241 3394 2594 2875  L 2594 3319  L 3100 3319  L 3100 -1272  L 2538 -1272  z M 803 1669  Q 803 1028 1072 708  Q 1341 388 1716 388  Q 2075 388 2334 692  Q 2594 997 2594 1619  Q 2594 2281 2320 2615  Q 2047 2950 1678 2950  Q 1313 2950 1058 2639  Q 803 2328 803 1669  z \" transform=\"scale(0.015625)\" />\n       <path id=\"ArialMT-74\" d=\"M 1650 503  L 1731 6  Q 1494 -44 1306 -44  Q 1000 -44 831 53  Q 663 150 594 308  Q 525 466 525 972  L 525 2881  L 113 2881  L 113 3319  L 525 3319  L 525 4141  L 1084 4478  L 1084 3319  L 1650 3319  L 1650 2881  L 1084 2881  L 1084 941  Q 1084 700 1114 631  Q 1144 563 1211 522  Q 1278 481 1403 481  Q 1497 481 1650 503  z \" transform=\"scale(0.015625)\" />\n       <path id=\"ArialMT-63\" d=\"M 2588 1216  L 3141 1144  Q 3050 572 2676 248  Q 2303 -75 1759 -75  Q 1078 -75 664 370  Q 250 816 250 1647  Q 250 2184 428 2587  Q 606 2991 970 3192  Q 1334 3394 1763 3394  Q 2303 3394 2647 3120  Q 2991 2847 3088 2344  L 2541 2259  Q 2463 2594 2264 2762  Q 2066 2931 1784 2931  Q 1359 2931 1093 2626  Q 828 2322 828 1663  Q 828 994 1084 691  Q 1341 388 1753 388  Q 2084 388 2306 591  Q 2528 794 2588 1216  z \" transform=\"scale(0.015625)\" />\n      </defs>\n      <use xlink:href=\"#ArialMT-70\" />\n      <use xlink:href=\"#ArialMT-72\" x=\"55.615234\" />\n      <use xlink:href=\"#ArialMT-65\" x=\"88.916016\" />\n      <use xlink:href=\"#ArialMT-76\" x=\"144.53125\" />\n      <use xlink:href=\"#ArialMT-69\" x=\"194.53125\" />\n      <use xlink:href=\"#ArialMT-6f\" x=\"216.748047\" />\n      <use xlink:href=\"#ArialMT-75\" x=\"272.363281\" />\n      <use xlink:href=\"#ArialMT-73\" x=\"327.978516\" />\n      <use xlink:href=\"#ArialMT-5f\" x=\"377.978516\" />\n      <use xlink:href=\"#ArialMT-72\" x=\"433.59375\" />\n      <use xlink:href=\"#ArialMT-65\" x=\"466.894531\" />\n      <use xlink:href=\"#ArialMT-71\" x=\"522.509766\" />\n      <use xlink:href=\"#ArialMT-75\" x=\"578.125\" />\n      <use xlink:href=\"#ArialMT-65\" x=\"633.740234\" />\n      <use xlink:href=\"#ArialMT-73\" x=\"689.355469\" />\n      <use xlink:href=\"#ArialMT-74\" x=\"739.355469\" />\n      <use xlink:href=\"#ArialMT-5f\" x=\"767.138672\" />\n      <use xlink:href=\"#ArialMT-73\" x=\"822.753906\" />\n      <use xlink:href=\"#ArialMT-75\" x=\"872.753906\" />\n      <use xlink:href=\"#ArialMT-63\" x=\"928.369141\" />\n      <use xlink:href=\"#ArialMT-63\" x=\"978.369141\" />\n      <use xlink:href=\"#ArialMT-65\" x=\"1028.369141\" />\n      <use xlink:href=\"#ArialMT-73\" x=\"1083.984375\" />\n      <use xlink:href=\"#ArialMT-73\" x=\"1133.984375\" />\n     </g>\n    </g>\n   </g>\n   <g id=\"matplotlib.axis_2\">\n    <g id=\"ytick_1\">\n     <g id=\"text_4\">\n      \n      <g style=\"fill: #444443\" transform=\"translate(17.795 84.403125)scale(0.08 -0.08)\">\n       <defs>\n        <path id=\"ArialMT-30\" d=\"M 266 2259  Q 266 3072 433 3567  Q 600 4063 929 4331  Q 1259 4600 1759 4600  Q 2128 4600 2406 4451  Q 2684 4303 2865 4023  Q 3047 3744 3150 3342  Q 3253 2941 3253 2259  Q 3253 1453 3087 958  Q 2922 463 2592 192  Q 2263 -78 1759 -78  Q 1097 -78 719 397  Q 266 969 266 2259  z M 844 2259  Q 844 1131 1108 757  Q 1372 384 1759 384  Q 2147 384 2411 759  Q 2675 1134 2675 2259  Q 2675 3391 2411 3762  Q 2147 4134 1753 4134  Q 1366 4134 1134 3806  Q 844 3388 844 2259  z \" transform=\"scale(0.015625)\" />\n       </defs>\n       <use xlink:href=\"#ArialMT-30\" />\n      </g>\n     </g>\n    </g>\n    <g id=\"ytick_2\">\n     <g id=\"text_5\">\n      \n      <g style=\"fill: #444443\" transform=\"translate(0 6.745982)scale(0.08 -0.08)\">\n       <defs>\n        <path id=\"ArialMT-35\" d=\"M 266 1200  L 856 1250  Q 922 819 1161 601  Q 1400 384 1738 384  Q 2144 384 2425 690  Q 2706 997 2706 1503  Q 2706 1984 2436 2262  Q 2166 2541 1728 2541  Q 1456 2541 1237 2417  Q 1019 2294 894 2097  L 366 2166  L 809 4519  L 3088 4519  L 3088 3981  L 1259 3981  L 1013 2750  Q 1425 3038 1878 3038  Q 2478 3038 2890 2622  Q 3303 2206 3303 1553  Q 3303 931 2941 478  Q 2500 -78 1738 -78  Q 1113 -78 717 272  Q 322 622 266 1200  z \" transform=\"scale(0.015625)\" />\n       </defs>\n       <use xlink:href=\"#ArialMT-31\" />\n       <use xlink:href=\"#ArialMT-35\" x=\"55.615234\" />\n       <use xlink:href=\"#ArialMT-31\" x=\"111.230469\" />\n       <use xlink:href=\"#ArialMT-30\" x=\"166.845703\" />\n       <use xlink:href=\"#ArialMT-31\" x=\"222.460938\" />\n      </g>\n     </g>\n    </g>\n   </g>\n   <g id=\"patch_3\">\n    <path d=\"M 31.74375 81.54  L 41.198949 81.54  L 41.198949 77.487697  L 31.74375 77.487697  z \" clip-path=\"url(#p1ed5077e47)\" style=\"fill: #fefebb; stroke: #444443; stroke-width: 0.5; stroke-linejoin: miter\" />\n   </g>\n   <g id=\"patch_4\">\n    <path d=\"M 41.198949 81.54  L 50.654148 81.54  L 50.654148 81.54  L 41.198949 81.54  z \" clip-path=\"url(#p1ed5077e47)\" style=\"fill: #fefebb; stroke: #444443; stroke-width: 0.5; stroke-linejoin: miter\" />\n   </g>\n   <g id=\"patch_5\">\n    <path d=\"M 50.654148 81.54  L 60.109347 81.54  L 60.109347 81.54  L 50.654148 81.54  z \" clip-path=\"url(#p1ed5077e47)\" style=\"fill: #fefebb; stroke: #444443; stroke-width: 0.5; stroke-linejoin: miter\" />\n   </g>\n   <g id=\"patch_6\">\n    <path d=\"M 60.109347 81.54  L 69.564546 81.54  L 69.564546 81.54  L 60.109347 81.54  z \" clip-path=\"url(#p1ed5077e47)\" style=\"fill: #fefebb; stroke: #444443; stroke-width: 0.5; stroke-linejoin: miter\" />\n   </g>\n   <g id=\"patch_7\">\n    <path d=\"M 69.564546 81.54  L 79.019745 81.54  L 79.019745 81.54  L 69.564546 81.54  z \" clip-path=\"url(#p1ed5077e47)\" style=\"fill: #fefebb; stroke: #444443; stroke-width: 0.5; stroke-linejoin: miter\" />\n   </g>\n   <g id=\"patch_8\">\n    <path d=\"M 79.019745 81.54  L 88.474944 81.54  L 88.474944 81.54  L 79.019745 81.54  z \" clip-path=\"url(#p1ed5077e47)\" style=\"fill: #fefebb; stroke: #444443; stroke-width: 0.5; stroke-linejoin: miter\" />\n   </g>\n   <g id=\"patch_9\">\n    <path d=\"M 88.474944 81.54  L 97.930143 81.54  L 97.930143 81.54  L 88.474944 81.54  z \" clip-path=\"url(#p1ed5077e47)\" style=\"fill: #fefebb; stroke: #444443; stroke-width: 0.5; stroke-linejoin: miter\" />\n   </g>\n   <g id=\"patch_10\">\n    <path d=\"M 97.930143 81.54  L 107.385342 81.54  L 107.385342 81.54  L 97.930143 81.54  z \" clip-path=\"url(#p1ed5077e47)\" style=\"fill: #fefebb; stroke: #444443; stroke-width: 0.5; stroke-linejoin: miter\" />\n   </g>\n   <g id=\"patch_11\">\n    <path d=\"M 107.385342 81.54  L 116.840541 81.54  L 116.840541 81.54  L 107.385342 81.54  z \" clip-path=\"url(#p1ed5077e47)\" style=\"fill: #fefebb; stroke: #444443; stroke-width: 0.5; stroke-linejoin: miter\" />\n   </g>\n   <g id=\"patch_12\">\n    <path d=\"M 116.840541 81.54  L 126.29574 81.54  L 126.29574 75.055287  L 116.840541 75.055287  z \" clip-path=\"url(#p1ed5077e47)\" style=\"fill: #fefebb; stroke: #444443; stroke-width: 0.5; stroke-linejoin: miter\" />\n   </g>\n   <g id=\"patch_13\">\n    <path d=\"M 126.29574 81.54  L 135.750939 81.54  L 135.750939 81.54  L 126.29574 81.54  z \" clip-path=\"url(#p1ed5077e47)\" style=\"fill: #fefebb; stroke: #444443; stroke-width: 0.5; stroke-linejoin: miter\" />\n   </g>\n   <g id=\"patch_14\">\n    <path d=\"M 135.750939 81.54  L 145.206138 81.54  L 145.206138 81.54  L 135.750939 81.54  z \" clip-path=\"url(#p1ed5077e47)\" style=\"fill: #fefebb; stroke: #444443; stroke-width: 0.5; stroke-linejoin: miter\" />\n   </g>\n   <g id=\"patch_15\">\n    <path d=\"M 145.206138 81.54  L 154.661337 81.54  L 154.661337 81.54  L 145.206138 81.54  z \" clip-path=\"url(#p1ed5077e47)\" style=\"fill: #fefebb; stroke: #444443; stroke-width: 0.5; stroke-linejoin: miter\" />\n   </g>\n   <g id=\"patch_16\">\n    <path d=\"M 154.661337 81.54  L 164.116536 81.54  L 164.116536 81.54  L 154.661337 81.54  z \" clip-path=\"url(#p1ed5077e47)\" style=\"fill: #fefebb; stroke: #444443; stroke-width: 0.5; stroke-linejoin: miter\" />\n   </g>\n   <g id=\"patch_17\">\n    <path d=\"M 164.116536 81.54  L 173.571735 81.54  L 173.571735 81.54  L 164.116536 81.54  z \" clip-path=\"url(#p1ed5077e47)\" style=\"fill: #fefebb; stroke: #444443; stroke-width: 0.5; stroke-linejoin: miter\" />\n   </g>\n   <g id=\"patch_18\">\n    <path d=\"M 173.571735 81.54  L 183.026934 81.54  L 183.026934 81.54  L 173.571735 81.54  z \" clip-path=\"url(#p1ed5077e47)\" style=\"fill: #fefebb; stroke: #444443; stroke-width: 0.5; stroke-linejoin: miter\" />\n   </g>\n   <g id=\"patch_19\">\n    <path d=\"M 183.026934 81.54  L 192.482133 81.54  L 192.482133 81.54  L 183.026934 81.54  z \" clip-path=\"url(#p1ed5077e47)\" style=\"fill: #fefebb; stroke: #444443; stroke-width: 0.5; stroke-linejoin: miter\" />\n   </g>\n   <g id=\"patch_20\">\n    <path d=\"M 192.482133 81.54  L 201.937332 81.54  L 201.937332 81.54  L 192.482133 81.54  z \" clip-path=\"url(#p1ed5077e47)\" style=\"fill: #fefebb; stroke: #444443; stroke-width: 0.5; stroke-linejoin: miter\" />\n   </g>\n   <g id=\"patch_21\">\n    <path d=\"M 201.937332 81.54  L 211.39253 81.54  L 211.39253 72.746297  L 201.937332 72.746297  z \" clip-path=\"url(#p1ed5077e47)\" style=\"fill: #fefebb; stroke: #444443; stroke-width: 0.5; stroke-linejoin: miter\" />\n   </g>\n   <g id=\"patch_22\">\n    <path d=\"M 31.74375 77.487697  L 41.198949 77.487697  L 41.198949 68.179742  L 31.74375 68.179742  z \" clip-path=\"url(#p1ed5077e47)\" style=\"fill: #a1dab4; stroke: #444443; stroke-width: 0.5; stroke-linejoin: miter\" />\n   </g>\n   <g id=\"patch_23\">\n    <path d=\"M 41.198949 81.54  L 50.654148 81.54  L 50.654148 81.54  L 41.198949 81.54  z \" clip-path=\"url(#p1ed5077e47)\" style=\"fill: #a1dab4; stroke: #444443; stroke-width: 0.5; stroke-linejoin: miter\" />\n   </g>\n   <g id=\"patch_24\">\n    <path d=\"M 50.654148 81.54  L 60.109347 81.54  L 60.109347 81.54  L 50.654148 81.54  z \" clip-path=\"url(#p1ed5077e47)\" style=\"fill: #a1dab4; stroke: #444443; stroke-width: 0.5; stroke-linejoin: miter\" />\n   </g>\n   <g id=\"patch_25\">\n    <path d=\"M 60.109347 81.54  L 69.564546 81.54  L 69.564546 81.54  L 60.109347 81.54  z \" clip-path=\"url(#p1ed5077e47)\" style=\"fill: #a1dab4; stroke: #444443; stroke-width: 0.5; stroke-linejoin: miter\" />\n   </g>\n   <g id=\"patch_26\">\n    <path d=\"M 69.564546 81.54  L 79.019745 81.54  L 79.019745 81.54  L 69.564546 81.54  z \" clip-path=\"url(#p1ed5077e47)\" style=\"fill: #a1dab4; stroke: #444443; stroke-width: 0.5; stroke-linejoin: miter\" />\n   </g>\n   <g id=\"patch_27\">\n    <path d=\"M 79.019745 81.54  L 88.474944 81.54  L 88.474944 81.54  L 79.019745 81.54  z \" clip-path=\"url(#p1ed5077e47)\" style=\"fill: #a1dab4; stroke: #444443; stroke-width: 0.5; stroke-linejoin: miter\" />\n   </g>\n   <g id=\"patch_28\">\n    <path d=\"M 88.474944 81.54  L 97.930143 81.54  L 97.930143 81.54  L 88.474944 81.54  z \" clip-path=\"url(#p1ed5077e47)\" style=\"fill: #a1dab4; stroke: #444443; stroke-width: 0.5; stroke-linejoin: miter\" />\n   </g>\n   <g id=\"patch_29\">\n    <path d=\"M 97.930143 81.54  L 107.385342 81.54  L 107.385342 81.54  L 97.930143 81.54  z \" clip-path=\"url(#p1ed5077e47)\" style=\"fill: #a1dab4; stroke: #444443; stroke-width: 0.5; stroke-linejoin: miter\" />\n   </g>\n   <g id=\"patch_30\">\n    <path d=\"M 107.385342 81.54  L 116.840541 81.54  L 116.840541 81.54  L 107.385342 81.54  z \" clip-path=\"url(#p1ed5077e47)\" style=\"fill: #a1dab4; stroke: #444443; stroke-width: 0.5; stroke-linejoin: miter\" />\n   </g>\n   <g id=\"patch_31\">\n    <path d=\"M 116.840541 75.055287  L 126.29574 75.055287  L 126.29574 56.202821  L 116.840541 56.202821  z \" clip-path=\"url(#p1ed5077e47)\" style=\"fill: #a1dab4; stroke: #444443; stroke-width: 0.5; stroke-linejoin: miter\" />\n   </g>\n   <g id=\"patch_32\">\n    <path d=\"M 126.29574 81.54  L 135.750939 81.54  L 135.750939 81.54  L 126.29574 81.54  z \" clip-path=\"url(#p1ed5077e47)\" style=\"fill: #a1dab4; stroke: #444443; stroke-width: 0.5; stroke-linejoin: miter\" />\n   </g>\n   <g id=\"patch_33\">\n    <path d=\"M 135.750939 81.54  L 145.206138 81.54  L 145.206138 81.54  L 135.750939 81.54  z \" clip-path=\"url(#p1ed5077e47)\" style=\"fill: #a1dab4; stroke: #444443; stroke-width: 0.5; stroke-linejoin: miter\" />\n   </g>\n   <g id=\"patch_34\">\n    <path d=\"M 145.206138 81.54  L 154.661337 81.54  L 154.661337 81.54  L 145.206138 81.54  z \" clip-path=\"url(#p1ed5077e47)\" style=\"fill: #a1dab4; stroke: #444443; stroke-width: 0.5; stroke-linejoin: miter\" />\n   </g>\n   <g id=\"patch_35\">\n    <path d=\"M 154.661337 81.54  L 164.116536 81.54  L 164.116536 81.54  L 154.661337 81.54  z \" clip-path=\"url(#p1ed5077e47)\" style=\"fill: #a1dab4; stroke: #444443; stroke-width: 0.5; stroke-linejoin: miter\" />\n   </g>\n   <g id=\"patch_36\">\n    <path d=\"M 164.116536 81.54  L 173.571735 81.54  L 173.571735 81.54  L 164.116536 81.54  z \" clip-path=\"url(#p1ed5077e47)\" style=\"fill: #a1dab4; stroke: #444443; stroke-width: 0.5; stroke-linejoin: miter\" />\n   </g>\n   <g id=\"patch_37\">\n    <path d=\"M 173.571735 81.54  L 183.026934 81.54  L 183.026934 81.54  L 173.571735 81.54  z \" clip-path=\"url(#p1ed5077e47)\" style=\"fill: #a1dab4; stroke: #444443; stroke-width: 0.5; stroke-linejoin: miter\" />\n   </g>\n   <g id=\"patch_38\">\n    <path d=\"M 183.026934 81.54  L 192.482133 81.54  L 192.482133 81.54  L 183.026934 81.54  z \" clip-path=\"url(#p1ed5077e47)\" style=\"fill: #a1dab4; stroke: #444443; stroke-width: 0.5; stroke-linejoin: miter\" />\n   </g>\n   <g id=\"patch_39\">\n    <path d=\"M 192.482133 81.54  L 201.937332 81.54  L 201.937332 81.54  L 192.482133 81.54  z \" clip-path=\"url(#p1ed5077e47)\" style=\"fill: #a1dab4; stroke: #444443; stroke-width: 0.5; stroke-linejoin: miter\" />\n   </g>\n   <g id=\"patch_40\">\n    <path d=\"M 201.937332 72.746297  L 211.39253 72.746297  L 211.39253 3.882857  L 201.937332 3.882857  z \" clip-path=\"url(#p1ed5077e47)\" style=\"fill: #a1dab4; stroke: #444443; stroke-width: 0.5; stroke-linejoin: miter\" />\n   </g>\n   <g id=\"patch_41\">\n    <path d=\"M 166.480335 82.3554  L 163.165815 89.694  L 169.794855 89.694  z \" style=\"fill: #444443; stroke: #ffffff; stroke-linejoin: miter\" />\n   </g>\n   <g id=\"patch_42\">\n    <path d=\"M 31.74375 81.54  L 31.74375 0  \" style=\"fill: none; stroke: #262626; stroke-width: 0.3; stroke-linejoin: miter; stroke-linecap: square\" />\n   </g>\n   <g id=\"patch_43\">\n    <path d=\"M 31.74375 81.54  L 215.88375 81.54  \" style=\"fill: none; stroke: #262626; stroke-width: 0.3; stroke-linejoin: miter; stroke-linecap: square\" />\n   </g>\n   <g id=\"text_6\">\n    \n    <g style=\"fill: #444443\" transform=\"translate(158.69596 97.848)scale(0.08 -0.08)\">\n     <defs>\n      <path id=\"ArialMT-2e\" d=\"M 581 0  L 581 641  L 1222 641  L 1222 0  L 581 0  z \" transform=\"scale(0.015625)\" />\n     </defs>\n     <use xlink:href=\"#ArialMT-30\" />\n     <use xlink:href=\"#ArialMT-2e\" x=\"55.615234\" />\n     <use xlink:href=\"#ArialMT-35\" x=\"83.398438\" />\n     <use xlink:href=\"#ArialMT-30\" x=\"139.013672\" />\n    </g>\n   </g>\n  </g>\n </g>\n <defs>\n  <clipPath id=\"p1ed5077e47\">\n   <rect x=\"31.74375\" y=\"0\" width=\"184.14\" height=\"81.54\" />\n  </clipPath>\n </defs>\n</svg></g>\n\n\n<g id=\"node12\" class=\"node\">\n<title>leaf10</title>\n<polygon fill=\"none\" stroke=\"#444443\" stroke-width=\"0\" points=\"438,-83 371,-83 371,0 438,0 438,-83\" />\n<svg width=\"59px\" height=\"75px\" viewBox=\"0 0 78.519999 99.515947\" version=\"1.1\" preserveAspectRatio=\"xMinYMin meet\" x=\"375.5\" y=\"-78.5\">\n <metadata>\n  <rdf:RDF>\n   <ns2:Work>\n    <dc:type rdf:resource=\"http://purl.org/dc/dcmitype/StillImage\" />\n    <dc:date>2022-04-20T20:42:04.666821</dc:date>\n    <dc:format>image/svg+xml</dc:format>\n    <dc:creator>\n     <ns2:Agent>\n      <dc:title>Matplotlib v3.5.1, https://matplotlib.org/</dc:title>\n     </ns2:Agent>\n    </dc:creator>\n   </ns2:Work>\n  </rdf:RDF>\n </metadata>\n <defs>\n  <style type=\"text/css\">*{stroke-linejoin: round; stroke-linecap: butt}</style>\n </defs>\n <g id=\"figure_1\">\n  <g id=\"patch_1\">\n   <path d=\"M 0 99.515947  L 78.519999 99.515947  L 78.519999 0  L 0 0  z \" style=\"fill: #ffffff\" />\n  </g>\n  <g id=\"axes_1\">\n   <g id=\"patch_2\">\n    <path d=\"M 78.519999 39.25971  C 78.519999 30.233163 75.406963 21.477045 69.708841 14.476335  C 64.010718 7.475625 56.068933 2.649794 47.230358 0.817272  C 38.391783 -1.01525 29.186013 0.255339 21.174285 4.413554  C 13.162557 8.57177 6.824922 15.368458 3.2362 23.650947  L 39.259999 39.25971  L 78.519999 39.25971  z \" style=\"fill: #fefebb; stroke: #444443; stroke-width: 0.5; stroke-linejoin: miter\" />\n   </g>\n   <g id=\"patch_3\">\n    <path d=\"M 3.2362 23.650947  C 0.917668 29.001935 -0.179741 34.802898 0.023956 40.631034  C 0.227653 46.45917 1.727384 52.169361 4.413843 57.345422  C 7.100301 62.521483 10.906594 67.034531 15.555303 70.555636  C 20.204011 74.07674 25.579383 76.518226 31.289637 77.702146  C 36.99989 78.886067 42.902842 78.782943 48.568258 77.400291  C 54.233674 76.017638 59.520487 73.389886 64.043369 69.708555  C 68.566252 66.027224 72.212586 61.383979 74.71661 56.117241  C 77.220634 50.850503 78.519998 45.091412 78.519999 39.259717  L 39.259999 39.25971  L 3.2362 23.650947  z \" style=\"fill: #a1dab4; stroke: #444443; stroke-width: 0.5; stroke-linejoin: miter\" />\n   </g>\n   <g id=\"text_1\">\n    \n    <g style=\"fill: #444443\" transform=\"translate(24.119608 88.102541)scale(0.09 -0.09)\">\n     <defs>\n      <path id=\"ArialMT-6e\" d=\"M 422 0  L 422 3319  L 928 3319  L 928 2847  Q 1294 3394 1984 3394  Q 2284 3394 2536 3286  Q 2788 3178 2913 3003  Q 3038 2828 3088 2588  Q 3119 2431 3119 2041  L 3119 0  L 2556 0  L 2556 2019  Q 2556 2363 2490 2533  Q 2425 2703 2258 2804  Q 2091 2906 1866 2906  Q 1506 2906 1245 2678  Q 984 2450 984 1813  L 984 0  L 422 0  z \" transform=\"scale(0.015625)\" />\n      <path id=\"ArialMT-3d\" d=\"M 3381 2694  L 356 2694  L 356 3219  L 3381 3219  L 3381 2694  z M 3381 1303  L 356 1303  L 356 1828  L 3381 1828  L 3381 1303  z \" transform=\"scale(0.015625)\" />\n      <path id=\"ArialMT-38\" d=\"M 1131 2484  Q 781 2613 612 2850  Q 444 3088 444 3419  Q 444 3919 803 4259  Q 1163 4600 1759 4600  Q 2359 4600 2725 4251  Q 3091 3903 3091 3403  Q 3091 3084 2923 2848  Q 2756 2613 2416 2484  Q 2838 2347 3058 2040  Q 3278 1734 3278 1309  Q 3278 722 2862 322  Q 2447 -78 1769 -78  Q 1091 -78 675 323  Q 259 725 259 1325  Q 259 1772 486 2073  Q 713 2375 1131 2484  z M 1019 3438  Q 1019 3113 1228 2906  Q 1438 2700 1772 2700  Q 2097 2700 2305 2904  Q 2513 3109 2513 3406  Q 2513 3716 2298 3927  Q 2084 4138 1766 4138  Q 1444 4138 1231 3931  Q 1019 3725 1019 3438  z M 838 1322  Q 838 1081 952 856  Q 1066 631 1291 507  Q 1516 384 1775 384  Q 2178 384 2440 643  Q 2703 903 2703 1303  Q 2703 1709 2433 1975  Q 2163 2241 1756 2241  Q 1359 2241 1098 1978  Q 838 1716 838 1322  z \" transform=\"scale(0.015625)\" />\n      <path id=\"ArialMT-31\" d=\"M 2384 0  L 1822 0  L 1822 3584  Q 1619 3391 1289 3197  Q 959 3003 697 2906  L 697 3450  Q 1169 3672 1522 3987  Q 1875 4303 2022 4600  L 2384 4600  L 2384 0  z \" transform=\"scale(0.015625)\" />\n      <path id=\"ArialMT-33\" d=\"M 269 1209  L 831 1284  Q 928 806 1161 595  Q 1394 384 1728 384  Q 2125 384 2398 659  Q 2672 934 2672 1341  Q 2672 1728 2419 1979  Q 2166 2231 1775 2231  Q 1616 2231 1378 2169  L 1441 2663  Q 1497 2656 1531 2656  Q 1891 2656 2178 2843  Q 2466 3031 2466 3422  Q 2466 3731 2256 3934  Q 2047 4138 1716 4138  Q 1388 4138 1169 3931  Q 950 3725 888 3313  L 325 3413  Q 428 3978 793 4289  Q 1159 4600 1703 4600  Q 2078 4600 2393 4439  Q 2709 4278 2876 4000  Q 3044 3722 3044 3409  Q 3044 3113 2884 2869  Q 2725 2625 2413 2481  Q 2819 2388 3044 2092  Q 3269 1797 3269 1353  Q 3269 753 2831 336  Q 2394 -81 1725 -81  Q 1122 -81 723 278  Q 325 638 269 1209  z \" transform=\"scale(0.015625)\" />\n     </defs>\n     <use xlink:href=\"#ArialMT-6e\" />\n     <use xlink:href=\"#ArialMT-3d\" x=\"55.615234\" />\n     <use xlink:href=\"#ArialMT-38\" x=\"114.013672\" />\n     <use xlink:href=\"#ArialMT-31\" x=\"169.628906\" />\n     <use xlink:href=\"#ArialMT-38\" x=\"225.244141\" />\n     <use xlink:href=\"#ArialMT-33\" x=\"280.859375\" />\n    </g>\n    \n    <g style=\"fill: #444443\" transform=\"translate(32.257577 97.621728)scale(0.09 -0.09)\">\n     <defs>\n      <path id=\"ArialMT-79\" d=\"M 397 -1278  L 334 -750  Q 519 -800 656 -800  Q 844 -800 956 -737  Q 1069 -675 1141 -563  Q 1194 -478 1313 -144  Q 1328 -97 1363 -6  L 103 3319  L 709 3319  L 1400 1397  Q 1534 1031 1641 628  Q 1738 1016 1872 1384  L 2581 3319  L 3144 3319  L 1881 -56  Q 1678 -603 1566 -809  Q 1416 -1088 1222 -1217  Q 1028 -1347 759 -1347  Q 597 -1347 397 -1278  z \" transform=\"scale(0.015625)\" />\n      <path id=\"ArialMT-65\" d=\"M 2694 1069  L 3275 997  Q 3138 488 2766 206  Q 2394 -75 1816 -75  Q 1088 -75 661 373  Q 234 822 234 1631  Q 234 2469 665 2931  Q 1097 3394 1784 3394  Q 2450 3394 2872 2941  Q 3294 2488 3294 1666  Q 3294 1616 3291 1516  L 816 1516  Q 847 969 1125 678  Q 1403 388 1819 388  Q 2128 388 2347 550  Q 2566 713 2694 1069  z M 847 1978  L 2700 1978  Q 2663 2397 2488 2606  Q 2219 2931 1791 2931  Q 1403 2931 1139 2672  Q 875 2413 847 1978  z \" transform=\"scale(0.015625)\" />\n      <path id=\"ArialMT-73\" d=\"M 197 991  L 753 1078  Q 800 744 1014 566  Q 1228 388 1613 388  Q 2000 388 2187 545  Q 2375 703 2375 916  Q 2375 1106 2209 1216  Q 2094 1291 1634 1406  Q 1016 1563 777 1677  Q 538 1791 414 1992  Q 291 2194 291 2438  Q 291 2659 392 2848  Q 494 3038 669 3163  Q 800 3259 1026 3326  Q 1253 3394 1513 3394  Q 1903 3394 2198 3281  Q 2494 3169 2634 2976  Q 2775 2784 2828 2463  L 2278 2388  Q 2241 2644 2061 2787  Q 1881 2931 1553 2931  Q 1166 2931 1000 2803  Q 834 2675 834 2503  Q 834 2394 903 2306  Q 972 2216 1119 2156  Q 1203 2125 1616 2013  Q 2213 1853 2448 1751  Q 2684 1650 2818 1456  Q 2953 1263 2953 975  Q 2953 694 2789 445  Q 2625 197 2315 61  Q 2006 -75 1616 -75  Q 969 -75 630 194  Q 291 463 197 991  z \" transform=\"scale(0.015625)\" />\n     </defs>\n     <use xlink:href=\"#ArialMT-79\" />\n     <use xlink:href=\"#ArialMT-65\" x=\"50\" />\n     <use xlink:href=\"#ArialMT-73\" x=\"105.615234\" />\n    </g>\n   </g>\n  </g>\n </g>\n</svg></g>\n\n<g id=\"edge10\" class=\"edge\">\n<title>node9-&gt;leaf10</title>\n<path fill=\"none\" stroke=\"#444443\" stroke-width=\"0.3\" d=\"M433.89,-108C430.85,-101.22 427.65,-94.09 424.52,-87.12\" />\n<polygon fill=\"#444443\" stroke=\"#444443\" stroke-width=\"0.3\" points=\"425.71,-86.34 422.8,-83.27 423.16,-87.49 425.71,-86.34\" />\n</g>\n\n<g id=\"node13\" class=\"node\">\n<title>leaf11</title>\n<polygon fill=\"none\" stroke=\"#444443\" stroke-width=\"0\" points=\"519,-83 452,-83 452,0 519,0 519,-83\" />\n<svg width=\"59px\" height=\"75px\" viewBox=\"0 0 78.519934 99.516202\" version=\"1.1\" preserveAspectRatio=\"xMinYMin meet\" x=\"456.5\" y=\"-78.5\">\n <metadata>\n  <rdf:RDF>\n   <ns2:Work>\n    <dc:type rdf:resource=\"http://purl.org/dc/dcmitype/StillImage\" />\n    <dc:date>2022-04-20T20:42:04.679182</dc:date>\n    <dc:format>image/svg+xml</dc:format>\n    <dc:creator>\n     <ns2:Agent>\n      <dc:title>Matplotlib v3.5.1, https://matplotlib.org/</dc:title>\n     </ns2:Agent>\n    </dc:creator>\n   </ns2:Work>\n  </rdf:RDF>\n </metadata>\n <defs>\n  <style type=\"text/css\">*{stroke-linejoin: round; stroke-linecap: butt}</style>\n </defs>\n <g id=\"figure_1\">\n  <g id=\"patch_1\">\n   <path d=\"M 0 99.516202  L 78.519934 99.516202  L 78.519934 0  L 0 0  z \" style=\"fill: #ffffff\" />\n  </g>\n  <g id=\"axes_1\">\n   <g id=\"patch_2\">\n    <path d=\"M 78.519934 39.259965  C 78.519934 33.031549 77.037771 26.891625 74.196301 21.349134  C 71.354832 15.806643 67.234797 11.019076 62.17771 7.383278  C 57.120622 3.74748 51.270181 1.366763 45.111332 0.438466  C 38.952482 -0.489831 32.660231 0.060671 26.756146 2.044338  L 39.259934 39.259965  L 78.519934 39.259965  z \" style=\"fill: #fefebb; stroke: #444443; stroke-width: 0.5; stroke-linejoin: miter\" />\n   </g>\n   <g id=\"patch_3\">\n    <path d=\"M 26.756146 2.044338  C 19.909128 4.344814 13.827976 8.490874 9.185027 14.024126  C 4.542079 19.557378 1.514989 26.266099 0.438436 33.408569  C -0.638118 40.55104 0.277058 47.853962 3.08278 54.509919  C 5.888502 61.165877 10.477414 66.920189 16.342162 71.136654  C 22.20691 75.353119 29.123087 77.870401 36.326037 78.410186  C 43.528986 78.949972 50.743096 77.491607 57.17077 74.196329  C 63.598445 70.901052 68.993736 65.894951 72.760138 59.731505  C 76.52654 53.568059 78.519936 46.483104 78.519934 39.259958  L 39.259934 39.259965  L 26.756146 2.044338  z \" style=\"fill: #a1dab4; stroke: #444443; stroke-width: 0.5; stroke-linejoin: miter\" />\n   </g>\n   <g id=\"text_1\">\n    \n    <g style=\"fill: #444443\" transform=\"translate(21.617122 88.102796)scale(0.09 -0.09)\">\n     <defs>\n      <path id=\"ArialMT-6e\" d=\"M 422 0  L 422 3319  L 928 3319  L 928 2847  Q 1294 3394 1984 3394  Q 2284 3394 2536 3286  Q 2788 3178 2913 3003  Q 3038 2828 3088 2588  Q 3119 2431 3119 2041  L 3119 0  L 2556 0  L 2556 2019  Q 2556 2363 2490 2533  Q 2425 2703 2258 2804  Q 2091 2906 1866 2906  Q 1506 2906 1245 2678  Q 984 2450 984 1813  L 984 0  L 422 0  z \" transform=\"scale(0.015625)\" />\n      <path id=\"ArialMT-3d\" d=\"M 3381 2694  L 356 2694  L 356 3219  L 3381 3219  L 3381 2694  z M 3381 1303  L 356 1303  L 356 1828  L 3381 1828  L 3381 1303  z \" transform=\"scale(0.015625)\" />\n      <path id=\"ArialMT-31\" d=\"M 2384 0  L 1822 0  L 1822 3584  Q 1619 3391 1289 3197  Q 959 3003 697 2906  L 697 3450  Q 1169 3672 1522 3987  Q 1875 4303 2022 4600  L 2384 4600  L 2384 0  z \" transform=\"scale(0.015625)\" />\n      <path id=\"ArialMT-30\" d=\"M 266 2259  Q 266 3072 433 3567  Q 600 4063 929 4331  Q 1259 4600 1759 4600  Q 2128 4600 2406 4451  Q 2684 4303 2865 4023  Q 3047 3744 3150 3342  Q 3253 2941 3253 2259  Q 3253 1453 3087 958  Q 2922 463 2592 192  Q 2263 -78 1759 -78  Q 1097 -78 719 397  Q 266 969 266 2259  z M 844 2259  Q 844 1131 1108 757  Q 1372 384 1759 384  Q 2147 384 2411 759  Q 2675 1134 2675 2259  Q 2675 3391 2411 3762  Q 2147 4134 1753 4134  Q 1366 4134 1134 3806  Q 844 3388 844 2259  z \" transform=\"scale(0.015625)\" />\n      <path id=\"ArialMT-33\" d=\"M 269 1209  L 831 1284  Q 928 806 1161 595  Q 1394 384 1728 384  Q 2125 384 2398 659  Q 2672 934 2672 1341  Q 2672 1728 2419 1979  Q 2166 2231 1775 2231  Q 1616 2231 1378 2169  L 1441 2663  Q 1497 2656 1531 2656  Q 1891 2656 2178 2843  Q 2466 3031 2466 3422  Q 2466 3731 2256 3934  Q 2047 4138 1716 4138  Q 1388 4138 1169 3931  Q 950 3725 888 3313  L 325 3413  Q 428 3978 793 4289  Q 1159 4600 1703 4600  Q 2078 4600 2393 4439  Q 2709 4278 2876 4000  Q 3044 3722 3044 3409  Q 3044 3113 2884 2869  Q 2725 2625 2413 2481  Q 2819 2388 3044 2092  Q 3269 1797 3269 1353  Q 3269 753 2831 336  Q 2394 -81 1725 -81  Q 1122 -81 723 278  Q 325 638 269 1209  z \" transform=\"scale(0.015625)\" />\n      <path id=\"ArialMT-39\" d=\"M 350 1059  L 891 1109  Q 959 728 1153 556  Q 1347 384 1650 384  Q 1909 384 2104 503  Q 2300 622 2425 820  Q 2550 1019 2634 1356  Q 2719 1694 2719 2044  Q 2719 2081 2716 2156  Q 2547 1888 2255 1720  Q 1963 1553 1622 1553  Q 1053 1553 659 1965  Q 266 2378 266 3053  Q 266 3750 677 4175  Q 1088 4600 1706 4600  Q 2153 4600 2523 4359  Q 2894 4119 3086 3673  Q 3278 3228 3278 2384  Q 3278 1506 3087 986  Q 2897 466 2520 194  Q 2144 -78 1638 -78  Q 1100 -78 759 220  Q 419 519 350 1059  z M 2653 3081  Q 2653 3566 2395 3850  Q 2138 4134 1775 4134  Q 1400 4134 1122 3828  Q 844 3522 844 3034  Q 844 2597 1108 2323  Q 1372 2050 1759 2050  Q 2150 2050 2401 2323  Q 2653 2597 2653 3081  z \" transform=\"scale(0.015625)\" />\n      <path id=\"ArialMT-35\" d=\"M 266 1200  L 856 1250  Q 922 819 1161 601  Q 1400 384 1738 384  Q 2144 384 2425 690  Q 2706 997 2706 1503  Q 2706 1984 2436 2262  Q 2166 2541 1728 2541  Q 1456 2541 1237 2417  Q 1019 2294 894 2097  L 366 2166  L 809 4519  L 3088 4519  L 3088 3981  L 1259 3981  L 1013 2750  Q 1425 3038 1878 3038  Q 2478 3038 2890 2622  Q 3303 2206 3303 1553  Q 3303 931 2941 478  Q 2500 -78 1738 -78  Q 1113 -78 717 272  Q 322 622 266 1200  z \" transform=\"scale(0.015625)\" />\n     </defs>\n     <use xlink:href=\"#ArialMT-6e\" />\n     <use xlink:href=\"#ArialMT-3d\" x=\"55.615234\" />\n     <use xlink:href=\"#ArialMT-31\" x=\"114.013672\" />\n     <use xlink:href=\"#ArialMT-30\" x=\"169.628906\" />\n     <use xlink:href=\"#ArialMT-33\" x=\"225.244141\" />\n     <use xlink:href=\"#ArialMT-39\" x=\"280.859375\" />\n     <use xlink:href=\"#ArialMT-35\" x=\"336.474609\" />\n    </g>\n    \n    <g style=\"fill: #444443\" transform=\"translate(32.257513 97.621984)scale(0.09 -0.09)\">\n     <defs>\n      <path id=\"ArialMT-79\" d=\"M 397 -1278  L 334 -750  Q 519 -800 656 -800  Q 844 -800 956 -737  Q 1069 -675 1141 -563  Q 1194 -478 1313 -144  Q 1328 -97 1363 -6  L 103 3319  L 709 3319  L 1400 1397  Q 1534 1031 1641 628  Q 1738 1016 1872 1384  L 2581 3319  L 3144 3319  L 1881 -56  Q 1678 -603 1566 -809  Q 1416 -1088 1222 -1217  Q 1028 -1347 759 -1347  Q 597 -1347 397 -1278  z \" transform=\"scale(0.015625)\" />\n      <path id=\"ArialMT-65\" d=\"M 2694 1069  L 3275 997  Q 3138 488 2766 206  Q 2394 -75 1816 -75  Q 1088 -75 661 373  Q 234 822 234 1631  Q 234 2469 665 2931  Q 1097 3394 1784 3394  Q 2450 3394 2872 2941  Q 3294 2488 3294 1666  Q 3294 1616 3291 1516  L 816 1516  Q 847 969 1125 678  Q 1403 388 1819 388  Q 2128 388 2347 550  Q 2566 713 2694 1069  z M 847 1978  L 2700 1978  Q 2663 2397 2488 2606  Q 2219 2931 1791 2931  Q 1403 2931 1139 2672  Q 875 2413 847 1978  z \" transform=\"scale(0.015625)\" />\n      <path id=\"ArialMT-73\" d=\"M 197 991  L 753 1078  Q 800 744 1014 566  Q 1228 388 1613 388  Q 2000 388 2187 545  Q 2375 703 2375 916  Q 2375 1106 2209 1216  Q 2094 1291 1634 1406  Q 1016 1563 777 1677  Q 538 1791 414 1992  Q 291 2194 291 2438  Q 291 2659 392 2848  Q 494 3038 669 3163  Q 800 3259 1026 3326  Q 1253 3394 1513 3394  Q 1903 3394 2198 3281  Q 2494 3169 2634 2976  Q 2775 2784 2828 2463  L 2278 2388  Q 2241 2644 2061 2787  Q 1881 2931 1553 2931  Q 1166 2931 1000 2803  Q 834 2675 834 2503  Q 834 2394 903 2306  Q 972 2216 1119 2156  Q 1203 2125 1616 2013  Q 2213 1853 2448 1751  Q 2684 1650 2818 1456  Q 2953 1263 2953 975  Q 2953 694 2789 445  Q 2625 197 2315 61  Q 2006 -75 1616 -75  Q 969 -75 630 194  Q 291 463 197 991  z \" transform=\"scale(0.015625)\" />\n     </defs>\n     <use xlink:href=\"#ArialMT-79\" />\n     <use xlink:href=\"#ArialMT-65\" x=\"50\" />\n     <use xlink:href=\"#ArialMT-73\" x=\"105.615234\" />\n    </g>\n   </g>\n  </g>\n </g>\n</svg></g>\n\n<g id=\"edge11\" class=\"edge\">\n<title>node9-&gt;leaf11</title>\n<path fill=\"none\" stroke=\"#444443\" stroke-width=\"0.3\" d=\"M463.14,-108C465.45,-101.22 467.88,-94.09 470.26,-87.12\" />\n<polygon fill=\"#444443\" stroke=\"#444443\" stroke-width=\"0.3\" points=\"471.61,-87.51 471.58,-83.27 468.96,-86.6 471.61,-87.51\" />\n</g>\n\n<g id=\"node14\" class=\"node\">\n<title>leaf13</title>\n<polygon fill=\"none\" stroke=\"#444443\" stroke-width=\"0\" points=\"627,-83 560,-83 560,0 627,0 627,-83\" />\n<svg width=\"59px\" height=\"75px\" viewBox=\"0 0 78.519831 99.516217\" version=\"1.1\" preserveAspectRatio=\"xMinYMin meet\" x=\"564.5\" y=\"-78.5\">\n <metadata>\n  <rdf:RDF>\n   <ns2:Work>\n    <dc:type rdf:resource=\"http://purl.org/dc/dcmitype/StillImage\" />\n    <dc:date>2022-04-20T20:42:04.691561</dc:date>\n    <dc:format>image/svg+xml</dc:format>\n    <dc:creator>\n     <ns2:Agent>\n      <dc:title>Matplotlib v3.5.1, https://matplotlib.org/</dc:title>\n     </ns2:Agent>\n    </dc:creator>\n   </ns2:Work>\n  </rdf:RDF>\n </metadata>\n <defs>\n  <style type=\"text/css\">*{stroke-linejoin: round; stroke-linecap: butt}</style>\n </defs>\n <g id=\"figure_1\">\n  <g id=\"patch_1\">\n   <path d=\"M 0 99.516217  L 78.519831 99.516217  L 78.519831 0  L 0 0  z \" style=\"fill: #ffffff\" />\n  </g>\n  <g id=\"axes_1\">\n   <g id=\"patch_2\">\n    <path d=\"M 78.519831 39.25998  C 78.519831 33.64136 77.313684 28.087658 74.983117 22.975188  C 72.65255 17.862718 69.251419 13.30962 65.010181 9.624408  C 60.768942 5.939196 55.785605 3.207028 50.397834 1.613034  C 45.010063 0.01904 39.342361 -0.399946 33.778766 0.384467  L 39.259831 39.25998  L 78.519831 39.25998  z \" style=\"fill: #fefebb; stroke: #444443; stroke-width: 0.5; stroke-linejoin: miter\" />\n   </g>\n   <g id=\"patch_3\">\n    <path d=\"M 33.778766 0.384467  C 26.322432 1.435736 19.323648 4.610329 13.62102 9.52786  C 7.918391 14.445391 3.749159 20.901281 1.612886 28.121975  C -0.523386 35.34267 -0.537825 43.027773 1.5713 50.256443  C 3.680425 57.485114 7.825369 63.956624 13.509479 68.895549  C 19.193589 73.834474 26.180395 77.035343 33.632726 78.114623  C 41.085057 79.193903 48.692882 78.106695 55.544618 74.983268  C 62.396354 71.859842 68.206957 66.830138 72.280189 60.496824  C 76.353422 54.163511 78.51983 46.790066 78.519831 39.259987  L 39.259831 39.25998  L 33.778766 0.384467  z \" style=\"fill: #a1dab4; stroke: #444443; stroke-width: 0.5; stroke-linejoin: miter\" />\n   </g>\n   <g id=\"text_1\">\n    \n    <g style=\"fill: #444443\" transform=\"translate(24.119441 88.102811)scale(0.09 -0.09)\">\n     <defs>\n      <path id=\"ArialMT-6e\" d=\"M 422 0  L 422 3319  L 928 3319  L 928 2847  Q 1294 3394 1984 3394  Q 2284 3394 2536 3286  Q 2788 3178 2913 3003  Q 3038 2828 3088 2588  Q 3119 2431 3119 2041  L 3119 0  L 2556 0  L 2556 2019  Q 2556 2363 2490 2533  Q 2425 2703 2258 2804  Q 2091 2906 1866 2906  Q 1506 2906 1245 2678  Q 984 2450 984 1813  L 984 0  L 422 0  z \" transform=\"scale(0.015625)\" />\n      <path id=\"ArialMT-3d\" d=\"M 3381 2694  L 356 2694  L 356 3219  L 3381 3219  L 3381 2694  z M 3381 1303  L 356 1303  L 356 1828  L 3381 1828  L 3381 1303  z \" transform=\"scale(0.015625)\" />\n      <path id=\"ArialMT-37\" d=\"M 303 3981  L 303 4522  L 3269 4522  L 3269 4084  Q 2831 3619 2401 2847  Q 1972 2075 1738 1259  Q 1569 684 1522 0  L 944 0  Q 953 541 1156 1306  Q 1359 2072 1739 2783  Q 2119 3494 2547 3981  L 303 3981  z \" transform=\"scale(0.015625)\" />\n      <path id=\"ArialMT-35\" d=\"M 266 1200  L 856 1250  Q 922 819 1161 601  Q 1400 384 1738 384  Q 2144 384 2425 690  Q 2706 997 2706 1503  Q 2706 1984 2436 2262  Q 2166 2541 1728 2541  Q 1456 2541 1237 2417  Q 1019 2294 894 2097  L 366 2166  L 809 4519  L 3088 4519  L 3088 3981  L 1259 3981  L 1013 2750  Q 1425 3038 1878 3038  Q 2478 3038 2890 2622  Q 3303 2206 3303 1553  Q 3303 931 2941 478  Q 2500 -78 1738 -78  Q 1113 -78 717 272  Q 322 622 266 1200  z \" transform=\"scale(0.015625)\" />\n      <path id=\"ArialMT-32\" d=\"M 3222 541  L 3222 0  L 194 0  Q 188 203 259 391  Q 375 700 629 1000  Q 884 1300 1366 1694  Q 2113 2306 2375 2664  Q 2638 3022 2638 3341  Q 2638 3675 2398 3904  Q 2159 4134 1775 4134  Q 1369 4134 1125 3890  Q 881 3647 878 3216  L 300 3275  Q 359 3922 746 4261  Q 1134 4600 1788 4600  Q 2447 4600 2831 4234  Q 3216 3869 3216 3328  Q 3216 3053 3103 2787  Q 2991 2522 2730 2228  Q 2469 1934 1863 1422  Q 1356 997 1212 845  Q 1069 694 975 541  L 3222 541  z \" transform=\"scale(0.015625)\" />\n     </defs>\n     <use xlink:href=\"#ArialMT-6e\" />\n     <use xlink:href=\"#ArialMT-3d\" x=\"55.615234\" />\n     <use xlink:href=\"#ArialMT-37\" x=\"114.013672\" />\n     <use xlink:href=\"#ArialMT-35\" x=\"169.628906\" />\n     <use xlink:href=\"#ArialMT-32\" x=\"225.244141\" />\n     <use xlink:href=\"#ArialMT-35\" x=\"280.859375\" />\n    </g>\n    \n    <g style=\"fill: #444443\" transform=\"translate(32.257409 97.621999)scale(0.09 -0.09)\">\n     <defs>\n      <path id=\"ArialMT-79\" d=\"M 397 -1278  L 334 -750  Q 519 -800 656 -800  Q 844 -800 956 -737  Q 1069 -675 1141 -563  Q 1194 -478 1313 -144  Q 1328 -97 1363 -6  L 103 3319  L 709 3319  L 1400 1397  Q 1534 1031 1641 628  Q 1738 1016 1872 1384  L 2581 3319  L 3144 3319  L 1881 -56  Q 1678 -603 1566 -809  Q 1416 -1088 1222 -1217  Q 1028 -1347 759 -1347  Q 597 -1347 397 -1278  z \" transform=\"scale(0.015625)\" />\n      <path id=\"ArialMT-65\" d=\"M 2694 1069  L 3275 997  Q 3138 488 2766 206  Q 2394 -75 1816 -75  Q 1088 -75 661 373  Q 234 822 234 1631  Q 234 2469 665 2931  Q 1097 3394 1784 3394  Q 2450 3394 2872 2941  Q 3294 2488 3294 1666  Q 3294 1616 3291 1516  L 816 1516  Q 847 969 1125 678  Q 1403 388 1819 388  Q 2128 388 2347 550  Q 2566 713 2694 1069  z M 847 1978  L 2700 1978  Q 2663 2397 2488 2606  Q 2219 2931 1791 2931  Q 1403 2931 1139 2672  Q 875 2413 847 1978  z \" transform=\"scale(0.015625)\" />\n      <path id=\"ArialMT-73\" d=\"M 197 991  L 753 1078  Q 800 744 1014 566  Q 1228 388 1613 388  Q 2000 388 2187 545  Q 2375 703 2375 916  Q 2375 1106 2209 1216  Q 2094 1291 1634 1406  Q 1016 1563 777 1677  Q 538 1791 414 1992  Q 291 2194 291 2438  Q 291 2659 392 2848  Q 494 3038 669 3163  Q 800 3259 1026 3326  Q 1253 3394 1513 3394  Q 1903 3394 2198 3281  Q 2494 3169 2634 2976  Q 2775 2784 2828 2463  L 2278 2388  Q 2241 2644 2061 2787  Q 1881 2931 1553 2931  Q 1166 2931 1000 2803  Q 834 2675 834 2503  Q 834 2394 903 2306  Q 972 2216 1119 2156  Q 1203 2125 1616 2013  Q 2213 1853 2448 1751  Q 2684 1650 2818 1456  Q 2953 1263 2953 975  Q 2953 694 2789 445  Q 2625 197 2315 61  Q 2006 -75 1616 -75  Q 969 -75 630 194  Q 291 463 197 991  z \" transform=\"scale(0.015625)\" />\n     </defs>\n     <use xlink:href=\"#ArialMT-79\" />\n     <use xlink:href=\"#ArialMT-65\" x=\"50\" />\n     <use xlink:href=\"#ArialMT-73\" x=\"105.615234\" />\n    </g>\n   </g>\n  </g>\n </g>\n</svg></g>\n\n<g id=\"edge13\" class=\"edge\">\n<title>node12-&gt;leaf13</title>\n<path fill=\"none\" stroke=\"#444443\" stroke-width=\"0.3\" d=\"M616.4,-99.74C614.72,-95.56 613.03,-91.31 611.35,-87.13\" />\n<polygon fill=\"#444443\" stroke=\"#444443\" stroke-width=\"0.3\" points=\"612.61,-86.5 609.82,-83.31 610.01,-87.54 612.61,-86.5\" />\n</g>\n\n<g id=\"node15\" class=\"node\">\n<title>leaf14</title>\n<polygon fill=\"none\" stroke=\"#444443\" stroke-width=\"0\" points=\"708,-83 641,-83 641,0 708,0 708,-83\" />\n<svg width=\"59px\" height=\"75px\" viewBox=\"0 0 78.52 99.516229\" version=\"1.1\" preserveAspectRatio=\"xMinYMin meet\" x=\"645.5\" y=\"-78.5\">\n <metadata>\n  <rdf:RDF>\n   <ns2:Work>\n    <dc:type rdf:resource=\"http://purl.org/dc/dcmitype/StillImage\" />\n    <dc:date>2022-04-20T20:42:04.705316</dc:date>\n    <dc:format>image/svg+xml</dc:format>\n    <dc:creator>\n     <ns2:Agent>\n      <dc:title>Matplotlib v3.5.1, https://matplotlib.org/</dc:title>\n     </ns2:Agent>\n    </dc:creator>\n   </ns2:Work>\n  </rdf:RDF>\n </metadata>\n <defs>\n  <style type=\"text/css\">*{stroke-linejoin: round; stroke-linecap: butt}</style>\n </defs>\n <g id=\"figure_1\">\n  <g id=\"patch_1\">\n   <path d=\"M 0 99.516229  L 78.52 99.516229  L 78.52 0  L 0 0  z \" style=\"fill: #ffffff\" />\n  </g>\n  <g id=\"axes_1\">\n   <g id=\"patch_2\">\n    <path d=\"M 78.52 39.259992  C 78.52 34.592219 77.687546 29.961636 76.061808 25.586128  C 74.43607 21.21062 72.042952 17.159907 68.995061 13.624592  L 39.26 39.259992  L 78.52 39.259992  z \" style=\"fill: #fefebb; stroke: #444443; stroke-width: 0.5; stroke-linejoin: miter\" />\n   </g>\n   <g id=\"patch_3\">\n    <path d=\"M 68.995061 13.624592  C 66.011885 10.164341 62.447476 7.251223 58.462596 5.016629  C 54.477717 2.782034 50.133192 1.260071 45.624971 0.519383  C 41.11675 -0.221305 36.513645 -0.169411 32.023268 0.672723  C 27.532891 1.514857 23.223781 3.134378 19.290292 5.458241  C 15.356803 7.782103 11.858973 10.774837 8.954564 14.301462  C 6.050156 17.828088 3.783499 21.834775 2.256828 26.140811  C 0.730157 30.446848 -0.033226 34.986508 0.001109 39.555041  C 0.035443 44.123575 0.866972 48.651248 2.458191 52.933853  C 4.04941 57.216457 6.376031 61.188623 9.333118 64.671196  C 12.290204 68.153769 15.83262 71.093592 19.800593 73.358072  C 23.768566 75.622551 28.10153 77.177122 32.604057 77.951671  C 37.106584 78.726219 41.709949 78.708921 46.206528 77.900558  C 50.703108 77.092194 55.024267 75.505104 58.975109 73.210869  C 62.925952 70.916633 66.446175 67.950271 69.377006 64.445574  C 72.307837 60.940876 74.604541 56.951337 76.16353 52.656896  C 77.72252 48.362454 78.519999 43.828659 78.52 39.259997  L 39.26 39.259992  L 68.995061 13.624592  z \" style=\"fill: #a1dab4; stroke: #444443; stroke-width: 0.5; stroke-linejoin: miter\" />\n   </g>\n   <g id=\"text_1\">\n    \n    <g style=\"fill: #444443\" transform=\"translate(21.617187 88.102823)scale(0.09 -0.09)\">\n     <defs>\n      <path id=\"ArialMT-6e\" d=\"M 422 0  L 422 3319  L 928 3319  L 928 2847  Q 1294 3394 1984 3394  Q 2284 3394 2536 3286  Q 2788 3178 2913 3003  Q 3038 2828 3088 2588  Q 3119 2431 3119 2041  L 3119 0  L 2556 0  L 2556 2019  Q 2556 2363 2490 2533  Q 2425 2703 2258 2804  Q 2091 2906 1866 2906  Q 1506 2906 1245 2678  Q 984 2450 984 1813  L 984 0  L 422 0  z \" transform=\"scale(0.015625)\" />\n      <path id=\"ArialMT-3d\" d=\"M 3381 2694  L 356 2694  L 356 3219  L 3381 3219  L 3381 2694  z M 3381 1303  L 356 1303  L 356 1828  L 3381 1828  L 3381 1303  z \" transform=\"scale(0.015625)\" />\n      <path id=\"ArialMT-31\" d=\"M 2384 0  L 1822 0  L 1822 3584  Q 1619 3391 1289 3197  Q 959 3003 697 2906  L 697 3450  Q 1169 3672 1522 3987  Q 1875 4303 2022 4600  L 2384 4600  L 2384 0  z \" transform=\"scale(0.015625)\" />\n      <path id=\"ArialMT-35\" d=\"M 266 1200  L 856 1250  Q 922 819 1161 601  Q 1400 384 1738 384  Q 2144 384 2425 690  Q 2706 997 2706 1503  Q 2706 1984 2436 2262  Q 2166 2541 1728 2541  Q 1456 2541 1237 2417  Q 1019 2294 894 2097  L 366 2166  L 809 4519  L 3088 4519  L 3088 3981  L 1259 3981  L 1013 2750  Q 1425 3038 1878 3038  Q 2478 3038 2890 2622  Q 3303 2206 3303 1553  Q 3303 931 2941 478  Q 2500 -78 1738 -78  Q 1113 -78 717 272  Q 322 622 266 1200  z \" transform=\"scale(0.015625)\" />\n      <path id=\"ArialMT-30\" d=\"M 266 2259  Q 266 3072 433 3567  Q 600 4063 929 4331  Q 1259 4600 1759 4600  Q 2128 4600 2406 4451  Q 2684 4303 2865 4023  Q 3047 3744 3150 3342  Q 3253 2941 3253 2259  Q 3253 1453 3087 958  Q 2922 463 2592 192  Q 2263 -78 1759 -78  Q 1097 -78 719 397  Q 266 969 266 2259  z M 844 2259  Q 844 1131 1108 757  Q 1372 384 1759 384  Q 2147 384 2411 759  Q 2675 1134 2675 2259  Q 2675 3391 2411 3762  Q 2147 4134 1753 4134  Q 1366 4134 1134 3806  Q 844 3388 844 2259  z \" transform=\"scale(0.015625)\" />\n     </defs>\n     <use xlink:href=\"#ArialMT-6e\" />\n     <use xlink:href=\"#ArialMT-3d\" x=\"55.615234\" />\n     <use xlink:href=\"#ArialMT-31\" x=\"114.013672\" />\n     <use xlink:href=\"#ArialMT-35\" x=\"169.628906\" />\n     <use xlink:href=\"#ArialMT-31\" x=\"225.244141\" />\n     <use xlink:href=\"#ArialMT-30\" x=\"280.859375\" />\n     <use xlink:href=\"#ArialMT-31\" x=\"336.474609\" />\n    </g>\n    \n    <g style=\"fill: #444443\" transform=\"translate(32.257578 97.62201)scale(0.09 -0.09)\">\n     <defs>\n      <path id=\"ArialMT-79\" d=\"M 397 -1278  L 334 -750  Q 519 -800 656 -800  Q 844 -800 956 -737  Q 1069 -675 1141 -563  Q 1194 -478 1313 -144  Q 1328 -97 1363 -6  L 103 3319  L 709 3319  L 1400 1397  Q 1534 1031 1641 628  Q 1738 1016 1872 1384  L 2581 3319  L 3144 3319  L 1881 -56  Q 1678 -603 1566 -809  Q 1416 -1088 1222 -1217  Q 1028 -1347 759 -1347  Q 597 -1347 397 -1278  z \" transform=\"scale(0.015625)\" />\n      <path id=\"ArialMT-65\" d=\"M 2694 1069  L 3275 997  Q 3138 488 2766 206  Q 2394 -75 1816 -75  Q 1088 -75 661 373  Q 234 822 234 1631  Q 234 2469 665 2931  Q 1097 3394 1784 3394  Q 2450 3394 2872 2941  Q 3294 2488 3294 1666  Q 3294 1616 3291 1516  L 816 1516  Q 847 969 1125 678  Q 1403 388 1819 388  Q 2128 388 2347 550  Q 2566 713 2694 1069  z M 847 1978  L 2700 1978  Q 2663 2397 2488 2606  Q 2219 2931 1791 2931  Q 1403 2931 1139 2672  Q 875 2413 847 1978  z \" transform=\"scale(0.015625)\" />\n      <path id=\"ArialMT-73\" d=\"M 197 991  L 753 1078  Q 800 744 1014 566  Q 1228 388 1613 388  Q 2000 388 2187 545  Q 2375 703 2375 916  Q 2375 1106 2209 1216  Q 2094 1291 1634 1406  Q 1016 1563 777 1677  Q 538 1791 414 1992  Q 291 2194 291 2438  Q 291 2659 392 2848  Q 494 3038 669 3163  Q 800 3259 1026 3326  Q 1253 3394 1513 3394  Q 1903 3394 2198 3281  Q 2494 3169 2634 2976  Q 2775 2784 2828 2463  L 2278 2388  Q 2241 2644 2061 2787  Q 1881 2931 1553 2931  Q 1166 2931 1000 2803  Q 834 2675 834 2503  Q 834 2394 903 2306  Q 972 2216 1119 2156  Q 1203 2125 1616 2013  Q 2213 1853 2448 1751  Q 2684 1650 2818 1456  Q 2953 1263 2953 975  Q 2953 694 2789 445  Q 2625 197 2315 61  Q 2006 -75 1616 -75  Q 969 -75 630 194  Q 291 463 197 991  z \" transform=\"scale(0.015625)\" />\n     </defs>\n     <use xlink:href=\"#ArialMT-79\" />\n     <use xlink:href=\"#ArialMT-65\" x=\"50\" />\n     <use xlink:href=\"#ArialMT-73\" x=\"105.615234\" />\n    </g>\n   </g>\n  </g>\n </g>\n</svg></g>\n\n<g id=\"edge14\" class=\"edge\">\n<title>node12-&gt;leaf14</title>\n<path fill=\"none\" stroke=\"#444443\" stroke-width=\"0.3\" d=\"M652.16,-99.74C653.8,-95.56 655.45,-91.31 657.08,-87.13\" />\n<polygon fill=\"#444443\" stroke=\"#444443\" stroke-width=\"0.3\" points=\"658.42,-87.55 658.57,-83.31 655.82,-86.53 658.42,-87.55\" />\n</g>\n\n<g id=\"edge16\" class=\"edge\">\n<title>node8-&gt;node9</title>\n<path fill=\"none\" stroke=\"#444443\" stroke-width=\"0.3\" d=\"M451.76,-209.45C451.62,-202.59 451.47,-195.38 451.33,-188.39\" />\n<polygon fill=\"#444443\" stroke=\"#444443\" stroke-width=\"0.3\" points=\"452.73,-188.05 451.25,-184.08 449.93,-188.11 452.73,-188.05\" />\n</g>\n\n<g id=\"edge17\" class=\"edge\">\n<title>node8-&gt;node12</title>\n<path fill=\"none\" stroke=\"#444443\" stroke-width=\"0.3\" d=\"M520.27,-209.45C529.29,-204.52 538.64,-199.41 547.92,-194.33\" />\n<polygon fill=\"#444443\" stroke=\"#444443\" stroke-width=\"0.3\" points=\"549.06,-195.31 551.9,-192.16 547.71,-192.85 549.06,-195.31\" />\n</g>\n\n<g id=\"node7\" class=\"node\">\n<title>node0</title>\n<svg width=\"162px\" height=\"83px\" viewBox=\"0 0 217.123929 111.412926\" version=\"1.1\" preserveAspectRatio=\"xMinYMin meet\" x=\"279.5\" y=\"-403.5\">\n <metadata>\n  <rdf:RDF>\n   <ns2:Work>\n    <dc:type rdf:resource=\"http://purl.org/dc/dcmitype/StillImage\" />\n    <dc:date>2022-04-20T20:42:04.587725</dc:date>\n    <dc:format>image/svg+xml</dc:format>\n    <dc:creator>\n     <ns2:Agent>\n      <dc:title>Matplotlib v3.5.1, https://matplotlib.org/</dc:title>\n     </ns2:Agent>\n    </dc:creator>\n   </ns2:Work>\n  </rdf:RDF>\n </metadata>\n <defs>\n  <style type=\"text/css\">*{stroke-linejoin: round; stroke-linecap: butt}</style>\n </defs>\n <g id=\"figure_1\">\n  <g id=\"patch_1\">\n   <path d=\"M 0 111.412926  L 217.123929 111.412926  L 217.123929 0  L 0 0  z \" style=\"fill: #ffffff\" />\n  </g>\n  <g id=\"axes_1\">\n   <g id=\"patch_2\">\n    <path d=\"M 31.74375 79.481676  L 215.88375 79.481676  L 215.88375 -0  L 31.74375 -0  z \" style=\"fill: #ffffff\" />\n   </g>\n   <g id=\"matplotlib.axis_1\">\n    <g id=\"xtick_1\">\n     <g id=\"text_1\">\n      \n      <g style=\"fill: #444443\" transform=\"translate(21.735 94.707926)scale(0.08 -0.08)\">\n       <defs>\n        <path id=\"ArialMT-30\" d=\"M 266 2259  Q 266 3072 433 3567  Q 600 4063 929 4331  Q 1259 4600 1759 4600  Q 2128 4600 2406 4451  Q 2684 4303 2865 4023  Q 3047 3744 3150 3342  Q 3253 2941 3253 2259  Q 3253 1453 3087 958  Q 2922 463 2592 192  Q 2263 -78 1759 -78  Q 1097 -78 719 397  Q 266 969 266 2259  z M 844 2259  Q 844 1131 1108 757  Q 1372 384 1759 384  Q 2147 384 2411 759  Q 2675 1134 2675 2259  Q 2675 3391 2411 3762  Q 2147 4134 1753 4134  Q 1366 4134 1134 3806  Q 844 3388 844 2259  z \" transform=\"scale(0.015625)\" />\n        <path id=\"ArialMT-2e\" d=\"M 581 0  L 581 641  L 1222 641  L 1222 0  L 581 0  z \" transform=\"scale(0.015625)\" />\n       </defs>\n       <use xlink:href=\"#ArialMT-30\" />\n       <use xlink:href=\"#ArialMT-2e\" x=\"55.615234\" />\n       <use xlink:href=\"#ArialMT-30\" x=\"83.398438\" />\n       <use xlink:href=\"#ArialMT-30\" x=\"139.013672\" />\n       <use xlink:href=\"#ArialMT-30\" x=\"194.628906\" />\n      </g>\n     </g>\n    </g>\n    <g id=\"xtick_2\">\n     <g id=\"text_2\">\n      \n      <g style=\"fill: #444443\" transform=\"translate(197.106429 94.707926)scale(0.08 -0.08)\">\n       <defs>\n        <path id=\"ArialMT-39\" d=\"M 350 1059  L 891 1109  Q 959 728 1153 556  Q 1347 384 1650 384  Q 1909 384 2104 503  Q 2300 622 2425 820  Q 2550 1019 2634 1356  Q 2719 1694 2719 2044  Q 2719 2081 2716 2156  Q 2547 1888 2255 1720  Q 1963 1553 1622 1553  Q 1053 1553 659 1965  Q 266 2378 266 3053  Q 266 3750 677 4175  Q 1088 4600 1706 4600  Q 2153 4600 2523 4359  Q 2894 4119 3086 3673  Q 3278 3228 3278 2384  Q 3278 1506 3087 986  Q 2897 466 2520 194  Q 2144 -78 1638 -78  Q 1100 -78 759 220  Q 419 519 350 1059  z M 2653 3081  Q 2653 3566 2395 3850  Q 2138 4134 1775 4134  Q 1400 4134 1122 3828  Q 844 3522 844 3034  Q 844 2597 1108 2323  Q 1372 2050 1759 2050  Q 2150 2050 2401 2323  Q 2653 2597 2653 3081  z \" transform=\"scale(0.015625)\" />\n        <path id=\"ArialMT-35\" d=\"M 266 1200  L 856 1250  Q 922 819 1161 601  Q 1400 384 1738 384  Q 2144 384 2425 690  Q 2706 997 2706 1503  Q 2706 1984 2436 2262  Q 2166 2541 1728 2541  Q 1456 2541 1237 2417  Q 1019 2294 894 2097  L 366 2166  L 809 4519  L 3088 4519  L 3088 3981  L 1259 3981  L 1013 2750  Q 1425 3038 1878 3038  Q 2478 3038 2890 2622  Q 3303 2206 3303 1553  Q 3303 931 2941 478  Q 2500 -78 1738 -78  Q 1113 -78 717 272  Q 322 622 266 1200  z \" transform=\"scale(0.015625)\" />\n        <path id=\"ArialMT-33\" d=\"M 269 1209  L 831 1284  Q 928 806 1161 595  Q 1394 384 1728 384  Q 2125 384 2398 659  Q 2672 934 2672 1341  Q 2672 1728 2419 1979  Q 2166 2231 1775 2231  Q 1616 2231 1378 2169  L 1441 2663  Q 1497 2656 1531 2656  Q 1891 2656 2178 2843  Q 2466 3031 2466 3422  Q 2466 3731 2256 3934  Q 2047 4138 1716 4138  Q 1388 4138 1169 3931  Q 950 3725 888 3313  L 325 3413  Q 428 3978 793 4289  Q 1159 4600 1703 4600  Q 2078 4600 2393 4439  Q 2709 4278 2876 4000  Q 3044 3722 3044 3409  Q 3044 3113 2884 2869  Q 2725 2625 2413 2481  Q 2819 2388 3044 2092  Q 3269 1797 3269 1353  Q 3269 753 2831 336  Q 2394 -81 1725 -81  Q 1122 -81 723 278  Q 325 638 269 1209  z \" transform=\"scale(0.015625)\" />\n       </defs>\n       <use xlink:href=\"#ArialMT-30\" />\n       <use xlink:href=\"#ArialMT-2e\" x=\"55.615234\" />\n       <use xlink:href=\"#ArialMT-39\" x=\"83.398438\" />\n       <use xlink:href=\"#ArialMT-35\" x=\"139.013672\" />\n       <use xlink:href=\"#ArialMT-33\" x=\"194.628906\" />\n      </g>\n     </g>\n    </g>\n    <g id=\"text_3\">\n     \n     <g style=\"fill: #444443\" transform=\"translate(93.130313 108.887301)scale(0.12 -0.12)\">\n      <defs>\n       <path id=\"ArialMT-6e\" d=\"M 422 0  L 422 3319  L 928 3319  L 928 2847  Q 1294 3394 1984 3394  Q 2284 3394 2536 3286  Q 2788 3178 2913 3003  Q 3038 2828 3088 2588  Q 3119 2431 3119 2041  L 3119 0  L 2556 0  L 2556 2019  Q 2556 2363 2490 2533  Q 2425 2703 2258 2804  Q 2091 2906 1866 2906  Q 1506 2906 1245 2678  Q 984 2450 984 1813  L 984 0  L 422 0  z \" transform=\"scale(0.015625)\" />\n       <path id=\"ArialMT-6c\" d=\"M 409 0  L 409 4581  L 972 4581  L 972 0  L 409 0  z \" transform=\"scale(0.015625)\" />\n       <path id=\"ArialMT-70\" d=\"M 422 -1272  L 422 3319  L 934 3319  L 934 2888  Q 1116 3141 1344 3267  Q 1572 3394 1897 3394  Q 2322 3394 2647 3175  Q 2972 2956 3137 2557  Q 3303 2159 3303 1684  Q 3303 1175 3120 767  Q 2938 359 2589 142  Q 2241 -75 1856 -75  Q 1575 -75 1351 44  Q 1128 163 984 344  L 984 -1272  L 422 -1272  z M 931 1641  Q 931 1000 1190 694  Q 1450 388 1819 388  Q 2194 388 2461 705  Q 2728 1022 2728 1688  Q 2728 2322 2467 2637  Q 2206 2953 1844 2953  Q 1484 2953 1207 2617  Q 931 2281 931 1641  z \" transform=\"scale(0.015625)\" />\n       <path id=\"ArialMT-5f\" d=\"M -97 -1272  L -97 -866  L 3631 -866  L 3631 -1272  L -97 -1272  z \" transform=\"scale(0.015625)\" />\n       <path id=\"ArialMT-73\" d=\"M 197 991  L 753 1078  Q 800 744 1014 566  Q 1228 388 1613 388  Q 2000 388 2187 545  Q 2375 703 2375 916  Q 2375 1106 2209 1216  Q 2094 1291 1634 1406  Q 1016 1563 777 1677  Q 538 1791 414 1992  Q 291 2194 291 2438  Q 291 2659 392 2848  Q 494 3038 669 3163  Q 800 3259 1026 3326  Q 1253 3394 1513 3394  Q 1903 3394 2198 3281  Q 2494 3169 2634 2976  Q 2775 2784 2828 2463  L 2278 2388  Q 2241 2644 2061 2787  Q 1881 2931 1553 2931  Q 1166 2931 1000 2803  Q 834 2675 834 2503  Q 834 2394 903 2306  Q 972 2216 1119 2156  Q 1203 2125 1616 2013  Q 2213 1853 2448 1751  Q 2684 1650 2818 1456  Q 2953 1263 2953 975  Q 2953 694 2789 445  Q 2625 197 2315 61  Q 2006 -75 1616 -75  Q 969 -75 630 194  Q 291 463 197 991  z \" transform=\"scale(0.015625)\" />\n       <path id=\"ArialMT-63\" d=\"M 2588 1216  L 3141 1144  Q 3050 572 2676 248  Q 2303 -75 1759 -75  Q 1078 -75 664 370  Q 250 816 250 1647  Q 250 2184 428 2587  Q 606 2991 970 3192  Q 1334 3394 1763 3394  Q 2303 3394 2647 3120  Q 2991 2847 3088 2344  L 2541 2259  Q 2463 2594 2264 2762  Q 2066 2931 1784 2931  Q 1359 2931 1093 2626  Q 828 2322 828 1663  Q 828 994 1084 691  Q 1341 388 1753 388  Q 2084 388 2306 591  Q 2528 794 2588 1216  z \" transform=\"scale(0.015625)\" />\n       <path id=\"ArialMT-6f\" d=\"M 213 1659  Q 213 2581 725 3025  Q 1153 3394 1769 3394  Q 2453 3394 2887 2945  Q 3322 2497 3322 1706  Q 3322 1066 3130 698  Q 2938 331 2570 128  Q 2203 -75 1769 -75  Q 1072 -75 642 372  Q 213 819 213 1659  z M 791 1659  Q 791 1022 1069 705  Q 1347 388 1769 388  Q 2188 388 2466 706  Q 2744 1025 2744 1678  Q 2744 2294 2464 2611  Q 2184 2928 1769 2928  Q 1347 2928 1069 2612  Q 791 2297 791 1659  z \" transform=\"scale(0.015625)\" />\n       <path id=\"ArialMT-72\" d=\"M 416 0  L 416 3319  L 922 3319  L 922 2816  Q 1116 3169 1280 3281  Q 1444 3394 1641 3394  Q 1925 3394 2219 3213  L 2025 2691  Q 1819 2813 1613 2813  Q 1428 2813 1281 2702  Q 1134 2591 1072 2394  Q 978 2094 978 1738  L 978 0  L 416 0  z \" transform=\"scale(0.015625)\" />\n       <path id=\"ArialMT-69\" d=\"M 425 3934  L 425 4581  L 988 4581  L 988 3934  L 425 3934  z M 425 0  L 425 3319  L 988 3319  L 988 0  L 425 0  z \" transform=\"scale(0.015625)\" />\n       <path id=\"ArialMT-67\" d=\"M 319 -275  L 866 -356  Q 900 -609 1056 -725  Q 1266 -881 1628 -881  Q 2019 -881 2231 -725  Q 2444 -569 2519 -288  Q 2563 -116 2559 434  Q 2191 0 1641 0  Q 956 0 581 494  Q 206 988 206 1678  Q 206 2153 378 2554  Q 550 2956 876 3175  Q 1203 3394 1644 3394  Q 2231 3394 2613 2919  L 2613 3319  L 3131 3319  L 3131 450  Q 3131 -325 2973 -648  Q 2816 -972 2473 -1159  Q 2131 -1347 1631 -1347  Q 1038 -1347 672 -1080  Q 306 -813 319 -275  z M 784 1719  Q 784 1066 1043 766  Q 1303 466 1694 466  Q 2081 466 2343 764  Q 2606 1063 2606 1700  Q 2606 2309 2336 2618  Q 2066 2928 1684 2928  Q 1309 2928 1046 2623  Q 784 2319 784 1719  z \" transform=\"scale(0.015625)\" />\n      </defs>\n      <use xlink:href=\"#ArialMT-6e\" />\n      <use xlink:href=\"#ArialMT-6c\" x=\"55.615234\" />\n      <use xlink:href=\"#ArialMT-70\" x=\"77.832031\" />\n      <use xlink:href=\"#ArialMT-5f\" x=\"133.447266\" />\n      <use xlink:href=\"#ArialMT-73\" x=\"189.0625\" />\n      <use xlink:href=\"#ArialMT-63\" x=\"239.0625\" />\n      <use xlink:href=\"#ArialMT-6f\" x=\"289.0625\" />\n      <use xlink:href=\"#ArialMT-72\" x=\"344.677734\" />\n      <use xlink:href=\"#ArialMT-69\" x=\"377.978516\" />\n      <use xlink:href=\"#ArialMT-6e\" x=\"400.195312\" />\n      <use xlink:href=\"#ArialMT-67\" x=\"455.810547\" />\n     </g>\n    </g>\n   </g>\n   <g id=\"matplotlib.axis_2\">\n    <g id=\"ytick_1\">\n     <g id=\"text_4\">\n      \n      <g style=\"fill: #444443\" transform=\"translate(17.795 82.344801)scale(0.08 -0.08)\">\n       <use xlink:href=\"#ArialMT-30\" />\n      </g>\n     </g>\n    </g>\n    <g id=\"ytick_2\">\n     <g id=\"text_5\">\n      \n      <g style=\"fill: #444443\" transform=\"translate(0 6.647967)scale(0.08 -0.08)\">\n       <defs>\n        <path id=\"ArialMT-31\" d=\"M 2384 0  L 1822 0  L 1822 3584  Q 1619 3391 1289 3197  Q 959 3003 697 2906  L 697 3450  Q 1169 3672 1522 3987  Q 1875 4303 2022 4600  L 2384 4600  L 2384 0  z \" transform=\"scale(0.015625)\" />\n        <path id=\"ArialMT-34\" d=\"M 2069 0  L 2069 1097  L 81 1097  L 81 1613  L 2172 4581  L 2631 4581  L 2631 1613  L 3250 1613  L 3250 1097  L 2631 1097  L 2631 0  L 2069 0  z M 2069 1613  L 2069 3678  L 634 1613  L 2069 1613  z \" transform=\"scale(0.015625)\" />\n        <path id=\"ArialMT-37\" d=\"M 303 3981  L 303 4522  L 3269 4522  L 3269 4084  Q 2831 3619 2401 2847  Q 1972 2075 1738 1259  Q 1569 684 1522 0  L 944 0  Q 953 541 1156 1306  Q 1359 2072 1739 2783  Q 2119 3494 2547 3981  L 303 3981  z \" transform=\"scale(0.015625)\" />\n       </defs>\n       <use xlink:href=\"#ArialMT-31\" />\n       <use xlink:href=\"#ArialMT-34\" x=\"55.615234\" />\n       <use xlink:href=\"#ArialMT-34\" x=\"111.230469\" />\n       <use xlink:href=\"#ArialMT-37\" x=\"166.845703\" />\n       <use xlink:href=\"#ArialMT-39\" x=\"222.460938\" />\n      </g>\n     </g>\n    </g>\n   </g>\n   <g id=\"patch_3\">\n    <path d=\"M 31.74375 79.481676  L 40.973825 79.481676  L 40.973825 79.162765  L 31.74375 79.162765  z \" clip-path=\"url(#p4f35a9d7cb)\" style=\"fill: #fefebb; stroke: #444443; stroke-width: 0.5; stroke-linejoin: miter\" />\n   </g>\n   <g id=\"patch_4\">\n    <path d=\"M 40.973825 79.481676  L 50.2039 79.481676  L 50.2039 79.481676  L 40.973825 79.481676  z \" clip-path=\"url(#p4f35a9d7cb)\" style=\"fill: #fefebb; stroke: #444443; stroke-width: 0.5; stroke-linejoin: miter\" />\n   </g>\n   <g id=\"patch_5\">\n    <path d=\"M 50.2039 79.481676  L 59.433976 79.481676  L 59.433976 79.476448  L 50.2039 79.476448  z \" clip-path=\"url(#p4f35a9d7cb)\" style=\"fill: #fefebb; stroke: #444443; stroke-width: 0.5; stroke-linejoin: miter\" />\n   </g>\n   <g id=\"patch_6\">\n    <path d=\"M 59.433976 79.481676  L 68.664051 79.481676  L 68.664051 79.439852  L 59.433976 79.439852  z \" clip-path=\"url(#p4f35a9d7cb)\" style=\"fill: #fefebb; stroke: #444443; stroke-width: 0.5; stroke-linejoin: miter\" />\n   </g>\n   <g id=\"patch_7\">\n    <path d=\"M 68.664051 79.481676  L 77.894126 79.481676  L 77.894126 79.005924  L 68.664051 79.005924  z \" clip-path=\"url(#p4f35a9d7cb)\" style=\"fill: #fefebb; stroke: #444443; stroke-width: 0.5; stroke-linejoin: miter\" />\n   </g>\n   <g id=\"patch_8\">\n    <path d=\"M 77.894126 79.481676  L 87.124201 79.481676  L 87.124201 78.012596  L 77.894126 78.012596  z \" clip-path=\"url(#p4f35a9d7cb)\" style=\"fill: #fefebb; stroke: #444443; stroke-width: 0.5; stroke-linejoin: miter\" />\n   </g>\n   <g id=\"patch_9\">\n    <path d=\"M 87.124201 79.481676  L 96.354276 79.481676  L 96.354276 77.129057  L 87.124201 77.129057  z \" clip-path=\"url(#p4f35a9d7cb)\" style=\"fill: #fefebb; stroke: #444443; stroke-width: 0.5; stroke-linejoin: miter\" />\n   </g>\n   <g id=\"patch_10\">\n    <path d=\"M 96.354276 79.481676  L 105.584352 79.481676  L 105.584352 74.185668  L 96.354276 74.185668  z \" clip-path=\"url(#p4f35a9d7cb)\" style=\"fill: #fefebb; stroke: #444443; stroke-width: 0.5; stroke-linejoin: miter\" />\n   </g>\n   <g id=\"patch_11\">\n    <path d=\"M 105.584352 79.481676  L 114.814427 79.481676  L 114.814427 68.957625  L 105.584352 68.957625  z \" clip-path=\"url(#p4f35a9d7cb)\" style=\"fill: #fefebb; stroke: #444443; stroke-width: 0.5; stroke-linejoin: miter\" />\n   </g>\n   <g id=\"patch_12\">\n    <path d=\"M 114.814427 79.481676  L 124.044502 79.481676  L 124.044502 52.876165  L 114.814427 52.876165  z \" clip-path=\"url(#p4f35a9d7cb)\" style=\"fill: #fefebb; stroke: #444443; stroke-width: 0.5; stroke-linejoin: miter\" />\n   </g>\n   <g id=\"patch_13\">\n    <path d=\"M 124.044502 79.481676  L 133.274577 79.481676  L 133.274577 41.72475  L 124.044502 41.72475  z \" clip-path=\"url(#p4f35a9d7cb)\" style=\"fill: #fefebb; stroke: #444443; stroke-width: 0.5; stroke-linejoin: miter\" />\n   </g>\n   <g id=\"patch_14\">\n    <path d=\"M 133.274577 79.481676  L 142.504652 79.481676  L 142.504652 55.709765  L 133.274577 55.709765  z \" clip-path=\"url(#p4f35a9d7cb)\" style=\"fill: #fefebb; stroke: #444443; stroke-width: 0.5; stroke-linejoin: miter\" />\n   </g>\n   <g id=\"patch_15\">\n    <path d=\"M 142.504652 79.481676  L 151.734727 79.481676  L 151.734727 70.458074  L 142.504652 70.458074  z \" clip-path=\"url(#p4f35a9d7cb)\" style=\"fill: #fefebb; stroke: #444443; stroke-width: 0.5; stroke-linejoin: miter\" />\n   </g>\n   <g id=\"patch_16\">\n    <path d=\"M 151.734727 79.481676  L 160.964803 79.481676  L 160.964803 75.842958  L 151.734727 75.842958  z \" clip-path=\"url(#p4f35a9d7cb)\" style=\"fill: #fefebb; stroke: #444443; stroke-width: 0.5; stroke-linejoin: miter\" />\n   </g>\n   <g id=\"patch_17\">\n    <path d=\"M 160.964803 79.481676  L 170.194878 79.481676  L 170.194878 73.098236  L 160.964803 73.098236  z \" clip-path=\"url(#p4f35a9d7cb)\" style=\"fill: #fefebb; stroke: #444443; stroke-width: 0.5; stroke-linejoin: miter\" />\n   </g>\n   <g id=\"patch_18\">\n    <path d=\"M 170.194878 79.481676  L 179.424953 79.481676  L 179.424953 77.474107  L 170.194878 77.474107  z \" clip-path=\"url(#p4f35a9d7cb)\" style=\"fill: #fefebb; stroke: #444443; stroke-width: 0.5; stroke-linejoin: miter\" />\n   </g>\n   <g id=\"patch_19\">\n    <path d=\"M 179.424953 79.481676  L 188.655028 79.481676  L 188.655028 78.796802  L 179.424953 78.796802  z \" clip-path=\"url(#p4f35a9d7cb)\" style=\"fill: #fefebb; stroke: #444443; stroke-width: 0.5; stroke-linejoin: miter\" />\n   </g>\n   <g id=\"patch_20\">\n    <path d=\"M 188.655028 79.481676  L 197.885103 79.481676  L 197.885103 79.413711  L 188.655028 79.413711  z \" clip-path=\"url(#p4f35a9d7cb)\" style=\"fill: #fefebb; stroke: #444443; stroke-width: 0.5; stroke-linejoin: miter\" />\n   </g>\n   <g id=\"patch_21\">\n    <path d=\"M 197.885103 79.481676  L 207.115179 79.481676  L 207.115179 79.465992  L 197.885103 79.465992  z \" clip-path=\"url(#p4f35a9d7cb)\" style=\"fill: #fefebb; stroke: #444443; stroke-width: 0.5; stroke-linejoin: miter\" />\n   </g>\n   <g id=\"patch_22\">\n    <path d=\"M 31.74375 79.162765  L 40.973825 79.162765  L 40.973825 78.671329  L 31.74375 78.671329  z \" clip-path=\"url(#p4f35a9d7cb)\" style=\"fill: #a1dab4; stroke: #444443; stroke-width: 0.5; stroke-linejoin: miter\" />\n   </g>\n   <g id=\"patch_23\">\n    <path d=\"M 40.973825 79.481676  L 50.2039 79.481676  L 50.2039 79.481676  L 40.973825 79.481676  z \" clip-path=\"url(#p4f35a9d7cb)\" style=\"fill: #a1dab4; stroke: #444443; stroke-width: 0.5; stroke-linejoin: miter\" />\n   </g>\n   <g id=\"patch_24\">\n    <path d=\"M 50.2039 79.476448  L 59.433976 79.476448  L 59.433976 79.476448  L 50.2039 79.476448  z \" clip-path=\"url(#p4f35a9d7cb)\" style=\"fill: #a1dab4; stroke: #444443; stroke-width: 0.5; stroke-linejoin: miter\" />\n   </g>\n   <g id=\"patch_25\">\n    <path d=\"M 59.433976 79.439852  L 68.664051 79.439852  L 68.664051 79.439852  L 59.433976 79.439852  z \" clip-path=\"url(#p4f35a9d7cb)\" style=\"fill: #a1dab4; stroke: #444443; stroke-width: 0.5; stroke-linejoin: miter\" />\n   </g>\n   <g id=\"patch_26\">\n    <path d=\"M 68.664051 79.005924  L 77.894126 79.005924  L 77.894126 78.93796  L 68.664051 78.93796  z \" clip-path=\"url(#p4f35a9d7cb)\" style=\"fill: #a1dab4; stroke: #444443; stroke-width: 0.5; stroke-linejoin: miter\" />\n   </g>\n   <g id=\"patch_27\">\n    <path d=\"M 77.894126 78.012596  L 87.124201 78.012596  L 87.124201 77.965544  L 77.894126 77.965544  z \" clip-path=\"url(#p4f35a9d7cb)\" style=\"fill: #a1dab4; stroke: #444443; stroke-width: 0.5; stroke-linejoin: miter\" />\n   </g>\n   <g id=\"patch_28\">\n    <path d=\"M 87.124201 77.129057  L 96.354276 77.129057  L 96.354276 76.878111  L 87.124201 76.878111  z \" clip-path=\"url(#p4f35a9d7cb)\" style=\"fill: #a1dab4; stroke: #444443; stroke-width: 0.5; stroke-linejoin: miter\" />\n   </g>\n   <g id=\"patch_29\">\n    <path d=\"M 96.354276 74.185668  L 105.584352 74.185668  L 105.584352 73.181884  L 96.354276 73.181884  z \" clip-path=\"url(#p4f35a9d7cb)\" style=\"fill: #a1dab4; stroke: #444443; stroke-width: 0.5; stroke-linejoin: miter\" />\n   </g>\n   <g id=\"patch_30\">\n    <path d=\"M 105.584352 68.957625  L 114.814427 68.957625  L 114.814427 65.810344  L 105.584352 65.810344  z \" clip-path=\"url(#p4f35a9d7cb)\" style=\"fill: #a1dab4; stroke: #444443; stroke-width: 0.5; stroke-linejoin: miter\" />\n   </g>\n   <g id=\"patch_31\">\n    <path d=\"M 114.814427 52.876165  L 124.044502 52.876165  L 124.044502 39.617848  L 114.814427 39.617848  z \" clip-path=\"url(#p4f35a9d7cb)\" style=\"fill: #a1dab4; stroke: #444443; stroke-width: 0.5; stroke-linejoin: miter\" />\n   </g>\n   <g id=\"patch_32\">\n    <path d=\"M 124.044502 41.72475  L 133.274577 41.72475  L 133.274577 3.784842  L 124.044502 3.784842  z \" clip-path=\"url(#p4f35a9d7cb)\" style=\"fill: #a1dab4; stroke: #444443; stroke-width: 0.5; stroke-linejoin: miter\" />\n   </g>\n   <g id=\"patch_33\">\n    <path d=\"M 133.274577 55.709765  L 142.504652 55.709765  L 142.504652 11.945817  L 133.274577 11.945817  z \" clip-path=\"url(#p4f35a9d7cb)\" style=\"fill: #a1dab4; stroke: #444443; stroke-width: 0.5; stroke-linejoin: miter\" />\n   </g>\n   <g id=\"patch_34\">\n    <path d=\"M 142.504652 70.458074  L 151.734727 70.458074  L 151.734727 40.438651  L 142.504652 40.438651  z \" clip-path=\"url(#p4f35a9d7cb)\" style=\"fill: #a1dab4; stroke: #444443; stroke-width: 0.5; stroke-linejoin: miter\" />\n   </g>\n   <g id=\"patch_35\">\n    <path d=\"M 151.734727 75.842958  L 160.964803 75.842958  L 160.964803 57.83235  L 151.734727 57.83235  z \" clip-path=\"url(#p4f35a9d7cb)\" style=\"fill: #a1dab4; stroke: #444443; stroke-width: 0.5; stroke-linejoin: miter\" />\n   </g>\n   <g id=\"patch_36\">\n    <path d=\"M 160.964803 73.098236  L 170.194878 73.098236  L 170.194878 39.82697  L 160.964803 39.82697  z \" clip-path=\"url(#p4f35a9d7cb)\" style=\"fill: #a1dab4; stroke: #444443; stroke-width: 0.5; stroke-linejoin: miter\" />\n   </g>\n   <g id=\"patch_37\">\n    <path d=\"M 170.194878 77.474107  L 179.424953 77.474107  L 179.424953 63.494321  L 170.194878 63.494321  z \" clip-path=\"url(#p4f35a9d7cb)\" style=\"fill: #a1dab4; stroke: #444443; stroke-width: 0.5; stroke-linejoin: miter\" />\n   </g>\n   <g id=\"patch_38\">\n    <path d=\"M 179.424953 78.796802  L 188.655028 78.796802  L 188.655028 72.287889  L 179.424953 72.287889  z \" clip-path=\"url(#p4f35a9d7cb)\" style=\"fill: #a1dab4; stroke: #444443; stroke-width: 0.5; stroke-linejoin: miter\" />\n   </g>\n   <g id=\"patch_39\">\n    <path d=\"M 188.655028 79.413711  L 197.885103 79.413711  L 197.885103 77.505476  L 188.655028 77.505476  z \" clip-path=\"url(#p4f35a9d7cb)\" style=\"fill: #a1dab4; stroke: #444443; stroke-width: 0.5; stroke-linejoin: miter\" />\n   </g>\n   <g id=\"patch_40\">\n    <path d=\"M 197.885103 79.465992  L 207.115179 79.465992  L 207.115179 79.147081  L 197.885103 79.147081  z \" clip-path=\"url(#p4f35a9d7cb)\" style=\"fill: #a1dab4; stroke: #444443; stroke-width: 0.5; stroke-linejoin: miter\" />\n   </g>\n   <g id=\"patch_41\">\n    <path d=\"M 130.801452 80.297076  L 127.486932 87.635676  L 134.115972 87.635676  z \" style=\"fill: #444443; stroke: #ffffff; stroke-linejoin: miter\" />\n   </g>\n   <g id=\"patch_42\">\n    <path d=\"M 31.74375 79.481676  L 31.74375 -0  \" style=\"fill: none; stroke: #262626; stroke-width: 0.3; stroke-linejoin: miter; stroke-linecap: square\" />\n   </g>\n   <g id=\"patch_43\">\n    <path d=\"M 31.74375 79.481676  L 215.88375 79.481676  \" style=\"fill: none; stroke: #262626; stroke-width: 0.3; stroke-linejoin: miter; stroke-linecap: square\" />\n   </g>\n   <g id=\"text_6\">\n    \n    <g style=\"fill: #444443\" transform=\"translate(123.017077 95.789676)scale(0.08 -0.08)\">\n     <use xlink:href=\"#ArialMT-30\" />\n     <use xlink:href=\"#ArialMT-2e\" x=\"55.615234\" />\n     <use xlink:href=\"#ArialMT-35\" x=\"83.398438\" />\n     <use xlink:href=\"#ArialMT-34\" x=\"139.013672\" />\n    </g>\n   </g>\n  </g>\n </g>\n <defs>\n  <clipPath id=\"p4f35a9d7cb\">\n   <rect x=\"31.74375\" y=\"-0\" width=\"184.14\" height=\"79.481676\" />\n  </clipPath>\n </defs>\n</svg></g>\n\n<g id=\"edge19\" class=\"edge\">\n<title>node0-&gt;node1</title>\n<path fill=\"none\" stroke=\"#444443\" stroke-width=\"0.3\" d=\"M324.14,-316.84C316.8,-307.83 309.12,-298.4 301.9,-289.52\" />\n<polygon fill=\"#444443\" stroke=\"#444443\" stroke-width=\"0.3\" points=\"302.87,-288.49 299.25,-286.27 300.69,-290.26 302.87,-288.49\" />\n<text text-anchor=\"start\" x=\"317.5\" y=\"-297.8\" font-family=\"Times,serif\" font-size=\"14.00\">&#8804;</text>\n</g>\n\n<g id=\"edge20\" class=\"edge\">\n<title>node0-&gt;node8</title>\n<path fill=\"none\" stroke=\"#444443\" stroke-width=\"0.3\" d=\"M396.86,-316.84C404.38,-307.61 412.25,-297.94 419.63,-288.87\" />\n<polygon fill=\"#444443\" stroke=\"#444443\" stroke-width=\"0.3\" points=\"420.89,-289.54 422.33,-285.56 418.72,-287.78 420.89,-289.54\" />\n<text text-anchor=\"start\" x=\"415.5\" y=\"-297.8\" font-family=\"Times,serif\" font-size=\"14.00\">&gt;</text>\n</g>\n\n\n\n\n\n<g id=\"node16\" class=\"node\">\n<title>legend</title>\n<polygon fill=\"none\" stroke=\"black\" stroke-width=\"0\" points=\"500.5,-385.5 452.5,-385.5 452.5,-339.5 500.5,-339.5 500.5,-385.5\" />\n<svg width=\"44px\" height=\"42px\" viewBox=\"0 0 59.276562 57.223438\" version=\"1.1\" preserveAspectRatio=\"xMinYMin meet\" x=\"454.5\" y=\"-383.5\">\n <metadata>\n  <rdf:RDF>\n   <ns2:Work>\n    <dc:type rdf:resource=\"http://purl.org/dc/dcmitype/StillImage\" />\n    <dc:date>2022-04-20T20:42:01.931175</dc:date>\n    <dc:format>image/svg+xml</dc:format>\n    <dc:creator>\n     <ns2:Agent>\n      <dc:title>Matplotlib v3.5.1, https://matplotlib.org/</dc:title>\n     </ns2:Agent>\n    </dc:creator>\n   </ns2:Work>\n  </rdf:RDF>\n </metadata>\n <defs>\n  <style type=\"text/css\">*{stroke-linejoin: round; stroke-linecap: butt}</style>\n </defs>\n <g id=\"figure_1\">\n  <g id=\"patch_1\">\n   <path d=\"M 0 57.223438  L 59.276562 57.223438  L 59.276562 0  L 0 0  z \" style=\"fill: #ffffff\" />\n  </g>\n  <g id=\"axes_1\">\n   <g id=\"legend_1\">\n    <g id=\"patch_2\">\n     <path d=\"M 2.2 57.223438  L 57.076563 57.223438  Q 59.276563 57.223438 59.276563 55.023438  L 59.276563 2.2  Q 59.276563 0 57.076563 0  L 2.2 0  Q 0 0 0 2.2  L 0 55.023438  Q 0 57.223438 2.2 57.223438  z \" style=\"fill: #ffffff; opacity: 0.8; stroke: #444443; stroke-width: 0.5; stroke-linejoin: miter\" />\n    </g>\n    <g id=\"text_1\">\n     \n     <g style=\"fill: #444443\" transform=\"translate(8.8 15.957813)scale(0.1 -0.1)\">\n      <defs>\n       <path id=\"Arial-BoldMT-44\" d=\"M 463 4581  L 2153 4581  Q 2725 4581 3025 4494  Q 3428 4375 3715 4072  Q 4003 3769 4153 3330  Q 4303 2891 4303 2247  Q 4303 1681 4163 1272  Q 3991 772 3672 463  Q 3431 228 3022 97  Q 2716 0 2203 0  L 463 0  L 463 4581  z M 1388 3806  L 1388 772  L 2078 772  Q 2466 772 2638 816  Q 2863 872 3011 1006  Q 3159 1141 3253 1448  Q 3347 1756 3347 2288  Q 3347 2819 3253 3103  Q 3159 3388 2990 3547  Q 2822 3706 2563 3763  Q 2369 3806 1803 3806  L 1388 3806  z \" transform=\"scale(0.015625)\" />\n       <path id=\"Arial-BoldMT-65\" d=\"M 2381 1056  L 3256 909  Q 3088 428 2723 176  Q 2359 -75 1813 -75  Q 947 -75 531 491  Q 203 944 203 1634  Q 203 2459 634 2926  Q 1066 3394 1725 3394  Q 2466 3394 2894 2905  Q 3322 2416 3303 1406  L 1103 1406  Q 1113 1016 1316 798  Q 1519 581 1822 581  Q 2028 581 2168 693  Q 2309 806 2381 1056  z M 2431 1944  Q 2422 2325 2234 2523  Q 2047 2722 1778 2722  Q 1491 2722 1303 2513  Q 1116 2303 1119 1944  L 2431 1944  z \" transform=\"scale(0.015625)\" />\n       <path id=\"Arial-BoldMT-63\" d=\"M 3353 2338  L 2488 2181  Q 2444 2441 2289 2572  Q 2134 2703 1888 2703  Q 1559 2703 1364 2476  Q 1169 2250 1169 1719  Q 1169 1128 1367 884  Q 1566 641 1900 641  Q 2150 641 2309 783  Q 2469 925 2534 1272  L 3397 1125  Q 3263 531 2881 228  Q 2500 -75 1859 -75  Q 1131 -75 698 384  Q 266 844 266 1656  Q 266 2478 700 2936  Q 1134 3394 1875 3394  Q 2481 3394 2839 3133  Q 3197 2872 3353 2338  z \" transform=\"scale(0.015625)\" />\n       <path id=\"Arial-BoldMT-69\" d=\"M 459 3769  L 459 4581  L 1338 4581  L 1338 3769  L 459 3769  z M 459 0  L 459 3319  L 1338 3319  L 1338 0  L 459 0  z \" transform=\"scale(0.015625)\" />\n       <path id=\"Arial-BoldMT-73\" d=\"M 150 947  L 1031 1081  Q 1088 825 1259 692  Q 1431 559 1741 559  Q 2081 559 2253 684  Q 2369 772 2369 919  Q 2369 1019 2306 1084  Q 2241 1147 2013 1200  Q 950 1434 666 1628  Q 272 1897 272 2375  Q 272 2806 612 3100  Q 953 3394 1669 3394  Q 2350 3394 2681 3172  Q 3013 2950 3138 2516  L 2309 2363  Q 2256 2556 2107 2659  Q 1959 2763 1684 2763  Q 1338 2763 1188 2666  Q 1088 2597 1088 2488  Q 1088 2394 1175 2328  Q 1294 2241 1995 2081  Q 2697 1922 2975 1691  Q 3250 1456 3250 1038  Q 3250 581 2869 253  Q 2488 -75 1741 -75  Q 1063 -75 667 200  Q 272 475 150 947  z \" transform=\"scale(0.015625)\" />\n       <path id=\"Arial-BoldMT-6f\" d=\"M 256 1706  Q 256 2144 472 2553  Q 688 2963 1083 3178  Q 1478 3394 1966 3394  Q 2719 3394 3200 2905  Q 3681 2416 3681 1669  Q 3681 916 3195 420  Q 2709 -75 1972 -75  Q 1516 -75 1102 131  Q 688 338 472 736  Q 256 1134 256 1706  z M 1156 1659  Q 1156 1166 1390 903  Q 1625 641 1969 641  Q 2313 641 2545 903  Q 2778 1166 2778 1666  Q 2778 2153 2545 2415  Q 2313 2678 1969 2678  Q 1625 2678 1390 2415  Q 1156 2153 1156 1659  z \" transform=\"scale(0.015625)\" />\n       <path id=\"Arial-BoldMT-6e\" d=\"M 3478 0  L 2600 0  L 2600 1694  Q 2600 2231 2544 2389  Q 2488 2547 2361 2634  Q 2234 2722 2056 2722  Q 1828 2722 1647 2597  Q 1466 2472 1398 2265  Q 1331 2059 1331 1503  L 1331 0  L 453 0  L 453 3319  L 1269 3319  L 1269 2831  Q 1703 3394 2363 3394  Q 2653 3394 2893 3289  Q 3134 3184 3257 3021  Q 3381 2859 3429 2653  Q 3478 2447 3478 2063  L 3478 0  z \" transform=\"scale(0.015625)\" />\n      </defs>\n      <use xlink:href=\"#Arial-BoldMT-44\" />\n      <use xlink:href=\"#Arial-BoldMT-65\" x=\"72.216797\" />\n      <use xlink:href=\"#Arial-BoldMT-63\" x=\"127.832031\" />\n      <use xlink:href=\"#Arial-BoldMT-69\" x=\"183.447266\" />\n      <use xlink:href=\"#Arial-BoldMT-73\" x=\"211.230469\" />\n      <use xlink:href=\"#Arial-BoldMT-69\" x=\"266.845703\" />\n      <use xlink:href=\"#Arial-BoldMT-6f\" x=\"294.628906\" />\n      <use xlink:href=\"#Arial-BoldMT-6e\" x=\"355.712891\" />\n     </g>\n    </g>\n    <g id=\"patch_3\">\n     <path d=\"M 8.932813 31.13125  L 30.932813 31.13125  L 30.932813 23.43125  L 8.932813 23.43125  z \" style=\"fill: #fefebb; stroke: #444443; stroke-width: 0.4; stroke-linejoin: miter\" />\n    </g>\n    <g id=\"text_2\">\n     \n     <g style=\"fill: #444443\" transform=\"translate(34.782813 31.13125)scale(0.1 -0.1)\">\n      <defs>\n       <path id=\"ArialMT-6e\" d=\"M 422 0  L 422 3319  L 928 3319  L 928 2847  Q 1294 3394 1984 3394  Q 2284 3394 2536 3286  Q 2788 3178 2913 3003  Q 3038 2828 3088 2588  Q 3119 2431 3119 2041  L 3119 0  L 2556 0  L 2556 2019  Q 2556 2363 2490 2533  Q 2425 2703 2258 2804  Q 2091 2906 1866 2906  Q 1506 2906 1245 2678  Q 984 2450 984 1813  L 984 0  L 422 0  z \" transform=\"scale(0.015625)\" />\n       <path id=\"ArialMT-6f\" d=\"M 213 1659  Q 213 2581 725 3025  Q 1153 3394 1769 3394  Q 2453 3394 2887 2945  Q 3322 2497 3322 1706  Q 3322 1066 3130 698  Q 2938 331 2570 128  Q 2203 -75 1769 -75  Q 1072 -75 642 372  Q 213 819 213 1659  z M 791 1659  Q 791 1022 1069 705  Q 1347 388 1769 388  Q 2188 388 2466 706  Q 2744 1025 2744 1678  Q 2744 2294 2464 2611  Q 2184 2928 1769 2928  Q 1347 2928 1069 2612  Q 791 2297 791 1659  z \" transform=\"scale(0.015625)\" />\n      </defs>\n      <use xlink:href=\"#ArialMT-6e\" />\n      <use xlink:href=\"#ArialMT-6f\" x=\"55.615234\" />\n     </g>\n    </g>\n    <g id=\"patch_4\">\n     <path d=\"M 8.932813 46.31875  L 30.932813 46.31875  L 30.932813 38.61875  L 8.932813 38.61875  z \" style=\"fill: #a1dab4; stroke: #444443; stroke-width: 0.4; stroke-linejoin: miter\" />\n    </g>\n    <g id=\"text_3\">\n     \n     <g style=\"fill: #444443\" transform=\"translate(34.782813 46.31875)scale(0.1 -0.1)\">\n      <defs>\n       <path id=\"ArialMT-79\" d=\"M 397 -1278  L 334 -750  Q 519 -800 656 -800  Q 844 -800 956 -737  Q 1069 -675 1141 -563  Q 1194 -478 1313 -144  Q 1328 -97 1363 -6  L 103 3319  L 709 3319  L 1400 1397  Q 1534 1031 1641 628  Q 1738 1016 1872 1384  L 2581 3319  L 3144 3319  L 1881 -56  Q 1678 -603 1566 -809  Q 1416 -1088 1222 -1217  Q 1028 -1347 759 -1347  Q 597 -1347 397 -1278  z \" transform=\"scale(0.015625)\" />\n       <path id=\"ArialMT-65\" d=\"M 2694 1069  L 3275 997  Q 3138 488 2766 206  Q 2394 -75 1816 -75  Q 1088 -75 661 373  Q 234 822 234 1631  Q 234 2469 665 2931  Q 1097 3394 1784 3394  Q 2450 3394 2872 2941  Q 3294 2488 3294 1666  Q 3294 1616 3291 1516  L 816 1516  Q 847 969 1125 678  Q 1403 388 1819 388  Q 2128 388 2347 550  Q 2566 713 2694 1069  z M 847 1978  L 2700 1978  Q 2663 2397 2488 2606  Q 2219 2931 1791 2931  Q 1403 2931 1139 2672  Q 875 2413 847 1978  z \" transform=\"scale(0.015625)\" />\n       <path id=\"ArialMT-73\" d=\"M 197 991  L 753 1078  Q 800 744 1014 566  Q 1228 388 1613 388  Q 2000 388 2187 545  Q 2375 703 2375 916  Q 2375 1106 2209 1216  Q 2094 1291 1634 1406  Q 1016 1563 777 1677  Q 538 1791 414 1992  Q 291 2194 291 2438  Q 291 2659 392 2848  Q 494 3038 669 3163  Q 800 3259 1026 3326  Q 1253 3394 1513 3394  Q 1903 3394 2198 3281  Q 2494 3169 2634 2976  Q 2775 2784 2828 2463  L 2278 2388  Q 2241 2644 2061 2787  Q 1881 2931 1553 2931  Q 1166 2931 1000 2803  Q 834 2675 834 2503  Q 834 2394 903 2306  Q 972 2216 1119 2156  Q 1203 2125 1616 2013  Q 2213 1853 2448 1751  Q 2684 1650 2818 1456  Q 2953 1263 2953 975  Q 2953 694 2789 445  Q 2625 197 2315 61  Q 2006 -75 1616 -75  Q 969 -75 630 194  Q 291 463 197 991  z \" transform=\"scale(0.015625)\" />\n      </defs>\n      <use xlink:href=\"#ArialMT-79\" />\n      <use xlink:href=\"#ArialMT-65\" x=\"50\" />\n      <use xlink:href=\"#ArialMT-73\" x=\"105.615234\" />\n     </g>\n    </g>\n   </g>\n  </g>\n </g>\n</svg></g>\n</g>\n</svg>",
      "text/plain": [
       "<dtreeviz.trees.DTreeViz at 0x14e89f880>"
      ]
     },
     "execution_count": 67,
     "metadata": {},
     "output_type": "execute_result"
    }
   ],
   "source": [
    "class_names = {True:'yes', False:'no'}\n",
    "\n",
    "viz = dtreeviz(dtc_best, X_train_red_red, y_train,\n",
    "                target_name = 'Decision',\n",
    "                feature_names=dtc_best.feature_names_in_,\n",
    "                class_names=class_names)\n",
    "\n",
    "viz"
   ]
  },
  {
   "cell_type": "markdown",
   "metadata": {},
   "source": [
    "#### Logistic Regression"
   ]
  },
  {
   "cell_type": "code",
   "execution_count": 68,
   "metadata": {},
   "outputs": [
    {
     "data": {
      "text/html": [
       "<div>\n",
       "<style scoped>\n",
       "    .dataframe tbody tr th:only-of-type {\n",
       "        vertical-align: middle;\n",
       "    }\n",
       "\n",
       "    .dataframe tbody tr th {\n",
       "        vertical-align: top;\n",
       "    }\n",
       "\n",
       "    .dataframe thead th {\n",
       "        text-align: right;\n",
       "    }\n",
       "</style>\n",
       "<table border=\"1\" class=\"dataframe\">\n",
       "  <thead>\n",
       "    <tr style=\"text-align: right;\">\n",
       "      <th></th>\n",
       "      <th>accuracy</th>\n",
       "      <th>f1</th>\n",
       "      <th>recall</th>\n",
       "      <th>precision</th>\n",
       "    </tr>\n",
       "  </thead>\n",
       "  <tbody>\n",
       "    <tr>\n",
       "      <th>train</th>\n",
       "      <td>0.709448</td>\n",
       "      <td>0.777130</td>\n",
       "      <td>0.830488</td>\n",
       "      <td>0.730215</td>\n",
       "    </tr>\n",
       "    <tr>\n",
       "      <th>test</th>\n",
       "      <td>0.679922</td>\n",
       "      <td>0.754331</td>\n",
       "      <td>0.805803</td>\n",
       "      <td>0.709040</td>\n",
       "    </tr>\n",
       "  </tbody>\n",
       "</table>\n",
       "</div>"
      ],
      "text/plain": [
       "       accuracy        f1    recall  precision\n",
       "train  0.709448  0.777130  0.830488   0.730215\n",
       "test   0.679922  0.754331  0.805803   0.709040"
      ]
     },
     "execution_count": 68,
     "metadata": {},
     "output_type": "execute_result"
    }
   ],
   "source": [
    "lr.fit(X_train_red_red, y_train)\n",
    "show_metrics(X_train_red_red, y_train, X_test_red_red, y_test, pos_label=True, model = lr)"
   ]
  },
  {
   "cell_type": "markdown",
   "metadata": {},
   "source": [
    "Let's look at the coefficients."
   ]
  },
  {
   "cell_type": "code",
   "execution_count": 69,
   "metadata": {},
   "outputs": [
    {
     "data": {
      "text/html": [
       "<div>\n",
       "<style scoped>\n",
       "    .dataframe tbody tr th:only-of-type {\n",
       "        vertical-align: middle;\n",
       "    }\n",
       "\n",
       "    .dataframe tbody tr th {\n",
       "        vertical-align: top;\n",
       "    }\n",
       "\n",
       "    .dataframe thead th {\n",
       "        text-align: right;\n",
       "    }\n",
       "</style>\n",
       "<table border=\"1\" class=\"dataframe\">\n",
       "  <thead>\n",
       "    <tr style=\"text-align: right;\">\n",
       "      <th></th>\n",
       "      <th>coef</th>\n",
       "    </tr>\n",
       "  </thead>\n",
       "  <tbody>\n",
       "    <tr>\n",
       "      <th>nlp_scoring</th>\n",
       "      <td>8.792818</td>\n",
       "    </tr>\n",
       "    <tr>\n",
       "      <th>previous_request_success</th>\n",
       "      <td>0.508862</td>\n",
       "    </tr>\n",
       "    <tr>\n",
       "      <th>paris</th>\n",
       "      <td>0.068288</td>\n",
       "    </tr>\n",
       "    <tr>\n",
       "      <th>vie_et_animation_locale</th>\n",
       "      <td>-0.072402</td>\n",
       "    </tr>\n",
       "    <tr>\n",
       "      <th>culture_et_arts</th>\n",
       "      <td>-0.099349</td>\n",
       "    </tr>\n",
       "    <tr>\n",
       "      <th>social</th>\n",
       "      <td>-0.105157</td>\n",
       "    </tr>\n",
       "    <tr>\n",
       "      <th>precarite_et_exclusion</th>\n",
       "      <td>-0.107716</td>\n",
       "    </tr>\n",
       "    <tr>\n",
       "      <th>sport</th>\n",
       "      <td>-0.138238</td>\n",
       "    </tr>\n",
       "    <tr>\n",
       "      <th>education_et_formation</th>\n",
       "      <td>-0.162471</td>\n",
       "    </tr>\n",
       "    <tr>\n",
       "      <th>loisirs</th>\n",
       "      <td>-0.181557</td>\n",
       "    </tr>\n",
       "  </tbody>\n",
       "</table>\n",
       "</div>"
      ],
      "text/plain": [
       "                              coef\n",
       "nlp_scoring               8.792818\n",
       "previous_request_success  0.508862\n",
       "paris                     0.068288\n",
       "vie_et_animation_locale  -0.072402\n",
       "culture_et_arts          -0.099349\n",
       "social                   -0.105157\n",
       "precarite_et_exclusion   -0.107716\n",
       "sport                    -0.138238\n",
       "education_et_formation   -0.162471\n",
       "loisirs                  -0.181557"
      ]
     },
     "execution_count": 69,
     "metadata": {},
     "output_type": "execute_result"
    }
   ],
   "source": [
    "# Get weights\n",
    "importance = lr.coef_[0]\n",
    "\n",
    "# Put in dictionary\n",
    "dct_features_importance = {f:i for (f,i) in zip(X_train_red_red.columns, importance)}\n",
    "\n",
    "# Sort by importance\n",
    "dct_features_importance = dict(sorted(dct_features_importance.items(), key=lambda item: item[1], reverse = True))\n",
    "\n",
    "# Summarize feature importance\n",
    "pd.DataFrame.from_dict(dct_features_importance, orient = 'index', columns = ['coef'])"
   ]
  },
  {
   "cell_type": "markdown",
   "metadata": {},
   "source": [
    "#### Predict proba"
   ]
  },
  {
   "cell_type": "markdown",
   "metadata": {},
   "source": [
    "##### Request to test"
   ]
  },
  {
   "cell_type": "code",
   "execution_count": 70,
   "metadata": {},
   "outputs": [],
   "source": [
    "dct_request_test = {\n",
    "    'nlp_scoring':'',\n",
    "    'culture_et_arts':'1',\n",
    "    'education_et_formation':'0',\n",
    "    'loisirs':'1',\n",
    "    'precarite_et_exclusion':'0',\n",
    "    'social':'0',\n",
    "    'sport':'0',\n",
    "    'vie_et_animation_locale':'1',\n",
    "    'paris':'0',\n",
    "    'previous_request_success':'0',\n",
    "    'objet_dossier':'une grosse bagnole diesel pour renverser les vélociplédistes'\n",
    "}"
   ]
  },
  {
   "cell_type": "markdown",
   "metadata": {},
   "source": [
    "##### NLP processing"
   ]
  },
  {
   "cell_type": "code",
   "execution_count": 71,
   "metadata": {},
   "outputs": [],
   "source": [
    "nlp_textcat = spacy.load('../05_NLP/textcat_output/model-best')\n",
    "dct_request_test['nlp_scoring'] = nlp_textcat(clean_text(dct_request_test['objet_dossier'])).cats['yes']"
   ]
  },
  {
   "cell_type": "code",
   "execution_count": 72,
   "metadata": {},
   "outputs": [
    {
     "data": {
      "text/plain": [
       "0.5293053984642029"
      ]
     },
     "execution_count": 72,
     "metadata": {},
     "output_type": "execute_result"
    }
   ],
   "source": [
    "dct_request_test['nlp_scoring']"
   ]
  },
  {
   "cell_type": "code",
   "execution_count": 73,
   "metadata": {},
   "outputs": [],
   "source": [
    "df_request = pd.DataFrame.from_dict(dct_request_test, orient = 'index').T"
   ]
  },
  {
   "cell_type": "code",
   "execution_count": 74,
   "metadata": {},
   "outputs": [
    {
     "data": {
      "text/plain": [
       "array([[0.62197929, 0.37802071]])"
      ]
     },
     "execution_count": 74,
     "metadata": {},
     "output_type": "execute_result"
    }
   ],
   "source": [
    "dtc_best.predict_proba(df_request.drop(['objet_dossier'], axis = 1))"
   ]
  },
  {
   "cell_type": "code",
   "execution_count": 75,
   "metadata": {},
   "outputs": [
    {
     "name": "stdout",
     "output_type": "stream",
     "text": [
      "construction d'un foyer pour mineurs isolés\n",
      "Chance : 38%\n",
      "un jardin partagé pour les enfants et les personnes âgées\n",
      "Chance : 57%\n",
      "des sous pour manger des popcorns au cinéma\n",
      "Chance : 57%\n",
      "une grosse bagnole diesel pour renverser les vélociplédistes\n",
      "Chance : 38%\n",
      "blah blah blah pookie\n",
      "Chance : 20%\n"
     ]
    }
   ],
   "source": [
    "# Trying different objet_dossier\n",
    "\n",
    "objets_dossier = ['construction d\\'un foyer pour mineurs isolés', 'un jardin partagé pour les enfants et les personnes âgées', 'des sous pour manger des popcorns au cinéma','une grosse bagnole diesel pour renverser les vélociplédistes', 'blah blah blah pookie']\n",
    "\n",
    "for i in range(len(objets_dossier)):\n",
    "    print(objets_dossier[i])\n",
    "    dct_request_test['objet_dossier'] = objets_dossier[i]\n",
    "    dct_request_test['nlp_scoring'] = nlp_textcat(clean_text(dct_request_test['objet_dossier'])).cats['yes']\n",
    "    df_request = pd.DataFrame.from_dict(dct_request_test, orient = 'index').T\n",
    "    print(f'Chance : {dtc_best.predict_proba(df_request.drop([\"objet_dossier\"], axis = 1))[0][1]:.0%}')"
   ]
  },
  {
   "cell_type": "markdown",
   "metadata": {},
   "source": [
    "### MACHINE LEARNING: AND THE AMOUNT?\n",
    "We will now try to estimate the amount."
   ]
  },
  {
   "cell_type": "markdown",
   "metadata": {},
   "source": [
    "#### Dataset reduction\n",
    "Given the large range of possible values, we will focus on the 1-10k EUR segment, which accounts for more than 50% of successful requests.\n",
    "\n",
    "We will also restrict to associations based in Paris so we can factor in the location without outliers."
   ]
  },
  {
   "cell_type": "code",
   "execution_count": 368,
   "metadata": {},
   "outputs": [
    {
     "name": "stdout",
     "output_type": "stream",
     "text": [
      "Subset size = 34% of total dataset and 56% of successful requests\n"
     ]
    }
   ],
   "source": [
    "# Get list of indices to keep\n",
    "lst_idxs = data.loc[(data.montant_vote_scale == 3) & (data.geo_cat == 'Paris')].index.to_list()\n",
    "print(f'Subset size = {len(lst_idxs)/data.shape[0]:.0%} of total dataset and {len(lst_idxs)/data.loc[data.subsidy_granted_bool == True].shape[0]:.0%} of successful requests')"
   ]
  },
  {
   "cell_type": "code",
   "execution_count": 369,
   "metadata": {},
   "outputs": [],
   "source": [
    "X_amt = X.loc[lst_idxs]"
   ]
  },
  {
   "cell_type": "markdown",
   "metadata": {},
   "source": [
    "#### Feature selection"
   ]
  },
  {
   "cell_type": "code",
   "execution_count": 370,
   "metadata": {},
   "outputs": [
    {
     "data": {
      "text/plain": [
       "Index(['nlp_scoring', 'culture_et_arts', 'education_et_formation', 'loisirs',\n",
       "       'precarite_et_exclusion', 'social', 'sport', 'vie_et_animation_locale'],\n",
       "      dtype='object')"
      ]
     },
     "execution_count": 370,
     "metadata": {},
     "output_type": "execute_result"
    }
   ],
   "source": [
    "# Select features\n",
    "X_amt = X_amt.drop(['fonctionnement', 'investissement', 'projet', 'DDCT', 'DAC', 'DFPE', 'DASES', 'DJS', 'DAE', 'DASCO', 'previous_request', 'previous_request_success', 'paris'], axis = 1)\n",
    "X_amt.columns"
   ]
  },
  {
   "cell_type": "code",
   "execution_count": 383,
   "metadata": {},
   "outputs": [],
   "source": [
    "# Select target\n",
    "y_amt = data.loc[(data.montant_vote_scale == 3) & (data.geo_cat == 'Paris'), 'montant_vote']"
   ]
  },
  {
   "cell_type": "code",
   "execution_count": 384,
   "metadata": {},
   "outputs": [
    {
     "data": {
      "text/plain": [
       "<AxesSubplot:xlabel='montant_vote', ylabel='Count'>"
      ]
     },
     "execution_count": 384,
     "metadata": {},
     "output_type": "execute_result"
    },
    {
     "data": {
      "image/png": "[encoded data removed]",
      "text/plain": [
       "<Figure size 432x288 with 1 Axes>"
      ]
     },
     "metadata": {
      "needs_background": "light"
     },
     "output_type": "display_data"
    }
   ],
   "source": [
    "# Distribution\n",
    "sns.histplot(y_amt, binwidth=1000, binrange=[1000,10000])"
   ]
  },
  {
   "cell_type": "code",
   "execution_count": 373,
   "metadata": {},
   "outputs": [
    {
     "data": {
      "text/plain": [
       "1-2k     12841\n",
       "3-5k     10687\n",
       "6-10k     3800\n",
       "Name: montant_vote, dtype: int64"
      ]
     },
     "execution_count": 373,
     "metadata": {},
     "output_type": "execute_result"
    }
   ],
   "source": [
    "# We can group in three categories = 1-2k, 3-5k, >5k EUR\n",
    "y_amt = pd.cut(y_amt, bins = [1000,3000,6000,10000], right = False, include_lowest=True, ordered=True, labels=['1-2k', '3-5k', '6-10k'])\n",
    "y_amt.value_counts()"
   ]
  },
  {
   "cell_type": "code",
   "execution_count": 374,
   "metadata": {},
   "outputs": [],
   "source": [
    "# The last category is in minority, we  will need to account for the imbalance"
   ]
  },
  {
   "cell_type": "markdown",
   "metadata": {},
   "source": [
    "#### Train / test split"
   ]
  },
  {
   "cell_type": "code",
   "execution_count": 375,
   "metadata": {},
   "outputs": [],
   "source": [
    "X_amt_train, X_amt_test, y_amt_train, y_amt_test = train_test_split(X_amt, y_amt, test_size=0.2, random_state=42)"
   ]
  },
  {
   "cell_type": "code",
   "execution_count": 376,
   "metadata": {},
   "outputs": [
    {
     "data": {
      "text/plain": [
       "1-2k     10203\n",
       "3-5k     10203\n",
       "6-10k    10203\n",
       "Name: montant_vote, dtype: int64"
      ]
     },
     "execution_count": 376,
     "metadata": {},
     "output_type": "execute_result"
    }
   ],
   "source": [
    "# Oversample on train data\n",
    "oversample = SMOTE()\n",
    "X_amt_train, y_amt_train = oversample.fit_resample(X_amt_train, y_amt_train)\n",
    "y_amt_train.value_counts()"
   ]
  },
  {
   "cell_type": "markdown",
   "metadata": {},
   "source": [
    "#### KNC"
   ]
  },
  {
   "cell_type": "code",
   "execution_count": 398,
   "metadata": {},
   "outputs": [],
   "source": [
    "3 # Hyperparameter tuning\n",
    "\n",
    "knc = KNeighborsClassifier()\n",
    "\n",
    "grid_params = {\n",
    "    'n_neighbors':[3,5,10,20,50],\n",
    "    'weights':['uniform', 'distance'],\n",
    "    'p':[1,2]\n",
    "}\n",
    "\n",
    "gs = GridSearchCV(estimator=knc, \n",
    "                           param_grid=grid_params, \n",
    "                           cv=4, n_jobs=-1, scoring = 'f1_weighted', verbose=1)"
   ]
  },
  {
   "cell_type": "code",
   "execution_count": 399,
   "metadata": {},
   "outputs": [
    {
     "name": "stdout",
     "output_type": "stream",
     "text": [
      "Fitting 4 folds for each of 20 candidates, totalling 80 fits\n",
      "CPU times: user 178 ms, sys: 59.9 ms, total: 238 ms\n",
      "Wall time: 6.05 s\n"
     ]
    },
    {
     "data": {
      "text/plain": [
       "GridSearchCV(cv=4, estimator=KNeighborsClassifier(), n_jobs=-1,\n",
       "             param_grid={'n_neighbors': [3, 5, 10, 20, 50], 'p': [1, 2],\n",
       "                         'weights': ['uniform', 'distance']},\n",
       "             scoring='f1_weighted', verbose=1)"
      ]
     },
     "execution_count": 399,
     "metadata": {},
     "output_type": "execute_result"
    }
   ],
   "source": [
    "%%time\n",
    "gs.fit(X_amt_train, y_amt_train)"
   ]
  },
  {
   "cell_type": "code",
   "execution_count": 400,
   "metadata": {},
   "outputs": [
    {
     "data": {
      "text/html": [
       "<div>\n",
       "<style scoped>\n",
       "    .dataframe tbody tr th:only-of-type {\n",
       "        vertical-align: middle;\n",
       "    }\n",
       "\n",
       "    .dataframe tbody tr th {\n",
       "        vertical-align: top;\n",
       "    }\n",
       "\n",
       "    .dataframe thead th {\n",
       "        text-align: right;\n",
       "    }\n",
       "</style>\n",
       "<table border=\"1\" class=\"dataframe\">\n",
       "  <thead>\n",
       "    <tr style=\"text-align: right;\">\n",
       "      <th></th>\n",
       "      <th>mean_fit_time</th>\n",
       "      <th>std_fit_time</th>\n",
       "      <th>mean_score_time</th>\n",
       "      <th>std_score_time</th>\n",
       "      <th>param_n_neighbors</th>\n",
       "      <th>param_p</th>\n",
       "      <th>param_weights</th>\n",
       "      <th>params</th>\n",
       "      <th>split0_test_score</th>\n",
       "      <th>split1_test_score</th>\n",
       "      <th>split2_test_score</th>\n",
       "      <th>split3_test_score</th>\n",
       "      <th>mean_test_score</th>\n",
       "      <th>std_test_score</th>\n",
       "      <th>rank_test_score</th>\n",
       "    </tr>\n",
       "  </thead>\n",
       "  <tbody>\n",
       "    <tr>\n",
       "      <th>17</th>\n",
       "      <td>0.028327</td>\n",
       "      <td>0.007083</td>\n",
       "      <td>0.629586</td>\n",
       "      <td>0.024854</td>\n",
       "      <td>50</td>\n",
       "      <td>1</td>\n",
       "      <td>distance</td>\n",
       "      <td>{'n_neighbors': 50, 'p': 1, 'weights': 'distan...</td>\n",
       "      <td>0.551889</td>\n",
       "      <td>0.564158</td>\n",
       "      <td>0.558071</td>\n",
       "      <td>0.582995</td>\n",
       "      <td>0.564278</td>\n",
       "      <td>0.011644</td>\n",
       "      <td>1</td>\n",
       "    </tr>\n",
       "    <tr>\n",
       "      <th>19</th>\n",
       "      <td>0.027614</td>\n",
       "      <td>0.006441</td>\n",
       "      <td>0.577427</td>\n",
       "      <td>0.017298</td>\n",
       "      <td>50</td>\n",
       "      <td>2</td>\n",
       "      <td>distance</td>\n",
       "      <td>{'n_neighbors': 50, 'p': 2, 'weights': 'distan...</td>\n",
       "      <td>0.551889</td>\n",
       "      <td>0.564158</td>\n",
       "      <td>0.558071</td>\n",
       "      <td>0.582995</td>\n",
       "      <td>0.564278</td>\n",
       "      <td>0.011644</td>\n",
       "      <td>1</td>\n",
       "    </tr>\n",
       "    <tr>\n",
       "      <th>13</th>\n",
       "      <td>0.030462</td>\n",
       "      <td>0.002389</td>\n",
       "      <td>0.495420</td>\n",
       "      <td>0.011975</td>\n",
       "      <td>20</td>\n",
       "      <td>1</td>\n",
       "      <td>distance</td>\n",
       "      <td>{'n_neighbors': 20, 'p': 1, 'weights': 'distan...</td>\n",
       "      <td>0.551147</td>\n",
       "      <td>0.561165</td>\n",
       "      <td>0.557732</td>\n",
       "      <td>0.580081</td>\n",
       "      <td>0.562531</td>\n",
       "      <td>0.010753</td>\n",
       "      <td>3</td>\n",
       "    </tr>\n",
       "    <tr>\n",
       "      <th>15</th>\n",
       "      <td>0.023110</td>\n",
       "      <td>0.004879</td>\n",
       "      <td>0.449449</td>\n",
       "      <td>0.027319</td>\n",
       "      <td>20</td>\n",
       "      <td>2</td>\n",
       "      <td>distance</td>\n",
       "      <td>{'n_neighbors': 20, 'p': 2, 'weights': 'distan...</td>\n",
       "      <td>0.551147</td>\n",
       "      <td>0.561165</td>\n",
       "      <td>0.557732</td>\n",
       "      <td>0.580081</td>\n",
       "      <td>0.562531</td>\n",
       "      <td>0.010753</td>\n",
       "      <td>3</td>\n",
       "    </tr>\n",
       "    <tr>\n",
       "      <th>9</th>\n",
       "      <td>0.024433</td>\n",
       "      <td>0.003469</td>\n",
       "      <td>0.441084</td>\n",
       "      <td>0.037029</td>\n",
       "      <td>10</td>\n",
       "      <td>1</td>\n",
       "      <td>distance</td>\n",
       "      <td>{'n_neighbors': 10, 'p': 1, 'weights': 'distan...</td>\n",
       "      <td>0.544578</td>\n",
       "      <td>0.549256</td>\n",
       "      <td>0.550968</td>\n",
       "      <td>0.575883</td>\n",
       "      <td>0.555171</td>\n",
       "      <td>0.012184</td>\n",
       "      <td>5</td>\n",
       "    </tr>\n",
       "  </tbody>\n",
       "</table>\n",
       "</div>"
      ],
      "text/plain": [
       "    mean_fit_time  std_fit_time  mean_score_time  std_score_time  \\\n",
       "17       0.028327      0.007083         0.629586        0.024854   \n",
       "19       0.027614      0.006441         0.577427        0.017298   \n",
       "13       0.030462      0.002389         0.495420        0.011975   \n",
       "15       0.023110      0.004879         0.449449        0.027319   \n",
       "9        0.024433      0.003469         0.441084        0.037029   \n",
       "\n",
       "   param_n_neighbors param_p param_weights  \\\n",
       "17                50       1      distance   \n",
       "19                50       2      distance   \n",
       "13                20       1      distance   \n",
       "15                20       2      distance   \n",
       "9                 10       1      distance   \n",
       "\n",
       "                                               params  split0_test_score  \\\n",
       "17  {'n_neighbors': 50, 'p': 1, 'weights': 'distan...           0.551889   \n",
       "19  {'n_neighbors': 50, 'p': 2, 'weights': 'distan...           0.551889   \n",
       "13  {'n_neighbors': 20, 'p': 1, 'weights': 'distan...           0.551147   \n",
       "15  {'n_neighbors': 20, 'p': 2, 'weights': 'distan...           0.551147   \n",
       "9   {'n_neighbors': 10, 'p': 1, 'weights': 'distan...           0.544578   \n",
       "\n",
       "    split1_test_score  split2_test_score  split3_test_score  mean_test_score  \\\n",
       "17           0.564158           0.558071           0.582995         0.564278   \n",
       "19           0.564158           0.558071           0.582995         0.564278   \n",
       "13           0.561165           0.557732           0.580081         0.562531   \n",
       "15           0.561165           0.557732           0.580081         0.562531   \n",
       "9            0.549256           0.550968           0.575883         0.555171   \n",
       "\n",
       "    std_test_score  rank_test_score  \n",
       "17        0.011644                1  \n",
       "19        0.011644                1  \n",
       "13        0.010753                3  \n",
       "15        0.010753                3  \n",
       "9         0.012184                5  "
      ]
     },
     "execution_count": 400,
     "metadata": {},
     "output_type": "execute_result"
    }
   ],
   "source": [
    "score_df = pd.DataFrame(gs.cv_results_)\n",
    "score_df.nlargest(5,\"mean_test_score\")"
   ]
  },
  {
   "cell_type": "code",
   "execution_count": 401,
   "metadata": {},
   "outputs": [
    {
     "data": {
      "text/plain": [
       "<sklearn.metrics._plot.confusion_matrix.ConfusionMatrixDisplay at 0x29e6bc310>"
      ]
     },
     "execution_count": 401,
     "metadata": {},
     "output_type": "execute_result"
    },
    {
     "data": {
      "image/png": "[encoded data removed]",
      "text/plain": [
       "<Figure size 432x288 with 2 Axes>"
      ]
     },
     "metadata": {
      "needs_background": "light"
     },
     "output_type": "display_data"
    }
   ],
   "source": [
    "ConfusionMatrixDisplay.from_predictions(y_amt_train, gs.best_estimator_.predict(X_amt_train), normalize='all')"
   ]
  },
  {
   "cell_type": "code",
   "execution_count": 402,
   "metadata": {},
   "outputs": [
    {
     "data": {
      "text/plain": [
       "<sklearn.metrics._plot.confusion_matrix.ConfusionMatrixDisplay at 0x29e6773a0>"
      ]
     },
     "execution_count": 402,
     "metadata": {},
     "output_type": "execute_result"
    },
    {
     "data": {
      "image/png": "[encoded data removed]",
      "text/plain": [
       "<Figure size 432x288 with 2 Axes>"
      ]
     },
     "metadata": {
      "needs_background": "light"
     },
     "output_type": "display_data"
    }
   ],
   "source": [
    "ConfusionMatrixDisplay.from_predictions(y_amt_test, gs.best_estimator_.predict(X_amt_test), normalize='all')"
   ]
  },
  {
   "cell_type": "markdown",
   "metadata": {},
   "source": [
    "Not a great result due to side & edge effects"
   ]
  }
 ],
 "metadata": {
  "interpreter": {
   "hash": "aee8b7b246df8f9039afb4144a1f6fd8d2ca17a180786b69acc140d282b71a49"
  },
  "kernelspec": {
   "display_name": "Python 3.10.2 64-bit",
   "language": "python",
   "name": "python3"
  },
  "language_info": {
   "codemirror_mode": {
    "name": "ipython",
    "version": 3
   },
   "file_extension": ".py",
   "mimetype": "text/x-python",
   "name": "python",
   "nbconvert_exporter": "python",
   "pygments_lexer": "ipython3",
   "version": "3.10.2"
  },
  "orig_nbformat": 4
 },
 "nbformat": 4,
 "nbformat_minor": 2
}
