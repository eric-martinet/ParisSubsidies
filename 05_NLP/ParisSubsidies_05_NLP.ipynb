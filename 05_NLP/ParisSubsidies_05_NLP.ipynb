{
 "cells": [
  {
   "cell_type": "markdown",
   "metadata": {},
   "source": [
    "## PARIS SUBSIDIES: NLP PROCESSING\n",
    "Adapted from https://medium.com/analytics-vidhya/building-a-text-classifier-with-spacy-3-0-dd16e9979a"
   ]
  },
  {
   "cell_type": "markdown",
   "metadata": {},
   "source": [
    "### LIBRAIRIES IMPORT"
   ]
  },
  {
   "cell_type": "code",
   "execution_count": 1,
   "metadata": {},
   "outputs": [],
   "source": [
    "# General data librairies\n",
    "import numpy as np\n",
    "import pandas as pd\n",
    "\n",
    "# Sklearn\n",
    "from sklearn.metrics import accuracy_score, f1_score, recall_score, precision_score\n",
    "from sklearn.model_selection import train_test_split\n",
    "\n",
    "# Spacy\n",
    "import spacy\n",
    "from spacy.tokens import DocBin\n",
    "\n",
    "# Data and model saving\n",
    "import time\n",
    "import sys\n",
    "from tqdm.auto import tqdm"
   ]
  },
  {
   "cell_type": "markdown",
   "metadata": {},
   "source": [
    "### CUSTOM FUNCTIONS"
   ]
  },
  {
   "cell_type": "code",
   "execution_count": 2,
   "metadata": {},
   "outputs": [],
   "source": [
    "def confusion_matrix_metrics(y_true, y_pred, pos_label):\n",
    "    # Returns main metrics from binary confusion matrix\n",
    "    accuracy = accuracy_score(y_true, y_pred)\n",
    "    f1 = f1_score(y_true, y_pred, pos_label = pos_label)\n",
    "    recall = recall_score(y_true, y_pred, pos_label = pos_label)\n",
    "    precision = precision_score(y_true, y_pred, pos_label = pos_label)\n",
    "    return accuracy, f1, recall, precision "
   ]
  },
  {
   "cell_type": "code",
   "execution_count": 33,
   "metadata": {},
   "outputs": [],
   "source": [
    "def make_docs(X,y):\n",
    "    \"\"\"\n",
    "    this will take a X (text) and a y (labels) arrays \n",
    "    and transform them in spacy documents\n",
    "    \"\"\"\n",
    "\n",
    "    data = tuple(zip(X.tolist(), y.tolist())) \n",
    "    print(data[1])\n",
    "    docs = []\n",
    "    # nlp.pipe([texts]) is way faster than running \n",
    "    # nlp(text) for each text\n",
    "    # as_tuples allows us to pass in a tuple, \n",
    "    # the first one is treated as text\n",
    "    # the second one will get returned as it is.\n",
    "    nlp = spacy.load('fr_core_news_sm')\n",
    "    for doc, label in tqdm(nlp.pipe(data, as_tuples=True), total = len(data)):\n",
    "        \n",
    "        # we need to set the (text)cat(egory) for each document\n",
    "        if (label=='yes'):\n",
    "            doc.cats['yes'] = 1\n",
    "            doc.cats['no'] = 0\n",
    "        else:\n",
    "            doc.cats['yes'] = 0\n",
    "            doc.cats['no'] = 1\n",
    "        \n",
    "        # put them into a nice list\n",
    "        docs.append(doc)\n",
    "    \n",
    "    return docs, data"
   ]
  },
  {
   "cell_type": "markdown",
   "metadata": {},
   "source": [
    "### DATA IMPORT"
   ]
  },
  {
   "cell_type": "code",
   "execution_count": 3,
   "metadata": {},
   "outputs": [],
   "source": [
    "data = pd.read_feather('../00_DataFiles/05_NLPScoring/ParisSubsidies_NLPPreprocessed.feather')"
   ]
  },
  {
   "cell_type": "markdown",
   "metadata": {},
   "source": [
    "### TRAIN / TEST DATA PREPARATION"
   ]
  },
  {
   "cell_type": "code",
   "execution_count": 4,
   "metadata": {},
   "outputs": [],
   "source": [
    "# Split between train and test data\n",
    "X = data.objet_dossier_nlp\n",
    "y = data.subsidy_granted\n",
    "# random_state = 42 so we get the same split every time\n",
    "X_train, X_test, y_train, y_test = train_test_split(X, y, test_size=0.2, random_state=42)"
   ]
  },
  {
   "cell_type": "code",
   "execution_count": 36,
   "metadata": {},
   "outputs": [
    {
     "name": "stdout",
     "output_type": "stream",
     "text": [
      "('jeunesse aller fille prevention delinquanc pour adolescent risque demargin', 'yes')\n"
     ]
    },
    {
     "data": {
      "application/vnd.jupyter.widget-view+json": {
       "model_id": "6097b903d78b44b58b3f917b0682aa9c",
       "version_major": 2,
       "version_minor": 0
      },
      "text/plain": [
       "  0%|          | 0/63968 [00:00<?, ?it/s]"
      ]
     },
     "metadata": {},
     "output_type": "display_data"
    },
    {
     "name": "stdout",
     "output_type": "stream",
     "text": [
      "('developpement medalliance lieu ressourc pour mineur accompagne', 'yes')\n"
     ]
    },
    {
     "data": {
      "application/vnd.jupyter.widget-view+json": {
       "model_id": "68c10a221dd841a08449a0ed36a3cd80",
       "version_major": 2,
       "version_minor": 0
      },
      "text/plain": [
       "  0%|          | 0/15993 [00:00<?, ?it/s]"
      ]
     },
     "metadata": {},
     "output_type": "display_data"
    }
   ],
   "source": [
    "# Make docs and save as binary file for train data\n",
    "train_docs, train_data  = make_docs(X_train, y_train)\n",
    "doc_bin = DocBin(docs=train_docs)\n",
    "doc_bin.to_disk(\"./textcat_data/textcat_train.spacy\")\n",
    "\n",
    "# Make docs and save as binary file for test data\n",
    "test_docs,test_data  = make_docs(X_test, y_test)\n",
    "doc_bin = DocBin(docs=test_docs)\n",
    "doc_bin.to_disk(\"./textcat_data/textcat_valid.spacy\")"
   ]
  },
  {
   "cell_type": "markdown",
   "metadata": {},
   "source": [
    "### MODEL TRAINING\n",
    "Base config file to be created from here: https://spacy.io/usage/training#quickstart"
   ]
  },
  {
   "cell_type": "code",
   "execution_count": 37,
   "metadata": {},
   "outputs": [
    {
     "name": "stdout",
     "output_type": "stream",
     "text": [
      "\u001b[38;5;2m✔ Auto-filled config with all values\u001b[0m\n",
      "\u001b[38;5;2m✔ Saved config\u001b[0m\n",
      "textcat_config.cfg\n",
      "You can now add your data and train your pipeline:\n",
      "python -m spacy train textcat_config.cfg --paths.train ./train.spacy --paths.dev ./dev.spacy\n"
     ]
    }
   ],
   "source": [
    "# Init config file\n",
    "!python3 -m spacy init fill-config ./textcat_base_config.cfg ./textcat_config.cfg"
   ]
  },
  {
   "cell_type": "code",
   "execution_count": 38,
   "metadata": {},
   "outputs": [
    {
     "name": "stdout",
     "output_type": "stream",
     "text": [
      "[2022-04-20 07:57:57,201] [DEBUG] Config overrides from CLI: ['paths.train', 'paths.dev']\n",
      "\u001b[38;5;4mℹ Saving to output directory: textcat_output\u001b[0m\n",
      "\u001b[38;5;4mℹ Using CPU\u001b[0m\n",
      "\u001b[1m\n",
      "=========================== Initializing pipeline ===========================\u001b[0m\n",
      "[2022-04-20 07:57:59,064] [INFO] Set up nlp object from config\n",
      "[2022-04-20 07:57:59,067] [DEBUG] Loading corpus from path: textcat_data/textcat_valid.spacy\n",
      "[2022-04-20 07:57:59,067] [DEBUG] Loading corpus from path: textcat_data/textcat_train.spacy\n",
      "[2022-04-20 07:57:59,067] [INFO] Pipeline: ['textcat']\n",
      "[2022-04-20 07:57:59,069] [INFO] Created vocabulary\n",
      "[2022-04-20 07:57:59,070] [INFO] Finished initializing nlp object\n",
      "[2022-04-20 07:58:16,611] [INFO] Initialized pipeline components: ['textcat']\n",
      "\u001b[38;5;2m✔ Initialized pipeline\u001b[0m\n",
      "\u001b[1m\n",
      "============================= Training pipeline =============================\u001b[0m\n",
      "[2022-04-20 07:58:16,618] [DEBUG] Loading corpus from path: textcat_data/textcat_valid.spacy\n",
      "[2022-04-20 07:58:16,618] [DEBUG] Loading corpus from path: textcat_data/textcat_train.spacy\n",
      "\u001b[38;5;4mℹ Pipeline: ['textcat']\u001b[0m\n",
      "\u001b[38;5;4mℹ Initial learn rate: 0.0\u001b[0m\n",
      "E    #       LOSS TEXTCAT  CATS_SCORE  SCORE \n",
      "---  ------  ------------  ----------  ------\n",
      "  0       0          0.52       37.88    0.38\n",
      "  0     200         45.87       44.88    0.45\n",
      "  0     400         43.27       44.47    0.44\n",
      "  1     600         42.66       43.89    0.44\n",
      "  1     800         43.06       42.55    0.43\n",
      "  2    1000         43.82       44.15    0.44\n",
      "  2    1200         41.42       43.95    0.44\n",
      "  2    1400         44.12       44.37    0.44\n",
      "  3    1600         42.47       44.74    0.45\n",
      "  3    1800         42.25       45.16    0.45\n",
      "  4    2000         40.81       45.75    0.46\n",
      "  4    2200         39.73       45.93    0.46\n",
      "  4    2400         41.61       46.26    0.46\n",
      "  5    2600         40.09       46.85    0.47\n",
      "  5    2800         37.93       47.15    0.47\n",
      "  6    3000         40.07       47.40    0.47\n",
      "  6    3200         40.07       47.94    0.48\n",
      "  6    3400         41.23       48.40    0.48\n",
      "  7    3600         41.05       48.91    0.49\n",
      "  7    3800         37.87       49.06    0.49\n",
      "  8    4000         36.60       49.39    0.49\n",
      "  8    4200         37.69       49.66    0.50\n",
      "  8    4400         41.62       50.37    0.50\n",
      "  9    4600         38.70       50.54    0.51\n",
      "  9    4800         41.30       51.21    0.51\n",
      " 10    5000         37.31       51.11    0.51\n",
      " 10    5200         38.47       51.61    0.52\n",
      " 10    5400         38.75       52.03    0.52\n",
      " 11    5600         39.21       52.07    0.52\n",
      " 11    5800         35.47       52.36    0.52\n",
      " 12    6000         38.70       52.82    0.53\n",
      " 12    6200         40.15       52.80    0.53\n",
      " 12    6400         36.85       53.16    0.53\n",
      " 13    6600         39.88       53.43    0.53\n",
      " 13    6800         35.18       53.57    0.54\n",
      " 14    7000         38.72       53.93    0.54\n",
      " 14    7200         37.68       53.89    0.54\n",
      " 14    7400         35.69       54.26    0.54\n",
      " 15    7600         39.08       54.39    0.54\n",
      " 15    7800         36.73       54.55    0.55\n",
      " 16    8000         36.13       54.96    0.55\n",
      " 16    8200         37.76       55.01    0.55\n",
      " 16    8400         33.80       55.03    0.55\n",
      " 17    8600         34.01       55.13    0.55\n",
      " 17    8800         35.93       55.12    0.55\n",
      " 18    9000         34.02       55.31    0.55\n",
      " 18    9200         36.89       55.66    0.56\n",
      " 18    9400         33.34       55.65    0.56\n",
      " 19    9600         35.10       55.75    0.56\n",
      " 19    9800         35.36       55.76    0.56\n",
      " 20   10000         34.07       55.81    0.56\n",
      " 20   10200         33.89       55.95    0.56\n",
      " 20   10400         35.04       56.02    0.56\n",
      " 21   10600         38.35       56.27    0.56\n",
      " 21   10800         35.28       56.32    0.56\n",
      " 22   11000         36.61       56.29    0.56\n",
      " 22   11200         35.01       56.37    0.56\n",
      " 22   11400         37.24       56.73    0.57\n",
      " 23   11600         31.31       56.78    0.57\n",
      " 23   11800         34.57       56.94    0.57\n",
      " 24   12000         35.55       57.01    0.57\n",
      " 24   12200         32.55       57.03    0.57\n",
      " 24   12400         33.01       57.10    0.57\n",
      " 25   12600         35.42       57.18    0.57\n",
      " 25   12800         32.50       57.13    0.57\n",
      " 26   13000         34.17       57.19    0.57\n",
      " 26   13200         36.76       57.22    0.57\n",
      " 26   13400         37.68       57.31    0.57\n",
      " 27   13600         35.47       57.38    0.57\n",
      " 27   13800         35.02       57.46    0.57\n",
      " 28   14000         32.73       57.54    0.58\n",
      " 28   14200         35.09       57.54    0.58\n",
      " 28   14400         35.95       57.60    0.58\n",
      " 29   14600         32.61       57.50    0.57\n",
      " 29   14800         34.74       57.64    0.58\n",
      " 30   15000         33.84       57.66    0.58\n",
      " 30   15200         33.87       57.80    0.58\n",
      " 30   15400         33.75       57.79    0.58\n",
      " 31   15600         34.52       57.81    0.58\n",
      " 31   15800         34.12       57.77    0.58\n",
      " 32   16000         37.78       57.88    0.58\n",
      " 32   16200         34.36       57.82    0.58\n",
      " 32   16400         37.19       57.89    0.58\n",
      " 33   16600         34.21       57.95    0.58\n",
      " 33   16800         33.67       57.99    0.58\n",
      " 34   17000         31.40       57.98    0.58\n",
      " 34   17200         34.66       58.01    0.58\n",
      " 34   17400         35.45       58.06    0.58\n",
      " 35   17600         31.49       58.02    0.58\n",
      " 35   17800         34.56       57.98    0.58\n",
      " 36   18000         34.77       58.07    0.58\n",
      " 36   18200         33.77       58.05    0.58\n",
      " 36   18400         36.45       58.08    0.58\n",
      " 37   18600         32.69       58.18    0.58\n",
      " 37   18800         33.27       58.17    0.58\n",
      " 38   19000         32.28       58.18    0.58\n",
      " 38   19200         33.62       58.18    0.58\n",
      " 38   19400         32.90       58.19    0.58\n",
      " 39   19600         34.93       58.19    0.58\n",
      " 39   19800         31.47       58.20    0.58\n",
      " 40   20000         33.78       58.21    0.58\n",
      "\u001b[38;5;2m✔ Saved pipeline to output directory\u001b[0m\n",
      "textcat_output/model-last\n"
     ]
    }
   ],
   "source": [
    "# Train model\n",
    "!python3 -m spacy train textcat_config.cfg --verbose --output ./textcat_output --paths.train textcat_data/textcat_train.spacy --paths.dev textcat_data/textcat_valid.spacy"
   ]
  },
  {
   "cell_type": "markdown",
   "metadata": {},
   "source": [
    "### MODEL SCORING"
   ]
  },
  {
   "cell_type": "markdown",
   "metadata": {},
   "source": [
    "#### Model loading"
   ]
  },
  {
   "cell_type": "code",
   "execution_count": 5,
   "metadata": {},
   "outputs": [],
   "source": [
    "nlp_textcat = spacy.load('./textcat_output/model-best')"
   ]
  },
  {
   "cell_type": "markdown",
   "metadata": {},
   "source": [
    "#### Train data"
   ]
  },
  {
   "cell_type": "code",
   "execution_count": 6,
   "metadata": {},
   "outputs": [
    {
     "data": {
      "text/html": [
       "<div>\n",
       "<style scoped>\n",
       "    .dataframe tbody tr th:only-of-type {\n",
       "        vertical-align: middle;\n",
       "    }\n",
       "\n",
       "    .dataframe tbody tr th {\n",
       "        vertical-align: top;\n",
       "    }\n",
       "\n",
       "    .dataframe thead th {\n",
       "        text-align: right;\n",
       "    }\n",
       "</style>\n",
       "<table border=\"1\" class=\"dataframe\">\n",
       "  <thead>\n",
       "    <tr style=\"text-align: right;\">\n",
       "      <th></th>\n",
       "      <th>accuracy</th>\n",
       "      <th>f1</th>\n",
       "      <th>recall</th>\n",
       "      <th>precision</th>\n",
       "    </tr>\n",
       "  </thead>\n",
       "  <tbody>\n",
       "    <tr>\n",
       "      <th>0.30</th>\n",
       "      <td>0.614917</td>\n",
       "      <td>0.759530</td>\n",
       "      <td>0.997027</td>\n",
       "      <td>0.613412</td>\n",
       "    </tr>\n",
       "    <tr>\n",
       "      <th>0.35</th>\n",
       "      <td>0.621217</td>\n",
       "      <td>0.762307</td>\n",
       "      <td>0.995797</td>\n",
       "      <td>0.617514</td>\n",
       "    </tr>\n",
       "    <tr>\n",
       "      <th>0.40</th>\n",
       "      <td>0.633864</td>\n",
       "      <td>0.767540</td>\n",
       "      <td>0.990979</td>\n",
       "      <td>0.626322</td>\n",
       "    </tr>\n",
       "    <tr>\n",
       "      <th>0.45</th>\n",
       "      <td>0.655093</td>\n",
       "      <td>0.775442</td>\n",
       "      <td>0.976319</td>\n",
       "      <td>0.643121</td>\n",
       "    </tr>\n",
       "    <tr>\n",
       "      <th>0.50</th>\n",
       "      <td>0.694879</td>\n",
       "      <td>0.785243</td>\n",
       "      <td>0.914527</td>\n",
       "      <td>0.687984</td>\n",
       "    </tr>\n",
       "    <tr>\n",
       "      <th>0.55</th>\n",
       "      <td>0.697192</td>\n",
       "      <td>0.746976</td>\n",
       "      <td>0.732790</td>\n",
       "      <td>0.761722</td>\n",
       "    </tr>\n",
       "    <tr>\n",
       "      <th>0.60</th>\n",
       "      <td>0.638507</td>\n",
       "      <td>0.635383</td>\n",
       "      <td>0.516377</td>\n",
       "      <td>0.825670</td>\n",
       "    </tr>\n",
       "    <tr>\n",
       "      <th>0.65</th>\n",
       "      <td>0.575366</td>\n",
       "      <td>0.514504</td>\n",
       "      <td>0.368881</td>\n",
       "      <td>0.850097</td>\n",
       "    </tr>\n",
       "    <tr>\n",
       "      <th>0.70</th>\n",
       "      <td>0.531406</td>\n",
       "      <td>0.418988</td>\n",
       "      <td>0.277000</td>\n",
       "      <td>0.859620</td>\n",
       "    </tr>\n",
       "  </tbody>\n",
       "</table>\n",
       "</div>"
      ],
      "text/plain": [
       "      accuracy        f1    recall  precision\n",
       "0.30  0.614917  0.759530  0.997027   0.613412\n",
       "0.35  0.621217  0.762307  0.995797   0.617514\n",
       "0.40  0.633864  0.767540  0.990979   0.626322\n",
       "0.45  0.655093  0.775442  0.976319   0.643121\n",
       "0.50  0.694879  0.785243  0.914527   0.687984\n",
       "0.55  0.697192  0.746976  0.732790   0.761722\n",
       "0.60  0.638507  0.635383  0.516377   0.825670\n",
       "0.65  0.575366  0.514504  0.368881   0.850097\n",
       "0.70  0.531406  0.418988  0.277000   0.859620"
      ]
     },
     "execution_count": 6,
     "metadata": {},
     "output_type": "execute_result"
    }
   ],
   "source": [
    "df_train = pd.concat([X_train, y_train], axis=1)\n",
    "df_train['nlp_scoring'] = df_train.objet_dossier_nlp.apply(lambda x: nlp_textcat(x).cats['yes'])\n",
    "\n",
    "dct_scoring = dict()\n",
    "\n",
    "for i in np.arange(0.3, 0.71, 0.05):\n",
    "    threshold=i\n",
    "    df_train['subsidy_granted_predicted'] = np.where(df_train.nlp_scoring > i, 'yes', 'no')\n",
    "    dct_scoring[i] = confusion_matrix_metrics(df_train.subsidy_granted, df_train.subsidy_granted_predicted, 'yes')\n",
    "\n",
    "pd.DataFrame.from_dict(dct_scoring, orient = 'index', columns = ['accuracy', 'f1', 'recall', 'precision'])"
   ]
  },
  {
   "cell_type": "markdown",
   "metadata": {},
   "source": [
    "- f1, accuracy and precision scores are slighty better as threshold increases between 0.3 and 0.5 (and maximised at 0.5)\n",
    "- recall score is close to perfection until 0.45 threshold included, then it starts to drop\n",
    "- best thresholds on train data = 0.45 or 0.5"
   ]
  },
  {
   "cell_type": "markdown",
   "metadata": {},
   "source": [
    "#### Test data"
   ]
  },
  {
   "cell_type": "code",
   "execution_count": 7,
   "metadata": {},
   "outputs": [
    {
     "data": {
      "text/html": [
       "<div>\n",
       "<style scoped>\n",
       "    .dataframe tbody tr th:only-of-type {\n",
       "        vertical-align: middle;\n",
       "    }\n",
       "\n",
       "    .dataframe tbody tr th {\n",
       "        vertical-align: top;\n",
       "    }\n",
       "\n",
       "    .dataframe thead th {\n",
       "        text-align: right;\n",
       "    }\n",
       "</style>\n",
       "<table border=\"1\" class=\"dataframe\">\n",
       "  <thead>\n",
       "    <tr style=\"text-align: right;\">\n",
       "      <th></th>\n",
       "      <th>accuracy</th>\n",
       "      <th>f1</th>\n",
       "      <th>recall</th>\n",
       "      <th>precision</th>\n",
       "    </tr>\n",
       "  </thead>\n",
       "  <tbody>\n",
       "    <tr>\n",
       "      <th>0.30</th>\n",
       "      <td>0.614269</td>\n",
       "      <td>0.759108</td>\n",
       "      <td>0.996616</td>\n",
       "      <td>0.613017</td>\n",
       "    </tr>\n",
       "    <tr>\n",
       "      <th>0.35</th>\n",
       "      <td>0.621709</td>\n",
       "      <td>0.762391</td>\n",
       "      <td>0.995181</td>\n",
       "      <td>0.617862</td>\n",
       "    </tr>\n",
       "    <tr>\n",
       "      <th>0.40</th>\n",
       "      <td>0.631776</td>\n",
       "      <td>0.766133</td>\n",
       "      <td>0.989029</td>\n",
       "      <td>0.625227</td>\n",
       "    </tr>\n",
       "    <tr>\n",
       "      <th>0.45</th>\n",
       "      <td>0.643657</td>\n",
       "      <td>0.768681</td>\n",
       "      <td>0.970881</td>\n",
       "      <td>0.636187</td>\n",
       "    </tr>\n",
       "    <tr>\n",
       "      <th>0.50</th>\n",
       "      <td>0.657725</td>\n",
       "      <td>0.759807</td>\n",
       "      <td>0.887727</td>\n",
       "      <td>0.664110</td>\n",
       "    </tr>\n",
       "    <tr>\n",
       "      <th>0.55</th>\n",
       "      <td>0.656162</td>\n",
       "      <td>0.712350</td>\n",
       "      <td>0.698144</td>\n",
       "      <td>0.727147</td>\n",
       "    </tr>\n",
       "    <tr>\n",
       "      <th>0.60</th>\n",
       "      <td>0.616020</td>\n",
       "      <td>0.611894</td>\n",
       "      <td>0.496360</td>\n",
       "      <td>0.797529</td>\n",
       "    </tr>\n",
       "    <tr>\n",
       "      <th>0.65</th>\n",
       "      <td>0.566873</td>\n",
       "      <td>0.504471</td>\n",
       "      <td>0.361530</td>\n",
       "      <td>0.834359</td>\n",
       "    </tr>\n",
       "    <tr>\n",
       "      <th>0.70</th>\n",
       "      <td>0.529294</td>\n",
       "      <td>0.415437</td>\n",
       "      <td>0.274275</td>\n",
       "      <td>0.856000</td>\n",
       "    </tr>\n",
       "  </tbody>\n",
       "</table>\n",
       "</div>"
      ],
      "text/plain": [
       "      accuracy        f1    recall  precision\n",
       "0.30  0.614269  0.759108  0.996616   0.613017\n",
       "0.35  0.621709  0.762391  0.995181   0.617862\n",
       "0.40  0.631776  0.766133  0.989029   0.625227\n",
       "0.45  0.643657  0.768681  0.970881   0.636187\n",
       "0.50  0.657725  0.759807  0.887727   0.664110\n",
       "0.55  0.656162  0.712350  0.698144   0.727147\n",
       "0.60  0.616020  0.611894  0.496360   0.797529\n",
       "0.65  0.566873  0.504471  0.361530   0.834359\n",
       "0.70  0.529294  0.415437  0.274275   0.856000"
      ]
     },
     "execution_count": 7,
     "metadata": {},
     "output_type": "execute_result"
    }
   ],
   "source": [
    "df_test = pd.concat([X_test, y_test], axis=1)\n",
    "df_test['nlp_scoring'] = df_test.objet_dossier_nlp.apply(lambda x: nlp_textcat(x).cats['yes'])\n",
    "\n",
    "dct_scoring = dict()\n",
    "\n",
    "for i in np.arange(0.3, 0.71, 0.05):\n",
    "    threshold=i\n",
    "    df_test['subsidy_granted_predicted'] = np.where(df_test.nlp_scoring > i, 'yes', 'no')\n",
    "    dct_scoring[i] = confusion_matrix_metrics(df_test.subsidy_granted, df_test.subsidy_granted_predicted, 'yes')\n",
    "\n",
    "pd.DataFrame.from_dict(dct_scoring, orient = 'index', columns = ['accuracy', 'f1', 'recall', 'precision'])"
   ]
  },
  {
   "cell_type": "markdown",
   "metadata": {},
   "source": [
    "- f1 scores are very similar between 0.3 and 0.5\n",
    "- accuracy and precision scores are slighty better as threshold increases between 0.3 and 0.5 (and maximised at 0.5)\n",
    "- recall score is close to perfection until 0.45 threshold included, then it starts to drop\n",
    "- best threshold on test data = 0.45\n"
   ]
  },
  {
   "cell_type": "markdown",
   "metadata": {},
   "source": [
    "#### Conclusion\n",
    "We retain a 0.45 threshold for the NLP model predictions."
   ]
  },
  {
   "cell_type": "markdown",
   "metadata": {},
   "source": [
    "### SAVE\n",
    "We will save the scoring into our original datafile"
   ]
  },
  {
   "cell_type": "code",
   "execution_count": 8,
   "metadata": {},
   "outputs": [],
   "source": [
    "# Load main dataframe\n",
    "data_original = pd.read_feather('../00_DataFiles/03_Joined/ParisSubsidies_Joined.feather')"
   ]
  },
  {
   "cell_type": "code",
   "execution_count": 9,
   "metadata": {},
   "outputs": [],
   "source": [
    "# Insert nlp_scoring from train data\n",
    "data_w_nlpscoring = data_original.merge(df_train.drop(['objet_dossier_nlp', 'subsidy_granted', 'subsidy_granted_predicted'], axis = 1), how='left', left_index = True, right_index=True)"
   ]
  },
  {
   "cell_type": "code",
   "execution_count": 10,
   "metadata": {},
   "outputs": [],
   "source": [
    "# Inset nlp_scoring from test data\n",
    "data_w_nlpscoring = data_w_nlpscoring.merge(df_test.drop(['objet_dossier_nlp', 'subsidy_granted', 'subsidy_granted_predicted'], axis = 1), how='left', left_index = True, right_index=True)"
   ]
  },
  {
   "cell_type": "code",
   "execution_count": 11,
   "metadata": {},
   "outputs": [],
   "source": [
    "# Merge newly created columns into one\n",
    "data_w_nlpscoring['nlp_scoring'] = np.where(data_w_nlpscoring.nlp_scoring_x.isna(), data_w_nlpscoring.nlp_scoring_y, data_w_nlpscoring.nlp_scoring_x)\n",
    "# Drop the merged columns\n",
    "data_w_nlpscoring.drop(['nlp_scoring_x', 'nlp_scoring_y'], axis = 1, inplace = True)"
   ]
  },
  {
   "cell_type": "code",
   "execution_count": 12,
   "metadata": {},
   "outputs": [
    {
     "data": {
      "text/plain": [
       "True"
      ]
     },
     "execution_count": 12,
     "metadata": {},
     "output_type": "execute_result"
    }
   ],
   "source": [
    "# Check if all nlp_scoring are filled\n",
    "data_w_nlpscoring.nlp_scoring.isna().sum() == 0"
   ]
  },
  {
   "cell_type": "code",
   "execution_count": 13,
   "metadata": {},
   "outputs": [],
   "source": [
    "# Save\n",
    "data_w_nlpscoring.to_csv('../00_DataFiles/05_NLPScoring/ParisSubsidies_NLPScoring.csv')\n",
    "data_w_nlpscoring.to_feather('../00_DataFiles/05_NLPScoring/ParisSubsidies_NLPScoring.feather')"
   ]
  }
 ],
 "metadata": {
  "kernelspec": {
   "display_name": "Python 3",
   "language": "python",
   "name": "python3"
  },
  "language_info": {
   "codemirror_mode": {
    "name": "ipython",
    "version": 3
   },
   "file_extension": ".py",
   "mimetype": "text/x-python",
   "name": "python",
   "nbconvert_exporter": "python",
   "pygments_lexer": "ipython3",
   "version": "3.10.2"
  },
  "varInspector": {
   "cols": {
    "lenName": 16,
    "lenType": 16,
    "lenVar": 40
   },
   "kernels_config": {
    "python": {
     "delete_cmd_postfix": "",
     "delete_cmd_prefix": "del ",
     "library": "var_list.py",
     "varRefreshCmd": "print(var_dic_list())"
    },
    "r": {
     "delete_cmd_postfix": ") ",
     "delete_cmd_prefix": "rm(",
     "library": "var_list.r",
     "varRefreshCmd": "cat(var_dic_list()) "
    }
   },
   "types_to_exclude": [
    "module",
    "function",
    "builtin_function_or_method",
    "instance",
    "_Feature"
   ],
   "window_display": false
  }
 },
 "nbformat": 4,
 "nbformat_minor": 4
}
