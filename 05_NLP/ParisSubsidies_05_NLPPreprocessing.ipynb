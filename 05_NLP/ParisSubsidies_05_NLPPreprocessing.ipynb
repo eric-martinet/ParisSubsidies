{
 "cells": [
  {
   "cell_type": "markdown",
   "metadata": {},
   "source": [
    "## PARIS SUBSIDIES: DATA PREPROCESSING\n",
    "We will use NLP to examine the projects' descriptions"
   ]
  },
  {
   "cell_type": "markdown",
   "metadata": {},
   "source": [
    "### LIBRAIRIES IMPORT"
   ]
  },
  {
   "cell_type": "code",
   "execution_count": 1,
   "metadata": {},
   "outputs": [],
   "source": [
    "# General data librairies\n",
    "import pandas as pd\n",
    "\n",
    "# String process librairies\n",
    "from unidecode import unidecode\n",
    "import string\n",
    "\n",
    "# NLP\n",
    "import spacy"
   ]
  },
  {
   "cell_type": "markdown",
   "metadata": {},
   "source": [
    "### CUSTOM FUNCTIONS"
   ]
  },
  {
   "cell_type": "code",
   "execution_count": 2,
   "metadata": {},
   "outputs": [],
   "source": [
    "def clean_text(text ): \n",
    "    delete_dict = {sp_character: '' for sp_character in string.punctuation} \n",
    "    delete_dict[' '] = ' ' \n",
    "    table = str.maketrans(delete_dict)\n",
    "    text1 = text.translate(table)\n",
    "    textArr= text1.split()\n",
    "    text2 = ' '.join([w for w in textArr if ( not w.isdigit() and  ( not w.isdigit() and len(w)>3))]) \n",
    "    text2 = unidecode(text2)\n",
    "    \n",
    "    return text2.lower()"
   ]
  },
  {
   "cell_type": "markdown",
   "metadata": {},
   "source": [
    "### DATA IMPORT"
   ]
  },
  {
   "cell_type": "code",
   "execution_count": 3,
   "metadata": {},
   "outputs": [],
   "source": [
    "data = pd.read_feather('../00_DataFiles/03_Joined/ParisSubsidies_Joined.feather')"
   ]
  },
  {
   "cell_type": "markdown",
   "metadata": {},
   "source": [
    "### PREPROCESSING"
   ]
  },
  {
   "cell_type": "code",
   "execution_count": 4,
   "metadata": {},
   "outputs": [],
   "source": [
    "# Spacy French\n",
    "nlp = spacy.load('fr_core_news_sm')"
   ]
  },
  {
   "cell_type": "code",
   "execution_count": 5,
   "metadata": {},
   "outputs": [],
   "source": [
    "# Clean text\n",
    "data['objet_dossier_nlp'] = data.objet_dossier.apply(lambda x: clean_text(x))"
   ]
  },
  {
   "cell_type": "code",
   "execution_count": 6,
   "metadata": {},
   "outputs": [],
   "source": [
    "# Tokenisation\n",
    "data.objet_dossier_nlp = data.objet_dossier_nlp.apply(lambda x: nlp(x))"
   ]
  },
  {
   "cell_type": "code",
   "execution_count": 7,
   "metadata": {},
   "outputs": [],
   "source": [
    "# Stopwords & lemma\n",
    "stop_words = spacy.lang.fr.stop_words.STOP_WORDS\n",
    "data.objet_dossier_nlp = data.objet_dossier_nlp.apply(lambda x: [token.lemma_ for token in x if token not in stop_words])"
   ]
  },
  {
   "cell_type": "code",
   "execution_count": 8,
   "metadata": {},
   "outputs": [],
   "source": [
    "# Join\n",
    "data.objet_dossier_nlp = data.objet_dossier_nlp.apply(lambda x: ' '.join(x))"
   ]
  },
  {
   "cell_type": "markdown",
   "metadata": {},
   "source": [
    "### SAVE"
   ]
  },
  {
   "cell_type": "code",
   "execution_count": 9,
   "metadata": {},
   "outputs": [
    {
     "data": {
      "text/html": [
       "<div>\n",
       "<style scoped>\n",
       "    .dataframe tbody tr th:only-of-type {\n",
       "        vertical-align: middle;\n",
       "    }\n",
       "\n",
       "    .dataframe tbody tr th {\n",
       "        vertical-align: top;\n",
       "    }\n",
       "\n",
       "    .dataframe thead th {\n",
       "        text-align: right;\n",
       "    }\n",
       "</style>\n",
       "<table border=\"1\" class=\"dataframe\">\n",
       "  <thead>\n",
       "    <tr style=\"text-align: right;\">\n",
       "      <th></th>\n",
       "      <th>numero_dossier</th>\n",
       "      <th>objet_dossier_nlp</th>\n",
       "      <th>subsidy_granted</th>\n",
       "    </tr>\n",
       "  </thead>\n",
       "  <tbody>\n",
       "    <tr>\n",
       "      <th>0</th>\n",
       "      <td>2020_07586</td>\n",
       "      <td>cofinancement ddct post adultesrelai r0041</td>\n",
       "      <td>yes</td>\n",
       "    </tr>\n",
       "    <tr>\n",
       "      <th>1</th>\n",
       "      <td>2020_08053</td>\n",
       "      <td>2020dases seple</td>\n",
       "      <td>yes</td>\n",
       "    </tr>\n",
       "    <tr>\n",
       "      <th>2</th>\n",
       "      <td>2020_04885</td>\n",
       "      <td>ressourceri ephemere</td>\n",
       "      <td>no</td>\n",
       "    </tr>\n",
       "    <tr>\n",
       "      <th>3</th>\n",
       "      <td>2020_05032</td>\n",
       "      <td>mome doperette grotte lascau graf lascard</td>\n",
       "      <td>no</td>\n",
       "    </tr>\n",
       "    <tr>\n",
       "      <th>4</th>\n",
       "      <td>2020_02992</td>\n",
       "      <td>fonctionnement cite ours cite falaise</td>\n",
       "      <td>yes</td>\n",
       "    </tr>\n",
       "  </tbody>\n",
       "</table>\n",
       "</div>"
      ],
      "text/plain": [
       "  numero_dossier                           objet_dossier_nlp subsidy_granted\n",
       "0     2020_07586  cofinancement ddct post adultesrelai r0041             yes\n",
       "1     2020_08053                             2020dases seple             yes\n",
       "2     2020_04885                        ressourceri ephemere              no\n",
       "3     2020_05032   mome doperette grotte lascau graf lascard              no\n",
       "4     2020_02992       fonctionnement cite ours cite falaise             yes"
      ]
     },
     "execution_count": 9,
     "metadata": {},
     "output_type": "execute_result"
    }
   ],
   "source": [
    "data_nlp = data[['numero_dossier', 'objet_dossier_nlp', 'subsidy_granted']]\n",
    "data_nlp.head()"
   ]
  },
  {
   "cell_type": "code",
   "execution_count": 10,
   "metadata": {},
   "outputs": [],
   "source": [
    "data_nlp.to_csv('../00_DataFiles/05_NLPScoring/ParisSubsidies_NLPPreprocessed.csv')\n",
    "data_nlp.to_feather('../00_DataFiles/05_NLPScoring/ParisSubsidies_NLPPreprocessed.feather')"
   ]
  }
 ],
 "metadata": {
  "interpreter": {
   "hash": "dc737b1819b76fdff7557c542e578ba008e1e7cda02d9255e3e88f280b2d535f"
  },
  "kernelspec": {
   "display_name": "Python 3.9.10 ('base')",
   "language": "python",
   "name": "python3"
  },
  "language_info": {
   "codemirror_mode": {
    "name": "ipython",
    "version": 3
   },
   "file_extension": ".py",
   "mimetype": "text/x-python",
   "name": "python",
   "nbconvert_exporter": "python",
   "pygments_lexer": "ipython3",
   "version": "3.10.2"
  },
  "orig_nbformat": 4
 },
 "nbformat": 4,
 "nbformat_minor": 2
}
